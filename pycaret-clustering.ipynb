{
 "cells": [
  {
   "cell_type": "markdown",
   "metadata": {},
   "source": [
    "# Clustering with pycaret\n",
    "[Reference: Clustering Tutorial (CLU101)](https://www.pycaret.org/tutorials/html/CLU101.html)"
   ]
  },
  {
   "cell_type": "code",
   "execution_count": 1,
   "metadata": {},
   "outputs": [],
   "source": [
    "import pandas as pd\n",
    "data = pd.read_csv('minha-musica-playlist.csv')"
   ]
  },
  {
   "cell_type": "code",
   "execution_count": 2,
   "metadata": {},
   "outputs": [
    {
     "data": {
      "text/plain": [
       "Index(['track_id', 'track_name', 'danceability', 'energy', 'tempo', 'loudness',\n",
       "       'valence', 'speechiness', 'instrumentalness', 'liveness',\n",
       "       'acousticness'],\n",
       "      dtype='object')"
      ]
     },
     "execution_count": 2,
     "metadata": {},
     "output_type": "execute_result"
    }
   ],
   "source": [
    "data.columns"
   ]
  },
  {
   "cell_type": "code",
   "execution_count": 3,
   "metadata": {},
   "outputs": [
    {
     "data": {
      "text/plain": [
       "Index(['track_id', 'track_name', 'danceability', 'energy', 'tempo'], dtype='object')"
      ]
     },
     "execution_count": 3,
     "metadata": {},
     "output_type": "execute_result"
    }
   ],
   "source": [
    "# Select columns to keep on dataset\n",
    "COLUMNS_KEEP = ['track_id', 'track_name', 'danceability', 'energy', 'tempo'] #, 'valence'] #, 'liveness', 'acousticness']\n",
    "\n",
    "data = data[COLUMNS_KEEP]\n",
    "data.columns"
   ]
  },
  {
   "cell_type": "code",
   "execution_count": 4,
   "metadata": {},
   "outputs": [
    {
     "data": {
      "text/html": [
       "<div>\n",
       "<style scoped>\n",
       "    .dataframe tbody tr th:only-of-type {\n",
       "        vertical-align: middle;\n",
       "    }\n",
       "\n",
       "    .dataframe tbody tr th {\n",
       "        vertical-align: top;\n",
       "    }\n",
       "\n",
       "    .dataframe thead th {\n",
       "        text-align: right;\n",
       "    }\n",
       "</style>\n",
       "<table border=\"1\" class=\"dataframe\">\n",
       "  <thead>\n",
       "    <tr style=\"text-align: right;\">\n",
       "      <th></th>\n",
       "      <th>danceability</th>\n",
       "      <th>energy</th>\n",
       "      <th>tempo</th>\n",
       "    </tr>\n",
       "  </thead>\n",
       "  <tbody>\n",
       "    <tr>\n",
       "      <th>count</th>\n",
       "      <td>299.000000</td>\n",
       "      <td>299.000000</td>\n",
       "      <td>299.000000</td>\n",
       "    </tr>\n",
       "    <tr>\n",
       "      <th>mean</th>\n",
       "      <td>0.598876</td>\n",
       "      <td>0.629169</td>\n",
       "      <td>119.993171</td>\n",
       "    </tr>\n",
       "    <tr>\n",
       "      <th>std</th>\n",
       "      <td>0.146016</td>\n",
       "      <td>0.213013</td>\n",
       "      <td>26.798581</td>\n",
       "    </tr>\n",
       "    <tr>\n",
       "      <th>min</th>\n",
       "      <td>0.128000</td>\n",
       "      <td>0.040600</td>\n",
       "      <td>65.179000</td>\n",
       "    </tr>\n",
       "    <tr>\n",
       "      <th>25%</th>\n",
       "      <td>0.497500</td>\n",
       "      <td>0.479000</td>\n",
       "      <td>99.934500</td>\n",
       "    </tr>\n",
       "    <tr>\n",
       "      <th>50%</th>\n",
       "      <td>0.615000</td>\n",
       "      <td>0.655000</td>\n",
       "      <td>119.344000</td>\n",
       "    </tr>\n",
       "    <tr>\n",
       "      <th>75%</th>\n",
       "      <td>0.704000</td>\n",
       "      <td>0.801000</td>\n",
       "      <td>138.004000</td>\n",
       "    </tr>\n",
       "    <tr>\n",
       "      <th>max</th>\n",
       "      <td>0.941000</td>\n",
       "      <td>0.977000</td>\n",
       "      <td>189.892000</td>\n",
       "    </tr>\n",
       "  </tbody>\n",
       "</table>\n",
       "</div>"
      ],
      "text/plain": [
       "       danceability      energy       tempo\n",
       "count    299.000000  299.000000  299.000000\n",
       "mean       0.598876    0.629169  119.993171\n",
       "std        0.146016    0.213013   26.798581\n",
       "min        0.128000    0.040600   65.179000\n",
       "25%        0.497500    0.479000   99.934500\n",
       "50%        0.615000    0.655000  119.344000\n",
       "75%        0.704000    0.801000  138.004000\n",
       "max        0.941000    0.977000  189.892000"
      ]
     },
     "execution_count": 4,
     "metadata": {},
     "output_type": "execute_result"
    }
   ],
   "source": [
    "data.describe()"
   ]
  },
  {
   "cell_type": "code",
   "execution_count": 5,
   "metadata": {},
   "outputs": [
    {
     "name": "stdout",
     "output_type": "stream",
     "text": [
      "\n",
      "Setup Succesfully Completed!\n"
     ]
    },
    {
     "data": {
      "text/html": [
       "<style  type=\"text/css\" >\n",
       "    #T_af1fbd6c_98af_11ea_8618_a683e7bfb66frow10_col1 {\n",
       "            background-color:  lightgreen;\n",
       "        }</style><table id=\"T_af1fbd6c_98af_11ea_8618_a683e7bfb66f\" ><thead>    <tr>        <th class=\"blank level0\" ></th>        <th class=\"col_heading level0 col0\" >Description</th>        <th class=\"col_heading level0 col1\" >Value</th>    </tr></thead><tbody>\n",
       "                <tr>\n",
       "                        <th id=\"T_af1fbd6c_98af_11ea_8618_a683e7bfb66flevel0_row0\" class=\"row_heading level0 row0\" >0</th>\n",
       "                        <td id=\"T_af1fbd6c_98af_11ea_8618_a683e7bfb66frow0_col0\" class=\"data row0 col0\" >session_id </td>\n",
       "                        <td id=\"T_af1fbd6c_98af_11ea_8618_a683e7bfb66frow0_col1\" class=\"data row0 col1\" >42</td>\n",
       "            </tr>\n",
       "            <tr>\n",
       "                        <th id=\"T_af1fbd6c_98af_11ea_8618_a683e7bfb66flevel0_row1\" class=\"row_heading level0 row1\" >1</th>\n",
       "                        <td id=\"T_af1fbd6c_98af_11ea_8618_a683e7bfb66frow1_col0\" class=\"data row1 col0\" >Original Data </td>\n",
       "                        <td id=\"T_af1fbd6c_98af_11ea_8618_a683e7bfb66frow1_col1\" class=\"data row1 col1\" >(299, 5)</td>\n",
       "            </tr>\n",
       "            <tr>\n",
       "                        <th id=\"T_af1fbd6c_98af_11ea_8618_a683e7bfb66flevel0_row2\" class=\"row_heading level0 row2\" >2</th>\n",
       "                        <td id=\"T_af1fbd6c_98af_11ea_8618_a683e7bfb66frow2_col0\" class=\"data row2 col0\" >Missing Values </td>\n",
       "                        <td id=\"T_af1fbd6c_98af_11ea_8618_a683e7bfb66frow2_col1\" class=\"data row2 col1\" >False</td>\n",
       "            </tr>\n",
       "            <tr>\n",
       "                        <th id=\"T_af1fbd6c_98af_11ea_8618_a683e7bfb66flevel0_row3\" class=\"row_heading level0 row3\" >3</th>\n",
       "                        <td id=\"T_af1fbd6c_98af_11ea_8618_a683e7bfb66frow3_col0\" class=\"data row3 col0\" >Numeric Features </td>\n",
       "                        <td id=\"T_af1fbd6c_98af_11ea_8618_a683e7bfb66frow3_col1\" class=\"data row3 col1\" >3</td>\n",
       "            </tr>\n",
       "            <tr>\n",
       "                        <th id=\"T_af1fbd6c_98af_11ea_8618_a683e7bfb66flevel0_row4\" class=\"row_heading level0 row4\" >4</th>\n",
       "                        <td id=\"T_af1fbd6c_98af_11ea_8618_a683e7bfb66frow4_col0\" class=\"data row4 col0\" >Categorical Features </td>\n",
       "                        <td id=\"T_af1fbd6c_98af_11ea_8618_a683e7bfb66frow4_col1\" class=\"data row4 col1\" >2</td>\n",
       "            </tr>\n",
       "            <tr>\n",
       "                        <th id=\"T_af1fbd6c_98af_11ea_8618_a683e7bfb66flevel0_row5\" class=\"row_heading level0 row5\" >5</th>\n",
       "                        <td id=\"T_af1fbd6c_98af_11ea_8618_a683e7bfb66frow5_col0\" class=\"data row5 col0\" >Ordinal Features </td>\n",
       "                        <td id=\"T_af1fbd6c_98af_11ea_8618_a683e7bfb66frow5_col1\" class=\"data row5 col1\" >False</td>\n",
       "            </tr>\n",
       "            <tr>\n",
       "                        <th id=\"T_af1fbd6c_98af_11ea_8618_a683e7bfb66flevel0_row6\" class=\"row_heading level0 row6\" >6</th>\n",
       "                        <td id=\"T_af1fbd6c_98af_11ea_8618_a683e7bfb66frow6_col0\" class=\"data row6 col0\" >High Cardinality Features </td>\n",
       "                        <td id=\"T_af1fbd6c_98af_11ea_8618_a683e7bfb66frow6_col1\" class=\"data row6 col1\" >False</td>\n",
       "            </tr>\n",
       "            <tr>\n",
       "                        <th id=\"T_af1fbd6c_98af_11ea_8618_a683e7bfb66flevel0_row7\" class=\"row_heading level0 row7\" >7</th>\n",
       "                        <td id=\"T_af1fbd6c_98af_11ea_8618_a683e7bfb66frow7_col0\" class=\"data row7 col0\" >Transformed Data </td>\n",
       "                        <td id=\"T_af1fbd6c_98af_11ea_8618_a683e7bfb66frow7_col1\" class=\"data row7 col1\" >(299, 3)</td>\n",
       "            </tr>\n",
       "            <tr>\n",
       "                        <th id=\"T_af1fbd6c_98af_11ea_8618_a683e7bfb66flevel0_row8\" class=\"row_heading level0 row8\" >8</th>\n",
       "                        <td id=\"T_af1fbd6c_98af_11ea_8618_a683e7bfb66frow8_col0\" class=\"data row8 col0\" >Numeric Imputer </td>\n",
       "                        <td id=\"T_af1fbd6c_98af_11ea_8618_a683e7bfb66frow8_col1\" class=\"data row8 col1\" >mean</td>\n",
       "            </tr>\n",
       "            <tr>\n",
       "                        <th id=\"T_af1fbd6c_98af_11ea_8618_a683e7bfb66flevel0_row9\" class=\"row_heading level0 row9\" >9</th>\n",
       "                        <td id=\"T_af1fbd6c_98af_11ea_8618_a683e7bfb66frow9_col0\" class=\"data row9 col0\" >Categorical Imputer </td>\n",
       "                        <td id=\"T_af1fbd6c_98af_11ea_8618_a683e7bfb66frow9_col1\" class=\"data row9 col1\" >constant</td>\n",
       "            </tr>\n",
       "            <tr>\n",
       "                        <th id=\"T_af1fbd6c_98af_11ea_8618_a683e7bfb66flevel0_row10\" class=\"row_heading level0 row10\" >10</th>\n",
       "                        <td id=\"T_af1fbd6c_98af_11ea_8618_a683e7bfb66frow10_col0\" class=\"data row10 col0\" >Normalize </td>\n",
       "                        <td id=\"T_af1fbd6c_98af_11ea_8618_a683e7bfb66frow10_col1\" class=\"data row10 col1\" >True</td>\n",
       "            </tr>\n",
       "            <tr>\n",
       "                        <th id=\"T_af1fbd6c_98af_11ea_8618_a683e7bfb66flevel0_row11\" class=\"row_heading level0 row11\" >11</th>\n",
       "                        <td id=\"T_af1fbd6c_98af_11ea_8618_a683e7bfb66frow11_col0\" class=\"data row11 col0\" >Normalize Method </td>\n",
       "                        <td id=\"T_af1fbd6c_98af_11ea_8618_a683e7bfb66frow11_col1\" class=\"data row11 col1\" >zscore</td>\n",
       "            </tr>\n",
       "            <tr>\n",
       "                        <th id=\"T_af1fbd6c_98af_11ea_8618_a683e7bfb66flevel0_row12\" class=\"row_heading level0 row12\" >12</th>\n",
       "                        <td id=\"T_af1fbd6c_98af_11ea_8618_a683e7bfb66frow12_col0\" class=\"data row12 col0\" >Transformation </td>\n",
       "                        <td id=\"T_af1fbd6c_98af_11ea_8618_a683e7bfb66frow12_col1\" class=\"data row12 col1\" >False</td>\n",
       "            </tr>\n",
       "            <tr>\n",
       "                        <th id=\"T_af1fbd6c_98af_11ea_8618_a683e7bfb66flevel0_row13\" class=\"row_heading level0 row13\" >13</th>\n",
       "                        <td id=\"T_af1fbd6c_98af_11ea_8618_a683e7bfb66frow13_col0\" class=\"data row13 col0\" >Transformation Method </td>\n",
       "                        <td id=\"T_af1fbd6c_98af_11ea_8618_a683e7bfb66frow13_col1\" class=\"data row13 col1\" >None</td>\n",
       "            </tr>\n",
       "            <tr>\n",
       "                        <th id=\"T_af1fbd6c_98af_11ea_8618_a683e7bfb66flevel0_row14\" class=\"row_heading level0 row14\" >14</th>\n",
       "                        <td id=\"T_af1fbd6c_98af_11ea_8618_a683e7bfb66frow14_col0\" class=\"data row14 col0\" >PCA </td>\n",
       "                        <td id=\"T_af1fbd6c_98af_11ea_8618_a683e7bfb66frow14_col1\" class=\"data row14 col1\" >False</td>\n",
       "            </tr>\n",
       "            <tr>\n",
       "                        <th id=\"T_af1fbd6c_98af_11ea_8618_a683e7bfb66flevel0_row15\" class=\"row_heading level0 row15\" >15</th>\n",
       "                        <td id=\"T_af1fbd6c_98af_11ea_8618_a683e7bfb66frow15_col0\" class=\"data row15 col0\" >PCA Method </td>\n",
       "                        <td id=\"T_af1fbd6c_98af_11ea_8618_a683e7bfb66frow15_col1\" class=\"data row15 col1\" >None</td>\n",
       "            </tr>\n",
       "            <tr>\n",
       "                        <th id=\"T_af1fbd6c_98af_11ea_8618_a683e7bfb66flevel0_row16\" class=\"row_heading level0 row16\" >16</th>\n",
       "                        <td id=\"T_af1fbd6c_98af_11ea_8618_a683e7bfb66frow16_col0\" class=\"data row16 col0\" >PCA components </td>\n",
       "                        <td id=\"T_af1fbd6c_98af_11ea_8618_a683e7bfb66frow16_col1\" class=\"data row16 col1\" >None</td>\n",
       "            </tr>\n",
       "            <tr>\n",
       "                        <th id=\"T_af1fbd6c_98af_11ea_8618_a683e7bfb66flevel0_row17\" class=\"row_heading level0 row17\" >17</th>\n",
       "                        <td id=\"T_af1fbd6c_98af_11ea_8618_a683e7bfb66frow17_col0\" class=\"data row17 col0\" >Ignore Low Variance </td>\n",
       "                        <td id=\"T_af1fbd6c_98af_11ea_8618_a683e7bfb66frow17_col1\" class=\"data row17 col1\" >False</td>\n",
       "            </tr>\n",
       "            <tr>\n",
       "                        <th id=\"T_af1fbd6c_98af_11ea_8618_a683e7bfb66flevel0_row18\" class=\"row_heading level0 row18\" >18</th>\n",
       "                        <td id=\"T_af1fbd6c_98af_11ea_8618_a683e7bfb66frow18_col0\" class=\"data row18 col0\" >Combine Rare Levels </td>\n",
       "                        <td id=\"T_af1fbd6c_98af_11ea_8618_a683e7bfb66frow18_col1\" class=\"data row18 col1\" >False</td>\n",
       "            </tr>\n",
       "            <tr>\n",
       "                        <th id=\"T_af1fbd6c_98af_11ea_8618_a683e7bfb66flevel0_row19\" class=\"row_heading level0 row19\" >19</th>\n",
       "                        <td id=\"T_af1fbd6c_98af_11ea_8618_a683e7bfb66frow19_col0\" class=\"data row19 col0\" >Rare Level Threshold </td>\n",
       "                        <td id=\"T_af1fbd6c_98af_11ea_8618_a683e7bfb66frow19_col1\" class=\"data row19 col1\" >None</td>\n",
       "            </tr>\n",
       "            <tr>\n",
       "                        <th id=\"T_af1fbd6c_98af_11ea_8618_a683e7bfb66flevel0_row20\" class=\"row_heading level0 row20\" >20</th>\n",
       "                        <td id=\"T_af1fbd6c_98af_11ea_8618_a683e7bfb66frow20_col0\" class=\"data row20 col0\" >Numeric Binning </td>\n",
       "                        <td id=\"T_af1fbd6c_98af_11ea_8618_a683e7bfb66frow20_col1\" class=\"data row20 col1\" >False</td>\n",
       "            </tr>\n",
       "            <tr>\n",
       "                        <th id=\"T_af1fbd6c_98af_11ea_8618_a683e7bfb66flevel0_row21\" class=\"row_heading level0 row21\" >21</th>\n",
       "                        <td id=\"T_af1fbd6c_98af_11ea_8618_a683e7bfb66frow21_col0\" class=\"data row21 col0\" >Remove Multicollinearity </td>\n",
       "                        <td id=\"T_af1fbd6c_98af_11ea_8618_a683e7bfb66frow21_col1\" class=\"data row21 col1\" >False</td>\n",
       "            </tr>\n",
       "            <tr>\n",
       "                        <th id=\"T_af1fbd6c_98af_11ea_8618_a683e7bfb66flevel0_row22\" class=\"row_heading level0 row22\" >22</th>\n",
       "                        <td id=\"T_af1fbd6c_98af_11ea_8618_a683e7bfb66frow22_col0\" class=\"data row22 col0\" >Multicollinearity Threshold </td>\n",
       "                        <td id=\"T_af1fbd6c_98af_11ea_8618_a683e7bfb66frow22_col1\" class=\"data row22 col1\" >None</td>\n",
       "            </tr>\n",
       "            <tr>\n",
       "                        <th id=\"T_af1fbd6c_98af_11ea_8618_a683e7bfb66flevel0_row23\" class=\"row_heading level0 row23\" >23</th>\n",
       "                        <td id=\"T_af1fbd6c_98af_11ea_8618_a683e7bfb66frow23_col0\" class=\"data row23 col0\" >Group Features </td>\n",
       "                        <td id=\"T_af1fbd6c_98af_11ea_8618_a683e7bfb66frow23_col1\" class=\"data row23 col1\" >False</td>\n",
       "            </tr>\n",
       "    </tbody></table>"
      ],
      "text/plain": [
       "<pandas.io.formats.style.Styler at 0x128060590>"
      ]
     },
     "metadata": {},
     "output_type": "display_data"
    }
   ],
   "source": [
    "from pycaret.clustering import *\n",
    "s = setup(data, normalize = True, \n",
    "                   ignore_features = ['track_name', 'track_id'],\n",
    "                   session_id = 42)"
   ]
  },
  {
   "cell_type": "code",
   "execution_count": 6,
   "metadata": {},
   "outputs": [],
   "source": [
    "# create_model?"
   ]
  },
  {
   "cell_type": "markdown",
   "metadata": {},
   "source": [
    "[Clustering modules](https://scikit-learn.org/stable/modules/clustering.html)"
   ]
  },
  {
   "cell_type": "code",
   "execution_count": 7,
   "metadata": {},
   "outputs": [],
   "source": [
    "# Create Model\n",
    "m = create_model('kmeans', num_clusters=5)"
   ]
  },
  {
   "cell_type": "code",
   "execution_count": 8,
   "metadata": {},
   "outputs": [
    {
     "name": "stdout",
     "output_type": "stream",
     "text": [
      "KMeans(algorithm='auto', copy_x=True, init='k-means++', max_iter=300,\n",
      "       n_clusters=5, n_init=10, n_jobs=None, precompute_distances='auto',\n",
      "       random_state=42, tol=0.0001, verbose=0)\n"
     ]
    }
   ],
   "source": [
    "print(m)"
   ]
  },
  {
   "cell_type": "code",
   "execution_count": 9,
   "metadata": {},
   "outputs": [],
   "source": [
    "results = assign_model(m)"
   ]
  },
  {
   "cell_type": "code",
   "execution_count": 10,
   "metadata": {},
   "outputs": [
    {
     "data": {
      "text/html": [
       "        <script type=\"text/javascript\">\n",
       "        window.PlotlyConfig = {MathJaxConfig: 'local'};\n",
       "        if (window.MathJax) {MathJax.Hub.Config({SVG: {font: \"STIX-Web\"}});}\n",
       "        if (typeof require !== 'undefined') {\n",
       "        require.undef(\"plotly\");\n",
       "        requirejs.config({\n",
       "            paths: {\n",
       "                'plotly': ['https://cdn.plot.ly/plotly-latest.min']\n",
       "            }\n",
       "        });\n",
       "        require(['plotly'], function(Plotly) {\n",
       "            window._Plotly = Plotly;\n",
       "        });\n",
       "        }\n",
       "        </script>\n",
       "        "
      ]
     },
     "metadata": {},
     "output_type": "display_data"
    },
    {
     "data": {
      "image/png": "[encoded data removed]",
      "text/plain": [
       "<Figure size 576x396 with 1 Axes>"
      ]
     },
     "metadata": {},
     "output_type": "display_data"
    }
   ],
   "source": [
    "# Find best value of K\n",
    "plot_model(m, plot = 'elbow')"
   ]
  },
  {
   "cell_type": "code",
   "execution_count": 11,
   "metadata": {},
   "outputs": [
    {
     "data": {
      "text/html": [
       "        <script type=\"text/javascript\">\n",
       "        window.PlotlyConfig = {MathJaxConfig: 'local'};\n",
       "        if (window.MathJax) {MathJax.Hub.Config({SVG: {font: \"STIX-Web\"}});}\n",
       "        if (typeof require !== 'undefined') {\n",
       "        require.undef(\"plotly\");\n",
       "        requirejs.config({\n",
       "            paths: {\n",
       "                'plotly': ['https://cdn.plot.ly/plotly-latest.min']\n",
       "            }\n",
       "        });\n",
       "        require(['plotly'], function(Plotly) {\n",
       "            window._Plotly = Plotly;\n",
       "        });\n",
       "        }\n",
       "        </script>\n",
       "        "
      ]
     },
     "metadata": {},
     "output_type": "display_data"
    },
    {
     "data": {
      "application/vnd.plotly.v1+json": {
       "config": {
        "plotlyServerURL": "https://plot.ly"
       },
       "data": [
        {
         "customdata": [
          [
           "Have You Ever Seen The Rain"
          ],
          [
           "Break It Down Again"
          ],
          [
           "Stay"
          ],
          [
           "A Visita"
          ],
          [
           "O Que É O Que É?"
          ],
          [
           "Loving Every Minute"
          ],
          [
           "Nosso Pequeno Castelo"
          ],
          [
           "Voce Abusou"
          ],
          [
           "I Follow Rivers"
          ],
          [
           "Relicário"
          ],
          [
           "Meu Lugar"
          ],
          [
           "Tocando em Frente"
          ],
          [
           "Como Nossos Pais"
          ],
          [
           "Garota Nacional"
          ],
          [
           "Big Time Sensuality"
          ],
          [
           "Meu Erro"
          ],
          [
           "Cara valente"
          ],
          [
           "Sing"
          ],
          [
           "O Mar Serenou"
          ],
          [
           "What a Wonderful World"
          ],
          [
           "She"
          ],
          [
           "Don't Look Back in Anger - Remastered"
          ],
          [
           "Evidence"
          ],
          [
           "Easy"
          ],
          [
           "Skyfall"
          ],
          [
           "Live And Let Die - Remastered 1993"
          ],
          [
           "The James Bond Theme (From \"Dr. No\")"
          ],
          [
           "Another Way to Die"
          ],
          [
           "Die Another Day"
          ],
          [
           "You Know My Name - From \"Casino Royale\" Soundtrack"
          ],
          [
           "Perfect"
          ],
          [
           "Autumn Leaves"
          ],
          [
           "Johnny B. Goode"
          ],
          [
           "Get Up I Feel Like Being A Sex Machine - Pt. 1 / Single Version"
          ],
          [
           "Minha Tribo Sou Eu"
          ],
          [
           "Aquarela"
          ],
          [
           "Pipes Of Peace - Remastered 2015"
          ],
          [
           "O Trem das 7 (Ao Vivo)"
          ],
          [
           "Acontecimentos"
          ],
          [
           "Colo de Menina"
          ],
          [
           "Space Cowboy"
          ],
          [
           "Meu Guarda-Chuva"
          ],
          [
           "Carolina"
          ]
         ],
         "hoverlabel": {
          "namelength": 0
         },
         "hovertemplate": "Cluster=Cluster 0<br>PCA1=%{x}<br>PCA2=%{y}<br>Feature=%{customdata[0]}",
         "legendgroup": "Cluster=Cluster 0",
         "marker": {
          "color": "#636efa",
          "opacity": 0.5,
          "symbol": "circle"
         },
         "mode": "markers",
         "name": "Cluster=Cluster 0",
         "showlegend": true,
         "textposition": "top center",
         "type": "scatter",
         "x": [
          -1.6758120899507511,
          -0.9945146734038343,
          0.17276587268216975,
          -0.4664982910863618,
          -0.8008274551763079,
          -0.37416341515804974,
          -0.4772086653044189,
          -1.5387959581111825,
          -1.832863771832169,
          -0.3365404633069075,
          -0.44895199652632917,
          -2.0130668000095593,
          -2.277989507010769,
          -1.0065615753780863,
          0.10552012291141351,
          -1.3744398705612686,
          -0.9475013251499389,
          -0.7300833865059324,
          -0.475890474494478,
          -1.3584156707047756,
          -0.5871290497458918,
          -2.318680057074258,
          -0.4970606809606616,
          -0.8810110568303516,
          -1.6747463228322421,
          -1.3624377789812978,
          -0.33001555856636866,
          -1.6326973543622925,
          -0.692715073003495,
          -0.3010848258109857,
          -0.6214183533015841,
          -1.3196599695453666,
          -0.7492602424248902,
          -0.32279396935726595,
          -1.1955188213552574,
          -1.7719279289685512,
          -0.2507188685873377,
          -1.0199135137331239,
          -0.9622642914459212,
          -1.032601487122152,
          -1.473742217119139,
          -0.7762449551908794,
          -0.5833240176307831
         ],
         "xaxis": "x",
         "y": [
          0.5185232116950772,
          0.31698290814949986,
          2.4431683269491375,
          1.1089139715222553,
          0.5879445177840681,
          0.4807090898016724,
          0.7078383767905003,
          1.5677849616954136,
          1.4967472638763857,
          1.8346298898512274,
          0.9833613118208627,
          1.3603224309434618,
          2.4945542203042828,
          0.8940160543443109,
          0.3522674521008723,
          0.6966321897854091,
          1.3447971650236545,
          4.217552140197841,
          1.9888320109900266,
          0.3075400772679074,
          1.4900909117342735,
          1.679342311624658,
          1.4702404360341685,
          -0.183491092989688,
          0.7205488634914343,
          1.534901003925654,
          2.0547295642170584,
          2.3354654516233064,
          0.5742001258220015,
          0.6684789470816248,
          0.1388980868516848,
          0.35265927442043954,
          1.0752127013379715,
          0.5706203118162316,
          1.7567554269640548,
          1.220284386171777,
          0.9394004963264024,
          1.8796626371856613,
          1.2250558961608722,
          0.7157952690064909,
          2.2193073173203537,
          2.6042428943030194,
          0.6046520296488681
         ],
         "yaxis": "y"
        },
        {
         "customdata": [
          [
           "Verdade"
          ],
          [
           "Samba Lelê"
          ],
          [
           "A Banda"
          ],
          [
           "Big Yellow Taxi"
          ],
          [
           "All About That Bass - Live from Spotify London"
          ],
          [
           "Rocket Man"
          ],
          [
           "Fireball (feat. John Ryan)"
          ],
          [
           "Non, je ne regrette rien - Remasterisé En 2015"
          ],
          [
           "Respect"
          ],
          [
           "Oh Chuva"
          ],
          [
           "Get Down On It - Single Version"
          ],
          [
           "The Thrill Is Gone"
          ],
          [
           "One Of Us"
          ],
          [
           "Love Of My Life - Live"
          ],
          [
           "Bola De Meia, Bola De Gude"
          ],
          [
           "O bêbado e a equilibrista"
          ],
          [
           "Aqua de Beber"
          ],
          [
           "Mais Que Nada (Remix)"
          ],
          [
           "Under My Thumb"
          ],
          [
           "What's Up?"
          ],
          [
           "Flores em você"
          ],
          [
           "One Note Samba"
          ],
          [
           "Heroes - 1999 Remaster"
          ],
          [
           "Tudo No Lugar"
          ],
          [
           "Funk Nu a Murit"
          ],
          [
           "Vou Deixar"
          ],
          [
           "Exagerado 3.0"
          ],
          [
           "Bete Balanço"
          ],
          [
           "O segundo sol"
          ],
          [
           "Que Beleza"
          ],
          [
           "Malemolencia"
          ],
          [
           "Gostava Tanto de Você - Ao Vivo"
          ],
          [
           "Wish You Were Here"
          ],
          [
           "Só Tinha De Ser Com Voce (Com Tom)"
          ],
          [
           "São Gonça"
          ],
          [
           "Exagerado"
          ],
          [
           "Flor de Lis"
          ],
          [
           "Mais Que Nada"
          ],
          [
           "Aquele Abraço"
          ],
          [
           "16 Toneladas"
          ],
          [
           "Let's Call the Whole Thing Off"
          ],
          [
           "Dream a Little Dream of Me"
          ],
          [
           "What a Wonderful World"
          ],
          [
           "Maracatu Atômico"
          ],
          [
           "I'm Yours"
          ],
          [
           "Human"
          ],
          [
           "I Can't Dance"
          ],
          [
           "Let Her Go"
          ],
          [
           "Young Folks"
          ],
          [
           "Dream A Little Dream Of Me - Album Version With Introduction"
          ],
          [
           "The Last of the Famous International Playboys - 2010 Remaster"
          ],
          [
           "Hey Ya! - Radio Mix / Club Mix"
          ],
          [
           "Seven Nation Army"
          ],
          [
           "Bring Me To Life"
          ],
          [
           "Smooth (feat. Rob Thomas)"
          ],
          [
           "Chão de Giz"
          ],
          [
           "Mistérios da Meia Noite"
          ],
          [
           "These Boots Are Made For Walkin'"
          ],
          [
           "Day Tripper"
          ],
          [
           "Get the Party Started"
          ],
          [
           "Wrecking Ball"
          ],
          [
           "The Passenger"
          ],
          [
           "Fly Me To The Moon - Remastered"
          ],
          [
           "Back In Black"
          ],
          [
           "You Shook Me All Night Long"
          ],
          [
           "Highway to Hell"
          ],
          [
           "Danny's Song"
          ],
          [
           "Danny's Song"
          ],
          [
           "Istanbul (Not Constantinople)"
          ],
          [
           "Andar com fé"
          ],
          [
           "Vamos fugir"
          ],
          [
           "Samba Da Bencao"
          ],
          [
           "Bete balanço - Ao vivo"
          ],
          [
           "Anunciação"
          ],
          [
           "La vie en rose - Single Version"
          ],
          [
           "Dream A Little Dream Of Me"
          ],
          [
           "Common People"
          ],
          [
           "Girls and Boys"
          ],
          [
           "Alright"
          ],
          [
           "Hey Ya!"
          ],
          [
           "Crazy"
          ],
          [
           "Smiley Faces"
          ],
          [
           "Fuck You"
          ],
          [
           "Where Is The Love?"
          ],
          [
           "A Little Party Never Killed Nobody (All We Got)"
          ],
          [
           "Party Rock Anthem"
          ],
          [
           "CAN'T STOP THE FEELING! (Original Song from DreamWorks Animation's \"TROLLS\")"
          ],
          [
           "Try"
          ],
          [
           "If I Ain't Got You"
          ],
          [
           "Say Something"
          ],
          [
           "Riders on the Storm"
          ],
          [
           "Summertime"
          ],
          [
           "Piece Of My Heart"
          ],
          [
           "Baba O'Riley"
          ],
          [
           "All Along the Watchtower"
          ],
          [
           "Walk On the Wild Side"
          ]
         ],
         "hoverlabel": {
          "namelength": 0
         },
         "hovertemplate": "Cluster=Cluster 1<br>PCA1=%{x}<br>PCA2=%{y}<br>Feature=%{customdata[0]}",
         "legendgroup": "Cluster=Cluster 1",
         "marker": {
          "color": "#EF553B",
          "opacity": 0.5,
          "symbol": "circle"
         },
         "mode": "markers",
         "name": "Cluster=Cluster 1",
         "showlegend": true,
         "textposition": "top center",
         "type": "scatter",
         "x": [
          -0.4481341730559253,
          0.7245492061904392,
          0.5148459440554448,
          -0.29497082581543044,
          -0.8908334597032419,
          0.4314034296922881,
          -0.018864358150687814,
          -0.5738179402695612,
          0.40691801814419265,
          -0.02315140988644542,
          0.7598811348045569,
          -0.7266733082852835,
          0.08523665506443037,
          0.09071758634802245,
          1.025455128782711,
          0.6691608464619018,
          0.7572166116818111,
          -0.5119735161799246,
          0.9718374149369371,
          -0.06771556212437443,
          -0.2379188850513497,
          0.6526693770294211,
          0.7240113204930523,
          0.49798275481376153,
          -0.00839199147047168,
          0.363957850570944,
          -0.09254817027473652,
          1.0098430098817426,
          -0.039047251002207566,
          -0.044394007413994484,
          -0.5880650864621919,
          0.36993332146949687,
          -0.28796850096695165,
          -0.26880863963510804,
          -0.9081325900700132,
          0.3761172302026382,
          0.15460217620895494,
          0.6529379823055522,
          -0.19173332661688144,
          0.09783432954381949,
          0.6215169829194246,
          0.3637889426995323,
          -0.2433460353691116,
          -0.30859240674511434,
          0.530550812592469,
          0.7904037955715094,
          -0.21351265256428134,
          -0.15738221054462778,
          0.3137962934809862,
          0.22273137495390932,
          0.6856942307056381,
          0.8418708990410478,
          1.3648552530413873,
          0.618517768279053,
          0.2270029269146771,
          0.21426137814206306,
          -0.26240564413013356,
          0.2825416772959745,
          -0.42111221321862813,
          0.839766773636723,
          -0.6287072074244291,
          -0.26579034227564713,
          0.1216098374290788,
          0.44034895278742603,
          -0.3207681299758204,
          0.6096337819757822,
          0.80640982076493,
          0.9464529927800429,
          -0.27648182689552536,
          -0.3582461051165209,
          1.2743004697759777,
          -0.36036615857294785,
          0.27890066628260685,
          -0.6969103899407496,
          0.7883352902051617,
          0.752388622009782,
          0.6881934476264415,
          0.24719650014013705,
          -0.18528039159404713,
          -0.6123546510196219,
          -0.5573318180567105,
          1.0549569272538357,
          -0.717950113321921,
          -0.5902818544483919,
          0.2203838188059489,
          0.5875347715736172,
          0.18542971992657897,
          0.5032028609051231,
          0.11103290957316946,
          -0.7225610386525478,
          -0.1322047649388974,
          -0.5870535360108444,
          -0.07410253641262032,
          0.6626780660299983,
          -0.6734072821031247,
          -0.23734150158711648
         ],
         "xaxis": "x",
         "y": [
          -1.1073462511072278,
          -0.18250671393365353,
          -1.140098566819645,
          -0.5700136857218909,
          -1.6876246861250555,
          -1.0781920448212692,
          -0.9343614884450699,
          -0.3563273146805879,
          -1.2914022250788837,
          -0.5649291514260849,
          -0.6888871107931885,
          -0.5319270065394149,
          -1.8833060224007117,
          -0.5254916752469734,
          -0.5173550423671268,
          -1.589856251392551,
          -0.9974192838107331,
          -0.5443740676986236,
          -1.7301736868782622,
          -0.1543357303152547,
          -1.0562129011794636,
          -1.1849580929760446,
          0.11577116240958268,
          0.1659428177563072,
          -1.634055370128558,
          -1.247302090560162,
          -0.08251102919522947,
          -0.9470998389040607,
          -1.0089317266985331,
          -1.0778322402791418,
          -1.0928193731975517,
          -1.3169428943504071,
          -0.6999515940171281,
          -0.2259578643264495,
          -1.753103227231098,
          -0.8979763051197269,
          -1.2939166404081526,
          -0.24514499402419923,
          -0.002928640337314003,
          -0.1224545720199254,
          -0.7226884124281628,
          -1.6558714039955127,
          -0.8158982279322892,
          -1.9305188388516912,
          -0.8795774661116929,
          -0.9783518070457065,
          -0.36494464482207184,
          -0.9412536111936206,
          -0.5119042325274499,
          -0.6570415184147752,
          -0.457876018132435,
          -1.1754226735386908,
          -1.023612285125918,
          -0.30815656683896203,
          -1.1201903198429617,
          -0.3666315266356271,
          -1.3828228173591577,
          -0.4195655552812706,
          -1.3712549223858908,
          -0.5121027336077957,
          -0.8967969611177445,
          -0.6079306679280629,
          -0.04442416118750169,
          -1.557657024822528,
          -0.8929056492045272,
          -1.4858646159341462,
          -0.6193919934142676,
          -0.8874943115869061,
          -1.2083957627189905,
          -0.5500708960077698,
          -0.8729739985192151,
          -0.7503098419375652,
          -0.6401466624992986,
          -0.5248272246786126,
          -0.5677380877950481,
          -0.36452813972587605,
          -1.0895847628250481,
          -0.49733485547688755,
          -0.6890644274627125,
          -0.03615158493265968,
          -0.30242026639530184,
          -0.748763068371943,
          -0.9729296533661971,
          -1.5383882333204852,
          -0.8704678266326248,
          -0.8177326564863318,
          -0.9271120708871025,
          0.044920172908581316,
          -1.8099934371123612,
          -1.6366860773162115,
          -0.08454537268489284,
          -1.3698908041064592,
          -1.1791879024493441,
          -0.9464358418693558,
          -1.1497849114203258,
          -0.05326977380050994
         ],
         "yaxis": "y"
        },
        {
         "customdata": [
          [
           "Wish You Were Here"
          ],
          [
           "Another Brick in the Wall, Pt. 2"
          ],
          [
           "Smoke On The Water - Remastered 2012"
          ],
          [
           "Paranoid"
          ],
          [
           "Águas De Março"
          ],
          [
           "Good People"
          ],
          [
           "Got My Mind Set On You - 2004 Mix"
          ],
          [
           "Love On The Brain"
          ],
          [
           "I Love Rock 'n' Roll"
          ],
          [
           "Kung Fu Fighting (Single Version)"
          ],
          [
           "Lay, Lady, Lay"
          ],
          [
           "Superstition - Single Version"
          ],
          [
           "Signed, Sealed, Delivered (I'm Yours)"
          ],
          [
           "Coffee and TV"
          ],
          [
           "Hey Boy Hey Girl"
          ],
          [
           "Go"
          ],
          [
           "Block Rockin' Beats"
          ],
          [
           "Sunshine Reggae - 2008 Remaster"
          ],
          [
           "Dona Cila"
          ],
          [
           "Layla - Acoustic; Live at MTV Unplugged, Bray Film Studios, Windsor, England, UK, 1/16/1992; 2013 Remaster"
          ],
          [
           "Beds Are Burning - Remastered"
          ],
          [
           "House of Fun - 2000 Remastered Version"
          ],
          [
           "Addicted To Love"
          ],
          [
           "Moving On Up"
          ],
          [
           "Cérebro Eletrônico"
          ],
          [
           "Só Tinha De Ser Com Você"
          ],
          [
           "The Joker"
          ],
          [
           "Friction"
          ],
          [
           "You Had Me"
          ],
          [
           "Love Today"
          ],
          [
           "Happy Ending/Over My Shoulder"
          ],
          [
           "The River of Dreams"
          ],
          [
           "Down On The Corner"
          ],
          [
           "Kiss from a Rose"
          ],
          [
           "Crazy"
          ],
          [
           "Telegrama"
          ],
          [
           "Amor e Sexo"
          ],
          [
           "Metamorfose Ambulante"
          ],
          [
           "Codinome Beija-Flor"
          ],
          [
           "Cotidiano"
          ],
          [
           "Relicário - Ao Vivo"
          ],
          [
           "Chega de Saudade"
          ],
          [
           "Tropicana (Morena Tropicana)"
          ],
          [
           "Não Me Deixe Só"
          ],
          [
           "Boa Sorte / Good Luck"
          ],
          [
           "Segue o Som"
          ],
          [
           "Samba de uma nota só"
          ],
          [
           "Ai, Ai, Ai..."
          ],
          [
           "La Belle De Jour"
          ],
          [
           "Tá perdoado"
          ],
          [
           "O Segundo Sol - Acoustic"
          ],
          [
           "Vamos Fugir"
          ]
         ],
         "hoverlabel": {
          "namelength": 0
         },
         "hovertemplate": "Cluster=Cluster 2<br>PCA1=%{x}<br>PCA2=%{y}<br>Feature=%{customdata[0]}",
         "legendgroup": "Cluster=Cluster 2",
         "marker": {
          "color": "#00cc96",
          "opacity": 0.5,
          "symbol": "circle"
         },
         "mode": "markers",
         "name": "Cluster=Cluster 2",
         "showlegend": true,
         "textposition": "top center",
         "type": "scatter",
         "x": [
          0.19336005181347873,
          0.056477842138594074,
          -0.38314303092177027,
          -0.2689368584689045,
          0.09144049940113295,
          -0.45911654950516995,
          0.5311392370325173,
          0.08487161047357528,
          0.717743297606404,
          0.3917074334865816,
          0.016954116251874977,
          0.35887899487687475,
          0.12892394753723563,
          1.0561818474389988,
          0.28803300140880406,
          0.4063610724810289,
          0.9646012795297525,
          -0.4832519582781342,
          0.19109185058427663,
          0.11279943461351838,
          0.4690691744408055,
          0.24237262302307783,
          0.7316080090471767,
          0.3112726126517165,
          1.7833473299427727,
          0.4366662641847708,
          1.2990293621261837,
          0.347518472909342,
          0.5338227925470088,
          0.9508301538370967,
          0.44540804231096376,
          -0.1676166045434586,
          1.1513859514739877,
          -0.688498801445733,
          1.3062884511371993,
          0.6334240635457254,
          -0.591126771827395,
          -0.22762573264308522,
          2.1226380656438772,
          0.32148104588492316,
          -0.4433218745017724,
          1.0881840195942136,
          -0.38811587292942784,
          1.1232726340851922,
          0.22095425103940008,
          0.06932889866929212,
          0.8854663763522704,
          0.3895359050161211,
          0.2767888402283949,
          0.1869132952122935,
          0.05525960950603818,
          0.9393294022672408
         ],
         "xaxis": "x",
         "y": [
          0.4007384852915611,
          0.7904072053034022,
          0.7122711291901143,
          1.9072956209678884,
          2.5114975771992203,
          0.9925330282392598,
          -0.13860227656927565,
          -0.06725501314514779,
          0.5863948240203243,
          1.9031124014650356,
          1.4001071264497442,
          0.07554361553413312,
          1.4947021016606883,
          -0.46795675525941743,
          1.1641532611650005,
          0.34020690402002535,
          1.524760530280282,
          1.1021023919513593,
          0.30294874067325084,
          0.2930754934629321,
          1.4566779370496623,
          1.0943858647012308,
          0.9400811319841244,
          0.6801120966523849,
          2.438458639523471,
          -0.43131349053427703,
          -0.49622142152901033,
          0.9074921596412691,
          1.1789591471928886,
          1.7362338643290582,
          2.19510797591365,
          0.4497104144963289,
          1.6384805483876668,
          0.9111685638608014,
          0.656828218072955,
          1.0334294327887614,
          2.2818171048409526,
          1.8262069123178497,
          2.399812135538978,
          2.545024347658516,
          0.6061711703213437,
          0.5701224035054253,
          0.9382771736440869,
          1.23274904354582,
          0.17607670248388324,
          1.912313390711405,
          0.529765216147005,
          -0.10351119126477604,
          1.7007603942896081,
          0.5674392423842634,
          0.33064747731231414,
          -0.6994630036720528
         ],
         "yaxis": "y"
        },
        {
         "customdata": [
          [
           "Greenback Boogie (Theme from \"Suits\")"
          ],
          [
           "Safety Dance"
          ],
          [
           "Da Ya Think I'm Sexy"
          ],
          [
           "Pela Luz dos Olhos Teus - Bonus Track"
          ],
          [
           "Because the Night - MTV Unplugged Version"
          ],
          [
           "Under Pressure - Remastered"
          ],
          [
           "Three Little Birds"
          ],
          [
           "Every Breath You Take"
          ],
          [
           "Johnny B Goode - 2002 Remaster"
          ],
          [
           "Livin' On A Prayer"
          ],
          [
           "You Give Love A Bad Name"
          ],
          [
           "Wanted Dead Or Alive"
          ],
          [
           "The Way You Look Tonight"
          ],
          [
           "Carta Ao Tom 74"
          ],
          [
           "Galvanize"
          ],
          [
           "Viva La Vida"
          ],
          [
           "Flames"
          ],
          [
           "Lose Yourself - From \"8 Mile\" Soundtrack"
          ],
          [
           "The Sweet Escape"
          ],
          [
           "Toxic"
          ],
          [
           "Feel It Still"
          ],
          [
           "Pretend We're Dead"
          ],
          [
           "Shitlist"
          ],
          [
           "Black Velvet"
          ],
          [
           "That's All - 2007 Remaster"
          ],
          [
           "Óculos"
          ],
          [
           "Envelheço na cidade"
          ],
          [
           "Pobre paulista"
          ],
          [
           "Mantenha o Respeito"
          ],
          [
           "Chained To The Rhythm"
          ],
          [
           "Dark Horse"
          ],
          [
           "I Kissed A Girl"
          ],
          [
           "All The Small Things"
          ],
          [
           "Ho Hey"
          ],
          [
           "Halo"
          ],
          [
           "Counting Stars"
          ],
          [
           "Happy Together"
          ],
          [
           "Human"
          ],
          [
           "Better Together"
          ],
          [
           "Wherever You Will Go"
          ],
          [
           "We Didn't Start the Fire"
          ],
          [
           "Teardrop"
          ],
          [
           "Smiled At Me (Sorriu Para Mim)"
          ],
          [
           "Corcovado"
          ],
          [
           "Cum on Feel the Noize"
          ],
          [
           "One Way Or Another"
          ],
          [
           "Fast Car"
          ],
          [
           "One"
          ],
          [
           "Shiny Happy People"
          ],
          [
           "A Casa é Sua"
          ],
          [
           "With Or Without You - Remastered"
          ],
          [
           "Beija Eu"
          ],
          [
           "Rolling In The Deep"
          ],
          [
           "Set Fire to the Rain"
          ],
          [
           "Firework"
          ],
          [
           "Roar"
          ],
          [
           "Wake Me Up - Radio Edit"
          ],
          [
           "Hello"
          ],
          [
           "Under Pressure - Remastered"
          ],
          [
           "A Message to You Rudy"
          ],
          [
           "Stressed Out"
          ],
          [
           "Heathens"
          ],
          [
           "Ride"
          ],
          [
           "Here Comes The Sun - Remastered 2009"
          ],
          [
           "Do Lado de Cá"
          ],
          [
           "Juste un inconnu"
          ],
          [
           "The Ballad Of John And Yoko - Remastered 2009"
          ]
         ],
         "hoverlabel": {
          "namelength": 0
         },
         "hovertemplate": "Cluster=Cluster 3<br>PCA1=%{x}<br>PCA2=%{y}<br>Feature=%{customdata[0]}",
         "legendgroup": "Cluster=Cluster 3",
         "marker": {
          "color": "#ab63fa",
          "opacity": 0.5,
          "symbol": "circle"
         },
         "mode": "markers",
         "name": "Cluster=Cluster 3",
         "showlegend": true,
         "textposition": "top center",
         "type": "scatter",
         "x": [
          -1.9045222609458,
          -1.0153318303415313,
          -0.5804564440131598,
          -1.5081984164690243,
          -1.3049242258711322,
          -1.2572778641002975,
          -0.6682112317929306,
          -1.5317321531938946,
          -1.7671501470536226,
          -1.7814415381212196,
          -1.0806862712286394,
          -1.8722572682511898,
          -1.2540050596083225,
          -0.8764189664594862,
          -1.7289426973988096,
          -1.1830979693561805,
          -0.47537455631645886,
          -1.4376453485665084,
          -0.7091061292941575,
          -0.3105759344937647,
          -1.4433488652689408,
          -1.209283836900468,
          -0.9944039166280328,
          -1.2783538804381367,
          -0.5640576544992135,
          -0.7890428182641296,
          0.25708441936289866,
          -2.0070851262284695,
          -0.7949221669901003,
          -0.7267741848484124,
          -1.8130381976964876,
          -1.2774416080242912,
          -1.0072037868261001,
          -1.164104607454615,
          -1.393059065992907,
          -0.6982237872303618,
          -1.1766881975868397,
          -0.12325850793329132,
          -0.3852843078792704,
          -0.39358960318062536,
          -0.5799067496862509,
          -1.1951299267638988,
          -0.4126519374871717,
          -1.2121953377366657,
          -1.2424803864052332,
          -1.5560705615589099,
          -1.5298634645137739,
          -1.5926296138818867,
          -0.4661558143059262,
          -1.0096874288724573,
          -1.1418660507878677,
          -1.2552406423430325,
          -0.9043797319948585,
          -1.12126422128705,
          -1.4096528021111039,
          -1.0417874782781498,
          -1.4461208641446412,
          -1.0205701997464898,
          -0.700846660955692,
          -0.8310251199319204,
          -0.5830675252165708,
          -1.591718162604593,
          -0.3623871357538109,
          -1.267222029368368,
          -1.0554543464943824,
          -1.3591676396655195,
          -1.1219754690373311
         ],
         "xaxis": "x",
         "y": [
          -0.748113743052627,
          0.01330562165069707,
          -1.9989612256614593,
          0.7018196647165212,
          -0.5227345204836871,
          -0.45061425007710476,
          0.5128285940238115,
          -1.4511548506665113,
          0.25639236872969523,
          -0.21043083464752316,
          -0.24355877000928333,
          0.2613382087927948,
          -0.39774018648982495,
          -0.3715273869380884,
          0.20590731257052375,
          -0.3648268467151386,
          -0.8781816285191797,
          -0.4105738774481533,
          -0.3157466437836553,
          -0.7100981652494073,
          -1.2419308884469387,
          -1.0010270247935176,
          -1.017246953737627,
          -0.825829485965911,
          0.1693150441743719,
          0.611253521820229,
          -0.8319911505590223,
          0.2430484435668143,
          -0.9417432437897764,
          -0.09025941418630526,
          -1.0673717769540543,
          -0.3887138443474981,
          -0.9983417048569497,
          0.02278091504539147,
          -1.8749667666577108,
          -0.16426743692209267,
          -0.03047502139712645,
          -0.6862304049401159,
          -0.9150617280059102,
          -0.45851710413531455,
          -1.0930662086222214,
          -0.529058536763556,
          -0.34019462196090366,
          -1.3095581745878129,
          0.4185317687699739,
          -0.058239103766007494,
          0.09915258893141743,
          -0.490228306770361,
          0.37857286369747417,
          -0.5816952695016409,
          -0.017276152893573593,
          -0.593056531293822,
          -0.8062012970925311,
          0.28328511085877406,
          -0.8583153136360496,
          -0.40124192936959885,
          -0.3297653278670837,
          0.608467884472855,
          -0.28419085746829964,
          -0.23124421698392417,
          -0.2726712603317164,
          -0.1877768835724518,
          -1.6843623231899931,
          -0.34978730406110414,
          -0.44895371554997837,
          -0.42079611814967754,
          -0.6464652167211882
         ],
         "yaxis": "y"
        },
        {
         "customdata": [
          [
           "Cocaine"
          ],
          [
           "Layla - 40th Anniversary Version / 2010 Remastered"
          ],
          [
           "Paint It, Black - Mono"
          ],
          [
           "Nothing Else Matters"
          ],
          [
           "Comfortably Numb"
          ],
          [
           "Blaze Of Glory - From \"Young Guns II\" Soundtrack"
          ],
          [
           "Miracle"
          ],
          [
           "Daughter (Remastered)"
          ],
          [
           "Kiss from a Rose - Acoustic"
          ],
          [
           "Zombie - Acoustic Version"
          ],
          [
           "Black"
          ],
          [
           "Crazy Mary (Remastered)"
          ],
          [
           "Iris"
          ],
          [
           "Alanis’ Interlude"
          ],
          [
           "Blue Sky Mine - 2011 Remaster"
          ],
          [
           "Whole Wide World"
          ],
          [
           "The Box, Pt. 1"
          ],
          [
           "The Box - Part 2"
          ],
          [
           "This Is What It Feels Like"
          ],
          [
           "Here Tonight"
          ],
          [
           "Faded - Dash Berlin Remix"
          ],
          [
           "Shine Ibiza Anthem 2019"
          ],
          [
           "Fico Assim Sem Você"
          ],
          [
           "Ai, Ai, Ai..."
          ],
          [
           "O Calibre"
          ],
          [
           "Somewhere Only We Know"
          ],
          [
           "Realla"
          ],
          [
           "Rose's Thorn"
          ],
          [
           "Wen Uuu"
          ],
          [
           "Tainted Love"
          ],
          [
           "18 and Life"
          ],
          [
           "We're Not Gonna Take It"
          ],
          [
           "Keep Yourself Alive - Live At The Rainbow"
          ],
          [
           "Bohemian Rhapsody - 2011 Mix"
          ],
          [
           "Radio Ga Ga - Live Aid"
          ],
          [
           "The Show Must Go On - 2011 Mix"
          ],
          [
           "Don't Stop Me Now - ...Revisited"
          ],
          [
           "The Sea"
          ],
          [
           "We No Speak Americano (JT Radio Edit)"
          ],
          [
           "Uprising"
          ],
          [
           "Paint It, Black"
          ]
         ],
         "hoverlabel": {
          "namelength": 0
         },
         "hovertemplate": "Cluster=Cluster 4<br>PCA1=%{x}<br>PCA2=%{y}<br>Feature=%{customdata[0]}",
         "legendgroup": "Cluster=Cluster 4",
         "marker": {
          "color": "#FFA15A",
          "opacity": 0.5,
          "symbol": "circle"
         },
         "mode": "markers",
         "name": "Cluster=Cluster 4",
         "showlegend": true,
         "textposition": "top center",
         "type": "scatter",
         "x": [
          1.3238854850227717,
          2.020264971537869,
          1.7342759928806457,
          2.6921664101740275,
          1.7393204468484103,
          2.2757112474624663,
          1.5247069237673434,
          2.2352955924498543,
          1.7662980467182792,
          2.7679248241001337,
          1.2467874384207385,
          2.2367519589526323,
          3.5912188521147024,
          2.2733049494132245,
          2.4089938963583526,
          1.0624398882226018,
          1.4499537327663659,
          1.6567880693383819,
          2.09200474499673,
          2.8318111701945368,
          1.879620543040447,
          2.469753371318917,
          1.0956474278192312,
          1.788134942875127,
          1.7982975706962157,
          1.943969843299591,
          1.942131371049464,
          2.2573920491643773,
          1.191648990377699,
          1.8027111259589808,
          1.838065427262681,
          2.0605087268518694,
          2.0970509721922768,
          3.0713783679696025,
          1.193703484251029,
          1.1045186842159933,
          1.8488879400682043,
          2.3707667719384844,
          1.187419427129709,
          2.1744365266207226,
          1.8850377077695628
         ],
         "xaxis": "x",
         "y": [
          -0.21219331454384427,
          -0.45206190919374056,
          -0.5768001590759811,
          0.199874470765282,
          -0.637213570695287,
          1.1039344901475887,
          -0.06366352385960143,
          -0.682625148035953,
          0.19523519657704647,
          0.08909568044397673,
          -0.20139937940325972,
          0.07331776519829944,
          0.09635996630523981,
          1.67423739822925,
          0.8970913240843671,
          0.2932680511325714,
          -0.2089270771353516,
          0.45817647337955675,
          -0.029104557772772467,
          0.005070180627081587,
          -0.23481163372459918,
          1.0481704472417244,
          0.1776423040216734,
          0.31671494938987005,
          0.7112154969733911,
          -0.19713572811521757,
          -0.05522946134214929,
          1.1987862015816164,
          -0.3293378225049745,
          0.5938891653437373,
          -0.5948488761109453,
          -0.343552965081692,
          0.49640175564052835,
          0.9755558876521794,
          -0.3357046664616821,
          -0.07913306260926428,
          -0.3527752385530229,
          0.24293944322679673,
          -0.3775397438927053,
          0.938997330940615,
          -0.02126296264146358
         ],
         "yaxis": "y"
        }
       ],
       "layout": {
        "height": 600,
        "legend": {
         "tracegroupgap": 0
        },
        "margin": {
         "t": 60
        },
        "plot_bgcolor": "rgb(240,240,240)",
        "template": {
         "data": {
          "bar": [
           {
            "error_x": {
             "color": "#2a3f5f"
            },
            "error_y": {
             "color": "#2a3f5f"
            },
            "marker": {
             "line": {
              "color": "#E5ECF6",
              "width": 0.5
             }
            },
            "type": "bar"
           }
          ],
          "barpolar": [
           {
            "marker": {
             "line": {
              "color": "#E5ECF6",
              "width": 0.5
             }
            },
            "type": "barpolar"
           }
          ],
          "carpet": [
           {
            "aaxis": {
             "endlinecolor": "#2a3f5f",
             "gridcolor": "white",
             "linecolor": "white",
             "minorgridcolor": "white",
             "startlinecolor": "#2a3f5f"
            },
            "baxis": {
             "endlinecolor": "#2a3f5f",
             "gridcolor": "white",
             "linecolor": "white",
             "minorgridcolor": "white",
             "startlinecolor": "#2a3f5f"
            },
            "type": "carpet"
           }
          ],
          "choropleth": [
           {
            "colorbar": {
             "outlinewidth": 0,
             "ticks": ""
            },
            "type": "choropleth"
           }
          ],
          "contour": [
           {
            "colorbar": {
             "outlinewidth": 0,
             "ticks": ""
            },
            "colorscale": [
             [
              0,
              "#0d0887"
             ],
             [
              0.1111111111111111,
              "#46039f"
             ],
             [
              0.2222222222222222,
              "#7201a8"
             ],
             [
              0.3333333333333333,
              "#9c179e"
             ],
             [
              0.4444444444444444,
              "#bd3786"
             ],
             [
              0.5555555555555556,
              "#d8576b"
             ],
             [
              0.6666666666666666,
              "#ed7953"
             ],
             [
              0.7777777777777778,
              "#fb9f3a"
             ],
             [
              0.8888888888888888,
              "#fdca26"
             ],
             [
              1,
              "#f0f921"
             ]
            ],
            "type": "contour"
           }
          ],
          "contourcarpet": [
           {
            "colorbar": {
             "outlinewidth": 0,
             "ticks": ""
            },
            "type": "contourcarpet"
           }
          ],
          "heatmap": [
           {
            "colorbar": {
             "outlinewidth": 0,
             "ticks": ""
            },
            "colorscale": [
             [
              0,
              "#0d0887"
             ],
             [
              0.1111111111111111,
              "#46039f"
             ],
             [
              0.2222222222222222,
              "#7201a8"
             ],
             [
              0.3333333333333333,
              "#9c179e"
             ],
             [
              0.4444444444444444,
              "#bd3786"
             ],
             [
              0.5555555555555556,
              "#d8576b"
             ],
             [
              0.6666666666666666,
              "#ed7953"
             ],
             [
              0.7777777777777778,
              "#fb9f3a"
             ],
             [
              0.8888888888888888,
              "#fdca26"
             ],
             [
              1,
              "#f0f921"
             ]
            ],
            "type": "heatmap"
           }
          ],
          "heatmapgl": [
           {
            "colorbar": {
             "outlinewidth": 0,
             "ticks": ""
            },
            "colorscale": [
             [
              0,
              "#0d0887"
             ],
             [
              0.1111111111111111,
              "#46039f"
             ],
             [
              0.2222222222222222,
              "#7201a8"
             ],
             [
              0.3333333333333333,
              "#9c179e"
             ],
             [
              0.4444444444444444,
              "#bd3786"
             ],
             [
              0.5555555555555556,
              "#d8576b"
             ],
             [
              0.6666666666666666,
              "#ed7953"
             ],
             [
              0.7777777777777778,
              "#fb9f3a"
             ],
             [
              0.8888888888888888,
              "#fdca26"
             ],
             [
              1,
              "#f0f921"
             ]
            ],
            "type": "heatmapgl"
           }
          ],
          "histogram": [
           {
            "marker": {
             "colorbar": {
              "outlinewidth": 0,
              "ticks": ""
             }
            },
            "type": "histogram"
           }
          ],
          "histogram2d": [
           {
            "colorbar": {
             "outlinewidth": 0,
             "ticks": ""
            },
            "colorscale": [
             [
              0,
              "#0d0887"
             ],
             [
              0.1111111111111111,
              "#46039f"
             ],
             [
              0.2222222222222222,
              "#7201a8"
             ],
             [
              0.3333333333333333,
              "#9c179e"
             ],
             [
              0.4444444444444444,
              "#bd3786"
             ],
             [
              0.5555555555555556,
              "#d8576b"
             ],
             [
              0.6666666666666666,
              "#ed7953"
             ],
             [
              0.7777777777777778,
              "#fb9f3a"
             ],
             [
              0.8888888888888888,
              "#fdca26"
             ],
             [
              1,
              "#f0f921"
             ]
            ],
            "type": "histogram2d"
           }
          ],
          "histogram2dcontour": [
           {
            "colorbar": {
             "outlinewidth": 0,
             "ticks": ""
            },
            "colorscale": [
             [
              0,
              "#0d0887"
             ],
             [
              0.1111111111111111,
              "#46039f"
             ],
             [
              0.2222222222222222,
              "#7201a8"
             ],
             [
              0.3333333333333333,
              "#9c179e"
             ],
             [
              0.4444444444444444,
              "#bd3786"
             ],
             [
              0.5555555555555556,
              "#d8576b"
             ],
             [
              0.6666666666666666,
              "#ed7953"
             ],
             [
              0.7777777777777778,
              "#fb9f3a"
             ],
             [
              0.8888888888888888,
              "#fdca26"
             ],
             [
              1,
              "#f0f921"
             ]
            ],
            "type": "histogram2dcontour"
           }
          ],
          "mesh3d": [
           {
            "colorbar": {
             "outlinewidth": 0,
             "ticks": ""
            },
            "type": "mesh3d"
           }
          ],
          "parcoords": [
           {
            "line": {
             "colorbar": {
              "outlinewidth": 0,
              "ticks": ""
             }
            },
            "type": "parcoords"
           }
          ],
          "pie": [
           {
            "automargin": true,
            "type": "pie"
           }
          ],
          "scatter": [
           {
            "marker": {
             "colorbar": {
              "outlinewidth": 0,
              "ticks": ""
             }
            },
            "type": "scatter"
           }
          ],
          "scatter3d": [
           {
            "line": {
             "colorbar": {
              "outlinewidth": 0,
              "ticks": ""
             }
            },
            "marker": {
             "colorbar": {
              "outlinewidth": 0,
              "ticks": ""
             }
            },
            "type": "scatter3d"
           }
          ],
          "scattercarpet": [
           {
            "marker": {
             "colorbar": {
              "outlinewidth": 0,
              "ticks": ""
             }
            },
            "type": "scattercarpet"
           }
          ],
          "scattergeo": [
           {
            "marker": {
             "colorbar": {
              "outlinewidth": 0,
              "ticks": ""
             }
            },
            "type": "scattergeo"
           }
          ],
          "scattergl": [
           {
            "marker": {
             "colorbar": {
              "outlinewidth": 0,
              "ticks": ""
             }
            },
            "type": "scattergl"
           }
          ],
          "scattermapbox": [
           {
            "marker": {
             "colorbar": {
              "outlinewidth": 0,
              "ticks": ""
             }
            },
            "type": "scattermapbox"
           }
          ],
          "scatterpolar": [
           {
            "marker": {
             "colorbar": {
              "outlinewidth": 0,
              "ticks": ""
             }
            },
            "type": "scatterpolar"
           }
          ],
          "scatterpolargl": [
           {
            "marker": {
             "colorbar": {
              "outlinewidth": 0,
              "ticks": ""
             }
            },
            "type": "scatterpolargl"
           }
          ],
          "scatterternary": [
           {
            "marker": {
             "colorbar": {
              "outlinewidth": 0,
              "ticks": ""
             }
            },
            "type": "scatterternary"
           }
          ],
          "surface": [
           {
            "colorbar": {
             "outlinewidth": 0,
             "ticks": ""
            },
            "colorscale": [
             [
              0,
              "#0d0887"
             ],
             [
              0.1111111111111111,
              "#46039f"
             ],
             [
              0.2222222222222222,
              "#7201a8"
             ],
             [
              0.3333333333333333,
              "#9c179e"
             ],
             [
              0.4444444444444444,
              "#bd3786"
             ],
             [
              0.5555555555555556,
              "#d8576b"
             ],
             [
              0.6666666666666666,
              "#ed7953"
             ],
             [
              0.7777777777777778,
              "#fb9f3a"
             ],
             [
              0.8888888888888888,
              "#fdca26"
             ],
             [
              1,
              "#f0f921"
             ]
            ],
            "type": "surface"
           }
          ],
          "table": [
           {
            "cells": {
             "fill": {
              "color": "#EBF0F8"
             },
             "line": {
              "color": "white"
             }
            },
            "header": {
             "fill": {
              "color": "#C8D4E3"
             },
             "line": {
              "color": "white"
             }
            },
            "type": "table"
           }
          ]
         },
         "layout": {
          "annotationdefaults": {
           "arrowcolor": "#2a3f5f",
           "arrowhead": 0,
           "arrowwidth": 1
          },
          "coloraxis": {
           "colorbar": {
            "outlinewidth": 0,
            "ticks": ""
           }
          },
          "colorscale": {
           "diverging": [
            [
             0,
             "#8e0152"
            ],
            [
             0.1,
             "#c51b7d"
            ],
            [
             0.2,
             "#de77ae"
            ],
            [
             0.3,
             "#f1b6da"
            ],
            [
             0.4,
             "#fde0ef"
            ],
            [
             0.5,
             "#f7f7f7"
            ],
            [
             0.6,
             "#e6f5d0"
            ],
            [
             0.7,
             "#b8e186"
            ],
            [
             0.8,
             "#7fbc41"
            ],
            [
             0.9,
             "#4d9221"
            ],
            [
             1,
             "#276419"
            ]
           ],
           "sequential": [
            [
             0,
             "#0d0887"
            ],
            [
             0.1111111111111111,
             "#46039f"
            ],
            [
             0.2222222222222222,
             "#7201a8"
            ],
            [
             0.3333333333333333,
             "#9c179e"
            ],
            [
             0.4444444444444444,
             "#bd3786"
            ],
            [
             0.5555555555555556,
             "#d8576b"
            ],
            [
             0.6666666666666666,
             "#ed7953"
            ],
            [
             0.7777777777777778,
             "#fb9f3a"
            ],
            [
             0.8888888888888888,
             "#fdca26"
            ],
            [
             1,
             "#f0f921"
            ]
           ],
           "sequentialminus": [
            [
             0,
             "#0d0887"
            ],
            [
             0.1111111111111111,
             "#46039f"
            ],
            [
             0.2222222222222222,
             "#7201a8"
            ],
            [
             0.3333333333333333,
             "#9c179e"
            ],
            [
             0.4444444444444444,
             "#bd3786"
            ],
            [
             0.5555555555555556,
             "#d8576b"
            ],
            [
             0.6666666666666666,
             "#ed7953"
            ],
            [
             0.7777777777777778,
             "#fb9f3a"
            ],
            [
             0.8888888888888888,
             "#fdca26"
            ],
            [
             1,
             "#f0f921"
            ]
           ]
          },
          "colorway": [
           "#636efa",
           "#EF553B",
           "#00cc96",
           "#ab63fa",
           "#FFA15A",
           "#19d3f3",
           "#FF6692",
           "#B6E880",
           "#FF97FF",
           "#FECB52"
          ],
          "font": {
           "color": "#2a3f5f"
          },
          "geo": {
           "bgcolor": "white",
           "lakecolor": "white",
           "landcolor": "#E5ECF6",
           "showlakes": true,
           "showland": true,
           "subunitcolor": "white"
          },
          "hoverlabel": {
           "align": "left"
          },
          "hovermode": "closest",
          "mapbox": {
           "style": "light"
          },
          "paper_bgcolor": "white",
          "plot_bgcolor": "#E5ECF6",
          "polar": {
           "angularaxis": {
            "gridcolor": "white",
            "linecolor": "white",
            "ticks": ""
           },
           "bgcolor": "#E5ECF6",
           "radialaxis": {
            "gridcolor": "white",
            "linecolor": "white",
            "ticks": ""
           }
          },
          "scene": {
           "xaxis": {
            "backgroundcolor": "#E5ECF6",
            "gridcolor": "white",
            "gridwidth": 2,
            "linecolor": "white",
            "showbackground": true,
            "ticks": "",
            "zerolinecolor": "white"
           },
           "yaxis": {
            "backgroundcolor": "#E5ECF6",
            "gridcolor": "white",
            "gridwidth": 2,
            "linecolor": "white",
            "showbackground": true,
            "ticks": "",
            "zerolinecolor": "white"
           },
           "zaxis": {
            "backgroundcolor": "#E5ECF6",
            "gridcolor": "white",
            "gridwidth": 2,
            "linecolor": "white",
            "showbackground": true,
            "ticks": "",
            "zerolinecolor": "white"
           }
          },
          "shapedefaults": {
           "line": {
            "color": "#2a3f5f"
           }
          },
          "ternary": {
           "aaxis": {
            "gridcolor": "white",
            "linecolor": "white",
            "ticks": ""
           },
           "baxis": {
            "gridcolor": "white",
            "linecolor": "white",
            "ticks": ""
           },
           "bgcolor": "#E5ECF6",
           "caxis": {
            "gridcolor": "white",
            "linecolor": "white",
            "ticks": ""
           }
          },
          "title": {
           "x": 0.05
          },
          "xaxis": {
           "automargin": true,
           "gridcolor": "white",
           "linecolor": "white",
           "ticks": "",
           "title": {
            "standoff": 15
           },
           "zerolinecolor": "white",
           "zerolinewidth": 2
          },
          "yaxis": {
           "automargin": true,
           "gridcolor": "white",
           "linecolor": "white",
           "ticks": "",
           "title": {
            "standoff": 15
           },
           "zerolinecolor": "white",
           "zerolinewidth": 2
          }
         }
        },
        "title": {
         "text": "2D Cluster PCA Plot"
        },
        "xaxis": {
         "anchor": "y",
         "domain": [
          0,
          1
         ],
         "title": {
          "text": "PCA1"
         }
        },
        "yaxis": {
         "anchor": "x",
         "domain": [
          0,
          1
         ],
         "title": {
          "text": "PCA2"
         }
        }
       }
      },
      "text/html": [
       "<div>\n",
       "        \n",
       "        \n",
       "            <div id=\"808408c0-b519-42aa-9957-930fee316d1e\" class=\"plotly-graph-div\" style=\"height:600px; width:100%;\"></div>\n",
       "            <script type=\"text/javascript\">\n",
       "                require([\"plotly\"], function(Plotly) {\n",
       "                    window.PLOTLYENV=window.PLOTLYENV || {};\n",
       "                    \n",
       "                if (document.getElementById(\"808408c0-b519-42aa-9957-930fee316d1e\")) {\n",
       "                    Plotly.newPlot(\n",
       "                        '808408c0-b519-42aa-9957-930fee316d1e',\n",
       "                        [{\"customdata\": [[\"Have You Ever Seen The Rain\"], [\"Break It Down Again\"], [\"Stay\"], [\"A Visita\"], [\"O Que \\u00c9 O Que \\u00c9?\"], [\"Loving Every Minute\"], [\"Nosso Pequeno Castelo\"], [\"Voce Abusou\"], [\"I Follow Rivers\"], [\"Relic\\u00e1rio\"], [\"Meu Lugar\"], [\"Tocando em Frente\"], [\"Como Nossos Pais\"], [\"Garota Nacional\"], [\"Big Time Sensuality\"], [\"Meu Erro\"], [\"Cara valente\"], [\"Sing\"], [\"O Mar Serenou\"], [\"What a Wonderful World\"], [\"She\"], [\"Don't Look Back in Anger - Remastered\"], [\"Evidence\"], [\"Easy\"], [\"Skyfall\"], [\"Live And Let Die - Remastered 1993\"], [\"The James Bond Theme (From \\\"Dr. No\\\")\"], [\"Another Way to Die\"], [\"Die Another Day\"], [\"You Know My Name - From \\\"Casino Royale\\\" Soundtrack\"], [\"Perfect\"], [\"Autumn Leaves\"], [\"Johnny B. Goode\"], [\"Get Up I Feel Like Being A Sex Machine - Pt. 1 / Single Version\"], [\"Minha Tribo Sou Eu\"], [\"Aquarela\"], [\"Pipes Of Peace - Remastered 2015\"], [\"O Trem das 7 (Ao Vivo)\"], [\"Acontecimentos\"], [\"Colo de Menina\"], [\"Space Cowboy\"], [\"Meu Guarda-Chuva\"], [\"Carolina\"]], \"hoverlabel\": {\"namelength\": 0}, \"hovertemplate\": \"Cluster=Cluster 0<br>PCA1=%{x}<br>PCA2=%{y}<br>Feature=%{customdata[0]}\", \"legendgroup\": \"Cluster=Cluster 0\", \"marker\": {\"color\": \"#636efa\", \"opacity\": 0.5, \"symbol\": \"circle\"}, \"mode\": \"markers\", \"name\": \"Cluster=Cluster 0\", \"showlegend\": true, \"textposition\": \"top center\", \"type\": \"scatter\", \"x\": [-1.6758120899507511, -0.9945146734038343, 0.17276587268216975, -0.4664982910863618, -0.8008274551763079, -0.37416341515804974, -0.4772086653044189, -1.5387959581111825, -1.832863771832169, -0.3365404633069075, -0.44895199652632917, -2.0130668000095593, -2.277989507010769, -1.0065615753780863, 0.10552012291141351, -1.3744398705612686, -0.9475013251499389, -0.7300833865059324, -0.475890474494478, -1.3584156707047756, -0.5871290497458918, -2.318680057074258, -0.4970606809606616, -0.8810110568303516, -1.6747463228322421, -1.3624377789812978, -0.33001555856636866, -1.6326973543622925, -0.692715073003495, -0.3010848258109857, -0.6214183533015841, -1.3196599695453666, -0.7492602424248902, -0.32279396935726595, -1.1955188213552574, -1.7719279289685512, -0.2507188685873377, -1.0199135137331239, -0.9622642914459212, -1.032601487122152, -1.473742217119139, -0.7762449551908794, -0.5833240176307831], \"xaxis\": \"x\", \"y\": [0.5185232116950772, 0.31698290814949986, 2.4431683269491375, 1.1089139715222553, 0.5879445177840681, 0.4807090898016724, 0.7078383767905003, 1.5677849616954136, 1.4967472638763857, 1.8346298898512274, 0.9833613118208627, 1.3603224309434618, 2.4945542203042828, 0.8940160543443109, 0.3522674521008723, 0.6966321897854091, 1.3447971650236545, 4.217552140197841, 1.9888320109900266, 0.3075400772679074, 1.4900909117342735, 1.679342311624658, 1.4702404360341685, -0.183491092989688, 0.7205488634914343, 1.534901003925654, 2.0547295642170584, 2.3354654516233064, 0.5742001258220015, 0.6684789470816248, 0.1388980868516848, 0.35265927442043954, 1.0752127013379715, 0.5706203118162316, 1.7567554269640548, 1.220284386171777, 0.9394004963264024, 1.8796626371856613, 1.2250558961608722, 0.7157952690064909, 2.2193073173203537, 2.6042428943030194, 0.6046520296488681], \"yaxis\": \"y\"}, {\"customdata\": [[\"Verdade\"], [\"Samba Lel\\u00ea\"], [\"A Banda\"], [\"Big Yellow Taxi\"], [\"All About That Bass - Live from Spotify London\"], [\"Rocket Man\"], [\"Fireball (feat. John Ryan)\"], [\"Non, je ne regrette rien - Remasteris\\u00e9 En 2015\"], [\"Respect\"], [\"Oh Chuva\"], [\"Get Down On It - Single Version\"], [\"The Thrill Is Gone\"], [\"One Of Us\"], [\"Love Of My Life - Live\"], [\"Bola De Meia, Bola De Gude\"], [\"O b\\u00eabado e a equilibrista\"], [\"Aqua de Beber\"], [\"Mais Que Nada (Remix)\"], [\"Under My Thumb\"], [\"What's Up?\"], [\"Flores em voc\\u00ea\"], [\"One Note Samba\"], [\"Heroes - 1999 Remaster\"], [\"Tudo No Lugar\"], [\"Funk Nu a Murit\"], [\"Vou Deixar\"], [\"Exagerado 3.0\"], [\"Bete Balan\\u00e7o\"], [\"O segundo sol\"], [\"Que Beleza\"], [\"Malemolencia\"], [\"Gostava Tanto de Voc\\u00ea - Ao Vivo\"], [\"Wish You Were Here\"], [\"S\\u00f3 Tinha De Ser Com Voce (Com Tom)\"], [\"S\\u00e3o Gon\\u00e7a\"], [\"Exagerado\"], [\"Flor de Lis\"], [\"Mais Que Nada\"], [\"Aquele Abra\\u00e7o\"], [\"16 Toneladas\"], [\"Let's Call the Whole Thing Off\"], [\"Dream a Little Dream of Me\"], [\"What a Wonderful World\"], [\"Maracatu At\\u00f4mico\"], [\"I'm Yours\"], [\"Human\"], [\"I Can't Dance\"], [\"Let Her Go\"], [\"Young Folks\"], [\"Dream A Little Dream Of Me - Album Version With Introduction\"], [\"The Last of the Famous International Playboys - 2010 Remaster\"], [\"Hey Ya! - Radio Mix / Club Mix\"], [\"Seven Nation Army\"], [\"Bring Me To Life\"], [\"Smooth (feat. Rob Thomas)\"], [\"Ch\\u00e3o de Giz\"], [\"Mist\\u00e9rios da Meia Noite\"], [\"These Boots Are Made For Walkin'\"], [\"Day Tripper\"], [\"Get the Party Started\"], [\"Wrecking Ball\"], [\"The Passenger\"], [\"Fly Me To The Moon - Remastered\"], [\"Back In Black\"], [\"You Shook Me All Night Long\"], [\"Highway to Hell\"], [\"Danny's Song\"], [\"Danny's Song\"], [\"Istanbul (Not Constantinople)\"], [\"Andar com f\\u00e9\"], [\"Vamos fugir\"], [\"Samba Da Bencao\"], [\"Bete balan\\u00e7o - Ao vivo\"], [\"Anuncia\\u00e7\\u00e3o\"], [\"La vie en rose - Single Version\"], [\"Dream A Little Dream Of Me\"], [\"Common People\"], [\"Girls and Boys\"], [\"Alright\"], [\"Hey Ya!\"], [\"Crazy\"], [\"Smiley Faces\"], [\"Fuck You\"], [\"Where Is The Love?\"], [\"A Little Party Never Killed Nobody (All We Got)\"], [\"Party Rock Anthem\"], [\"CAN'T STOP THE FEELING! (Original Song from DreamWorks Animation's \\\"TROLLS\\\")\"], [\"Try\"], [\"If I Ain't Got You\"], [\"Say Something\"], [\"Riders on the Storm\"], [\"Summertime\"], [\"Piece Of My Heart\"], [\"Baba O'Riley\"], [\"All Along the Watchtower\"], [\"Walk On the Wild Side\"]], \"hoverlabel\": {\"namelength\": 0}, \"hovertemplate\": \"Cluster=Cluster 1<br>PCA1=%{x}<br>PCA2=%{y}<br>Feature=%{customdata[0]}\", \"legendgroup\": \"Cluster=Cluster 1\", \"marker\": {\"color\": \"#EF553B\", \"opacity\": 0.5, \"symbol\": \"circle\"}, \"mode\": \"markers\", \"name\": \"Cluster=Cluster 1\", \"showlegend\": true, \"textposition\": \"top center\", \"type\": \"scatter\", \"x\": [-0.4481341730559253, 0.7245492061904392, 0.5148459440554448, -0.29497082581543044, -0.8908334597032419, 0.4314034296922881, -0.018864358150687814, -0.5738179402695612, 0.40691801814419265, -0.02315140988644542, 0.7598811348045569, -0.7266733082852835, 0.08523665506443037, 0.09071758634802245, 1.025455128782711, 0.6691608464619018, 0.7572166116818111, -0.5119735161799246, 0.9718374149369371, -0.06771556212437443, -0.2379188850513497, 0.6526693770294211, 0.7240113204930523, 0.49798275481376153, -0.00839199147047168, 0.363957850570944, -0.09254817027473652, 1.0098430098817426, -0.039047251002207566, -0.044394007413994484, -0.5880650864621919, 0.36993332146949687, -0.28796850096695165, -0.26880863963510804, -0.9081325900700132, 0.3761172302026382, 0.15460217620895494, 0.6529379823055522, -0.19173332661688144, 0.09783432954381949, 0.6215169829194246, 0.3637889426995323, -0.2433460353691116, -0.30859240674511434, 0.530550812592469, 0.7904037955715094, -0.21351265256428134, -0.15738221054462778, 0.3137962934809862, 0.22273137495390932, 0.6856942307056381, 0.8418708990410478, 1.3648552530413873, 0.618517768279053, 0.2270029269146771, 0.21426137814206306, -0.26240564413013356, 0.2825416772959745, -0.42111221321862813, 0.839766773636723, -0.6287072074244291, -0.26579034227564713, 0.1216098374290788, 0.44034895278742603, -0.3207681299758204, 0.6096337819757822, 0.80640982076493, 0.9464529927800429, -0.27648182689552536, -0.3582461051165209, 1.2743004697759777, -0.36036615857294785, 0.27890066628260685, -0.6969103899407496, 0.7883352902051617, 0.752388622009782, 0.6881934476264415, 0.24719650014013705, -0.18528039159404713, -0.6123546510196219, -0.5573318180567105, 1.0549569272538357, -0.717950113321921, -0.5902818544483919, 0.2203838188059489, 0.5875347715736172, 0.18542971992657897, 0.5032028609051231, 0.11103290957316946, -0.7225610386525478, -0.1322047649388974, -0.5870535360108444, -0.07410253641262032, 0.6626780660299983, -0.6734072821031247, -0.23734150158711648], \"xaxis\": \"x\", \"y\": [-1.1073462511072278, -0.18250671393365353, -1.140098566819645, -0.5700136857218909, -1.6876246861250555, -1.0781920448212692, -0.9343614884450699, -0.3563273146805879, -1.2914022250788837, -0.5649291514260849, -0.6888871107931885, -0.5319270065394149, -1.8833060224007117, -0.5254916752469734, -0.5173550423671268, -1.589856251392551, -0.9974192838107331, -0.5443740676986236, -1.7301736868782622, -0.1543357303152547, -1.0562129011794636, -1.1849580929760446, 0.11577116240958268, 0.1659428177563072, -1.634055370128558, -1.247302090560162, -0.08251102919522947, -0.9470998389040607, -1.0089317266985331, -1.0778322402791418, -1.0928193731975517, -1.3169428943504071, -0.6999515940171281, -0.2259578643264495, -1.753103227231098, -0.8979763051197269, -1.2939166404081526, -0.24514499402419923, -0.002928640337314003, -0.1224545720199254, -0.7226884124281628, -1.6558714039955127, -0.8158982279322892, -1.9305188388516912, -0.8795774661116929, -0.9783518070457065, -0.36494464482207184, -0.9412536111936206, -0.5119042325274499, -0.6570415184147752, -0.457876018132435, -1.1754226735386908, -1.023612285125918, -0.30815656683896203, -1.1201903198429617, -0.3666315266356271, -1.3828228173591577, -0.4195655552812706, -1.3712549223858908, -0.5121027336077957, -0.8967969611177445, -0.6079306679280629, -0.04442416118750169, -1.557657024822528, -0.8929056492045272, -1.4858646159341462, -0.6193919934142676, -0.8874943115869061, -1.2083957627189905, -0.5500708960077698, -0.8729739985192151, -0.7503098419375652, -0.6401466624992986, -0.5248272246786126, -0.5677380877950481, -0.36452813972587605, -1.0895847628250481, -0.49733485547688755, -0.6890644274627125, -0.03615158493265968, -0.30242026639530184, -0.748763068371943, -0.9729296533661971, -1.5383882333204852, -0.8704678266326248, -0.8177326564863318, -0.9271120708871025, 0.044920172908581316, -1.8099934371123612, -1.6366860773162115, -0.08454537268489284, -1.3698908041064592, -1.1791879024493441, -0.9464358418693558, -1.1497849114203258, -0.05326977380050994], \"yaxis\": \"y\"}, {\"customdata\": [[\"Wish You Were Here\"], [\"Another Brick in the Wall, Pt. 2\"], [\"Smoke On The Water - Remastered 2012\"], [\"Paranoid\"], [\"\\u00c1guas De Mar\\u00e7o\"], [\"Good People\"], [\"Got My Mind Set On You - 2004 Mix\"], [\"Love On The Brain\"], [\"I Love Rock 'n' Roll\"], [\"Kung Fu Fighting (Single Version)\"], [\"Lay, Lady, Lay\"], [\"Superstition - Single Version\"], [\"Signed, Sealed, Delivered (I'm Yours)\"], [\"Coffee and TV\"], [\"Hey Boy Hey Girl\"], [\"Go\"], [\"Block Rockin' Beats\"], [\"Sunshine Reggae - 2008 Remaster\"], [\"Dona Cila\"], [\"Layla - Acoustic; Live at MTV Unplugged, Bray Film Studios, Windsor, England, UK, 1/16/1992; 2013 Remaster\"], [\"Beds Are Burning - Remastered\"], [\"House of Fun - 2000 Remastered Version\"], [\"Addicted To Love\"], [\"Moving On Up\"], [\"C\\u00e9rebro Eletr\\u00f4nico\"], [\"S\\u00f3 Tinha De Ser Com Voc\\u00ea\"], [\"The Joker\"], [\"Friction\"], [\"You Had Me\"], [\"Love Today\"], [\"Happy Ending/Over My Shoulder\"], [\"The River of Dreams\"], [\"Down On The Corner\"], [\"Kiss from a Rose\"], [\"Crazy\"], [\"Telegrama\"], [\"Amor e Sexo\"], [\"Metamorfose Ambulante\"], [\"Codinome Beija-Flor\"], [\"Cotidiano\"], [\"Relic\\u00e1rio - Ao Vivo\"], [\"Chega de Saudade\"], [\"Tropicana (Morena Tropicana)\"], [\"N\\u00e3o Me Deixe S\\u00f3\"], [\"Boa Sorte / Good Luck\"], [\"Segue o Som\"], [\"Samba de uma nota s\\u00f3\"], [\"Ai, Ai, Ai...\"], [\"La Belle De Jour\"], [\"T\\u00e1 perdoado\"], [\"O Segundo Sol - Acoustic\"], [\"Vamos Fugir\"]], \"hoverlabel\": {\"namelength\": 0}, \"hovertemplate\": \"Cluster=Cluster 2<br>PCA1=%{x}<br>PCA2=%{y}<br>Feature=%{customdata[0]}\", \"legendgroup\": \"Cluster=Cluster 2\", \"marker\": {\"color\": \"#00cc96\", \"opacity\": 0.5, \"symbol\": \"circle\"}, \"mode\": \"markers\", \"name\": \"Cluster=Cluster 2\", \"showlegend\": true, \"textposition\": \"top center\", \"type\": \"scatter\", \"x\": [0.19336005181347873, 0.056477842138594074, -0.38314303092177027, -0.2689368584689045, 0.09144049940113295, -0.45911654950516995, 0.5311392370325173, 0.08487161047357528, 0.717743297606404, 0.3917074334865816, 0.016954116251874977, 0.35887899487687475, 0.12892394753723563, 1.0561818474389988, 0.28803300140880406, 0.4063610724810289, 0.9646012795297525, -0.4832519582781342, 0.19109185058427663, 0.11279943461351838, 0.4690691744408055, 0.24237262302307783, 0.7316080090471767, 0.3112726126517165, 1.7833473299427727, 0.4366662641847708, 1.2990293621261837, 0.347518472909342, 0.5338227925470088, 0.9508301538370967, 0.44540804231096376, -0.1676166045434586, 1.1513859514739877, -0.688498801445733, 1.3062884511371993, 0.6334240635457254, -0.591126771827395, -0.22762573264308522, 2.1226380656438772, 0.32148104588492316, -0.4433218745017724, 1.0881840195942136, -0.38811587292942784, 1.1232726340851922, 0.22095425103940008, 0.06932889866929212, 0.8854663763522704, 0.3895359050161211, 0.2767888402283949, 0.1869132952122935, 0.05525960950603818, 0.9393294022672408], \"xaxis\": \"x\", \"y\": [0.4007384852915611, 0.7904072053034022, 0.7122711291901143, 1.9072956209678884, 2.5114975771992203, 0.9925330282392598, -0.13860227656927565, -0.06725501314514779, 0.5863948240203243, 1.9031124014650356, 1.4001071264497442, 0.07554361553413312, 1.4947021016606883, -0.46795675525941743, 1.1641532611650005, 0.34020690402002535, 1.524760530280282, 1.1021023919513593, 0.30294874067325084, 0.2930754934629321, 1.4566779370496623, 1.0943858647012308, 0.9400811319841244, 0.6801120966523849, 2.438458639523471, -0.43131349053427703, -0.49622142152901033, 0.9074921596412691, 1.1789591471928886, 1.7362338643290582, 2.19510797591365, 0.4497104144963289, 1.6384805483876668, 0.9111685638608014, 0.656828218072955, 1.0334294327887614, 2.2818171048409526, 1.8262069123178497, 2.399812135538978, 2.545024347658516, 0.6061711703213437, 0.5701224035054253, 0.9382771736440869, 1.23274904354582, 0.17607670248388324, 1.912313390711405, 0.529765216147005, -0.10351119126477604, 1.7007603942896081, 0.5674392423842634, 0.33064747731231414, -0.6994630036720528], \"yaxis\": \"y\"}, {\"customdata\": [[\"Greenback Boogie (Theme from \\\"Suits\\\")\"], [\"Safety Dance\"], [\"Da Ya Think I'm Sexy\"], [\"Pela Luz dos Olhos Teus - Bonus Track\"], [\"Because the Night - MTV Unplugged Version\"], [\"Under Pressure - Remastered\"], [\"Three Little Birds\"], [\"Every Breath You Take\"], [\"Johnny B Goode - 2002 Remaster\"], [\"Livin' On A Prayer\"], [\"You Give Love A Bad Name\"], [\"Wanted Dead Or Alive\"], [\"The Way You Look Tonight\"], [\"Carta Ao Tom 74\"], [\"Galvanize\"], [\"Viva La Vida\"], [\"Flames\"], [\"Lose Yourself - From \\\"8 Mile\\\" Soundtrack\"], [\"The Sweet Escape\"], [\"Toxic\"], [\"Feel It Still\"], [\"Pretend We're Dead\"], [\"Shitlist\"], [\"Black Velvet\"], [\"That's All - 2007 Remaster\"], [\"\\u00d3culos\"], [\"Envelhe\\u00e7o na cidade\"], [\"Pobre paulista\"], [\"Mantenha o Respeito\"], [\"Chained To The Rhythm\"], [\"Dark Horse\"], [\"I Kissed A Girl\"], [\"All The Small Things\"], [\"Ho Hey\"], [\"Halo\"], [\"Counting Stars\"], [\"Happy Together\"], [\"Human\"], [\"Better Together\"], [\"Wherever You Will Go\"], [\"We Didn't Start the Fire\"], [\"Teardrop\"], [\"Smiled At Me (Sorriu Para Mim)\"], [\"Corcovado\"], [\"Cum on Feel the Noize\"], [\"One Way Or Another\"], [\"Fast Car\"], [\"One\"], [\"Shiny Happy People\"], [\"A Casa \\u00e9 Sua\"], [\"With Or Without You - Remastered\"], [\"Beija Eu\"], [\"Rolling In The Deep\"], [\"Set Fire to the Rain\"], [\"Firework\"], [\"Roar\"], [\"Wake Me Up - Radio Edit\"], [\"Hello\"], [\"Under Pressure - Remastered\"], [\"A Message to You Rudy\"], [\"Stressed Out\"], [\"Heathens\"], [\"Ride\"], [\"Here Comes The Sun - Remastered 2009\"], [\"Do Lado de C\\u00e1\"], [\"Juste un inconnu\"], [\"The Ballad Of John And Yoko - Remastered 2009\"]], \"hoverlabel\": {\"namelength\": 0}, \"hovertemplate\": \"Cluster=Cluster 3<br>PCA1=%{x}<br>PCA2=%{y}<br>Feature=%{customdata[0]}\", \"legendgroup\": \"Cluster=Cluster 3\", \"marker\": {\"color\": \"#ab63fa\", \"opacity\": 0.5, \"symbol\": \"circle\"}, \"mode\": \"markers\", \"name\": \"Cluster=Cluster 3\", \"showlegend\": true, \"textposition\": \"top center\", \"type\": \"scatter\", \"x\": [-1.9045222609458, -1.0153318303415313, -0.5804564440131598, -1.5081984164690243, -1.3049242258711322, -1.2572778641002975, -0.6682112317929306, -1.5317321531938946, -1.7671501470536226, -1.7814415381212196, -1.0806862712286394, -1.8722572682511898, -1.2540050596083225, -0.8764189664594862, -1.7289426973988096, -1.1830979693561805, -0.47537455631645886, -1.4376453485665084, -0.7091061292941575, -0.3105759344937647, -1.4433488652689408, -1.209283836900468, -0.9944039166280328, -1.2783538804381367, -0.5640576544992135, -0.7890428182641296, 0.25708441936289866, -2.0070851262284695, -0.7949221669901003, -0.7267741848484124, -1.8130381976964876, -1.2774416080242912, -1.0072037868261001, -1.164104607454615, -1.393059065992907, -0.6982237872303618, -1.1766881975868397, -0.12325850793329132, -0.3852843078792704, -0.39358960318062536, -0.5799067496862509, -1.1951299267638988, -0.4126519374871717, -1.2121953377366657, -1.2424803864052332, -1.5560705615589099, -1.5298634645137739, -1.5926296138818867, -0.4661558143059262, -1.0096874288724573, -1.1418660507878677, -1.2552406423430325, -0.9043797319948585, -1.12126422128705, -1.4096528021111039, -1.0417874782781498, -1.4461208641446412, -1.0205701997464898, -0.700846660955692, -0.8310251199319204, -0.5830675252165708, -1.591718162604593, -0.3623871357538109, -1.267222029368368, -1.0554543464943824, -1.3591676396655195, -1.1219754690373311], \"xaxis\": \"x\", \"y\": [-0.748113743052627, 0.01330562165069707, -1.9989612256614593, 0.7018196647165212, -0.5227345204836871, -0.45061425007710476, 0.5128285940238115, -1.4511548506665113, 0.25639236872969523, -0.21043083464752316, -0.24355877000928333, 0.2613382087927948, -0.39774018648982495, -0.3715273869380884, 0.20590731257052375, -0.3648268467151386, -0.8781816285191797, -0.4105738774481533, -0.3157466437836553, -0.7100981652494073, -1.2419308884469387, -1.0010270247935176, -1.017246953737627, -0.825829485965911, 0.1693150441743719, 0.611253521820229, -0.8319911505590223, 0.2430484435668143, -0.9417432437897764, -0.09025941418630526, -1.0673717769540543, -0.3887138443474981, -0.9983417048569497, 0.02278091504539147, -1.8749667666577108, -0.16426743692209267, -0.03047502139712645, -0.6862304049401159, -0.9150617280059102, -0.45851710413531455, -1.0930662086222214, -0.529058536763556, -0.34019462196090366, -1.3095581745878129, 0.4185317687699739, -0.058239103766007494, 0.09915258893141743, -0.490228306770361, 0.37857286369747417, -0.5816952695016409, -0.017276152893573593, -0.593056531293822, -0.8062012970925311, 0.28328511085877406, -0.8583153136360496, -0.40124192936959885, -0.3297653278670837, 0.608467884472855, -0.28419085746829964, -0.23124421698392417, -0.2726712603317164, -0.1877768835724518, -1.6843623231899931, -0.34978730406110414, -0.44895371554997837, -0.42079611814967754, -0.6464652167211882], \"yaxis\": \"y\"}, {\"customdata\": [[\"Cocaine\"], [\"Layla - 40th Anniversary Version / 2010 Remastered\"], [\"Paint It, Black - Mono\"], [\"Nothing Else Matters\"], [\"Comfortably Numb\"], [\"Blaze Of Glory - From \\\"Young Guns II\\\" Soundtrack\"], [\"Miracle\"], [\"Daughter (Remastered)\"], [\"Kiss from a Rose - Acoustic\"], [\"Zombie - Acoustic Version\"], [\"Black\"], [\"Crazy Mary (Remastered)\"], [\"Iris\"], [\"Alanis\\u2019 Interlude\"], [\"Blue Sky Mine - 2011 Remaster\"], [\"Whole Wide World\"], [\"The Box, Pt. 1\"], [\"The Box - Part 2\"], [\"This Is What It Feels Like\"], [\"Here Tonight\"], [\"Faded - Dash Berlin Remix\"], [\"Shine Ibiza Anthem 2019\"], [\"Fico Assim Sem Voc\\u00ea\"], [\"Ai, Ai, Ai...\"], [\"O Calibre\"], [\"Somewhere Only We Know\"], [\"Realla\"], [\"Rose's Thorn\"], [\"Wen Uuu\"], [\"Tainted Love\"], [\"18 and Life\"], [\"We're Not Gonna Take It\"], [\"Keep Yourself Alive - Live At The Rainbow\"], [\"Bohemian Rhapsody - 2011 Mix\"], [\"Radio Ga Ga - Live Aid\"], [\"The Show Must Go On - 2011 Mix\"], [\"Don't Stop Me Now - ...Revisited\"], [\"The Sea\"], [\"We No Speak Americano (JT Radio Edit)\"], [\"Uprising\"], [\"Paint It, Black\"]], \"hoverlabel\": {\"namelength\": 0}, \"hovertemplate\": \"Cluster=Cluster 4<br>PCA1=%{x}<br>PCA2=%{y}<br>Feature=%{customdata[0]}\", \"legendgroup\": \"Cluster=Cluster 4\", \"marker\": {\"color\": \"#FFA15A\", \"opacity\": 0.5, \"symbol\": \"circle\"}, \"mode\": \"markers\", \"name\": \"Cluster=Cluster 4\", \"showlegend\": true, \"textposition\": \"top center\", \"type\": \"scatter\", \"x\": [1.3238854850227717, 2.020264971537869, 1.7342759928806457, 2.6921664101740275, 1.7393204468484103, 2.2757112474624663, 1.5247069237673434, 2.2352955924498543, 1.7662980467182792, 2.7679248241001337, 1.2467874384207385, 2.2367519589526323, 3.5912188521147024, 2.2733049494132245, 2.4089938963583526, 1.0624398882226018, 1.4499537327663659, 1.6567880693383819, 2.09200474499673, 2.8318111701945368, 1.879620543040447, 2.469753371318917, 1.0956474278192312, 1.788134942875127, 1.7982975706962157, 1.943969843299591, 1.942131371049464, 2.2573920491643773, 1.191648990377699, 1.8027111259589808, 1.838065427262681, 2.0605087268518694, 2.0970509721922768, 3.0713783679696025, 1.193703484251029, 1.1045186842159933, 1.8488879400682043, 2.3707667719384844, 1.187419427129709, 2.1744365266207226, 1.8850377077695628], \"xaxis\": \"x\", \"y\": [-0.21219331454384427, -0.45206190919374056, -0.5768001590759811, 0.199874470765282, -0.637213570695287, 1.1039344901475887, -0.06366352385960143, -0.682625148035953, 0.19523519657704647, 0.08909568044397673, -0.20139937940325972, 0.07331776519829944, 0.09635996630523981, 1.67423739822925, 0.8970913240843671, 0.2932680511325714, -0.2089270771353516, 0.45817647337955675, -0.029104557772772467, 0.005070180627081587, -0.23481163372459918, 1.0481704472417244, 0.1776423040216734, 0.31671494938987005, 0.7112154969733911, -0.19713572811521757, -0.05522946134214929, 1.1987862015816164, -0.3293378225049745, 0.5938891653437373, -0.5948488761109453, -0.343552965081692, 0.49640175564052835, 0.9755558876521794, -0.3357046664616821, -0.07913306260926428, -0.3527752385530229, 0.24293944322679673, -0.3775397438927053, 0.938997330940615, -0.02126296264146358], \"yaxis\": \"y\"}],\n",
       "                        {\"height\": 600, \"legend\": {\"tracegroupgap\": 0}, \"margin\": {\"t\": 60}, \"plot_bgcolor\": \"rgb(240,240,240)\", \"template\": {\"data\": {\"bar\": [{\"error_x\": {\"color\": \"#2a3f5f\"}, \"error_y\": {\"color\": \"#2a3f5f\"}, \"marker\": {\"line\": {\"color\": \"#E5ECF6\", \"width\": 0.5}}, \"type\": \"bar\"}], \"barpolar\": [{\"marker\": {\"line\": {\"color\": \"#E5ECF6\", \"width\": 0.5}}, \"type\": \"barpolar\"}], \"carpet\": [{\"aaxis\": {\"endlinecolor\": \"#2a3f5f\", \"gridcolor\": \"white\", \"linecolor\": \"white\", \"minorgridcolor\": \"white\", \"startlinecolor\": \"#2a3f5f\"}, \"baxis\": {\"endlinecolor\": \"#2a3f5f\", \"gridcolor\": \"white\", \"linecolor\": \"white\", \"minorgridcolor\": \"white\", \"startlinecolor\": \"#2a3f5f\"}, \"type\": \"carpet\"}], \"choropleth\": [{\"colorbar\": {\"outlinewidth\": 0, \"ticks\": \"\"}, \"type\": \"choropleth\"}], \"contour\": [{\"colorbar\": {\"outlinewidth\": 0, \"ticks\": \"\"}, \"colorscale\": [[0.0, \"#0d0887\"], [0.1111111111111111, \"#46039f\"], [0.2222222222222222, \"#7201a8\"], [0.3333333333333333, \"#9c179e\"], [0.4444444444444444, \"#bd3786\"], [0.5555555555555556, \"#d8576b\"], [0.6666666666666666, \"#ed7953\"], [0.7777777777777778, \"#fb9f3a\"], [0.8888888888888888, \"#fdca26\"], [1.0, \"#f0f921\"]], \"type\": \"contour\"}], \"contourcarpet\": [{\"colorbar\": {\"outlinewidth\": 0, \"ticks\": \"\"}, \"type\": \"contourcarpet\"}], \"heatmap\": [{\"colorbar\": {\"outlinewidth\": 0, \"ticks\": \"\"}, \"colorscale\": [[0.0, \"#0d0887\"], [0.1111111111111111, \"#46039f\"], [0.2222222222222222, \"#7201a8\"], [0.3333333333333333, \"#9c179e\"], [0.4444444444444444, \"#bd3786\"], [0.5555555555555556, \"#d8576b\"], [0.6666666666666666, \"#ed7953\"], [0.7777777777777778, \"#fb9f3a\"], [0.8888888888888888, \"#fdca26\"], [1.0, \"#f0f921\"]], \"type\": \"heatmap\"}], \"heatmapgl\": [{\"colorbar\": {\"outlinewidth\": 0, \"ticks\": \"\"}, \"colorscale\": [[0.0, \"#0d0887\"], [0.1111111111111111, \"#46039f\"], [0.2222222222222222, \"#7201a8\"], [0.3333333333333333, \"#9c179e\"], [0.4444444444444444, \"#bd3786\"], [0.5555555555555556, \"#d8576b\"], [0.6666666666666666, \"#ed7953\"], [0.7777777777777778, \"#fb9f3a\"], [0.8888888888888888, \"#fdca26\"], [1.0, \"#f0f921\"]], \"type\": \"heatmapgl\"}], \"histogram\": [{\"marker\": {\"colorbar\": {\"outlinewidth\": 0, \"ticks\": \"\"}}, \"type\": \"histogram\"}], \"histogram2d\": [{\"colorbar\": {\"outlinewidth\": 0, \"ticks\": \"\"}, \"colorscale\": [[0.0, \"#0d0887\"], [0.1111111111111111, \"#46039f\"], [0.2222222222222222, \"#7201a8\"], [0.3333333333333333, \"#9c179e\"], [0.4444444444444444, \"#bd3786\"], [0.5555555555555556, \"#d8576b\"], [0.6666666666666666, \"#ed7953\"], [0.7777777777777778, \"#fb9f3a\"], [0.8888888888888888, \"#fdca26\"], [1.0, \"#f0f921\"]], \"type\": \"histogram2d\"}], \"histogram2dcontour\": [{\"colorbar\": {\"outlinewidth\": 0, \"ticks\": \"\"}, \"colorscale\": [[0.0, \"#0d0887\"], [0.1111111111111111, \"#46039f\"], [0.2222222222222222, \"#7201a8\"], [0.3333333333333333, \"#9c179e\"], [0.4444444444444444, \"#bd3786\"], [0.5555555555555556, \"#d8576b\"], [0.6666666666666666, \"#ed7953\"], [0.7777777777777778, \"#fb9f3a\"], [0.8888888888888888, \"#fdca26\"], [1.0, \"#f0f921\"]], \"type\": \"histogram2dcontour\"}], \"mesh3d\": [{\"colorbar\": {\"outlinewidth\": 0, \"ticks\": \"\"}, \"type\": \"mesh3d\"}], \"parcoords\": [{\"line\": {\"colorbar\": {\"outlinewidth\": 0, \"ticks\": \"\"}}, \"type\": \"parcoords\"}], \"pie\": [{\"automargin\": true, \"type\": \"pie\"}], \"scatter\": [{\"marker\": {\"colorbar\": {\"outlinewidth\": 0, \"ticks\": \"\"}}, \"type\": \"scatter\"}], \"scatter3d\": [{\"line\": {\"colorbar\": {\"outlinewidth\": 0, \"ticks\": \"\"}}, \"marker\": {\"colorbar\": {\"outlinewidth\": 0, \"ticks\": \"\"}}, \"type\": \"scatter3d\"}], \"scattercarpet\": [{\"marker\": {\"colorbar\": {\"outlinewidth\": 0, \"ticks\": \"\"}}, \"type\": \"scattercarpet\"}], \"scattergeo\": [{\"marker\": {\"colorbar\": {\"outlinewidth\": 0, \"ticks\": \"\"}}, \"type\": \"scattergeo\"}], \"scattergl\": [{\"marker\": {\"colorbar\": {\"outlinewidth\": 0, \"ticks\": \"\"}}, \"type\": \"scattergl\"}], \"scattermapbox\": [{\"marker\": {\"colorbar\": {\"outlinewidth\": 0, \"ticks\": \"\"}}, \"type\": \"scattermapbox\"}], \"scatterpolar\": [{\"marker\": {\"colorbar\": {\"outlinewidth\": 0, \"ticks\": \"\"}}, \"type\": \"scatterpolar\"}], \"scatterpolargl\": [{\"marker\": {\"colorbar\": {\"outlinewidth\": 0, \"ticks\": \"\"}}, \"type\": \"scatterpolargl\"}], \"scatterternary\": [{\"marker\": {\"colorbar\": {\"outlinewidth\": 0, \"ticks\": \"\"}}, \"type\": \"scatterternary\"}], \"surface\": [{\"colorbar\": {\"outlinewidth\": 0, \"ticks\": \"\"}, \"colorscale\": [[0.0, \"#0d0887\"], [0.1111111111111111, \"#46039f\"], [0.2222222222222222, \"#7201a8\"], [0.3333333333333333, \"#9c179e\"], [0.4444444444444444, \"#bd3786\"], [0.5555555555555556, \"#d8576b\"], [0.6666666666666666, \"#ed7953\"], [0.7777777777777778, \"#fb9f3a\"], [0.8888888888888888, \"#fdca26\"], [1.0, \"#f0f921\"]], \"type\": \"surface\"}], \"table\": [{\"cells\": {\"fill\": {\"color\": \"#EBF0F8\"}, \"line\": {\"color\": \"white\"}}, \"header\": {\"fill\": {\"color\": \"#C8D4E3\"}, \"line\": {\"color\": \"white\"}}, \"type\": \"table\"}]}, \"layout\": {\"annotationdefaults\": {\"arrowcolor\": \"#2a3f5f\", \"arrowhead\": 0, \"arrowwidth\": 1}, \"coloraxis\": {\"colorbar\": {\"outlinewidth\": 0, \"ticks\": \"\"}}, \"colorscale\": {\"diverging\": [[0, \"#8e0152\"], [0.1, \"#c51b7d\"], [0.2, \"#de77ae\"], [0.3, \"#f1b6da\"], [0.4, \"#fde0ef\"], [0.5, \"#f7f7f7\"], [0.6, \"#e6f5d0\"], [0.7, \"#b8e186\"], [0.8, \"#7fbc41\"], [0.9, \"#4d9221\"], [1, \"#276419\"]], \"sequential\": [[0.0, \"#0d0887\"], [0.1111111111111111, \"#46039f\"], [0.2222222222222222, \"#7201a8\"], [0.3333333333333333, \"#9c179e\"], [0.4444444444444444, \"#bd3786\"], [0.5555555555555556, \"#d8576b\"], [0.6666666666666666, \"#ed7953\"], [0.7777777777777778, \"#fb9f3a\"], [0.8888888888888888, \"#fdca26\"], [1.0, \"#f0f921\"]], \"sequentialminus\": [[0.0, \"#0d0887\"], [0.1111111111111111, \"#46039f\"], [0.2222222222222222, \"#7201a8\"], [0.3333333333333333, \"#9c179e\"], [0.4444444444444444, \"#bd3786\"], [0.5555555555555556, \"#d8576b\"], [0.6666666666666666, \"#ed7953\"], [0.7777777777777778, \"#fb9f3a\"], [0.8888888888888888, \"#fdca26\"], [1.0, \"#f0f921\"]]}, \"colorway\": [\"#636efa\", \"#EF553B\", \"#00cc96\", \"#ab63fa\", \"#FFA15A\", \"#19d3f3\", \"#FF6692\", \"#B6E880\", \"#FF97FF\", \"#FECB52\"], \"font\": {\"color\": \"#2a3f5f\"}, \"geo\": {\"bgcolor\": \"white\", \"lakecolor\": \"white\", \"landcolor\": \"#E5ECF6\", \"showlakes\": true, \"showland\": true, \"subunitcolor\": \"white\"}, \"hoverlabel\": {\"align\": \"left\"}, \"hovermode\": \"closest\", \"mapbox\": {\"style\": \"light\"}, \"paper_bgcolor\": \"white\", \"plot_bgcolor\": \"#E5ECF6\", \"polar\": {\"angularaxis\": {\"gridcolor\": \"white\", \"linecolor\": \"white\", \"ticks\": \"\"}, \"bgcolor\": \"#E5ECF6\", \"radialaxis\": {\"gridcolor\": \"white\", \"linecolor\": \"white\", \"ticks\": \"\"}}, \"scene\": {\"xaxis\": {\"backgroundcolor\": \"#E5ECF6\", \"gridcolor\": \"white\", \"gridwidth\": 2, \"linecolor\": \"white\", \"showbackground\": true, \"ticks\": \"\", \"zerolinecolor\": \"white\"}, \"yaxis\": {\"backgroundcolor\": \"#E5ECF6\", \"gridcolor\": \"white\", \"gridwidth\": 2, \"linecolor\": \"white\", \"showbackground\": true, \"ticks\": \"\", \"zerolinecolor\": \"white\"}, \"zaxis\": {\"backgroundcolor\": \"#E5ECF6\", \"gridcolor\": \"white\", \"gridwidth\": 2, \"linecolor\": \"white\", \"showbackground\": true, \"ticks\": \"\", \"zerolinecolor\": \"white\"}}, \"shapedefaults\": {\"line\": {\"color\": \"#2a3f5f\"}}, \"ternary\": {\"aaxis\": {\"gridcolor\": \"white\", \"linecolor\": \"white\", \"ticks\": \"\"}, \"baxis\": {\"gridcolor\": \"white\", \"linecolor\": \"white\", \"ticks\": \"\"}, \"bgcolor\": \"#E5ECF6\", \"caxis\": {\"gridcolor\": \"white\", \"linecolor\": \"white\", \"ticks\": \"\"}}, \"title\": {\"x\": 0.05}, \"xaxis\": {\"automargin\": true, \"gridcolor\": \"white\", \"linecolor\": \"white\", \"ticks\": \"\", \"title\": {\"standoff\": 15}, \"zerolinecolor\": \"white\", \"zerolinewidth\": 2}, \"yaxis\": {\"automargin\": true, \"gridcolor\": \"white\", \"linecolor\": \"white\", \"ticks\": \"\", \"title\": {\"standoff\": 15}, \"zerolinecolor\": \"white\", \"zerolinewidth\": 2}}}, \"title\": {\"text\": \"2D Cluster PCA Plot\"}, \"xaxis\": {\"anchor\": \"y\", \"domain\": [0.0, 1.0], \"title\": {\"text\": \"PCA1\"}}, \"yaxis\": {\"anchor\": \"x\", \"domain\": [0.0, 1.0], \"title\": {\"text\": \"PCA2\"}}},\n",
       "                        {\"responsive\": true}\n",
       "                    ).then(function(){\n",
       "                            \n",
       "var gd = document.getElementById('808408c0-b519-42aa-9957-930fee316d1e');\n",
       "var x = new MutationObserver(function (mutations, observer) {{\n",
       "        var display = window.getComputedStyle(gd).display;\n",
       "        if (!display || display === 'none') {{\n",
       "            console.log([gd, 'removed!']);\n",
       "            Plotly.purge(gd);\n",
       "            observer.disconnect();\n",
       "        }}\n",
       "}});\n",
       "\n",
       "// Listen for the removal of the full notebook cells\n",
       "var notebookContainer = gd.closest('#notebook-container');\n",
       "if (notebookContainer) {{\n",
       "    x.observe(notebookContainer, {childList: true});\n",
       "}}\n",
       "\n",
       "// Listen for the clearing of the current output cell\n",
       "var outputEl = gd.closest('.output');\n",
       "if (outputEl) {{\n",
       "    x.observe(outputEl, {childList: true});\n",
       "}}\n",
       "\n",
       "                        })\n",
       "                };\n",
       "                });\n",
       "            </script>\n",
       "        </div>"
      ]
     },
     "metadata": {},
     "output_type": "display_data"
    }
   ],
   "source": [
    "plot_model(m, feature='track_name')"
   ]
  },
  {
   "cell_type": "code",
   "execution_count": 12,
   "metadata": {},
   "outputs": [
    {
     "data": {
      "text/html": [
       "        <script type=\"text/javascript\">\n",
       "        window.PlotlyConfig = {MathJaxConfig: 'local'};\n",
       "        if (window.MathJax) {MathJax.Hub.Config({SVG: {font: \"STIX-Web\"}});}\n",
       "        if (typeof require !== 'undefined') {\n",
       "        require.undef(\"plotly\");\n",
       "        requirejs.config({\n",
       "            paths: {\n",
       "                'plotly': ['https://cdn.plot.ly/plotly-latest.min']\n",
       "            }\n",
       "        });\n",
       "        require(['plotly'], function(Plotly) {\n",
       "            window._Plotly = Plotly;\n",
       "        });\n",
       "        }\n",
       "        </script>\n",
       "        "
      ]
     },
     "metadata": {},
     "output_type": "display_data"
    },
    {
     "data": {
      "image/png": "[encoded data removed]",
      "text/plain": [
       "<Figure size 576x396 with 1 Axes>"
      ]
     },
     "metadata": {},
     "output_type": "display_data"
    }
   ],
   "source": [
    "# https://scikit-learn.org/stable/auto_examples/cluster/plot_kmeans_silhouette_analysis.html\n",
    "plot_model(m, plot = 'silhouette')"
   ]
  },
  {
   "cell_type": "code",
   "execution_count": 13,
   "metadata": {},
   "outputs": [
    {
     "data": {
      "text/html": [
       "        <script type=\"text/javascript\">\n",
       "        window.PlotlyConfig = {MathJaxConfig: 'local'};\n",
       "        if (window.MathJax) {MathJax.Hub.Config({SVG: {font: \"STIX-Web\"}});}\n",
       "        if (typeof require !== 'undefined') {\n",
       "        require.undef(\"plotly\");\n",
       "        requirejs.config({\n",
       "            paths: {\n",
       "                'plotly': ['https://cdn.plot.ly/plotly-latest.min']\n",
       "            }\n",
       "        });\n",
       "        require(['plotly'], function(Plotly) {\n",
       "            window._Plotly = Plotly;\n",
       "        });\n",
       "        }\n",
       "        </script>\n",
       "        "
      ]
     },
     "metadata": {},
     "output_type": "display_data"
    },
    {
     "data": {
      "application/vnd.plotly.v1+json": {
       "config": {
        "plotlyServerURL": "https://plot.ly"
       },
       "data": [
        {
         "alignmentgroup": "True",
         "bingroup": "x",
         "hoverlabel": {
          "namelength": 0
         },
         "hovertemplate": "Cluster=%{x}<br>count=%{y}",
         "legendgroup": "Cluster=Cluster 0",
         "marker": {
          "color": "#636efa",
          "opacity": 0.7
         },
         "name": "Cluster=Cluster 0",
         "offsetgroup": "Cluster=Cluster 0",
         "orientation": "v",
         "showlegend": true,
         "type": "histogram",
         "x": [
          "Cluster 0",
          "Cluster 0",
          "Cluster 0",
          "Cluster 0",
          "Cluster 0",
          "Cluster 0",
          "Cluster 0",
          "Cluster 0",
          "Cluster 0",
          "Cluster 0",
          "Cluster 0",
          "Cluster 0",
          "Cluster 0",
          "Cluster 0",
          "Cluster 0",
          "Cluster 0",
          "Cluster 0",
          "Cluster 0",
          "Cluster 0",
          "Cluster 0",
          "Cluster 0",
          "Cluster 0",
          "Cluster 0",
          "Cluster 0",
          "Cluster 0",
          "Cluster 0",
          "Cluster 0",
          "Cluster 0",
          "Cluster 0",
          "Cluster 0",
          "Cluster 0",
          "Cluster 0",
          "Cluster 0",
          "Cluster 0",
          "Cluster 0",
          "Cluster 0",
          "Cluster 0",
          "Cluster 0",
          "Cluster 0",
          "Cluster 0",
          "Cluster 0",
          "Cluster 0",
          "Cluster 0"
         ],
         "xaxis": "x",
         "yaxis": "y"
        },
        {
         "alignmentgroup": "True",
         "customdata": [
          [
           "7HacxOP2pHeSv1OsraqmDA",
           "Do Lado de Cá",
           0.628,
           0.46,
           75.708,
           "Cluster 0"
          ],
          [
           "1sUTfgduT0WIQO8kXKXxLC",
           "Blaze Of Glory - From \"Young Guns II\" Soundtrack",
           0.547,
           0.62,
           78.598,
           "Cluster 0"
          ],
          [
           "4jtYkaxeQg2yjPRZQttd9I",
           "Love Of My Life - Live",
           0.302,
           0.321,
           110.52799999999999,
           "Cluster 0"
          ],
          [
           "2UzQqudrAxeZeuJTcPBKBx",
           "Cotidiano",
           0.434,
           0.537,
           89.09100000000001,
           "Cluster 0"
          ],
          [
           "3BEZCNZSmVv30vsMNSOCri",
           "Layla - Acoustic; Live at MTV Unplugged, Bray Film Studios, Windsor, England, UK, 1/16/1992; 2013 Remaster",
           0.5579999999999999,
           0.524,
           93.654,
           "Cluster 0"
          ],
          [
           "2iUrcZcAuVIahQD0dg9HLe",
           "Autumn Leaves",
           0.496,
           0.634,
           93.35700000000001,
           "Cluster 0"
          ],
          [
           "67FQ9r8wiJvKKj5gq8zmCb",
           "Mistérios da Meia Noite",
           0.49700000000000005,
           0.568,
           94.447,
           "Cluster 0"
          ],
          [
           "0dWOiVQwoUYTtXD0VVgmJQ",
           "Chega de Saudade",
           0.563,
           0.242,
           87.771,
           "Cluster 0"
          ],
          [
           "4rq3CoA3hrw3LjgtItwSu5",
           "Aquarela",
           0.561,
           0.26899999999999996,
           75.117,
           "Cluster 0"
          ],
          [
           "38BhHsOGE3ly3q3IiRCh66",
           "Pipes Of Peace - Remastered 2015",
           0.369,
           0.413,
           94.287,
           "Cluster 0"
          ],
          [
           "2x45xqISlmmDJqxOqr8BuS",
           "With Or Without You - Remastered",
           0.5379999999999999,
           0.43200000000000005,
           110.181,
           "Cluster 0"
          ],
          [
           "5xTt7WCmlfdSa9aP3MV56A",
           "One Note Samba",
           0.636,
           0.209,
           82.33200000000001,
           "Cluster 0"
          ],
          [
           "0zDVclPMSsjeyvbnqhWOmt",
           "La vie en rose - Single Version",
           0.52,
           0.0406,
           70.138,
           "Cluster 0"
          ],
          [
           "6GmUVqe73u5YRfUUynZK6I",
           "Let Her Go",
           0.479,
           0.545,
           74.89699999999999,
           "Cluster 0"
          ],
          [
           "22JzTLr1YHfewbyPkgCARt",
           "Pobre paulista",
           0.42700000000000005,
           0.759,
           93.01799999999999,
           "Cluster 0"
          ],
          [
           "371VkfwKiXJxgH5ZPoQNHD",
           "The Joker",
           0.596,
           0.44799999999999995,
           83.29299999999999,
           "Cluster 0"
          ],
          [
           "1qylvO4iCIZZcqc4TqSjTZ",
           "Zombie - Acoustic Version",
           0.469,
           0.42700000000000005,
           84.053,
           "Cluster 0"
          ],
          [
           "2lHVwMuA9fnKDYlceiXDLM",
           "Rocket Man",
           0.128,
           0.0535,
           75.233,
           "Cluster 0"
          ],
          [
           "0qukw1Cr7FADBAgzU55MQK",
           "Non, je ne regrette rien - Remasterisé En 2015",
           0.341,
           0.408,
           86.14200000000001,
           "Cluster 0"
          ],
          [
           "4wMgrdT7euVj4GugqcKPz4",
           "Aqua de Beber",
           0.626,
           0.52,
           82.57,
           "Cluster 0"
          ],
          [
           "7KFUj2MunvS4cbauF04r6w",
           "O bêbado e a equilibrista",
           0.442,
           0.41700000000000004,
           94.23299999999999,
           "Cluster 0"
          ],
          [
           "3Bbbz0IGORWZSLf9UqsAL4",
           "Dream A Little Dream Of Me",
           0.631,
           0.127,
           76.559,
           "Cluster 0"
          ],
          [
           "3mr584ZFSkZrWja9kJAzlb",
           "Skyfall",
           0.34600000000000003,
           0.552,
           75.881,
           "Cluster 0"
          ],
          [
           "5UnqU47OSB8LBahj0jtjrR",
           "Another Way to Die",
           0.541,
           0.772,
           71.20100000000001,
           "Cluster 0"
          ],
          [
           "67Hna13dNDkZvBpTXRIaOJ",
           "Teardrop",
           0.615,
           0.419,
           76.997,
           "Cluster 0"
          ],
          [
           "6IVjnPfMGjQeUXvqpzLLdY",
           "Smiled At Me (Sorriu Para Mim)",
           0.55,
           0.267,
           90.676,
           "Cluster 0"
          ],
          [
           "6tjZNDZo24C8gGelsozCzB",
           "What a Wonderful World",
           0.41100000000000003,
           0.292,
           108.315,
           "Cluster 0"
          ],
          [
           "00hwJU6jHS9C1LW4PLWXId",
           "Dream a Little Dream of Me",
           0.455,
           0.16699999999999998,
           76.118,
           "Cluster 0"
          ],
          [
           "5ed6a8Fanf7jNghrZboXlU",
           "Loving Every Minute",
           0.557,
           0.528,
           97.10799999999999,
           "Cluster 0"
          ],
          [
           "5WZDLZVCvY1rEyNir6k8Pg",
           "The Show Must Go On - 2011 Mix",
           0.425,
           0.675,
           84.156,
           "Cluster 0"
          ],
          [
           "4JehYebiI9JE8sR8MisGVb",
           "Halo",
           0.508,
           0.72,
           79.983,
           "Cluster 0"
          ],
          [
           "4eJFgz99l1ppawgesG8RRV",
           "16 Toneladas",
           0.616,
           0.52,
           82.697,
           "Cluster 0"
          ],
          [
           "2kMvM1l45ZjpOv73qPefxA",
           "Relicário",
           0.46,
           0.515,
           83.809,
           "Cluster 0"
          ],
          [
           "0qgrrDnUUhyxpxbBznUnzg",
           "18 and Life",
           0.466,
           0.648,
           90.435,
           "Cluster 0"
          ],
          [
           "34eHLnDCoIh9g0co9zro3F",
           "Tocando em Frente",
           0.49,
           0.282,
           88.039,
           "Cluster 0"
          ],
          [
           "2FYE5aTxHX5lMJZ8HKmiQn",
           "Dona Cila",
           0.635,
           0.248,
           88.074,
           "Cluster 0"
          ],
          [
           "5Xak5fmy089t0FYmh3VJiY",
           "Black",
           0.36,
           0.684,
           77.15,
           "Cluster 0"
          ],
          [
           "2jERD2u9uoC7gGNQ0LbCrI",
           "Codinome Beija-Flor",
           0.48200000000000004,
           0.255,
           95.205,
           "Cluster 0"
          ],
          [
           "5p3JunprHCxClJjOmcLV8G",
           "Walk On the Wild Side",
           0.575,
           0.318,
           104.522,
           "Cluster 0"
          ],
          [
           "1TX4h6MrIZ0K3r4OOG11WO",
           "Flor de Lis",
           0.5489999999999999,
           0.502,
           85.79299999999999,
           "Cluster 0"
          ],
          [
           "6OguEkETIgjJs48LKaOjdZ",
           "She",
           0.39,
           0.287,
           65.179,
           "Cluster 0"
          ],
          [
           "3RnA0bz5qbwtjSnAP0EcvS",
           "What a Wonderful World",
           0.305,
           0.282,
           79.756,
           "Cluster 0"
          ],
          [
           "0L7urInJWJwBXrVeunHwCU",
           "Aquele Abraço",
           0.48100000000000004,
           0.621,
           84.916,
           "Cluster 0"
          ]
         ],
         "hoverlabel": {
          "namelength": 0
         },
         "hovertemplate": "Cluster=%{customdata[5]}<br>track_id=%{customdata[0]}<br>track_name=%{customdata[1]}<br>danceability=%{customdata[2]}<br>energy=%{customdata[3]}<br>tempo=%{customdata[4]}",
         "legendgroup": "Cluster=Cluster 0",
         "marker": {
          "color": "#636efa"
         },
         "name": "Cluster=Cluster 0",
         "notched": true,
         "offsetgroup": "Cluster=Cluster 0",
         "showlegend": false,
         "type": "box",
         "x": [
          "Cluster 0",
          "Cluster 0",
          "Cluster 0",
          "Cluster 0",
          "Cluster 0",
          "Cluster 0",
          "Cluster 0",
          "Cluster 0",
          "Cluster 0",
          "Cluster 0",
          "Cluster 0",
          "Cluster 0",
          "Cluster 0",
          "Cluster 0",
          "Cluster 0",
          "Cluster 0",
          "Cluster 0",
          "Cluster 0",
          "Cluster 0",
          "Cluster 0",
          "Cluster 0",
          "Cluster 0",
          "Cluster 0",
          "Cluster 0",
          "Cluster 0",
          "Cluster 0",
          "Cluster 0",
          "Cluster 0",
          "Cluster 0",
          "Cluster 0",
          "Cluster 0",
          "Cluster 0",
          "Cluster 0",
          "Cluster 0",
          "Cluster 0",
          "Cluster 0",
          "Cluster 0",
          "Cluster 0",
          "Cluster 0",
          "Cluster 0",
          "Cluster 0",
          "Cluster 0",
          "Cluster 0"
         ],
         "xaxis": "x2",
         "yaxis": "y2"
        },
        {
         "alignmentgroup": "True",
         "bingroup": "x",
         "hoverlabel": {
          "namelength": 0
         },
         "hovertemplate": "Cluster=%{x}<br>count=%{y}",
         "legendgroup": "Cluster=Cluster 1",
         "marker": {
          "color": "#EF553B",
          "opacity": 0.7
         },
         "name": "Cluster=Cluster 1",
         "offsetgroup": "Cluster=Cluster 1",
         "orientation": "v",
         "showlegend": true,
         "type": "histogram",
         "x": [
          "Cluster 1",
          "Cluster 1",
          "Cluster 1",
          "Cluster 1",
          "Cluster 1",
          "Cluster 1",
          "Cluster 1",
          "Cluster 1",
          "Cluster 1",
          "Cluster 1",
          "Cluster 1",
          "Cluster 1",
          "Cluster 1",
          "Cluster 1",
          "Cluster 1",
          "Cluster 1",
          "Cluster 1",
          "Cluster 1",
          "Cluster 1",
          "Cluster 1",
          "Cluster 1",
          "Cluster 1",
          "Cluster 1",
          "Cluster 1",
          "Cluster 1",
          "Cluster 1",
          "Cluster 1",
          "Cluster 1",
          "Cluster 1",
          "Cluster 1",
          "Cluster 1",
          "Cluster 1",
          "Cluster 1",
          "Cluster 1",
          "Cluster 1",
          "Cluster 1",
          "Cluster 1",
          "Cluster 1",
          "Cluster 1",
          "Cluster 1",
          "Cluster 1",
          "Cluster 1",
          "Cluster 1",
          "Cluster 1",
          "Cluster 1",
          "Cluster 1",
          "Cluster 1",
          "Cluster 1",
          "Cluster 1",
          "Cluster 1",
          "Cluster 1",
          "Cluster 1",
          "Cluster 1",
          "Cluster 1",
          "Cluster 1",
          "Cluster 1",
          "Cluster 1",
          "Cluster 1",
          "Cluster 1",
          "Cluster 1",
          "Cluster 1",
          "Cluster 1",
          "Cluster 1",
          "Cluster 1",
          "Cluster 1",
          "Cluster 1",
          "Cluster 1",
          "Cluster 1",
          "Cluster 1",
          "Cluster 1",
          "Cluster 1",
          "Cluster 1",
          "Cluster 1",
          "Cluster 1",
          "Cluster 1",
          "Cluster 1",
          "Cluster 1",
          "Cluster 1",
          "Cluster 1",
          "Cluster 1",
          "Cluster 1",
          "Cluster 1",
          "Cluster 1",
          "Cluster 1",
          "Cluster 1",
          "Cluster 1",
          "Cluster 1",
          "Cluster 1",
          "Cluster 1",
          "Cluster 1",
          "Cluster 1",
          "Cluster 1",
          "Cluster 1",
          "Cluster 1",
          "Cluster 1",
          "Cluster 1"
         ],
         "xaxis": "x",
         "yaxis": "y"
        },
        {
         "alignmentgroup": "True",
         "customdata": [
          [
           "3PkfVwSOVxP0ffvdQAWJUN",
           "You Had Me",
           0.6940000000000001,
           0.8270000000000001,
           102.025,
           "Cluster 1"
          ],
          [
           "6yl8Es1tCYD9WdSkeVLFw4",
           "You Shook Me All Night Long",
           0.529,
           0.768,
           127.316,
           "Cluster 1"
          ],
          [
           "6M6UoxIPn4NOWW0x7JPRfv",
           "Young Folks",
           0.701,
           0.815,
           138.142,
           "Cluster 1"
          ],
          [
           "6suU8oBlW4O2pg88tOXgHo",
           "Under Pressure - Remastered",
           0.672,
           0.6990000000000001,
           113.73700000000001,
           "Cluster 1"
          ],
          [
           "5WQ1hIc5d2EVbRQ8qsj8Uh",
           "Hey Ya! - Radio Mix / Club Mix",
           0.7190000000000001,
           0.9670000000000001,
           79.505,
           "Cluster 1"
          ],
          [
           "0n2SEXB2qoRQg171q7XqeW",
           "Smooth (feat. Rob Thomas)",
           0.609,
           0.9229999999999999,
           115.99600000000001,
           "Cluster 1"
          ],
          [
           "1idZSAVHfLPQq9tDTYhnIA",
           "The Last of the Famous International Playboys - 2010 Remaster",
           0.617,
           0.8759999999999999,
           104.228,
           "Cluster 1"
          ],
          [
           "33IOhptvC2Qoy2UhjiHXLV",
           "Flames",
           0.609,
           0.726,
           93.958,
           "Cluster 1"
          ],
          [
           "0VtiO1D14T68y8DEMMNS8d",
           "Love Today",
           0.6709999999999999,
           0.9009999999999999,
           124.464,
           "Cluster 1"
          ],
          [
           "6sy3LkhNFjJWlaeSMNwQ62",
           "Counting Stars",
           0.664,
           0.705,
           122.01700000000001,
           "Cluster 1"
          ],
          [
           "5N4Hl2Gv1UDpEHu3nMRQFB",
           "Friction",
           0.6729999999999999,
           0.7190000000000001,
           150.129,
           "Cluster 1"
          ],
          [
           "30qVCFYKBtAENjTIBA8FPZ",
           "The River of Dreams",
           0.631,
           0.7490000000000001,
           89.646,
           "Cluster 1"
          ],
          [
           "1lkC6oC7SbwgnEBEC05r64",
           "Get the Party Started",
           0.799,
           0.903,
           128.92600000000002,
           "Cluster 1"
          ],
          [
           "2jmJZpdJhCXhfEhewqui5G",
           "Gostava Tanto de Você - Ao Vivo",
           0.561,
           0.8320000000000001,
           104.198,
           "Cluster 1"
          ],
          [
           "5mhUPDWQH3s544WCsa0r9w",
           "Human",
           0.547,
           0.8370000000000001,
           135.47,
           "Cluster 1"
          ],
          [
           "3OeUlriM0EZHdWleJtjoVr",
           "Got My Mind Set On You - 2004 Mix",
           0.767,
           0.8540000000000001,
           149.20600000000002,
           "Cluster 1"
          ],
          [
           "4VqPOruhp5EdPBeR92t6lQ",
           "Uprising",
           0.602,
           0.905,
           128.019,
           "Cluster 1"
          ],
          [
           "300RfAPZ57B0y6YYj9n6DN",
           "Superstition - Single Version",
           0.642,
           0.735,
           99.682,
           "Cluster 1"
          ],
          [
           "38bDGWuyYdSdNfrFfbCiVS",
           "We Didn't Start the Fire",
           0.711,
           0.9670000000000001,
           145.024,
           "Cluster 1"
          ],
          [
           "5MMnwYs0hIxkENRsbkWJ2G",
           "Smoke On The Water - Remastered 2012",
           0.598,
           0.6759999999999999,
           114.169,
           "Cluster 1"
          ],
          [
           "5eSllZgRWCIJsDTAqFRwQw",
           "Coffee and TV",
           0.743,
           0.743,
           121.604,
           "Cluster 1"
          ],
          [
           "7kXmJwrZGIhDaLT9sNo3ut",
           "Hey Boy Hey Girl",
           0.632,
           0.92,
           127.001,
           "Cluster 1"
          ],
          [
           "2aoo2jlRnM3A0NyLQqMN2f",
           "All Along the Watchtower",
           0.43799999999999994,
           0.805,
           113.25299999999999,
           "Cluster 1"
          ],
          [
           "2KmEgiY8fQs0G6WNxtzQKr",
           "Baba O'Riley",
           0.489,
           0.7240000000000001,
           117.292,
           "Cluster 1"
          ],
          [
           "2cNjgoSh1TBHFQIhfzRJUE",
           "Go",
           0.7509999999999999,
           0.897,
           119.97,
           "Cluster 1"
          ],
          [
           "2wPFy7SAFnt9Nj2TipWcqb",
           "Block Rockin' Beats",
           0.606,
           0.977,
           109.41,
           "Cluster 1"
          ],
          [
           "14XWXWv5FoCbFzLksawpEe",
           "Riders on the Storm",
           0.5489999999999999,
           0.722,
           103.885,
           "Cluster 1"
          ],
          [
           "1Ng1cdcIdXqt3ouDhpw477",
           "Sunshine Reggae - 2008 Remaster",
           0.7340000000000001,
           0.708,
           167.49900000000002,
           "Cluster 1"
          ],
          [
           "6JV2JOEocMgcZxYSZelKcc",
           "CAN'T STOP THE FEELING! (Original Song from DreamWorks Animation's \"TROLLS\")",
           0.667,
           0.83,
           113.03,
           "Cluster 1"
          ],
          [
           "7mitXLIMCflkhZiD34uEQI",
           "Party Rock Anthem",
           0.7509999999999999,
           0.736,
           130.014,
           "Cluster 1"
          ],
          [
           "7h8Ud480Fm4ReUVxgFF9ZX",
           "Rolling In The Deep",
           0.7290000000000001,
           0.777,
           104.946,
           "Cluster 1"
          ],
          [
           "3ydfhgIZIc2j39NLIhpJpq",
           "Fuck You",
           0.693,
           0.879,
           127.45700000000001,
           "Cluster 1"
          ],
          [
           "3y9p60VKSjscT2M2de0uz8",
           "Smiley Faces",
           0.562,
           0.8859999999999999,
           86.999,
           "Cluster 1"
          ],
          [
           "3CKCZ9pfwAfoMZlMncA1Nc",
           "Set Fire to the Rain",
           0.61,
           0.6829999999999999,
           108.00299999999999,
           "Cluster 1"
          ],
          [
           "2PpruBYCo4H7WOBJ7Q2EwM",
           "Hey Ya!",
           0.728,
           0.9740000000000001,
           79.52600000000001,
           "Cluster 1"
          ],
          [
           "3Kc1TDpaMfq6DBt4Gz3Pq1",
           "Firework",
           0.638,
           0.8320000000000001,
           124.071,
           "Cluster 1"
          ],
          [
           "5CeL9C3bsoe4yzYS1Qz8cw",
           "Girls and Boys",
           0.693,
           0.875,
           120.04799999999999,
           "Cluster 1"
          ],
          [
           "6g1NlCpW7fgqDnWbCCDrHl",
           "Wake Me Up - Radio Edit",
           0.532,
           0.7829999999999999,
           124.08,
           "Cluster 1"
          ],
          [
           "5jtEGp5xkVV3zvNq7mVcW1",
           "Anunciação",
           0.541,
           0.711,
           100.111,
           "Cluster 1"
          ],
          [
           "5QpaGzWp0hwB5faV8dkbAz",
           "Wherever You Will Go",
           0.5579999999999999,
           0.7190000000000001,
           112.027,
           "Cluster 1"
          ],
          [
           "3qZaenSSBPkKTi8nJ48aKf",
           "Vamos fugir",
           0.627,
           0.7929999999999999,
           134.197,
           "Cluster 1"
          ],
          [
           "78gWMNi0b8lgSgVe0U0AMX",
           "House of Fun - 2000 Remastered Version",
           0.725,
           0.934,
           127.39,
           "Cluster 1"
          ],
          [
           "63vL5oxWrlvaJ0ayNaQnbX",
           "Istanbul (Not Constantinople)",
           0.688,
           0.748,
           114.14399999999999,
           "Cluster 1"
          ],
          [
           "189ORFltyfCNtP4CCJou8L",
           "Moving On Up",
           0.851,
           0.851,
           125.057,
           "Cluster 1"
          ],
          [
           "2zYzyRzz6pRmhPzyfMEC8s",
           "Highway to Hell",
           0.573,
           0.9129999999999999,
           115.715,
           "Cluster 1"
          ],
          [
           "2DKuUrwCGwfRQBzIiSAKRi",
           "Bete balanço - Ao vivo",
           0.5770000000000001,
           0.9329999999999999,
           124.09100000000001,
           "Cluster 1"
          ],
          [
           "0INtjcLMDnXjNB2YGe6RBT",
           "Kung Fu Fighting (Single Version)",
           0.623,
           0.705,
           110.064,
           "Cluster 1"
          ],
          [
           "6Vz7vzOpCwKeSQlfViibuY",
           "Crazy",
           0.633,
           0.858,
           102.559,
           "Cluster 1"
          ],
          [
           "6zBw2Qqqj2daIoST9XIJC4",
           "Ai, Ai, Ai...",
           0.64,
           0.718,
           130.119,
           "Cluster 1"
          ],
          [
           "4AwNUVU4h3QmUMHIbzurRa",
           "Envelheço na cidade",
           0.61,
           0.802,
           117.184,
           "Cluster 1"
          ],
          [
           "7dxK6RSoCWZcb5gobxs1h9",
           "Vamos Fugir",
           0.6,
           0.752,
           135.98,
           "Cluster 1"
          ],
          [
           "4z5vQIvJg32wmmIGFsmKMx",
           "Minha Tribo Sou Eu",
           0.654,
           0.885,
           138.987,
           "Cluster 1"
          ],
          [
           "7ju9l3vOySwv0OQ3WuwwSq",
           "Shine Ibiza Anthem 2019",
           0.5489999999999999,
           0.977,
           137.991,
           "Cluster 1"
          ],
          [
           "2kzEEsKiUPTvct5pGflQVF",
           "Greenback Boogie (Theme from \"Suits\")",
           0.629,
           0.67,
           142.997,
           "Cluster 1"
          ],
          [
           "0F3GMvgFyxWCOm1nxlkQSW",
           "Perfect",
           0.639,
           0.897,
           114.29700000000001,
           "Cluster 1"
          ],
          [
           "6IvKz4Ax11LsLA0X0bPkqD",
           "Ai, Ai, Ai...",
           0.643,
           0.6729999999999999,
           130.108,
           "Cluster 1"
          ],
          [
           "4NvgRMckw4uzjNn2t7taPe",
           "Die Another Day",
           0.7879999999999999,
           0.777,
           123.994,
           "Cluster 1"
          ],
          [
           "3z5ggGtcs4t8pizW521gW9",
           "Pretend We're Dead",
           0.569,
           0.7879999999999999,
           115.15100000000001,
           "Cluster 1"
          ],
          [
           "058VOmj2vkyItyKHFLc8vF",
           "Da Ya Think I'm Sexy",
           0.759,
           0.815,
           112.006,
           "Cluster 1"
          ],
          [
           "5GjnIpUlLGEIYk052ISOw9",
           "This Is What It Feels Like",
           0.552,
           0.831,
           129.889,
           "Cluster 1"
          ],
          [
           "0cLH7BXqfm0RqnjueCPLfW",
           "Evidence",
           0.6859999999999999,
           0.779,
           97.948,
           "Cluster 1"
          ],
          [
           "11IzgLRXV7Cgek3tEgGgjw",
           "Under Pressure - Remastered",
           0.6709999999999999,
           0.711,
           113.809,
           "Cluster 1"
          ],
          [
           "1HL90u8MrrXtqNonXYN5of",
           "Realla",
           0.628,
           0.601,
           129.98,
           "Cluster 1"
          ],
          [
           "6I9VzXrHxO9rA9A5euc8Ak",
           "Toxic",
           0.774,
           0.838,
           143.04,
           "Cluster 1"
          ],
          [
           "6avkLAdK3IbkR1c7l6APmJ",
           "Big Time Sensuality",
           0.728,
           0.7170000000000001,
           118.589,
           "Cluster 1"
          ],
          [
           "5uPYEStMW3KsXnnLV7iCTw",
           "Johnny B Goode - 2002 Remaster",
           0.7490000000000001,
           0.8490000000000001,
           145.16899999999998,
           "Cluster 1"
          ],
          [
           "0J6mQxEZnlRt9ymzFntA6z",
           "Livin' On A Prayer",
           0.534,
           0.887,
           122.494,
           "Cluster 1"
          ],
          [
           "3KYiA4vq6RPO1dE2XROXd8",
           "You Give Love A Bad Name",
           0.537,
           0.9590000000000001,
           122.806,
           "Cluster 1"
          ],
          [
           "26eOTllWPn7oKuDUJnsJwF",
           "The Sweet Escape",
           0.7559999999999999,
           0.77,
           119.961,
           "Cluster 1"
          ],
          [
           "6IBYNkdYt6UePLysFn6xu9",
           "O Que É O Que É?",
           0.672,
           0.6940000000000001,
           111.829,
           "Cluster 1"
          ],
          [
           "7w9bgPAmPTtrkt2v16QWvQ",
           "Lose Yourself - From \"8 Mile\" Soundtrack",
           0.701,
           0.728,
           171.388,
           "Cluster 1"
          ],
          [
           "2TDDvKi8n44EaLVJXd2GkP",
           "Break It Down Again",
           0.6779999999999999,
           0.7440000000000001,
           108.98899999999999,
           "Cluster 1"
          ],
          [
           "2YNnsUUgc23G8Th8TKpH44",
           "O Calibre",
           0.47700000000000004,
           0.977,
           90.155,
           "Cluster 1"
          ],
          [
           "3OhfY94w6eTzs6UnvwDryF",
           "Carolina",
           0.627,
           0.752,
           89.995,
           "Cluster 1"
          ],
          [
           "6Ha2gDoMVDHaRjxxoS6qZJ",
           "Here Tonight",
           0.557,
           0.841,
           127.977,
           "Cluster 1"
          ],
          [
           "1kV6GsEtVGmPehcGpmYtnr",
           "The Box - Part 2",
           0.603,
           0.72,
           140.991,
           "Cluster 1"
          ],
          [
           "0iwo02NoGqyooxs81iEkz3",
           "The Ballad Of John And Yoko - Remastered 2009",
           0.654,
           0.862,
           135.11700000000002,
           "Cluster 1"
          ],
          [
           "4d0DpU7Odiv0ztvX2GxJlk",
           "Exagerado",
           0.6779999999999999,
           0.6629999999999999,
           136.388,
           "Cluster 1"
          ],
          [
           "7C1bOiV8Bj0I3YpAnuS8ue",
           "São Gonça",
           0.639,
           0.777,
           108.01700000000001,
           "Cluster 1"
          ],
          [
           "6FJ9Xp3fCxSTAdcRVaDQdl",
           "Miracle",
           0.5770000000000001,
           0.677,
           92.007,
           "Cluster 1"
          ],
          [
           "53eJFr4Mfbw5PXJ01K6cFw",
           "Daughter (Remastered)",
           0.615,
           0.7020000000000001,
           96.99,
           "Cluster 1"
          ],
          [
           "4D3HlCklYQQgTEuPDso96G",
           "Exagerado 3.0",
           0.5660000000000001,
           0.878,
           136.02700000000002,
           "Cluster 1"
          ],
          [
           "7HZXKocB073IEw7ZgnVQEO",
           "Funk Nu a Murit",
           0.6809999999999999,
           0.809,
           92.021,
           "Cluster 1"
          ],
          [
           "2REJewOG7lanXShkriw5f2",
           "Tudo No Lugar",
           0.73,
           0.905,
           95.985,
           "Cluster 1"
          ],
          [
           "0WZRuNn00I9CJ6XO84F6j9",
           "Verdade",
           0.5820000000000001,
           0.902,
           106.54299999999999,
           "Cluster 1"
          ],
          [
           "5Wl9fPpzcNSE72hJAOuG3R",
           "Tropicana (Morena Tropicana)",
           0.6409999999999999,
           0.802,
           134.11,
           "Cluster 1"
          ],
          [
           "4uQcu4YZSma1ZA8OUazmW9",
           "I Kissed A Girl",
           0.6990000000000001,
           0.76,
           129.996,
           "Cluster 1"
          ],
          [
           "5j6ZZwA9BnxZi5Bk0Ng4jB",
           "Heroes - 1999 Remaster",
           0.478,
           0.774,
           112.57700000000001,
           "Cluster 1"
          ],
          [
           "4Y7XAxTANhu3lmnLAzhWJW",
           "Fireball (feat. John Ryan)",
           0.7609999999999999,
           0.9329999999999999,
           122.959,
           "Cluster 1"
          ],
          [
           "4rFCA3E7dSDUuxmbg25K6l",
           "Mais Que Nada (Remix)",
           0.778,
           0.87,
           99.758,
           "Cluster 1"
          ],
          [
           "4m815SdxfKNxLHITG4WpzB",
           "Bola De Meia, Bola De Gude",
           0.5660000000000001,
           0.7,
           106.154,
           "Cluster 1"
          ],
          [
           "6ZmwwHYtun94UOdFWWgdif",
           "Alanis’ Interlude",
           0.705,
           0.89,
           94.01299999999999,
           "Cluster 1"
          ],
          [
           "7MIzAYEVULbhSwP6vK1zVH",
           "Oh Chuva",
           0.7559999999999999,
           0.759,
           127.963,
           "Cluster 1"
          ],
          [
           "6z9ehfxE973fOlKJKNJL2x",
           "Blue Sky Mine - 2011 Remaster",
           0.631,
           0.852,
           132.018,
           "Cluster 1"
          ],
          [
           "1oJSAzNyTUCm36zhFYMcAZ",
           "Big Yellow Taxi",
           0.672,
           0.872,
           88.04700000000001,
           "Cluster 1"
          ],
          [
           "5scK80Nrz12oGUnQGcPgg1",
           "Mantenha o Respeito",
           0.589,
           0.6609999999999999,
           108.035,
           "Cluster 1"
          ]
         ],
         "hoverlabel": {
          "namelength": 0
         },
         "hovertemplate": "Cluster=%{customdata[5]}<br>track_id=%{customdata[0]}<br>track_name=%{customdata[1]}<br>danceability=%{customdata[2]}<br>energy=%{customdata[3]}<br>tempo=%{customdata[4]}",
         "legendgroup": "Cluster=Cluster 1",
         "marker": {
          "color": "#EF553B"
         },
         "name": "Cluster=Cluster 1",
         "notched": true,
         "offsetgroup": "Cluster=Cluster 1",
         "showlegend": false,
         "type": "box",
         "x": [
          "Cluster 1",
          "Cluster 1",
          "Cluster 1",
          "Cluster 1",
          "Cluster 1",
          "Cluster 1",
          "Cluster 1",
          "Cluster 1",
          "Cluster 1",
          "Cluster 1",
          "Cluster 1",
          "Cluster 1",
          "Cluster 1",
          "Cluster 1",
          "Cluster 1",
          "Cluster 1",
          "Cluster 1",
          "Cluster 1",
          "Cluster 1",
          "Cluster 1",
          "Cluster 1",
          "Cluster 1",
          "Cluster 1",
          "Cluster 1",
          "Cluster 1",
          "Cluster 1",
          "Cluster 1",
          "Cluster 1",
          "Cluster 1",
          "Cluster 1",
          "Cluster 1",
          "Cluster 1",
          "Cluster 1",
          "Cluster 1",
          "Cluster 1",
          "Cluster 1",
          "Cluster 1",
          "Cluster 1",
          "Cluster 1",
          "Cluster 1",
          "Cluster 1",
          "Cluster 1",
          "Cluster 1",
          "Cluster 1",
          "Cluster 1",
          "Cluster 1",
          "Cluster 1",
          "Cluster 1",
          "Cluster 1",
          "Cluster 1",
          "Cluster 1",
          "Cluster 1",
          "Cluster 1",
          "Cluster 1",
          "Cluster 1",
          "Cluster 1",
          "Cluster 1",
          "Cluster 1",
          "Cluster 1",
          "Cluster 1",
          "Cluster 1",
          "Cluster 1",
          "Cluster 1",
          "Cluster 1",
          "Cluster 1",
          "Cluster 1",
          "Cluster 1",
          "Cluster 1",
          "Cluster 1",
          "Cluster 1",
          "Cluster 1",
          "Cluster 1",
          "Cluster 1",
          "Cluster 1",
          "Cluster 1",
          "Cluster 1",
          "Cluster 1",
          "Cluster 1",
          "Cluster 1",
          "Cluster 1",
          "Cluster 1",
          "Cluster 1",
          "Cluster 1",
          "Cluster 1",
          "Cluster 1",
          "Cluster 1",
          "Cluster 1",
          "Cluster 1",
          "Cluster 1",
          "Cluster 1",
          "Cluster 1",
          "Cluster 1",
          "Cluster 1",
          "Cluster 1",
          "Cluster 1",
          "Cluster 1"
         ],
         "xaxis": "x2",
         "yaxis": "y2"
        },
        {
         "alignmentgroup": "True",
         "bingroup": "x",
         "hoverlabel": {
          "namelength": 0
         },
         "hovertemplate": "Cluster=%{x}<br>count=%{y}",
         "legendgroup": "Cluster=Cluster 2",
         "marker": {
          "color": "#00cc96",
          "opacity": 0.7
         },
         "name": "Cluster=Cluster 2",
         "offsetgroup": "Cluster=Cluster 2",
         "orientation": "v",
         "showlegend": true,
         "type": "histogram",
         "x": [
          "Cluster 2",
          "Cluster 2",
          "Cluster 2",
          "Cluster 2",
          "Cluster 2",
          "Cluster 2",
          "Cluster 2",
          "Cluster 2",
          "Cluster 2",
          "Cluster 2",
          "Cluster 2",
          "Cluster 2",
          "Cluster 2",
          "Cluster 2",
          "Cluster 2",
          "Cluster 2",
          "Cluster 2",
          "Cluster 2",
          "Cluster 2",
          "Cluster 2",
          "Cluster 2",
          "Cluster 2",
          "Cluster 2",
          "Cluster 2",
          "Cluster 2",
          "Cluster 2",
          "Cluster 2",
          "Cluster 2",
          "Cluster 2",
          "Cluster 2",
          "Cluster 2",
          "Cluster 2",
          "Cluster 2",
          "Cluster 2",
          "Cluster 2",
          "Cluster 2",
          "Cluster 2",
          "Cluster 2",
          "Cluster 2",
          "Cluster 2",
          "Cluster 2",
          "Cluster 2",
          "Cluster 2",
          "Cluster 2",
          "Cluster 2",
          "Cluster 2",
          "Cluster 2",
          "Cluster 2",
          "Cluster 2",
          "Cluster 2",
          "Cluster 2",
          "Cluster 2"
         ],
         "xaxis": "x",
         "yaxis": "y"
        },
        {
         "alignmentgroup": "True",
         "customdata": [
          [
           "3YKptz29AsOlm7WAVnztBh",
           "Kiss from a Rose",
           0.583,
           0.532,
           131.741,
           "Cluster 2"
          ],
          [
           "4y6P6eic8hhTcFqtaV5ftn",
           "Carta Ao Tom 74",
           0.621,
           0.369,
           143.1,
           "Cluster 2"
          ],
          [
           "333v4s9EybUEFOY6ComIC2",
           "Amor e Sexo",
           0.6409999999999999,
           0.37,
           129.843,
           "Cluster 2"
          ],
          [
           "4SpqtLElDsO6KGbd4ub96Z",
           "Pela Luz dos Olhos Teus - Bonus Track",
           0.45299999999999996,
           0.27699999999999997,
           116.83200000000001,
           "Cluster 2"
          ],
          [
           "5bLVrPldS8KXxkhuFLIqZO",
           "Happy Ending/Over My Shoulder",
           0.35,
           0.237,
           119.569,
           "Cluster 2"
          ],
          [
           "1JO1xLtVc8mWhIoE3YaCL0",
           "Happy Together",
           0.584,
           0.36700000000000005,
           120.175,
           "Cluster 2"
          ],
          [
           "6xGoLwsVOwcxg5LYuUwz8D",
           "Three Little Birds",
           0.6509999999999999,
           0.5920000000000001,
           148.131,
           "Cluster 2"
          ],
          [
           "5jrdCoLpJSvHHorevXBATy",
           "Dark Horse",
           0.645,
           0.585,
           131.931,
           "Cluster 2"
          ],
          [
           "2Yk0HvfTaijA47aM0Fj88u",
           "Metamorfose Ambulante",
           0.498,
           0.5870000000000001,
           135.91299999999998,
           "Cluster 2"
          ],
          [
           "4uYwlMp841PLJmj1gJJwIq",
           "Lay, Lady, Lay",
           0.52,
           0.179,
           155.746,
           "Cluster 2"
          ],
          [
           "6oDPg7fXW3Ug3KmbafrXzA",
           "Wrecking Ball",
           0.466,
           0.40299999999999997,
           119.81,
           "Cluster 2"
          ],
          [
           "1BIDHSkkst8nckyBaHVP6A",
           "Águas De Março",
           0.637,
           0.551,
           143.10399999999998,
           "Cluster 2"
          ],
          [
           "5HNCy40Ni5BZJFw1TKzRsC",
           "Comfortably Numb",
           0.47200000000000003,
           0.366,
           127.167,
           "Cluster 2"
          ],
          [
           "1A4WjuUXeFEVXjwgc7eVZ6",
           "Good People",
           0.721,
           0.586,
           176.105,
           "Cluster 2"
          ],
          [
           "74I1z55PBTBkBC6Ay5ydf5",
           "Flores em você",
           0.606,
           0.278,
           155.888,
           "Cluster 2"
          ],
          [
           "7f0jXNMu2xjQUtmKMuWhGA",
           "What's Up?",
           0.5660000000000001,
           0.57,
           134.537,
           "Cluster 2"
          ],
          [
           "40hrL4q3dxErnwzpIof6fc",
           "Crazy Mary (Remastered)",
           0.385,
           0.465,
           139.109,
           "Cluster 2"
          ],
          [
           "5TbwZ0OSuU1fGtQ8aTgiZP",
           "The Box, Pt. 1",
           0.672,
           0.21600000000000003,
           141.002,
           "Cluster 2"
          ],
          [
           "5aGhtbviqUqjtno5vcUmCN",
           "Colo de Menina",
           0.654,
           0.46399999999999997,
           145.371,
           "Cluster 2"
          ],
          [
           "1Ow7BwZB6NKfxham67mLH7",
           "Acontecimentos",
           0.634,
           0.495,
           137.879,
           "Cluster 2"
          ],
          [
           "6nbyjI9tJUITph7LN7uZPj",
           "O Trem das 7 (Ao Vivo)",
           0.396,
           0.47600000000000003,
           122.02,
           "Cluster 2"
          ],
          [
           "10igKaIKsSB6ZnWxPxPvKO",
           "Nothing Else Matters",
           0.5579999999999999,
           0.364,
           142.171,
           "Cluster 2"
          ],
          [
           "589AelScFm0FYQ4VG1biJi",
           "The James Bond Theme (From \"Dr. No\")",
           0.43700000000000006,
           0.5670000000000001,
           130.14700000000002,
           "Cluster 2"
          ],
          [
           "4zzvMG8KrsykYtvFEJ99Cl",
           "Easy",
           0.506,
           0.5539999999999999,
           124.72399999999999,
           "Cluster 2"
          ],
          [
           "3vFh4274hFZc3q2LoidsyK",
           "Somewhere Only We Know",
           0.314,
           0.28600000000000003,
           172.021,
           "Cluster 2"
          ],
          [
           "0JmNkza8Oax92TF7lJV8GZ",
           "Cara valente",
           0.738,
           0.56,
           157.946,
           "Cluster 2"
          ],
          [
           "1Q8lDjEzlTwATSZz2zgPd9",
           "Wen Uuu",
           0.674,
           0.655,
           174.014,
           "Cluster 2"
          ],
          [
           "44hOGg1uFg1XJZGZYNwYmM",
           "Tainted Love",
           0.569,
           0.402,
           144.635,
           "Cluster 2"
          ],
          [
           "4dIWbsYRqqTcLKf4bVU4kk",
           "Como Nossos Pais",
           0.51,
           0.401,
           143.942,
           "Cluster 2"
          ],
          [
           "3z8h0TU7ReDPLIbEnYhWZb",
           "Bohemian Rhapsody - 2011 Mix",
           0.39,
           0.397,
           144.031,
           "Cluster 2"
          ],
          [
           "0OrE0VWVZuhOPHSjO7WhKD",
           "Voce Abusou",
           0.435,
           0.209,
           144.86700000000002,
           "Cluster 2"
          ],
          [
           "2xGKkcdKQUyqKKfOhd58gP",
           "Stay",
           0.581,
           0.525,
           119.09,
           "Cluster 2"
          ],
          [
           "6Z1zJjEXLrszqTPol6bfFV",
           "Live And Let Die - Remastered 1993",
           0.41200000000000003,
           0.39299999999999996,
           154.241,
           "Cluster 2"
          ],
          [
           "0X3wPQutw80NtG4PQGolvT",
           "Let's Call the Whole Thing Off",
           0.644,
           0.312,
           123.396,
           "Cluster 2"
          ],
          [
           "5flYFbJweqUHlQjle7uRlI",
           "Que Beleza",
           0.507,
           0.547,
           160.879,
           "Cluster 2"
          ],
          [
           "401RZ4h6JrBHq8mzBDu9nQ",
           "Danny's Song",
           0.51,
           0.442,
           144.614,
           "Cluster 2"
          ],
          [
           "7KsQssGg3DaovFkd9Kbnc6",
           "Corcovado",
           0.517,
           0.0854,
           126.854,
           "Cluster 2"
          ],
          [
           "6mFkJmJqdDVQ1REhVfGgd1",
           "Wish You Were Here",
           0.48100000000000004,
           0.262,
           122.883,
           "Cluster 2"
          ],
          [
           "44sw25l5s3dUQx38QQ4hix",
           "Summertime",
           0.3,
           0.312,
           180.549,
           "Cluster 2"
          ],
          [
           "5TvE3pk05pyFIGdSY9j4DJ",
           "Say Something",
           0.40700000000000003,
           0.147,
           141.284,
           "Cluster 2"
          ],
          [
           "3XVBdLihbNbxUwZosxcGuJ",
           "If I Ain't Got You",
           0.609,
           0.445,
           118.39299999999999,
           "Cluster 2"
          ],
          [
           "4kLWjcI5IrMKELSngOhTJv",
           "Beija Eu",
           0.5429999999999999,
           0.526,
           159.093,
           "Cluster 2"
          ],
          [
           "7LjcQfRQtD7XYvjR1JKsZA",
           "Samba Da Bencao",
           0.5920000000000001,
           0.371,
           123.435,
           "Cluster 2"
          ],
          [
           "1MDoll6jK4rrk2BcFRP5i7",
           "Hello",
           0.47100000000000003,
           0.431,
           157.98,
           "Cluster 2"
          ],
          [
           "1EzrEOXmMH3G43AXT1y7pA",
           "I'm Yours",
           0.6859999999999999,
           0.457,
           150.953,
           "Cluster 2"
          ],
          [
           "5mnvqisoDJilY0uCEdT8rG",
           "Danny's Song",
           0.507,
           0.198,
           141.261,
           "Cluster 2"
          ],
          [
           "1mea3bSkSGXuIRvnydlB5b",
           "Viva La Vida",
           0.485,
           0.619,
           138.017,
           "Cluster 2"
          ],
          [
           "2gsRi0MuGDsDyvR9usz1pd",
           "Day Tripper",
           0.6609999999999999,
           0.57,
           145.879,
           "Cluster 2"
          ],
          [
           "7ytqdjooPEAa97QSu6NUHS",
           "Dream A Little Dream Of Me - Album Version With Introduction",
           0.45899999999999996,
           0.322,
           133.91,
           "Cluster 2"
          ],
          [
           "5bIEpKwEFgJzB7U3gFaeKm",
           "Here Comes The Sun - Remastered 2009",
           0.557,
           0.519,
           129.157,
           "Cluster 2"
          ],
          [
           "4XYdH6H7haUCeEm9YezQ9K",
           "Chão de Giz",
           0.667,
           0.44,
           143.843,
           "Cluster 2"
          ],
          [
           "3CRDbSIZ4r5MsZ0YwxuEkn",
           "Stressed Out",
           0.7340000000000001,
           0.637,
           169.977,
           "Cluster 2"
          ]
         ],
         "hoverlabel": {
          "namelength": 0
         },
         "hovertemplate": "Cluster=%{customdata[5]}<br>track_id=%{customdata[0]}<br>track_name=%{customdata[1]}<br>danceability=%{customdata[2]}<br>energy=%{customdata[3]}<br>tempo=%{customdata[4]}",
         "legendgroup": "Cluster=Cluster 2",
         "marker": {
          "color": "#00cc96"
         },
         "name": "Cluster=Cluster 2",
         "notched": true,
         "offsetgroup": "Cluster=Cluster 2",
         "showlegend": false,
         "type": "box",
         "x": [
          "Cluster 2",
          "Cluster 2",
          "Cluster 2",
          "Cluster 2",
          "Cluster 2",
          "Cluster 2",
          "Cluster 2",
          "Cluster 2",
          "Cluster 2",
          "Cluster 2",
          "Cluster 2",
          "Cluster 2",
          "Cluster 2",
          "Cluster 2",
          "Cluster 2",
          "Cluster 2",
          "Cluster 2",
          "Cluster 2",
          "Cluster 2",
          "Cluster 2",
          "Cluster 2",
          "Cluster 2",
          "Cluster 2",
          "Cluster 2",
          "Cluster 2",
          "Cluster 2",
          "Cluster 2",
          "Cluster 2",
          "Cluster 2",
          "Cluster 2",
          "Cluster 2",
          "Cluster 2",
          "Cluster 2",
          "Cluster 2",
          "Cluster 2",
          "Cluster 2",
          "Cluster 2",
          "Cluster 2",
          "Cluster 2",
          "Cluster 2",
          "Cluster 2",
          "Cluster 2",
          "Cluster 2",
          "Cluster 2",
          "Cluster 2",
          "Cluster 2",
          "Cluster 2",
          "Cluster 2",
          "Cluster 2",
          "Cluster 2",
          "Cluster 2",
          "Cluster 2"
         ],
         "xaxis": "x2",
         "yaxis": "y2"
        },
        {
         "alignmentgroup": "True",
         "bingroup": "x",
         "hoverlabel": {
          "namelength": 0
         },
         "hovertemplate": "Cluster=%{x}<br>count=%{y}",
         "legendgroup": "Cluster=Cluster 3",
         "marker": {
          "color": "#ab63fa",
          "opacity": 0.7
         },
         "name": "Cluster=Cluster 3",
         "offsetgroup": "Cluster=Cluster 3",
         "orientation": "v",
         "showlegend": true,
         "type": "histogram",
         "x": [
          "Cluster 3",
          "Cluster 3",
          "Cluster 3",
          "Cluster 3",
          "Cluster 3",
          "Cluster 3",
          "Cluster 3",
          "Cluster 3",
          "Cluster 3",
          "Cluster 3",
          "Cluster 3",
          "Cluster 3",
          "Cluster 3",
          "Cluster 3",
          "Cluster 3",
          "Cluster 3",
          "Cluster 3",
          "Cluster 3",
          "Cluster 3",
          "Cluster 3",
          "Cluster 3",
          "Cluster 3",
          "Cluster 3",
          "Cluster 3",
          "Cluster 3",
          "Cluster 3",
          "Cluster 3",
          "Cluster 3",
          "Cluster 3",
          "Cluster 3",
          "Cluster 3",
          "Cluster 3",
          "Cluster 3",
          "Cluster 3",
          "Cluster 3",
          "Cluster 3",
          "Cluster 3",
          "Cluster 3",
          "Cluster 3",
          "Cluster 3",
          "Cluster 3",
          "Cluster 3",
          "Cluster 3",
          "Cluster 3",
          "Cluster 3",
          "Cluster 3",
          "Cluster 3",
          "Cluster 3",
          "Cluster 3",
          "Cluster 3",
          "Cluster 3",
          "Cluster 3",
          "Cluster 3",
          "Cluster 3",
          "Cluster 3",
          "Cluster 3",
          "Cluster 3",
          "Cluster 3",
          "Cluster 3",
          "Cluster 3",
          "Cluster 3",
          "Cluster 3",
          "Cluster 3",
          "Cluster 3",
          "Cluster 3",
          "Cluster 3",
          "Cluster 3"
         ],
         "xaxis": "x",
         "yaxis": "y"
        },
        {
         "alignmentgroup": "True",
         "customdata": [
          [
           "2IrdHGhifKDX6m2S8vHf1s",
           "A Message to You Rudy",
           0.9059999999999999,
           0.45299999999999996,
           102.98100000000001,
           "Cluster 3"
          ],
          [
           "2udGjDmpK1dH9VGyw7nrei",
           "Cocaine",
           0.6990000000000001,
           0.502,
           105.26700000000001,
           "Cluster 3"
          ],
          [
           "72CPoBQn1XmRhJXS1Vy7O2",
           "We No Speak Americano (JT Radio Edit)",
           0.902,
           0.805,
           124.99600000000001,
           "Cluster 3"
          ],
          [
           "2M9ro2krNb7nr7HSprkEgo",
           "Fast Car",
           0.711,
           0.292,
           103.95100000000001,
           "Cluster 3"
          ],
          [
           "0wfcNeRfE0Z7bTlTYmVKQC",
           "A Casa é Sua",
           0.68,
           0.687,
           79.517,
           "Cluster 3"
          ],
          [
           "2Z8WuEywRWYTKe1NybPQEW",
           "Ride",
           0.645,
           0.713,
           74.98899999999999,
           "Cluster 3"
          ],
          [
           "3YfiGjwBzBsDrYPqAJsD4z",
           "Kiss from a Rose - Acoustic",
           0.659,
           0.40700000000000003,
           119.321,
           "Cluster 3"
          ],
          [
           "6QgjcU0zLnzq5OrUoSZ3OK",
           "Feel It Still",
           0.8009999999999999,
           0.795,
           79.028,
           "Cluster 3"
          ],
          [
           "6i0V12jOa3mr6uu4WYhUBr",
           "Heathens",
           0.732,
           0.396,
           90.024,
           "Cluster 3"
          ],
          [
           "4VywXu6umkIQ2OS0m1I79y",
           "Better Together",
           0.868,
           0.34700000000000003,
           110.059,
           "Cluster 3"
          ],
          [
           "36i9NcqbdQFdQfOROpIwMA",
           "Fico Assim Sem Você",
           0.809,
           0.428,
           121.969,
           "Cluster 3"
          ],
          [
           "1KU5EHSz04JhGg3rReGJ0N",
           "Black Velvet",
           0.754,
           0.366,
           91.147,
           "Cluster 3"
          ],
          [
           "2zFdsAIk9r2Mi7Lmm1w3sM",
           "That's All - 2007 Remaster",
           0.6970000000000001,
           0.627,
           87.695,
           "Cluster 3"
          ],
          [
           "4AHU8QRdwCUWxPC53cw4Hh",
           "Whole Wide World",
           0.752,
           0.54,
           114.21700000000001,
           "Cluster 3"
          ],
          [
           "1jdNcAD8Ir58RlsdGjJJdx",
           "Ho Hey",
           0.685,
           0.474,
           79.991,
           "Cluster 3"
          ],
          [
           "3OkHIS1p4y2F8TdVKWZfod",
           "Juste un inconnu",
           0.8690000000000001,
           0.38299999999999995,
           129.02100000000002,
           "Cluster 3"
          ],
          [
           "2LawezPeJhN4AWuSB0GtAU",
           "Have You Ever Seen The Rain",
           0.741,
           0.6970000000000001,
           116.109,
           "Cluster 3"
          ],
          [
           "6c9FQiAlvzMaTc3HrLqSRx",
           "The Way You Look Tonight",
           0.8059999999999999,
           0.485,
           104.83200000000001,
           "Cluster 3"
          ],
          [
           "1jF7IL57ayN4Ity3jQqGu0",
           "Try",
           0.6729999999999999,
           0.629,
           103.99799999999999,
           "Cluster 3"
          ],
          [
           "36482hNESSwELpr9sS3NbE",
           "A Little Party Never Killed Nobody (All We Got)",
           0.7609999999999999,
           0.619,
           129.998,
           "Cluster 3"
          ],
          [
           "0uqPG793dkDDN7sCUJJIVC",
           "Where Is The Love?",
           0.835,
           0.687,
           94.059,
           "Cluster 3"
          ],
          [
           "1vxw6aYJls2oq3gW0DujAo",
           "Crazy",
           0.855,
           0.5870000000000001,
           111.97,
           "Cluster 3"
          ],
          [
           "5uCdgBAqYPWQ2HGpJVGAeD",
           "Get Up I Feel Like Being A Sex Machine - Pt. 1 / Single Version",
           0.802,
           0.6609999999999999,
           107.774,
           "Cluster 3"
          ],
          [
           "0BCF5r2criwyGRSN3n36re",
           "Andar com fé",
           0.774,
           0.647,
           95.098,
           "Cluster 3"
          ],
          [
           "6OSUZBGoQJOhbSrmvLrNa8",
           "Space Cowboy",
           0.635,
           0.5379999999999999,
           110.805,
           "Cluster 3"
          ],
          [
           "2dR5WkrpwylTuT3jRWNufa",
           "Fly Me To The Moon - Remastered",
           0.67,
           0.365,
           119.344,
           "Cluster 3"
          ],
          [
           "77QC2Lgrj6PG7H4HI6yNzS",
           "Meu Guarda-Chuva",
           0.787,
           0.612,
           154.033,
           "Cluster 3"
          ],
          [
           "2nwCO1PqpvyoFIvq3Vrj8N",
           "These Boots Are Made For Walkin'",
           0.74,
           0.392,
           82.742,
           "Cluster 3"
          ],
          [
           "4bz7uB4edifWKJXSDxwHcs",
           "Galvanize",
           0.745,
           0.7140000000000001,
           104.00299999999999,
           "Cluster 3"
          ],
          [
           "3m6KkYKdnbffMpGd9Pm9FP",
           "Seven Nation Army",
           0.745,
           0.466,
           123.889,
           "Cluster 3"
          ],
          [
           "5VwQYHpyQPhiToPKWJaHiO",
           "I Can't Dance",
           0.941,
           0.49700000000000005,
           107.552,
           "Cluster 3"
          ],
          [
           "3erAiWBiKsbVG39cqCrsI0",
           "Human",
           0.643,
           0.698,
           75.07300000000001,
           "Cluster 3"
          ],
          [
           "3cR6v2bOwqi7znC8P5Vs1T",
           "Maracatu Atômico",
           0.748,
           0.7290000000000001,
           95.743,
           "Cluster 3"
          ],
          [
           "0bQLIdNVBA46reRFqeSz3y",
           "Mais Que Nada",
           0.649,
           0.569,
           88.95299999999999,
           "Cluster 3"
          ],
          [
           "2Z5d1taNoyOoxRQQDazMWR",
           "Samba Lelê",
           0.894,
           0.79,
           96.024,
           "Cluster 3"
          ],
          [
           "76cWfrsIopzpOsWDPBjNJ7",
           "A Banda",
           0.723,
           0.517,
           118.554,
           "Cluster 3"
          ],
          [
           "4v4woUHljv9XQPSOSNwFcG",
           "Só Tinha De Ser Com Voce (Com Tom)",
           0.7959999999999999,
           0.385,
           119.932,
           "Cluster 3"
          ],
          [
           "0oxnbj3KvvMl5khReTSn59",
           "Wish You Were Here",
           0.7909999999999999,
           0.569,
           143.97799999999998,
           "Cluster 3"
          ],
          [
           "3voQ4FSnDNKEKuBNeJjAR5",
           "Malemolencia",
           0.846,
           0.564,
           141.886,
           "Cluster 3"
          ],
          [
           "6mPCZm2rCaTledoBjTqSRl",
           "All About That Bass - Live from Spotify London",
           0.775,
           0.528,
           135.197,
           "Cluster 3"
          ],
          [
           "0SrDqCmn2ClzEzNkAZYc2Y",
           "Bete Balanço",
           0.782,
           0.705,
           116.96700000000001,
           "Cluster 3"
          ],
          [
           "46gLyFY3qZAoXpulDt6dPq",
           "Respect",
           0.821,
           0.496,
           114.605,
           "Cluster 3"
          ],
          [
           "5RFG9IVkzxE4LhObpIJncY",
           "Under My Thumb",
           0.73,
           0.555,
           126.959,
           "Cluster 3"
          ],
          [
           "0CufeoNTkYAgTkTQsX7T5o",
           "Get Down On It - Single Version",
           0.879,
           0.644,
           110.87200000000001,
           "Cluster 3"
          ],
          [
           "4gMgiXfqyzZLMhsksGmbQV",
           "Another Brick in the Wall, Pt. 2",
           0.6940000000000001,
           0.39399999999999996,
           104.126,
           "Cluster 3"
          ],
          [
           "1N10tJPyQ70QcMLxhobSbJ",
           "O Mar Serenou",
           0.706,
           0.52,
           85.568,
           "Cluster 3"
          ],
          [
           "5gEuWtxcn5Vz4xpT7dBoBU",
           "The Thrill Is Gone",
           0.6920000000000001,
           0.493,
           86.64399999999999,
           "Cluster 3"
          ],
          [
           "2EYilkg1F79h8ch4f4Csii",
           "Segue o Som",
           0.7809999999999999,
           0.544,
           92.00200000000001,
           "Cluster 3"
          ],
          [
           "6fR4It0y0RdwwjBRVIr405",
           "I Follow Rivers",
           0.596,
           0.529,
           110.03200000000001,
           "Cluster 3"
          ],
          [
           "6A3Q8BVAAI2PW1s6MX4ZGF",
           "Boa Sorte / Good Luck",
           0.779,
           0.5660000000000001,
           111.022,
           "Cluster 3"
          ],
          [
           "2ukW9zOr51AYeLSmCtTVqW",
           "Não Me Deixe Só",
           0.731,
           0.469,
           107.09299999999999,
           "Cluster 3"
          ],
          [
           "5ua6ByZaOw4hlMP6i8Vjdz",
           "Tá perdoado",
           0.78,
           0.5710000000000001,
           102.02600000000001,
           "Cluster 3"
          ],
          [
           "2zhHYs0W7I891mfT4KGJ4d",
           "Nosso Pequeno Castelo",
           0.773,
           0.638,
           108.962,
           "Cluster 3"
          ],
          [
           "7xpDGoUGbtaquk5xMvzwTh",
           "Telegrama",
           0.643,
           0.501,
           94.514,
           "Cluster 3"
          ],
          [
           "2gE95JskwQ1pCACTpGe1Db",
           "Down On The Corner",
           0.858,
           0.544,
           108.21700000000001,
           "Cluster 3"
          ],
          [
           "4tb7A6O8cE2UzELRTwU3KZ",
           "Só Tinha De Ser Com Você",
           0.807,
           0.47600000000000003,
           119.729,
           "Cluster 3"
          ],
          [
           "5W7fIifB8wRBPN6yOcHpi2",
           "Samba de uma nota só",
           0.7240000000000001,
           0.573,
           88.02799999999999,
           "Cluster 3"
          ],
          [
           "7CdDIvw3jvjNaIs5m3mM4A",
           "La Belle De Jour",
           0.644,
           0.40399999999999997,
           105.06200000000001,
           "Cluster 3"
          ],
          [
           "6ZKlm17z22OxkzgemE4aos",
           "Addicted To Love",
           0.703,
           0.579,
           111.583,
           "Cluster 3"
          ],
          [
           "6Nabz5Gsy80XL0MJoOmgF8",
           "Beds Are Burning - Remastered",
           0.754,
           0.496,
           119.186,
           "Cluster 3"
          ],
          [
           "3M5eeHXgG4VplKNcsBC8Dj",
           "Signed, Sealed, Delivered (I'm Yours)",
           0.67,
           0.619,
           108.82600000000001,
           "Cluster 3"
          ],
          [
           "0p20xyAdYkaxAPWdXr0sir",
           "I Love Rock 'n' Roll",
           0.762,
           0.48200000000000004,
           94.009,
           "Cluster 3"
          ],
          [
           "7DoBn08dqKS9MmtZiZChVD",
           "Garota Nacional",
           0.86,
           0.768,
           130.108,
           "Cluster 3"
          ],
          [
           "2PnNomkEqlg9ADKCVG0Wt0",
           "Every Breath You Take",
           0.8290000000000001,
           0.434,
           117.399,
           "Cluster 3"
          ],
          [
           "7lo43I6slQYrmMZQYb99PC",
           "A Visita",
           0.74,
           0.581,
           103.429,
           "Cluster 3"
          ],
          [
           "1U5zdT78JN2K5PPJEgyoLG",
           "Meu Erro",
           0.792,
           0.506,
           104.397,
           "Cluster 3"
          ],
          [
           "73L7X1wQ2d7Y91pT4ElexT",
           "Safety Dance",
           0.76,
           0.612,
           101.38600000000001,
           "Cluster 3"
          ]
         ],
         "hoverlabel": {
          "namelength": 0
         },
         "hovertemplate": "Cluster=%{customdata[5]}<br>track_id=%{customdata[0]}<br>track_name=%{customdata[1]}<br>danceability=%{customdata[2]}<br>energy=%{customdata[3]}<br>tempo=%{customdata[4]}",
         "legendgroup": "Cluster=Cluster 3",
         "marker": {
          "color": "#ab63fa"
         },
         "name": "Cluster=Cluster 3",
         "notched": true,
         "offsetgroup": "Cluster=Cluster 3",
         "showlegend": false,
         "type": "box",
         "x": [
          "Cluster 3",
          "Cluster 3",
          "Cluster 3",
          "Cluster 3",
          "Cluster 3",
          "Cluster 3",
          "Cluster 3",
          "Cluster 3",
          "Cluster 3",
          "Cluster 3",
          "Cluster 3",
          "Cluster 3",
          "Cluster 3",
          "Cluster 3",
          "Cluster 3",
          "Cluster 3",
          "Cluster 3",
          "Cluster 3",
          "Cluster 3",
          "Cluster 3",
          "Cluster 3",
          "Cluster 3",
          "Cluster 3",
          "Cluster 3",
          "Cluster 3",
          "Cluster 3",
          "Cluster 3",
          "Cluster 3",
          "Cluster 3",
          "Cluster 3",
          "Cluster 3",
          "Cluster 3",
          "Cluster 3",
          "Cluster 3",
          "Cluster 3",
          "Cluster 3",
          "Cluster 3",
          "Cluster 3",
          "Cluster 3",
          "Cluster 3",
          "Cluster 3",
          "Cluster 3",
          "Cluster 3",
          "Cluster 3",
          "Cluster 3",
          "Cluster 3",
          "Cluster 3",
          "Cluster 3",
          "Cluster 3",
          "Cluster 3",
          "Cluster 3",
          "Cluster 3",
          "Cluster 3",
          "Cluster 3",
          "Cluster 3",
          "Cluster 3",
          "Cluster 3",
          "Cluster 3",
          "Cluster 3",
          "Cluster 3",
          "Cluster 3",
          "Cluster 3",
          "Cluster 3",
          "Cluster 3",
          "Cluster 3",
          "Cluster 3",
          "Cluster 3"
         ],
         "xaxis": "x2",
         "yaxis": "y2"
        },
        {
         "alignmentgroup": "True",
         "bingroup": "x",
         "hoverlabel": {
          "namelength": 0
         },
         "hovertemplate": "Cluster=%{x}<br>count=%{y}",
         "legendgroup": "Cluster=Cluster 4",
         "marker": {
          "color": "#FFA15A",
          "opacity": 0.7
         },
         "name": "Cluster=Cluster 4",
         "offsetgroup": "Cluster=Cluster 4",
         "orientation": "v",
         "showlegend": true,
         "type": "histogram",
         "x": [
          "Cluster 4",
          "Cluster 4",
          "Cluster 4",
          "Cluster 4",
          "Cluster 4",
          "Cluster 4",
          "Cluster 4",
          "Cluster 4",
          "Cluster 4",
          "Cluster 4",
          "Cluster 4",
          "Cluster 4",
          "Cluster 4",
          "Cluster 4",
          "Cluster 4",
          "Cluster 4",
          "Cluster 4",
          "Cluster 4",
          "Cluster 4",
          "Cluster 4",
          "Cluster 4",
          "Cluster 4",
          "Cluster 4",
          "Cluster 4",
          "Cluster 4",
          "Cluster 4",
          "Cluster 4",
          "Cluster 4",
          "Cluster 4",
          "Cluster 4",
          "Cluster 4",
          "Cluster 4",
          "Cluster 4",
          "Cluster 4",
          "Cluster 4",
          "Cluster 4",
          "Cluster 4",
          "Cluster 4",
          "Cluster 4",
          "Cluster 4",
          "Cluster 4"
         ],
         "xaxis": "x",
         "yaxis": "y"
        },
        {
         "alignmentgroup": "True",
         "customdata": [
          [
           "3AnQw2w00WUDHMKmtXGvVx",
           "The Sea",
           0.535,
           0.7609999999999999,
           149.968,
           "Cluster 4"
          ],
          [
           "3INsYP1Y8GG4qJvBsKCdXC",
           "Don't Stop Me Now - ...Revisited",
           0.465,
           0.917,
           155.061,
           "Cluster 4"
          ],
          [
           "2hlqCFahLVgdBIbY3yTrAb",
           "Rose's Thorn",
           0.537,
           0.8590000000000001,
           157.98,
           "Cluster 4"
          ],
          [
           "51sjYvAPyoR7CQB1NQUgXJ",
           "Sing",
           0.332,
           0.9,
           163.534,
           "Cluster 4"
          ],
          [
           "1hlveB9M6ijHZRbzZ2teyh",
           "We're Not Gonna Take It",
           0.502,
           0.924,
           149.186,
           "Cluster 4"
          ],
          [
           "7wHiBFYJHp2MHjwyYV7xCZ",
           "Meu Lugar",
           0.32299999999999995,
           0.655,
           164.77,
           "Cluster 4"
          ],
          [
           "1FZ90IoWFZlubV6bjyyEwq",
           "Faded - Dash Berlin Remix",
           0.38799999999999996,
           0.915,
           127.823,
           "Cluster 4"
          ],
          [
           "7KkzVlps826NezcpXPvEuV",
           "Johnny B. Goode",
           0.502,
           0.9309999999999999,
           166.407,
           "Cluster 4"
          ],
          [
           "4MR9iW77LJoPPDjwAYbIZZ",
           "You Know My Name - From \"Casino Royale\" Soundtrack",
           0.368,
           0.8640000000000001,
           137.526,
           "Cluster 4"
          ],
          [
           "0UvCh63URrLFcPkKt99hHd",
           "Don't Look Back in Anger - Remastered",
           0.327,
           0.938,
           162.937,
           "Cluster 4"
          ],
          [
           "0YwBZKT8JE4U5TwmYE9BV9",
           "Radio Ga Ga - Live Aid",
           0.406,
           0.934,
           118.823,
           "Cluster 4"
          ],
          [
           "34pz8XUZRfw04lk4DPtwa7",
           "Keep Yourself Alive - Live At The Rainbow",
           0.308,
           0.975,
           138.974,
           "Cluster 4"
          ],
          [
           "646J2jOtUe4Jflrmh6JFjN",
           "Bring Me To Life",
           0.312,
           0.946,
           189.892,
           "Cluster 4"
          ],
          [
           "1xNmF1Uep5OGutizZSbKvd",
           "One Of Us",
           0.316,
           0.499,
           174.782,
           "Cluster 4"
          ],
          [
           "2fY6tqgrlrg1ky9fgs0t5u",
           "Wanted Dead Or Alive",
           0.257,
           0.8029999999999999,
           150.81799999999998,
           "Cluster 4"
          ],
          [
           "5VzvK7YiwWbRePA2JOzhYq",
           "Because the Night - MTV Unplugged Version",
           0.408,
           0.79,
           122.624,
           "Cluster 4"
          ],
          [
           "7fxpqs4G8vj3rFYbJnsG7w",
           "Shitlist",
           0.419,
           0.9159999999999999,
           128.98,
           "Cluster 4"
          ],
          [
           "2zJespNLwpMVcD8bPyaFef",
           "O Segundo Sol - Acoustic",
           0.424,
           0.713,
           151.281,
           "Cluster 4"
          ],
          [
           "6I7GpxOjlDzO1Iur14FEfy",
           "Óculos",
           0.5329999999999999,
           0.701,
           181.372,
           "Cluster 4"
          ],
          [
           "7qvxFz3JodM0A7xEM7k3YD",
           "Chained To The Rhythm",
           0.446,
           0.8,
           189.89,
           "Cluster 4"
          ],
          [
           "7yCPwWs66K8Ba5lFuU2bcx",
           "All The Small Things",
           0.439,
           0.8909999999999999,
           148.599,
           "Cluster 4"
          ],
          [
           "2cZKVvZYfuoTtdha8FEGQi",
           "Relicário - Ao Vivo",
           0.3,
           0.7,
           165.642,
           "Cluster 4"
          ],
          [
           "3SBypTHvrB7Dc7Jai9FmI1",
           "Cérebro Eletrônico",
           0.414,
           0.815,
           122.805,
           "Cluster 4"
          ],
          [
           "2aksifNn5ph8igDOkPBA02",
           "Love On The Brain",
           0.509,
           0.637,
           172.00599999999997,
           "Cluster 4"
          ],
          [
           "7FQSAiopqWOgCGqUNbDvh3",
           "Paranoid",
           0.429,
           0.631,
           162.734,
           "Cluster 4"
          ],
          [
           "3vV3cr2TpPqFk07zxYUbla",
           "Cum on Feel the Noize",
           0.409,
           0.92,
           145.085,
           "Cluster 4"
          ],
          [
           "1gKmnrz6SzJlGMNRKBLx1V",
           "One Way Or Another",
           0.47,
           0.7959999999999999,
           161.414,
           "Cluster 4"
          ],
          [
           "3G69vJMWsX6ZohTykad2AU",
           "One",
           0.392,
           0.534,
           181.305,
           "Cluster 4"
          ],
          [
           "3sw1PM6wj5aUq3kDrHJsk8",
           "Shiny Happy People",
           0.45299999999999996,
           0.9079999999999999,
           124.59200000000001,
           "Cluster 4"
          ],
          [
           "1eujVQsT9v7ZTtvAkTEdZr",
           "Piece Of My Heart",
           0.429,
           0.665,
           160.499,
           "Cluster 4"
          ],
          [
           "5xC8uOesnn0udeXAYlAnoY",
           "Alright",
           0.467,
           0.958,
           145.92,
           "Cluster 4"
          ],
          [
           "3bDGwl0X3EjQmIyFD1uif5",
           "Roar",
           0.56,
           0.7559999999999999,
           179.771,
           "Cluster 4"
          ],
          [
           "0LEoCPq4QlV2h41Fm5ENJ3",
           "Common People",
           0.319,
           0.8390000000000001,
           144.938,
           "Cluster 4"
          ],
          [
           "08mG3Y1vljYA6bvDt4Wqkj",
           "Back In Black",
           0.31,
           0.7,
           188.386,
           "Cluster 4"
          ],
          [
           "3yP0cohcr97BUNJcgvmSVg",
           "The Passenger",
           0.5,
           0.846,
           134.937,
           "Cluster 4"
          ],
          [
           "3k9i7UzeSUYWIfUZFeFDUd",
           "Layla - 40th Anniversary Version / 2010 Remastered",
           0.40399999999999997,
           0.903,
           115.67200000000001,
           "Cluster 4"
          ],
          [
           "1RJeiAIwR9pZBgJA8ndZLL",
           "Paint It, Black - Mono",
           0.505,
           0.836,
           159.66899999999998,
           "Cluster 4"
          ],
          [
           "6rs96E1pfzZgBdNQKqOjEy",
           "O segundo sol",
           0.33899999999999997,
           0.882,
           154.202,
           "Cluster 4"
          ],
          [
           "0aJzrpwqEdGZQsSHLvbbpz",
           "Vou Deixar",
           0.509,
           0.846,
           135.844,
           "Cluster 4"
          ],
          [
           "6Qyc6fS4DsZjB2mRW9DsQs",
           "Iris",
           0.315,
           0.715,
           155.925,
           "Cluster 4"
          ],
          [
           "63T7DJ1AFDD6Bn8VzG6JE8",
           "Paint It, Black",
           0.46399999999999997,
           0.795,
           158.691,
           "Cluster 4"
          ]
         ],
         "hoverlabel": {
          "namelength": 0
         },
         "hovertemplate": "Cluster=%{customdata[5]}<br>track_id=%{customdata[0]}<br>track_name=%{customdata[1]}<br>danceability=%{customdata[2]}<br>energy=%{customdata[3]}<br>tempo=%{customdata[4]}",
         "legendgroup": "Cluster=Cluster 4",
         "marker": {
          "color": "#FFA15A"
         },
         "name": "Cluster=Cluster 4",
         "notched": true,
         "offsetgroup": "Cluster=Cluster 4",
         "showlegend": false,
         "type": "box",
         "x": [
          "Cluster 4",
          "Cluster 4",
          "Cluster 4",
          "Cluster 4",
          "Cluster 4",
          "Cluster 4",
          "Cluster 4",
          "Cluster 4",
          "Cluster 4",
          "Cluster 4",
          "Cluster 4",
          "Cluster 4",
          "Cluster 4",
          "Cluster 4",
          "Cluster 4",
          "Cluster 4",
          "Cluster 4",
          "Cluster 4",
          "Cluster 4",
          "Cluster 4",
          "Cluster 4",
          "Cluster 4",
          "Cluster 4",
          "Cluster 4",
          "Cluster 4",
          "Cluster 4",
          "Cluster 4",
          "Cluster 4",
          "Cluster 4",
          "Cluster 4",
          "Cluster 4",
          "Cluster 4",
          "Cluster 4",
          "Cluster 4",
          "Cluster 4",
          "Cluster 4",
          "Cluster 4",
          "Cluster 4",
          "Cluster 4",
          "Cluster 4",
          "Cluster 4"
         ],
         "xaxis": "x2",
         "yaxis": "y2"
        }
       ],
       "layout": {
        "barmode": "relative",
        "legend": {
         "tracegroupgap": 0
        },
        "margin": {
         "t": 60
        },
        "template": {
         "data": {
          "bar": [
           {
            "error_x": {
             "color": "#2a3f5f"
            },
            "error_y": {
             "color": "#2a3f5f"
            },
            "marker": {
             "line": {
              "color": "#E5ECF6",
              "width": 0.5
             }
            },
            "type": "bar"
           }
          ],
          "barpolar": [
           {
            "marker": {
             "line": {
              "color": "#E5ECF6",
              "width": 0.5
             }
            },
            "type": "barpolar"
           }
          ],
          "carpet": [
           {
            "aaxis": {
             "endlinecolor": "#2a3f5f",
             "gridcolor": "white",
             "linecolor": "white",
             "minorgridcolor": "white",
             "startlinecolor": "#2a3f5f"
            },
            "baxis": {
             "endlinecolor": "#2a3f5f",
             "gridcolor": "white",
             "linecolor": "white",
             "minorgridcolor": "white",
             "startlinecolor": "#2a3f5f"
            },
            "type": "carpet"
           }
          ],
          "choropleth": [
           {
            "colorbar": {
             "outlinewidth": 0,
             "ticks": ""
            },
            "type": "choropleth"
           }
          ],
          "contour": [
           {
            "colorbar": {
             "outlinewidth": 0,
             "ticks": ""
            },
            "colorscale": [
             [
              0,
              "#0d0887"
             ],
             [
              0.1111111111111111,
              "#46039f"
             ],
             [
              0.2222222222222222,
              "#7201a8"
             ],
             [
              0.3333333333333333,
              "#9c179e"
             ],
             [
              0.4444444444444444,
              "#bd3786"
             ],
             [
              0.5555555555555556,
              "#d8576b"
             ],
             [
              0.6666666666666666,
              "#ed7953"
             ],
             [
              0.7777777777777778,
              "#fb9f3a"
             ],
             [
              0.8888888888888888,
              "#fdca26"
             ],
             [
              1,
              "#f0f921"
             ]
            ],
            "type": "contour"
           }
          ],
          "contourcarpet": [
           {
            "colorbar": {
             "outlinewidth": 0,
             "ticks": ""
            },
            "type": "contourcarpet"
           }
          ],
          "heatmap": [
           {
            "colorbar": {
             "outlinewidth": 0,
             "ticks": ""
            },
            "colorscale": [
             [
              0,
              "#0d0887"
             ],
             [
              0.1111111111111111,
              "#46039f"
             ],
             [
              0.2222222222222222,
              "#7201a8"
             ],
             [
              0.3333333333333333,
              "#9c179e"
             ],
             [
              0.4444444444444444,
              "#bd3786"
             ],
             [
              0.5555555555555556,
              "#d8576b"
             ],
             [
              0.6666666666666666,
              "#ed7953"
             ],
             [
              0.7777777777777778,
              "#fb9f3a"
             ],
             [
              0.8888888888888888,
              "#fdca26"
             ],
             [
              1,
              "#f0f921"
             ]
            ],
            "type": "heatmap"
           }
          ],
          "heatmapgl": [
           {
            "colorbar": {
             "outlinewidth": 0,
             "ticks": ""
            },
            "colorscale": [
             [
              0,
              "#0d0887"
             ],
             [
              0.1111111111111111,
              "#46039f"
             ],
             [
              0.2222222222222222,
              "#7201a8"
             ],
             [
              0.3333333333333333,
              "#9c179e"
             ],
             [
              0.4444444444444444,
              "#bd3786"
             ],
             [
              0.5555555555555556,
              "#d8576b"
             ],
             [
              0.6666666666666666,
              "#ed7953"
             ],
             [
              0.7777777777777778,
              "#fb9f3a"
             ],
             [
              0.8888888888888888,
              "#fdca26"
             ],
             [
              1,
              "#f0f921"
             ]
            ],
            "type": "heatmapgl"
           }
          ],
          "histogram": [
           {
            "marker": {
             "colorbar": {
              "outlinewidth": 0,
              "ticks": ""
             }
            },
            "type": "histogram"
           }
          ],
          "histogram2d": [
           {
            "colorbar": {
             "outlinewidth": 0,
             "ticks": ""
            },
            "colorscale": [
             [
              0,
              "#0d0887"
             ],
             [
              0.1111111111111111,
              "#46039f"
             ],
             [
              0.2222222222222222,
              "#7201a8"
             ],
             [
              0.3333333333333333,
              "#9c179e"
             ],
             [
              0.4444444444444444,
              "#bd3786"
             ],
             [
              0.5555555555555556,
              "#d8576b"
             ],
             [
              0.6666666666666666,
              "#ed7953"
             ],
             [
              0.7777777777777778,
              "#fb9f3a"
             ],
             [
              0.8888888888888888,
              "#fdca26"
             ],
             [
              1,
              "#f0f921"
             ]
            ],
            "type": "histogram2d"
           }
          ],
          "histogram2dcontour": [
           {
            "colorbar": {
             "outlinewidth": 0,
             "ticks": ""
            },
            "colorscale": [
             [
              0,
              "#0d0887"
             ],
             [
              0.1111111111111111,
              "#46039f"
             ],
             [
              0.2222222222222222,
              "#7201a8"
             ],
             [
              0.3333333333333333,
              "#9c179e"
             ],
             [
              0.4444444444444444,
              "#bd3786"
             ],
             [
              0.5555555555555556,
              "#d8576b"
             ],
             [
              0.6666666666666666,
              "#ed7953"
             ],
             [
              0.7777777777777778,
              "#fb9f3a"
             ],
             [
              0.8888888888888888,
              "#fdca26"
             ],
             [
              1,
              "#f0f921"
             ]
            ],
            "type": "histogram2dcontour"
           }
          ],
          "mesh3d": [
           {
            "colorbar": {
             "outlinewidth": 0,
             "ticks": ""
            },
            "type": "mesh3d"
           }
          ],
          "parcoords": [
           {
            "line": {
             "colorbar": {
              "outlinewidth": 0,
              "ticks": ""
             }
            },
            "type": "parcoords"
           }
          ],
          "pie": [
           {
            "automargin": true,
            "type": "pie"
           }
          ],
          "scatter": [
           {
            "marker": {
             "colorbar": {
              "outlinewidth": 0,
              "ticks": ""
             }
            },
            "type": "scatter"
           }
          ],
          "scatter3d": [
           {
            "line": {
             "colorbar": {
              "outlinewidth": 0,
              "ticks": ""
             }
            },
            "marker": {
             "colorbar": {
              "outlinewidth": 0,
              "ticks": ""
             }
            },
            "type": "scatter3d"
           }
          ],
          "scattercarpet": [
           {
            "marker": {
             "colorbar": {
              "outlinewidth": 0,
              "ticks": ""
             }
            },
            "type": "scattercarpet"
           }
          ],
          "scattergeo": [
           {
            "marker": {
             "colorbar": {
              "outlinewidth": 0,
              "ticks": ""
             }
            },
            "type": "scattergeo"
           }
          ],
          "scattergl": [
           {
            "marker": {
             "colorbar": {
              "outlinewidth": 0,
              "ticks": ""
             }
            },
            "type": "scattergl"
           }
          ],
          "scattermapbox": [
           {
            "marker": {
             "colorbar": {
              "outlinewidth": 0,
              "ticks": ""
             }
            },
            "type": "scattermapbox"
           }
          ],
          "scatterpolar": [
           {
            "marker": {
             "colorbar": {
              "outlinewidth": 0,
              "ticks": ""
             }
            },
            "type": "scatterpolar"
           }
          ],
          "scatterpolargl": [
           {
            "marker": {
             "colorbar": {
              "outlinewidth": 0,
              "ticks": ""
             }
            },
            "type": "scatterpolargl"
           }
          ],
          "scatterternary": [
           {
            "marker": {
             "colorbar": {
              "outlinewidth": 0,
              "ticks": ""
             }
            },
            "type": "scatterternary"
           }
          ],
          "surface": [
           {
            "colorbar": {
             "outlinewidth": 0,
             "ticks": ""
            },
            "colorscale": [
             [
              0,
              "#0d0887"
             ],
             [
              0.1111111111111111,
              "#46039f"
             ],
             [
              0.2222222222222222,
              "#7201a8"
             ],
             [
              0.3333333333333333,
              "#9c179e"
             ],
             [
              0.4444444444444444,
              "#bd3786"
             ],
             [
              0.5555555555555556,
              "#d8576b"
             ],
             [
              0.6666666666666666,
              "#ed7953"
             ],
             [
              0.7777777777777778,
              "#fb9f3a"
             ],
             [
              0.8888888888888888,
              "#fdca26"
             ],
             [
              1,
              "#f0f921"
             ]
            ],
            "type": "surface"
           }
          ],
          "table": [
           {
            "cells": {
             "fill": {
              "color": "#EBF0F8"
             },
             "line": {
              "color": "white"
             }
            },
            "header": {
             "fill": {
              "color": "#C8D4E3"
             },
             "line": {
              "color": "white"
             }
            },
            "type": "table"
           }
          ]
         },
         "layout": {
          "annotationdefaults": {
           "arrowcolor": "#2a3f5f",
           "arrowhead": 0,
           "arrowwidth": 1
          },
          "coloraxis": {
           "colorbar": {
            "outlinewidth": 0,
            "ticks": ""
           }
          },
          "colorscale": {
           "diverging": [
            [
             0,
             "#8e0152"
            ],
            [
             0.1,
             "#c51b7d"
            ],
            [
             0.2,
             "#de77ae"
            ],
            [
             0.3,
             "#f1b6da"
            ],
            [
             0.4,
             "#fde0ef"
            ],
            [
             0.5,
             "#f7f7f7"
            ],
            [
             0.6,
             "#e6f5d0"
            ],
            [
             0.7,
             "#b8e186"
            ],
            [
             0.8,
             "#7fbc41"
            ],
            [
             0.9,
             "#4d9221"
            ],
            [
             1,
             "#276419"
            ]
           ],
           "sequential": [
            [
             0,
             "#0d0887"
            ],
            [
             0.1111111111111111,
             "#46039f"
            ],
            [
             0.2222222222222222,
             "#7201a8"
            ],
            [
             0.3333333333333333,
             "#9c179e"
            ],
            [
             0.4444444444444444,
             "#bd3786"
            ],
            [
             0.5555555555555556,
             "#d8576b"
            ],
            [
             0.6666666666666666,
             "#ed7953"
            ],
            [
             0.7777777777777778,
             "#fb9f3a"
            ],
            [
             0.8888888888888888,
             "#fdca26"
            ],
            [
             1,
             "#f0f921"
            ]
           ],
           "sequentialminus": [
            [
             0,
             "#0d0887"
            ],
            [
             0.1111111111111111,
             "#46039f"
            ],
            [
             0.2222222222222222,
             "#7201a8"
            ],
            [
             0.3333333333333333,
             "#9c179e"
            ],
            [
             0.4444444444444444,
             "#bd3786"
            ],
            [
             0.5555555555555556,
             "#d8576b"
            ],
            [
             0.6666666666666666,
             "#ed7953"
            ],
            [
             0.7777777777777778,
             "#fb9f3a"
            ],
            [
             0.8888888888888888,
             "#fdca26"
            ],
            [
             1,
             "#f0f921"
            ]
           ]
          },
          "colorway": [
           "#636efa",
           "#EF553B",
           "#00cc96",
           "#ab63fa",
           "#FFA15A",
           "#19d3f3",
           "#FF6692",
           "#B6E880",
           "#FF97FF",
           "#FECB52"
          ],
          "font": {
           "color": "#2a3f5f"
          },
          "geo": {
           "bgcolor": "white",
           "lakecolor": "white",
           "landcolor": "#E5ECF6",
           "showlakes": true,
           "showland": true,
           "subunitcolor": "white"
          },
          "hoverlabel": {
           "align": "left"
          },
          "hovermode": "closest",
          "mapbox": {
           "style": "light"
          },
          "paper_bgcolor": "white",
          "plot_bgcolor": "#E5ECF6",
          "polar": {
           "angularaxis": {
            "gridcolor": "white",
            "linecolor": "white",
            "ticks": ""
           },
           "bgcolor": "#E5ECF6",
           "radialaxis": {
            "gridcolor": "white",
            "linecolor": "white",
            "ticks": ""
           }
          },
          "scene": {
           "xaxis": {
            "backgroundcolor": "#E5ECF6",
            "gridcolor": "white",
            "gridwidth": 2,
            "linecolor": "white",
            "showbackground": true,
            "ticks": "",
            "zerolinecolor": "white"
           },
           "yaxis": {
            "backgroundcolor": "#E5ECF6",
            "gridcolor": "white",
            "gridwidth": 2,
            "linecolor": "white",
            "showbackground": true,
            "ticks": "",
            "zerolinecolor": "white"
           },
           "zaxis": {
            "backgroundcolor": "#E5ECF6",
            "gridcolor": "white",
            "gridwidth": 2,
            "linecolor": "white",
            "showbackground": true,
            "ticks": "",
            "zerolinecolor": "white"
           }
          },
          "shapedefaults": {
           "line": {
            "color": "#2a3f5f"
           }
          },
          "ternary": {
           "aaxis": {
            "gridcolor": "white",
            "linecolor": "white",
            "ticks": ""
           },
           "baxis": {
            "gridcolor": "white",
            "linecolor": "white",
            "ticks": ""
           },
           "bgcolor": "#E5ECF6",
           "caxis": {
            "gridcolor": "white",
            "linecolor": "white",
            "ticks": ""
           }
          },
          "title": {
           "x": 0.05
          },
          "xaxis": {
           "automargin": true,
           "gridcolor": "white",
           "linecolor": "white",
           "ticks": "",
           "title": {
            "standoff": 15
           },
           "zerolinecolor": "white",
           "zerolinewidth": 2
          },
          "yaxis": {
           "automargin": true,
           "gridcolor": "white",
           "linecolor": "white",
           "ticks": "",
           "title": {
            "standoff": 15
           },
           "zerolinecolor": "white",
           "zerolinewidth": 2
          }
         }
        },
        "xaxis": {
         "anchor": "y",
         "categoryarray": [
          "Cluster 0",
          "Cluster 1",
          "Cluster 2",
          "Cluster 3",
          "Cluster 4"
         ],
         "categoryorder": "array",
         "domain": [
          0,
          1
         ],
         "title": {
          "text": "Cluster"
         }
        },
        "xaxis2": {
         "anchor": "y2",
         "domain": [
          0,
          1
         ],
         "matches": "x",
         "showgrid": true,
         "showticklabels": false
        },
        "yaxis": {
         "anchor": "x",
         "domain": [
          0,
          0.7326
         ],
         "title": {
          "text": "count"
         }
        },
        "yaxis2": {
         "anchor": "x2",
         "domain": [
          0.7426,
          1
         ],
         "matches": "y2",
         "showgrid": false,
         "showline": false,
         "showticklabels": false,
         "ticks": ""
        }
       }
      },
      "text/html": [
       "<div>\n",
       "        \n",
       "        \n",
       "            <div id=\"d67e7d93-a41b-4862-a137-aa74beff643c\" class=\"plotly-graph-div\" style=\"height:525px; width:100%;\"></div>\n",
       "            <script type=\"text/javascript\">\n",
       "                require([\"plotly\"], function(Plotly) {\n",
       "                    window.PLOTLYENV=window.PLOTLYENV || {};\n",
       "                    \n",
       "                if (document.getElementById(\"d67e7d93-a41b-4862-a137-aa74beff643c\")) {\n",
       "                    Plotly.newPlot(\n",
       "                        'd67e7d93-a41b-4862-a137-aa74beff643c',\n",
       "                        [{\"alignmentgroup\": \"True\", \"bingroup\": \"x\", \"hoverlabel\": {\"namelength\": 0}, \"hovertemplate\": \"Cluster=%{x}<br>count=%{y}\", \"legendgroup\": \"Cluster=Cluster 0\", \"marker\": {\"color\": \"#636efa\", \"opacity\": 0.7}, \"name\": \"Cluster=Cluster 0\", \"offsetgroup\": \"Cluster=Cluster 0\", \"orientation\": \"v\", \"showlegend\": true, \"type\": \"histogram\", \"x\": [\"Cluster 0\", \"Cluster 0\", \"Cluster 0\", \"Cluster 0\", \"Cluster 0\", \"Cluster 0\", \"Cluster 0\", \"Cluster 0\", \"Cluster 0\", \"Cluster 0\", \"Cluster 0\", \"Cluster 0\", \"Cluster 0\", \"Cluster 0\", \"Cluster 0\", \"Cluster 0\", \"Cluster 0\", \"Cluster 0\", \"Cluster 0\", \"Cluster 0\", \"Cluster 0\", \"Cluster 0\", \"Cluster 0\", \"Cluster 0\", \"Cluster 0\", \"Cluster 0\", \"Cluster 0\", \"Cluster 0\", \"Cluster 0\", \"Cluster 0\", \"Cluster 0\", \"Cluster 0\", \"Cluster 0\", \"Cluster 0\", \"Cluster 0\", \"Cluster 0\", \"Cluster 0\", \"Cluster 0\", \"Cluster 0\", \"Cluster 0\", \"Cluster 0\", \"Cluster 0\", \"Cluster 0\"], \"xaxis\": \"x\", \"yaxis\": \"y\"}, {\"alignmentgroup\": \"True\", \"customdata\": [[\"7HacxOP2pHeSv1OsraqmDA\", \"Do Lado de C\\u00e1\", 0.628, 0.46, 75.708, \"Cluster 0\"], [\"1sUTfgduT0WIQO8kXKXxLC\", \"Blaze Of Glory - From \\\"Young Guns II\\\" Soundtrack\", 0.547, 0.62, 78.598, \"Cluster 0\"], [\"4jtYkaxeQg2yjPRZQttd9I\", \"Love Of My Life - Live\", 0.302, 0.321, 110.52799999999999, \"Cluster 0\"], [\"2UzQqudrAxeZeuJTcPBKBx\", \"Cotidiano\", 0.434, 0.537, 89.09100000000001, \"Cluster 0\"], [\"3BEZCNZSmVv30vsMNSOCri\", \"Layla - Acoustic; Live at MTV Unplugged, Bray Film Studios, Windsor, England, UK, 1/16/1992; 2013 Remaster\", 0.5579999999999999, 0.524, 93.654, \"Cluster 0\"], [\"2iUrcZcAuVIahQD0dg9HLe\", \"Autumn Leaves\", 0.496, 0.634, 93.35700000000001, \"Cluster 0\"], [\"67FQ9r8wiJvKKj5gq8zmCb\", \"Mist\\u00e9rios da Meia Noite\", 0.49700000000000005, 0.568, 94.447, \"Cluster 0\"], [\"0dWOiVQwoUYTtXD0VVgmJQ\", \"Chega de Saudade\", 0.563, 0.242, 87.771, \"Cluster 0\"], [\"4rq3CoA3hrw3LjgtItwSu5\", \"Aquarela\", 0.561, 0.26899999999999996, 75.117, \"Cluster 0\"], [\"38BhHsOGE3ly3q3IiRCh66\", \"Pipes Of Peace - Remastered 2015\", 0.369, 0.413, 94.287, \"Cluster 0\"], [\"2x45xqISlmmDJqxOqr8BuS\", \"With Or Without You - Remastered\", 0.5379999999999999, 0.43200000000000005, 110.181, \"Cluster 0\"], [\"5xTt7WCmlfdSa9aP3MV56A\", \"One Note Samba\", 0.636, 0.209, 82.33200000000001, \"Cluster 0\"], [\"0zDVclPMSsjeyvbnqhWOmt\", \"La vie en rose - Single Version\", 0.52, 0.0406, 70.138, \"Cluster 0\"], [\"6GmUVqe73u5YRfUUynZK6I\", \"Let Her Go\", 0.479, 0.545, 74.89699999999999, \"Cluster 0\"], [\"22JzTLr1YHfewbyPkgCARt\", \"Pobre paulista\", 0.42700000000000005, 0.759, 93.01799999999999, \"Cluster 0\"], [\"371VkfwKiXJxgH5ZPoQNHD\", \"The Joker\", 0.596, 0.44799999999999995, 83.29299999999999, \"Cluster 0\"], [\"1qylvO4iCIZZcqc4TqSjTZ\", \"Zombie - Acoustic Version\", 0.469, 0.42700000000000005, 84.053, \"Cluster 0\"], [\"2lHVwMuA9fnKDYlceiXDLM\", \"Rocket Man\", 0.128, 0.0535, 75.233, \"Cluster 0\"], [\"0qukw1Cr7FADBAgzU55MQK\", \"Non, je ne regrette rien - Remasteris\\u00e9 En 2015\", 0.341, 0.408, 86.14200000000001, \"Cluster 0\"], [\"4wMgrdT7euVj4GugqcKPz4\", \"Aqua de Beber\", 0.626, 0.52, 82.57, \"Cluster 0\"], [\"7KFUj2MunvS4cbauF04r6w\", \"O b\\u00eabado e a equilibrista\", 0.442, 0.41700000000000004, 94.23299999999999, \"Cluster 0\"], [\"3Bbbz0IGORWZSLf9UqsAL4\", \"Dream A Little Dream Of Me\", 0.631, 0.127, 76.559, \"Cluster 0\"], [\"3mr584ZFSkZrWja9kJAzlb\", \"Skyfall\", 0.34600000000000003, 0.552, 75.881, \"Cluster 0\"], [\"5UnqU47OSB8LBahj0jtjrR\", \"Another Way to Die\", 0.541, 0.772, 71.20100000000001, \"Cluster 0\"], [\"67Hna13dNDkZvBpTXRIaOJ\", \"Teardrop\", 0.615, 0.419, 76.997, \"Cluster 0\"], [\"6IVjnPfMGjQeUXvqpzLLdY\", \"Smiled At Me (Sorriu Para Mim)\", 0.55, 0.267, 90.676, \"Cluster 0\"], [\"6tjZNDZo24C8gGelsozCzB\", \"What a Wonderful World\", 0.41100000000000003, 0.292, 108.315, \"Cluster 0\"], [\"00hwJU6jHS9C1LW4PLWXId\", \"Dream a Little Dream of Me\", 0.455, 0.16699999999999998, 76.118, \"Cluster 0\"], [\"5ed6a8Fanf7jNghrZboXlU\", \"Loving Every Minute\", 0.557, 0.528, 97.10799999999999, \"Cluster 0\"], [\"5WZDLZVCvY1rEyNir6k8Pg\", \"The Show Must Go On - 2011 Mix\", 0.425, 0.675, 84.156, \"Cluster 0\"], [\"4JehYebiI9JE8sR8MisGVb\", \"Halo\", 0.508, 0.72, 79.983, \"Cluster 0\"], [\"4eJFgz99l1ppawgesG8RRV\", \"16 Toneladas\", 0.616, 0.52, 82.697, \"Cluster 0\"], [\"2kMvM1l45ZjpOv73qPefxA\", \"Relic\\u00e1rio\", 0.46, 0.515, 83.809, \"Cluster 0\"], [\"0qgrrDnUUhyxpxbBznUnzg\", \"18 and Life\", 0.466, 0.648, 90.435, \"Cluster 0\"], [\"34eHLnDCoIh9g0co9zro3F\", \"Tocando em Frente\", 0.49, 0.282, 88.039, \"Cluster 0\"], [\"2FYE5aTxHX5lMJZ8HKmiQn\", \"Dona Cila\", 0.635, 0.248, 88.074, \"Cluster 0\"], [\"5Xak5fmy089t0FYmh3VJiY\", \"Black\", 0.36, 0.684, 77.15, \"Cluster 0\"], [\"2jERD2u9uoC7gGNQ0LbCrI\", \"Codinome Beija-Flor\", 0.48200000000000004, 0.255, 95.205, \"Cluster 0\"], [\"5p3JunprHCxClJjOmcLV8G\", \"Walk On the Wild Side\", 0.575, 0.318, 104.522, \"Cluster 0\"], [\"1TX4h6MrIZ0K3r4OOG11WO\", \"Flor de Lis\", 0.5489999999999999, 0.502, 85.79299999999999, \"Cluster 0\"], [\"6OguEkETIgjJs48LKaOjdZ\", \"She\", 0.39, 0.287, 65.179, \"Cluster 0\"], [\"3RnA0bz5qbwtjSnAP0EcvS\", \"What a Wonderful World\", 0.305, 0.282, 79.756, \"Cluster 0\"], [\"0L7urInJWJwBXrVeunHwCU\", \"Aquele Abra\\u00e7o\", 0.48100000000000004, 0.621, 84.916, \"Cluster 0\"]], \"hoverlabel\": {\"namelength\": 0}, \"hovertemplate\": \"Cluster=%{customdata[5]}<br>track_id=%{customdata[0]}<br>track_name=%{customdata[1]}<br>danceability=%{customdata[2]}<br>energy=%{customdata[3]}<br>tempo=%{customdata[4]}\", \"legendgroup\": \"Cluster=Cluster 0\", \"marker\": {\"color\": \"#636efa\"}, \"name\": \"Cluster=Cluster 0\", \"notched\": true, \"offsetgroup\": \"Cluster=Cluster 0\", \"showlegend\": false, \"type\": \"box\", \"x\": [\"Cluster 0\", \"Cluster 0\", \"Cluster 0\", \"Cluster 0\", \"Cluster 0\", \"Cluster 0\", \"Cluster 0\", \"Cluster 0\", \"Cluster 0\", \"Cluster 0\", \"Cluster 0\", \"Cluster 0\", \"Cluster 0\", \"Cluster 0\", \"Cluster 0\", \"Cluster 0\", \"Cluster 0\", \"Cluster 0\", \"Cluster 0\", \"Cluster 0\", \"Cluster 0\", \"Cluster 0\", \"Cluster 0\", \"Cluster 0\", \"Cluster 0\", \"Cluster 0\", \"Cluster 0\", \"Cluster 0\", \"Cluster 0\", \"Cluster 0\", \"Cluster 0\", \"Cluster 0\", \"Cluster 0\", \"Cluster 0\", \"Cluster 0\", \"Cluster 0\", \"Cluster 0\", \"Cluster 0\", \"Cluster 0\", \"Cluster 0\", \"Cluster 0\", \"Cluster 0\", \"Cluster 0\"], \"xaxis\": \"x2\", \"yaxis\": \"y2\"}, {\"alignmentgroup\": \"True\", \"bingroup\": \"x\", \"hoverlabel\": {\"namelength\": 0}, \"hovertemplate\": \"Cluster=%{x}<br>count=%{y}\", \"legendgroup\": \"Cluster=Cluster 1\", \"marker\": {\"color\": \"#EF553B\", \"opacity\": 0.7}, \"name\": \"Cluster=Cluster 1\", \"offsetgroup\": \"Cluster=Cluster 1\", \"orientation\": \"v\", \"showlegend\": true, \"type\": \"histogram\", \"x\": [\"Cluster 1\", \"Cluster 1\", \"Cluster 1\", \"Cluster 1\", \"Cluster 1\", \"Cluster 1\", \"Cluster 1\", \"Cluster 1\", \"Cluster 1\", \"Cluster 1\", \"Cluster 1\", \"Cluster 1\", \"Cluster 1\", \"Cluster 1\", \"Cluster 1\", \"Cluster 1\", \"Cluster 1\", \"Cluster 1\", \"Cluster 1\", \"Cluster 1\", \"Cluster 1\", \"Cluster 1\", \"Cluster 1\", \"Cluster 1\", \"Cluster 1\", \"Cluster 1\", \"Cluster 1\", \"Cluster 1\", \"Cluster 1\", \"Cluster 1\", \"Cluster 1\", \"Cluster 1\", \"Cluster 1\", \"Cluster 1\", \"Cluster 1\", \"Cluster 1\", \"Cluster 1\", \"Cluster 1\", \"Cluster 1\", \"Cluster 1\", \"Cluster 1\", \"Cluster 1\", \"Cluster 1\", \"Cluster 1\", \"Cluster 1\", \"Cluster 1\", \"Cluster 1\", \"Cluster 1\", \"Cluster 1\", \"Cluster 1\", \"Cluster 1\", \"Cluster 1\", \"Cluster 1\", \"Cluster 1\", \"Cluster 1\", \"Cluster 1\", \"Cluster 1\", \"Cluster 1\", \"Cluster 1\", \"Cluster 1\", \"Cluster 1\", \"Cluster 1\", \"Cluster 1\", \"Cluster 1\", \"Cluster 1\", \"Cluster 1\", \"Cluster 1\", \"Cluster 1\", \"Cluster 1\", \"Cluster 1\", \"Cluster 1\", \"Cluster 1\", \"Cluster 1\", \"Cluster 1\", \"Cluster 1\", \"Cluster 1\", \"Cluster 1\", \"Cluster 1\", \"Cluster 1\", \"Cluster 1\", \"Cluster 1\", \"Cluster 1\", \"Cluster 1\", \"Cluster 1\", \"Cluster 1\", \"Cluster 1\", \"Cluster 1\", \"Cluster 1\", \"Cluster 1\", \"Cluster 1\", \"Cluster 1\", \"Cluster 1\", \"Cluster 1\", \"Cluster 1\", \"Cluster 1\", \"Cluster 1\"], \"xaxis\": \"x\", \"yaxis\": \"y\"}, {\"alignmentgroup\": \"True\", \"customdata\": [[\"3PkfVwSOVxP0ffvdQAWJUN\", \"You Had Me\", 0.6940000000000001, 0.8270000000000001, 102.025, \"Cluster 1\"], [\"6yl8Es1tCYD9WdSkeVLFw4\", \"You Shook Me All Night Long\", 0.529, 0.768, 127.316, \"Cluster 1\"], [\"6M6UoxIPn4NOWW0x7JPRfv\", \"Young Folks\", 0.701, 0.815, 138.142, \"Cluster 1\"], [\"6suU8oBlW4O2pg88tOXgHo\", \"Under Pressure - Remastered\", 0.672, 0.6990000000000001, 113.73700000000001, \"Cluster 1\"], [\"5WQ1hIc5d2EVbRQ8qsj8Uh\", \"Hey Ya! - Radio Mix / Club Mix\", 0.7190000000000001, 0.9670000000000001, 79.505, \"Cluster 1\"], [\"0n2SEXB2qoRQg171q7XqeW\", \"Smooth (feat. Rob Thomas)\", 0.609, 0.9229999999999999, 115.99600000000001, \"Cluster 1\"], [\"1idZSAVHfLPQq9tDTYhnIA\", \"The Last of the Famous International Playboys - 2010 Remaster\", 0.617, 0.8759999999999999, 104.228, \"Cluster 1\"], [\"33IOhptvC2Qoy2UhjiHXLV\", \"Flames\", 0.609, 0.726, 93.958, \"Cluster 1\"], [\"0VtiO1D14T68y8DEMMNS8d\", \"Love Today\", 0.6709999999999999, 0.9009999999999999, 124.464, \"Cluster 1\"], [\"6sy3LkhNFjJWlaeSMNwQ62\", \"Counting Stars\", 0.664, 0.705, 122.01700000000001, \"Cluster 1\"], [\"5N4Hl2Gv1UDpEHu3nMRQFB\", \"Friction\", 0.6729999999999999, 0.7190000000000001, 150.129, \"Cluster 1\"], [\"30qVCFYKBtAENjTIBA8FPZ\", \"The River of Dreams\", 0.631, 0.7490000000000001, 89.646, \"Cluster 1\"], [\"1lkC6oC7SbwgnEBEC05r64\", \"Get the Party Started\", 0.799, 0.903, 128.92600000000002, \"Cluster 1\"], [\"2jmJZpdJhCXhfEhewqui5G\", \"Gostava Tanto de Voc\\u00ea - Ao Vivo\", 0.561, 0.8320000000000001, 104.198, \"Cluster 1\"], [\"5mhUPDWQH3s544WCsa0r9w\", \"Human\", 0.547, 0.8370000000000001, 135.47, \"Cluster 1\"], [\"3OeUlriM0EZHdWleJtjoVr\", \"Got My Mind Set On You - 2004 Mix\", 0.767, 0.8540000000000001, 149.20600000000002, \"Cluster 1\"], [\"4VqPOruhp5EdPBeR92t6lQ\", \"Uprising\", 0.602, 0.905, 128.019, \"Cluster 1\"], [\"300RfAPZ57B0y6YYj9n6DN\", \"Superstition - Single Version\", 0.642, 0.735, 99.682, \"Cluster 1\"], [\"38bDGWuyYdSdNfrFfbCiVS\", \"We Didn't Start the Fire\", 0.711, 0.9670000000000001, 145.024, \"Cluster 1\"], [\"5MMnwYs0hIxkENRsbkWJ2G\", \"Smoke On The Water - Remastered 2012\", 0.598, 0.6759999999999999, 114.169, \"Cluster 1\"], [\"5eSllZgRWCIJsDTAqFRwQw\", \"Coffee and TV\", 0.743, 0.743, 121.604, \"Cluster 1\"], [\"7kXmJwrZGIhDaLT9sNo3ut\", \"Hey Boy Hey Girl\", 0.632, 0.92, 127.001, \"Cluster 1\"], [\"2aoo2jlRnM3A0NyLQqMN2f\", \"All Along the Watchtower\", 0.43799999999999994, 0.805, 113.25299999999999, \"Cluster 1\"], [\"2KmEgiY8fQs0G6WNxtzQKr\", \"Baba O'Riley\", 0.489, 0.7240000000000001, 117.292, \"Cluster 1\"], [\"2cNjgoSh1TBHFQIhfzRJUE\", \"Go\", 0.7509999999999999, 0.897, 119.97, \"Cluster 1\"], [\"2wPFy7SAFnt9Nj2TipWcqb\", \"Block Rockin' Beats\", 0.606, 0.977, 109.41, \"Cluster 1\"], [\"14XWXWv5FoCbFzLksawpEe\", \"Riders on the Storm\", 0.5489999999999999, 0.722, 103.885, \"Cluster 1\"], [\"1Ng1cdcIdXqt3ouDhpw477\", \"Sunshine Reggae - 2008 Remaster\", 0.7340000000000001, 0.708, 167.49900000000002, \"Cluster 1\"], [\"6JV2JOEocMgcZxYSZelKcc\", \"CAN'T STOP THE FEELING! (Original Song from DreamWorks Animation's \\\"TROLLS\\\")\", 0.667, 0.83, 113.03, \"Cluster 1\"], [\"7mitXLIMCflkhZiD34uEQI\", \"Party Rock Anthem\", 0.7509999999999999, 0.736, 130.014, \"Cluster 1\"], [\"7h8Ud480Fm4ReUVxgFF9ZX\", \"Rolling In The Deep\", 0.7290000000000001, 0.777, 104.946, \"Cluster 1\"], [\"3ydfhgIZIc2j39NLIhpJpq\", \"Fuck You\", 0.693, 0.879, 127.45700000000001, \"Cluster 1\"], [\"3y9p60VKSjscT2M2de0uz8\", \"Smiley Faces\", 0.562, 0.8859999999999999, 86.999, \"Cluster 1\"], [\"3CKCZ9pfwAfoMZlMncA1Nc\", \"Set Fire to the Rain\", 0.61, 0.6829999999999999, 108.00299999999999, \"Cluster 1\"], [\"2PpruBYCo4H7WOBJ7Q2EwM\", \"Hey Ya!\", 0.728, 0.9740000000000001, 79.52600000000001, \"Cluster 1\"], [\"3Kc1TDpaMfq6DBt4Gz3Pq1\", \"Firework\", 0.638, 0.8320000000000001, 124.071, \"Cluster 1\"], [\"5CeL9C3bsoe4yzYS1Qz8cw\", \"Girls and Boys\", 0.693, 0.875, 120.04799999999999, \"Cluster 1\"], [\"6g1NlCpW7fgqDnWbCCDrHl\", \"Wake Me Up - Radio Edit\", 0.532, 0.7829999999999999, 124.08, \"Cluster 1\"], [\"5jtEGp5xkVV3zvNq7mVcW1\", \"Anuncia\\u00e7\\u00e3o\", 0.541, 0.711, 100.111, \"Cluster 1\"], [\"5QpaGzWp0hwB5faV8dkbAz\", \"Wherever You Will Go\", 0.5579999999999999, 0.7190000000000001, 112.027, \"Cluster 1\"], [\"3qZaenSSBPkKTi8nJ48aKf\", \"Vamos fugir\", 0.627, 0.7929999999999999, 134.197, \"Cluster 1\"], [\"78gWMNi0b8lgSgVe0U0AMX\", \"House of Fun - 2000 Remastered Version\", 0.725, 0.934, 127.39, \"Cluster 1\"], [\"63vL5oxWrlvaJ0ayNaQnbX\", \"Istanbul (Not Constantinople)\", 0.688, 0.748, 114.14399999999999, \"Cluster 1\"], [\"189ORFltyfCNtP4CCJou8L\", \"Moving On Up\", 0.851, 0.851, 125.057, \"Cluster 1\"], [\"2zYzyRzz6pRmhPzyfMEC8s\", \"Highway to Hell\", 0.573, 0.9129999999999999, 115.715, \"Cluster 1\"], [\"2DKuUrwCGwfRQBzIiSAKRi\", \"Bete balan\\u00e7o - Ao vivo\", 0.5770000000000001, 0.9329999999999999, 124.09100000000001, \"Cluster 1\"], [\"0INtjcLMDnXjNB2YGe6RBT\", \"Kung Fu Fighting (Single Version)\", 0.623, 0.705, 110.064, \"Cluster 1\"], [\"6Vz7vzOpCwKeSQlfViibuY\", \"Crazy\", 0.633, 0.858, 102.559, \"Cluster 1\"], [\"6zBw2Qqqj2daIoST9XIJC4\", \"Ai, Ai, Ai...\", 0.64, 0.718, 130.119, \"Cluster 1\"], [\"4AwNUVU4h3QmUMHIbzurRa\", \"Envelhe\\u00e7o na cidade\", 0.61, 0.802, 117.184, \"Cluster 1\"], [\"7dxK6RSoCWZcb5gobxs1h9\", \"Vamos Fugir\", 0.6, 0.752, 135.98, \"Cluster 1\"], [\"4z5vQIvJg32wmmIGFsmKMx\", \"Minha Tribo Sou Eu\", 0.654, 0.885, 138.987, \"Cluster 1\"], [\"7ju9l3vOySwv0OQ3WuwwSq\", \"Shine Ibiza Anthem 2019\", 0.5489999999999999, 0.977, 137.991, \"Cluster 1\"], [\"2kzEEsKiUPTvct5pGflQVF\", \"Greenback Boogie (Theme from \\\"Suits\\\")\", 0.629, 0.67, 142.997, \"Cluster 1\"], [\"0F3GMvgFyxWCOm1nxlkQSW\", \"Perfect\", 0.639, 0.897, 114.29700000000001, \"Cluster 1\"], [\"6IvKz4Ax11LsLA0X0bPkqD\", \"Ai, Ai, Ai...\", 0.643, 0.6729999999999999, 130.108, \"Cluster 1\"], [\"4NvgRMckw4uzjNn2t7taPe\", \"Die Another Day\", 0.7879999999999999, 0.777, 123.994, \"Cluster 1\"], [\"3z5ggGtcs4t8pizW521gW9\", \"Pretend We're Dead\", 0.569, 0.7879999999999999, 115.15100000000001, \"Cluster 1\"], [\"058VOmj2vkyItyKHFLc8vF\", \"Da Ya Think I'm Sexy\", 0.759, 0.815, 112.006, \"Cluster 1\"], [\"5GjnIpUlLGEIYk052ISOw9\", \"This Is What It Feels Like\", 0.552, 0.831, 129.889, \"Cluster 1\"], [\"0cLH7BXqfm0RqnjueCPLfW\", \"Evidence\", 0.6859999999999999, 0.779, 97.948, \"Cluster 1\"], [\"11IzgLRXV7Cgek3tEgGgjw\", \"Under Pressure - Remastered\", 0.6709999999999999, 0.711, 113.809, \"Cluster 1\"], [\"1HL90u8MrrXtqNonXYN5of\", \"Realla\", 0.628, 0.601, 129.98, \"Cluster 1\"], [\"6I9VzXrHxO9rA9A5euc8Ak\", \"Toxic\", 0.774, 0.838, 143.04, \"Cluster 1\"], [\"6avkLAdK3IbkR1c7l6APmJ\", \"Big Time Sensuality\", 0.728, 0.7170000000000001, 118.589, \"Cluster 1\"], [\"5uPYEStMW3KsXnnLV7iCTw\", \"Johnny B Goode - 2002 Remaster\", 0.7490000000000001, 0.8490000000000001, 145.16899999999998, \"Cluster 1\"], [\"0J6mQxEZnlRt9ymzFntA6z\", \"Livin' On A Prayer\", 0.534, 0.887, 122.494, \"Cluster 1\"], [\"3KYiA4vq6RPO1dE2XROXd8\", \"You Give Love A Bad Name\", 0.537, 0.9590000000000001, 122.806, \"Cluster 1\"], [\"26eOTllWPn7oKuDUJnsJwF\", \"The Sweet Escape\", 0.7559999999999999, 0.77, 119.961, \"Cluster 1\"], [\"6IBYNkdYt6UePLysFn6xu9\", \"O Que \\u00c9 O Que \\u00c9?\", 0.672, 0.6940000000000001, 111.829, \"Cluster 1\"], [\"7w9bgPAmPTtrkt2v16QWvQ\", \"Lose Yourself - From \\\"8 Mile\\\" Soundtrack\", 0.701, 0.728, 171.388, \"Cluster 1\"], [\"2TDDvKi8n44EaLVJXd2GkP\", \"Break It Down Again\", 0.6779999999999999, 0.7440000000000001, 108.98899999999999, \"Cluster 1\"], [\"2YNnsUUgc23G8Th8TKpH44\", \"O Calibre\", 0.47700000000000004, 0.977, 90.155, \"Cluster 1\"], [\"3OhfY94w6eTzs6UnvwDryF\", \"Carolina\", 0.627, 0.752, 89.995, \"Cluster 1\"], [\"6Ha2gDoMVDHaRjxxoS6qZJ\", \"Here Tonight\", 0.557, 0.841, 127.977, \"Cluster 1\"], [\"1kV6GsEtVGmPehcGpmYtnr\", \"The Box - Part 2\", 0.603, 0.72, 140.991, \"Cluster 1\"], [\"0iwo02NoGqyooxs81iEkz3\", \"The Ballad Of John And Yoko - Remastered 2009\", 0.654, 0.862, 135.11700000000002, \"Cluster 1\"], [\"4d0DpU7Odiv0ztvX2GxJlk\", \"Exagerado\", 0.6779999999999999, 0.6629999999999999, 136.388, \"Cluster 1\"], [\"7C1bOiV8Bj0I3YpAnuS8ue\", \"S\\u00e3o Gon\\u00e7a\", 0.639, 0.777, 108.01700000000001, \"Cluster 1\"], [\"6FJ9Xp3fCxSTAdcRVaDQdl\", \"Miracle\", 0.5770000000000001, 0.677, 92.007, \"Cluster 1\"], [\"53eJFr4Mfbw5PXJ01K6cFw\", \"Daughter (Remastered)\", 0.615, 0.7020000000000001, 96.99, \"Cluster 1\"], [\"4D3HlCklYQQgTEuPDso96G\", \"Exagerado 3.0\", 0.5660000000000001, 0.878, 136.02700000000002, \"Cluster 1\"], [\"7HZXKocB073IEw7ZgnVQEO\", \"Funk Nu a Murit\", 0.6809999999999999, 0.809, 92.021, \"Cluster 1\"], [\"2REJewOG7lanXShkriw5f2\", \"Tudo No Lugar\", 0.73, 0.905, 95.985, \"Cluster 1\"], [\"0WZRuNn00I9CJ6XO84F6j9\", \"Verdade\", 0.5820000000000001, 0.902, 106.54299999999999, \"Cluster 1\"], [\"5Wl9fPpzcNSE72hJAOuG3R\", \"Tropicana (Morena Tropicana)\", 0.6409999999999999, 0.802, 134.11, \"Cluster 1\"], [\"4uQcu4YZSma1ZA8OUazmW9\", \"I Kissed A Girl\", 0.6990000000000001, 0.76, 129.996, \"Cluster 1\"], [\"5j6ZZwA9BnxZi5Bk0Ng4jB\", \"Heroes - 1999 Remaster\", 0.478, 0.774, 112.57700000000001, \"Cluster 1\"], [\"4Y7XAxTANhu3lmnLAzhWJW\", \"Fireball (feat. John Ryan)\", 0.7609999999999999, 0.9329999999999999, 122.959, \"Cluster 1\"], [\"4rFCA3E7dSDUuxmbg25K6l\", \"Mais Que Nada (Remix)\", 0.778, 0.87, 99.758, \"Cluster 1\"], [\"4m815SdxfKNxLHITG4WpzB\", \"Bola De Meia, Bola De Gude\", 0.5660000000000001, 0.7, 106.154, \"Cluster 1\"], [\"6ZmwwHYtun94UOdFWWgdif\", \"Alanis\\u2019 Interlude\", 0.705, 0.89, 94.01299999999999, \"Cluster 1\"], [\"7MIzAYEVULbhSwP6vK1zVH\", \"Oh Chuva\", 0.7559999999999999, 0.759, 127.963, \"Cluster 1\"], [\"6z9ehfxE973fOlKJKNJL2x\", \"Blue Sky Mine - 2011 Remaster\", 0.631, 0.852, 132.018, \"Cluster 1\"], [\"1oJSAzNyTUCm36zhFYMcAZ\", \"Big Yellow Taxi\", 0.672, 0.872, 88.04700000000001, \"Cluster 1\"], [\"5scK80Nrz12oGUnQGcPgg1\", \"Mantenha o Respeito\", 0.589, 0.6609999999999999, 108.035, \"Cluster 1\"]], \"hoverlabel\": {\"namelength\": 0}, \"hovertemplate\": \"Cluster=%{customdata[5]}<br>track_id=%{customdata[0]}<br>track_name=%{customdata[1]}<br>danceability=%{customdata[2]}<br>energy=%{customdata[3]}<br>tempo=%{customdata[4]}\", \"legendgroup\": \"Cluster=Cluster 1\", \"marker\": {\"color\": \"#EF553B\"}, \"name\": \"Cluster=Cluster 1\", \"notched\": true, \"offsetgroup\": \"Cluster=Cluster 1\", \"showlegend\": false, \"type\": \"box\", \"x\": [\"Cluster 1\", \"Cluster 1\", \"Cluster 1\", \"Cluster 1\", \"Cluster 1\", \"Cluster 1\", \"Cluster 1\", \"Cluster 1\", \"Cluster 1\", \"Cluster 1\", \"Cluster 1\", \"Cluster 1\", \"Cluster 1\", \"Cluster 1\", \"Cluster 1\", \"Cluster 1\", \"Cluster 1\", \"Cluster 1\", \"Cluster 1\", \"Cluster 1\", \"Cluster 1\", \"Cluster 1\", \"Cluster 1\", \"Cluster 1\", \"Cluster 1\", \"Cluster 1\", \"Cluster 1\", \"Cluster 1\", \"Cluster 1\", \"Cluster 1\", \"Cluster 1\", \"Cluster 1\", \"Cluster 1\", \"Cluster 1\", \"Cluster 1\", \"Cluster 1\", \"Cluster 1\", \"Cluster 1\", \"Cluster 1\", \"Cluster 1\", \"Cluster 1\", \"Cluster 1\", \"Cluster 1\", \"Cluster 1\", \"Cluster 1\", \"Cluster 1\", \"Cluster 1\", \"Cluster 1\", \"Cluster 1\", \"Cluster 1\", \"Cluster 1\", \"Cluster 1\", \"Cluster 1\", \"Cluster 1\", \"Cluster 1\", \"Cluster 1\", \"Cluster 1\", \"Cluster 1\", \"Cluster 1\", \"Cluster 1\", \"Cluster 1\", \"Cluster 1\", \"Cluster 1\", \"Cluster 1\", \"Cluster 1\", \"Cluster 1\", \"Cluster 1\", \"Cluster 1\", \"Cluster 1\", \"Cluster 1\", \"Cluster 1\", \"Cluster 1\", \"Cluster 1\", \"Cluster 1\", \"Cluster 1\", \"Cluster 1\", \"Cluster 1\", \"Cluster 1\", \"Cluster 1\", \"Cluster 1\", \"Cluster 1\", \"Cluster 1\", \"Cluster 1\", \"Cluster 1\", \"Cluster 1\", \"Cluster 1\", \"Cluster 1\", \"Cluster 1\", \"Cluster 1\", \"Cluster 1\", \"Cluster 1\", \"Cluster 1\", \"Cluster 1\", \"Cluster 1\", \"Cluster 1\", \"Cluster 1\"], \"xaxis\": \"x2\", \"yaxis\": \"y2\"}, {\"alignmentgroup\": \"True\", \"bingroup\": \"x\", \"hoverlabel\": {\"namelength\": 0}, \"hovertemplate\": \"Cluster=%{x}<br>count=%{y}\", \"legendgroup\": \"Cluster=Cluster 2\", \"marker\": {\"color\": \"#00cc96\", \"opacity\": 0.7}, \"name\": \"Cluster=Cluster 2\", \"offsetgroup\": \"Cluster=Cluster 2\", \"orientation\": \"v\", \"showlegend\": true, \"type\": \"histogram\", \"x\": [\"Cluster 2\", \"Cluster 2\", \"Cluster 2\", \"Cluster 2\", \"Cluster 2\", \"Cluster 2\", \"Cluster 2\", \"Cluster 2\", \"Cluster 2\", \"Cluster 2\", \"Cluster 2\", \"Cluster 2\", \"Cluster 2\", \"Cluster 2\", \"Cluster 2\", \"Cluster 2\", \"Cluster 2\", \"Cluster 2\", \"Cluster 2\", \"Cluster 2\", \"Cluster 2\", \"Cluster 2\", \"Cluster 2\", \"Cluster 2\", \"Cluster 2\", \"Cluster 2\", \"Cluster 2\", \"Cluster 2\", \"Cluster 2\", \"Cluster 2\", \"Cluster 2\", \"Cluster 2\", \"Cluster 2\", \"Cluster 2\", \"Cluster 2\", \"Cluster 2\", \"Cluster 2\", \"Cluster 2\", \"Cluster 2\", \"Cluster 2\", \"Cluster 2\", \"Cluster 2\", \"Cluster 2\", \"Cluster 2\", \"Cluster 2\", \"Cluster 2\", \"Cluster 2\", \"Cluster 2\", \"Cluster 2\", \"Cluster 2\", \"Cluster 2\", \"Cluster 2\"], \"xaxis\": \"x\", \"yaxis\": \"y\"}, {\"alignmentgroup\": \"True\", \"customdata\": [[\"3YKptz29AsOlm7WAVnztBh\", \"Kiss from a Rose\", 0.583, 0.532, 131.741, \"Cluster 2\"], [\"4y6P6eic8hhTcFqtaV5ftn\", \"Carta Ao Tom 74\", 0.621, 0.369, 143.1, \"Cluster 2\"], [\"333v4s9EybUEFOY6ComIC2\", \"Amor e Sexo\", 0.6409999999999999, 0.37, 129.843, \"Cluster 2\"], [\"4SpqtLElDsO6KGbd4ub96Z\", \"Pela Luz dos Olhos Teus - Bonus Track\", 0.45299999999999996, 0.27699999999999997, 116.83200000000001, \"Cluster 2\"], [\"5bLVrPldS8KXxkhuFLIqZO\", \"Happy Ending/Over My Shoulder\", 0.35, 0.237, 119.569, \"Cluster 2\"], [\"1JO1xLtVc8mWhIoE3YaCL0\", \"Happy Together\", 0.584, 0.36700000000000005, 120.175, \"Cluster 2\"], [\"6xGoLwsVOwcxg5LYuUwz8D\", \"Three Little Birds\", 0.6509999999999999, 0.5920000000000001, 148.131, \"Cluster 2\"], [\"5jrdCoLpJSvHHorevXBATy\", \"Dark Horse\", 0.645, 0.585, 131.931, \"Cluster 2\"], [\"2Yk0HvfTaijA47aM0Fj88u\", \"Metamorfose Ambulante\", 0.498, 0.5870000000000001, 135.91299999999998, \"Cluster 2\"], [\"4uYwlMp841PLJmj1gJJwIq\", \"Lay, Lady, Lay\", 0.52, 0.179, 155.746, \"Cluster 2\"], [\"6oDPg7fXW3Ug3KmbafrXzA\", \"Wrecking Ball\", 0.466, 0.40299999999999997, 119.81, \"Cluster 2\"], [\"1BIDHSkkst8nckyBaHVP6A\", \"\\u00c1guas De Mar\\u00e7o\", 0.637, 0.551, 143.10399999999998, \"Cluster 2\"], [\"5HNCy40Ni5BZJFw1TKzRsC\", \"Comfortably Numb\", 0.47200000000000003, 0.366, 127.167, \"Cluster 2\"], [\"1A4WjuUXeFEVXjwgc7eVZ6\", \"Good People\", 0.721, 0.586, 176.105, \"Cluster 2\"], [\"74I1z55PBTBkBC6Ay5ydf5\", \"Flores em voc\\u00ea\", 0.606, 0.278, 155.888, \"Cluster 2\"], [\"7f0jXNMu2xjQUtmKMuWhGA\", \"What's Up?\", 0.5660000000000001, 0.57, 134.537, \"Cluster 2\"], [\"40hrL4q3dxErnwzpIof6fc\", \"Crazy Mary (Remastered)\", 0.385, 0.465, 139.109, \"Cluster 2\"], [\"5TbwZ0OSuU1fGtQ8aTgiZP\", \"The Box, Pt. 1\", 0.672, 0.21600000000000003, 141.002, \"Cluster 2\"], [\"5aGhtbviqUqjtno5vcUmCN\", \"Colo de Menina\", 0.654, 0.46399999999999997, 145.371, \"Cluster 2\"], [\"1Ow7BwZB6NKfxham67mLH7\", \"Acontecimentos\", 0.634, 0.495, 137.879, \"Cluster 2\"], [\"6nbyjI9tJUITph7LN7uZPj\", \"O Trem das 7 (Ao Vivo)\", 0.396, 0.47600000000000003, 122.02, \"Cluster 2\"], [\"10igKaIKsSB6ZnWxPxPvKO\", \"Nothing Else Matters\", 0.5579999999999999, 0.364, 142.171, \"Cluster 2\"], [\"589AelScFm0FYQ4VG1biJi\", \"The James Bond Theme (From \\\"Dr. No\\\")\", 0.43700000000000006, 0.5670000000000001, 130.14700000000002, \"Cluster 2\"], [\"4zzvMG8KrsykYtvFEJ99Cl\", \"Easy\", 0.506, 0.5539999999999999, 124.72399999999999, \"Cluster 2\"], [\"3vFh4274hFZc3q2LoidsyK\", \"Somewhere Only We Know\", 0.314, 0.28600000000000003, 172.021, \"Cluster 2\"], [\"0JmNkza8Oax92TF7lJV8GZ\", \"Cara valente\", 0.738, 0.56, 157.946, \"Cluster 2\"], [\"1Q8lDjEzlTwATSZz2zgPd9\", \"Wen Uuu\", 0.674, 0.655, 174.014, \"Cluster 2\"], [\"44hOGg1uFg1XJZGZYNwYmM\", \"Tainted Love\", 0.569, 0.402, 144.635, \"Cluster 2\"], [\"4dIWbsYRqqTcLKf4bVU4kk\", \"Como Nossos Pais\", 0.51, 0.401, 143.942, \"Cluster 2\"], [\"3z8h0TU7ReDPLIbEnYhWZb\", \"Bohemian Rhapsody - 2011 Mix\", 0.39, 0.397, 144.031, \"Cluster 2\"], [\"0OrE0VWVZuhOPHSjO7WhKD\", \"Voce Abusou\", 0.435, 0.209, 144.86700000000002, \"Cluster 2\"], [\"2xGKkcdKQUyqKKfOhd58gP\", \"Stay\", 0.581, 0.525, 119.09, \"Cluster 2\"], [\"6Z1zJjEXLrszqTPol6bfFV\", \"Live And Let Die - Remastered 1993\", 0.41200000000000003, 0.39299999999999996, 154.241, \"Cluster 2\"], [\"0X3wPQutw80NtG4PQGolvT\", \"Let's Call the Whole Thing Off\", 0.644, 0.312, 123.396, \"Cluster 2\"], [\"5flYFbJweqUHlQjle7uRlI\", \"Que Beleza\", 0.507, 0.547, 160.879, \"Cluster 2\"], [\"401RZ4h6JrBHq8mzBDu9nQ\", \"Danny's Song\", 0.51, 0.442, 144.614, \"Cluster 2\"], [\"7KsQssGg3DaovFkd9Kbnc6\", \"Corcovado\", 0.517, 0.0854, 126.854, \"Cluster 2\"], [\"6mFkJmJqdDVQ1REhVfGgd1\", \"Wish You Were Here\", 0.48100000000000004, 0.262, 122.883, \"Cluster 2\"], [\"44sw25l5s3dUQx38QQ4hix\", \"Summertime\", 0.3, 0.312, 180.549, \"Cluster 2\"], [\"5TvE3pk05pyFIGdSY9j4DJ\", \"Say Something\", 0.40700000000000003, 0.147, 141.284, \"Cluster 2\"], [\"3XVBdLihbNbxUwZosxcGuJ\", \"If I Ain't Got You\", 0.609, 0.445, 118.39299999999999, \"Cluster 2\"], [\"4kLWjcI5IrMKELSngOhTJv\", \"Beija Eu\", 0.5429999999999999, 0.526, 159.093, \"Cluster 2\"], [\"7LjcQfRQtD7XYvjR1JKsZA\", \"Samba Da Bencao\", 0.5920000000000001, 0.371, 123.435, \"Cluster 2\"], [\"1MDoll6jK4rrk2BcFRP5i7\", \"Hello\", 0.47100000000000003, 0.431, 157.98, \"Cluster 2\"], [\"1EzrEOXmMH3G43AXT1y7pA\", \"I'm Yours\", 0.6859999999999999, 0.457, 150.953, \"Cluster 2\"], [\"5mnvqisoDJilY0uCEdT8rG\", \"Danny's Song\", 0.507, 0.198, 141.261, \"Cluster 2\"], [\"1mea3bSkSGXuIRvnydlB5b\", \"Viva La Vida\", 0.485, 0.619, 138.017, \"Cluster 2\"], [\"2gsRi0MuGDsDyvR9usz1pd\", \"Day Tripper\", 0.6609999999999999, 0.57, 145.879, \"Cluster 2\"], [\"7ytqdjooPEAa97QSu6NUHS\", \"Dream A Little Dream Of Me - Album Version With Introduction\", 0.45899999999999996, 0.322, 133.91, \"Cluster 2\"], [\"5bIEpKwEFgJzB7U3gFaeKm\", \"Here Comes The Sun - Remastered 2009\", 0.557, 0.519, 129.157, \"Cluster 2\"], [\"4XYdH6H7haUCeEm9YezQ9K\", \"Ch\\u00e3o de Giz\", 0.667, 0.44, 143.843, \"Cluster 2\"], [\"3CRDbSIZ4r5MsZ0YwxuEkn\", \"Stressed Out\", 0.7340000000000001, 0.637, 169.977, \"Cluster 2\"]], \"hoverlabel\": {\"namelength\": 0}, \"hovertemplate\": \"Cluster=%{customdata[5]}<br>track_id=%{customdata[0]}<br>track_name=%{customdata[1]}<br>danceability=%{customdata[2]}<br>energy=%{customdata[3]}<br>tempo=%{customdata[4]}\", \"legendgroup\": \"Cluster=Cluster 2\", \"marker\": {\"color\": \"#00cc96\"}, \"name\": \"Cluster=Cluster 2\", \"notched\": true, \"offsetgroup\": \"Cluster=Cluster 2\", \"showlegend\": false, \"type\": \"box\", \"x\": [\"Cluster 2\", \"Cluster 2\", \"Cluster 2\", \"Cluster 2\", \"Cluster 2\", \"Cluster 2\", \"Cluster 2\", \"Cluster 2\", \"Cluster 2\", \"Cluster 2\", \"Cluster 2\", \"Cluster 2\", \"Cluster 2\", \"Cluster 2\", \"Cluster 2\", \"Cluster 2\", \"Cluster 2\", \"Cluster 2\", \"Cluster 2\", \"Cluster 2\", \"Cluster 2\", \"Cluster 2\", \"Cluster 2\", \"Cluster 2\", \"Cluster 2\", \"Cluster 2\", \"Cluster 2\", \"Cluster 2\", \"Cluster 2\", \"Cluster 2\", \"Cluster 2\", \"Cluster 2\", \"Cluster 2\", \"Cluster 2\", \"Cluster 2\", \"Cluster 2\", \"Cluster 2\", \"Cluster 2\", \"Cluster 2\", \"Cluster 2\", \"Cluster 2\", \"Cluster 2\", \"Cluster 2\", \"Cluster 2\", \"Cluster 2\", \"Cluster 2\", \"Cluster 2\", \"Cluster 2\", \"Cluster 2\", \"Cluster 2\", \"Cluster 2\", \"Cluster 2\"], \"xaxis\": \"x2\", \"yaxis\": \"y2\"}, {\"alignmentgroup\": \"True\", \"bingroup\": \"x\", \"hoverlabel\": {\"namelength\": 0}, \"hovertemplate\": \"Cluster=%{x}<br>count=%{y}\", \"legendgroup\": \"Cluster=Cluster 3\", \"marker\": {\"color\": \"#ab63fa\", \"opacity\": 0.7}, \"name\": \"Cluster=Cluster 3\", \"offsetgroup\": \"Cluster=Cluster 3\", \"orientation\": \"v\", \"showlegend\": true, \"type\": \"histogram\", \"x\": [\"Cluster 3\", \"Cluster 3\", \"Cluster 3\", \"Cluster 3\", \"Cluster 3\", \"Cluster 3\", \"Cluster 3\", \"Cluster 3\", \"Cluster 3\", \"Cluster 3\", \"Cluster 3\", \"Cluster 3\", \"Cluster 3\", \"Cluster 3\", \"Cluster 3\", \"Cluster 3\", \"Cluster 3\", \"Cluster 3\", \"Cluster 3\", \"Cluster 3\", \"Cluster 3\", \"Cluster 3\", \"Cluster 3\", \"Cluster 3\", \"Cluster 3\", \"Cluster 3\", \"Cluster 3\", \"Cluster 3\", \"Cluster 3\", \"Cluster 3\", \"Cluster 3\", \"Cluster 3\", \"Cluster 3\", \"Cluster 3\", \"Cluster 3\", \"Cluster 3\", \"Cluster 3\", \"Cluster 3\", \"Cluster 3\", \"Cluster 3\", \"Cluster 3\", \"Cluster 3\", \"Cluster 3\", \"Cluster 3\", \"Cluster 3\", \"Cluster 3\", \"Cluster 3\", \"Cluster 3\", \"Cluster 3\", \"Cluster 3\", \"Cluster 3\", \"Cluster 3\", \"Cluster 3\", \"Cluster 3\", \"Cluster 3\", \"Cluster 3\", \"Cluster 3\", \"Cluster 3\", \"Cluster 3\", \"Cluster 3\", \"Cluster 3\", \"Cluster 3\", \"Cluster 3\", \"Cluster 3\", \"Cluster 3\", \"Cluster 3\", \"Cluster 3\"], \"xaxis\": \"x\", \"yaxis\": \"y\"}, {\"alignmentgroup\": \"True\", \"customdata\": [[\"2IrdHGhifKDX6m2S8vHf1s\", \"A Message to You Rudy\", 0.9059999999999999, 0.45299999999999996, 102.98100000000001, \"Cluster 3\"], [\"2udGjDmpK1dH9VGyw7nrei\", \"Cocaine\", 0.6990000000000001, 0.502, 105.26700000000001, \"Cluster 3\"], [\"72CPoBQn1XmRhJXS1Vy7O2\", \"We No Speak Americano (JT Radio Edit)\", 0.902, 0.805, 124.99600000000001, \"Cluster 3\"], [\"2M9ro2krNb7nr7HSprkEgo\", \"Fast Car\", 0.711, 0.292, 103.95100000000001, \"Cluster 3\"], [\"0wfcNeRfE0Z7bTlTYmVKQC\", \"A Casa \\u00e9 Sua\", 0.68, 0.687, 79.517, \"Cluster 3\"], [\"2Z8WuEywRWYTKe1NybPQEW\", \"Ride\", 0.645, 0.713, 74.98899999999999, \"Cluster 3\"], [\"3YfiGjwBzBsDrYPqAJsD4z\", \"Kiss from a Rose - Acoustic\", 0.659, 0.40700000000000003, 119.321, \"Cluster 3\"], [\"6QgjcU0zLnzq5OrUoSZ3OK\", \"Feel It Still\", 0.8009999999999999, 0.795, 79.028, \"Cluster 3\"], [\"6i0V12jOa3mr6uu4WYhUBr\", \"Heathens\", 0.732, 0.396, 90.024, \"Cluster 3\"], [\"4VywXu6umkIQ2OS0m1I79y\", \"Better Together\", 0.868, 0.34700000000000003, 110.059, \"Cluster 3\"], [\"36i9NcqbdQFdQfOROpIwMA\", \"Fico Assim Sem Voc\\u00ea\", 0.809, 0.428, 121.969, \"Cluster 3\"], [\"1KU5EHSz04JhGg3rReGJ0N\", \"Black Velvet\", 0.754, 0.366, 91.147, \"Cluster 3\"], [\"2zFdsAIk9r2Mi7Lmm1w3sM\", \"That's All - 2007 Remaster\", 0.6970000000000001, 0.627, 87.695, \"Cluster 3\"], [\"4AHU8QRdwCUWxPC53cw4Hh\", \"Whole Wide World\", 0.752, 0.54, 114.21700000000001, \"Cluster 3\"], [\"1jdNcAD8Ir58RlsdGjJJdx\", \"Ho Hey\", 0.685, 0.474, 79.991, \"Cluster 3\"], [\"3OkHIS1p4y2F8TdVKWZfod\", \"Juste un inconnu\", 0.8690000000000001, 0.38299999999999995, 129.02100000000002, \"Cluster 3\"], [\"2LawezPeJhN4AWuSB0GtAU\", \"Have You Ever Seen The Rain\", 0.741, 0.6970000000000001, 116.109, \"Cluster 3\"], [\"6c9FQiAlvzMaTc3HrLqSRx\", \"The Way You Look Tonight\", 0.8059999999999999, 0.485, 104.83200000000001, \"Cluster 3\"], [\"1jF7IL57ayN4Ity3jQqGu0\", \"Try\", 0.6729999999999999, 0.629, 103.99799999999999, \"Cluster 3\"], [\"36482hNESSwELpr9sS3NbE\", \"A Little Party Never Killed Nobody (All We Got)\", 0.7609999999999999, 0.619, 129.998, \"Cluster 3\"], [\"0uqPG793dkDDN7sCUJJIVC\", \"Where Is The Love?\", 0.835, 0.687, 94.059, \"Cluster 3\"], [\"1vxw6aYJls2oq3gW0DujAo\", \"Crazy\", 0.855, 0.5870000000000001, 111.97, \"Cluster 3\"], [\"5uCdgBAqYPWQ2HGpJVGAeD\", \"Get Up I Feel Like Being A Sex Machine - Pt. 1 / Single Version\", 0.802, 0.6609999999999999, 107.774, \"Cluster 3\"], [\"0BCF5r2criwyGRSN3n36re\", \"Andar com f\\u00e9\", 0.774, 0.647, 95.098, \"Cluster 3\"], [\"6OSUZBGoQJOhbSrmvLrNa8\", \"Space Cowboy\", 0.635, 0.5379999999999999, 110.805, \"Cluster 3\"], [\"2dR5WkrpwylTuT3jRWNufa\", \"Fly Me To The Moon - Remastered\", 0.67, 0.365, 119.344, \"Cluster 3\"], [\"77QC2Lgrj6PG7H4HI6yNzS\", \"Meu Guarda-Chuva\", 0.787, 0.612, 154.033, \"Cluster 3\"], [\"2nwCO1PqpvyoFIvq3Vrj8N\", \"These Boots Are Made For Walkin'\", 0.74, 0.392, 82.742, \"Cluster 3\"], [\"4bz7uB4edifWKJXSDxwHcs\", \"Galvanize\", 0.745, 0.7140000000000001, 104.00299999999999, \"Cluster 3\"], [\"3m6KkYKdnbffMpGd9Pm9FP\", \"Seven Nation Army\", 0.745, 0.466, 123.889, \"Cluster 3\"], [\"5VwQYHpyQPhiToPKWJaHiO\", \"I Can't Dance\", 0.941, 0.49700000000000005, 107.552, \"Cluster 3\"], [\"3erAiWBiKsbVG39cqCrsI0\", \"Human\", 0.643, 0.698, 75.07300000000001, \"Cluster 3\"], [\"3cR6v2bOwqi7znC8P5Vs1T\", \"Maracatu At\\u00f4mico\", 0.748, 0.7290000000000001, 95.743, \"Cluster 3\"], [\"0bQLIdNVBA46reRFqeSz3y\", \"Mais Que Nada\", 0.649, 0.569, 88.95299999999999, \"Cluster 3\"], [\"2Z5d1taNoyOoxRQQDazMWR\", \"Samba Lel\\u00ea\", 0.894, 0.79, 96.024, \"Cluster 3\"], [\"76cWfrsIopzpOsWDPBjNJ7\", \"A Banda\", 0.723, 0.517, 118.554, \"Cluster 3\"], [\"4v4woUHljv9XQPSOSNwFcG\", \"S\\u00f3 Tinha De Ser Com Voce (Com Tom)\", 0.7959999999999999, 0.385, 119.932, \"Cluster 3\"], [\"0oxnbj3KvvMl5khReTSn59\", \"Wish You Were Here\", 0.7909999999999999, 0.569, 143.97799999999998, \"Cluster 3\"], [\"3voQ4FSnDNKEKuBNeJjAR5\", \"Malemolencia\", 0.846, 0.564, 141.886, \"Cluster 3\"], [\"6mPCZm2rCaTledoBjTqSRl\", \"All About That Bass - Live from Spotify London\", 0.775, 0.528, 135.197, \"Cluster 3\"], [\"0SrDqCmn2ClzEzNkAZYc2Y\", \"Bete Balan\\u00e7o\", 0.782, 0.705, 116.96700000000001, \"Cluster 3\"], [\"46gLyFY3qZAoXpulDt6dPq\", \"Respect\", 0.821, 0.496, 114.605, \"Cluster 3\"], [\"5RFG9IVkzxE4LhObpIJncY\", \"Under My Thumb\", 0.73, 0.555, 126.959, \"Cluster 3\"], [\"0CufeoNTkYAgTkTQsX7T5o\", \"Get Down On It - Single Version\", 0.879, 0.644, 110.87200000000001, \"Cluster 3\"], [\"4gMgiXfqyzZLMhsksGmbQV\", \"Another Brick in the Wall, Pt. 2\", 0.6940000000000001, 0.39399999999999996, 104.126, \"Cluster 3\"], [\"1N10tJPyQ70QcMLxhobSbJ\", \"O Mar Serenou\", 0.706, 0.52, 85.568, \"Cluster 3\"], [\"5gEuWtxcn5Vz4xpT7dBoBU\", \"The Thrill Is Gone\", 0.6920000000000001, 0.493, 86.64399999999999, \"Cluster 3\"], [\"2EYilkg1F79h8ch4f4Csii\", \"Segue o Som\", 0.7809999999999999, 0.544, 92.00200000000001, \"Cluster 3\"], [\"6fR4It0y0RdwwjBRVIr405\", \"I Follow Rivers\", 0.596, 0.529, 110.03200000000001, \"Cluster 3\"], [\"6A3Q8BVAAI2PW1s6MX4ZGF\", \"Boa Sorte / Good Luck\", 0.779, 0.5660000000000001, 111.022, \"Cluster 3\"], [\"2ukW9zOr51AYeLSmCtTVqW\", \"N\\u00e3o Me Deixe S\\u00f3\", 0.731, 0.469, 107.09299999999999, \"Cluster 3\"], [\"5ua6ByZaOw4hlMP6i8Vjdz\", \"T\\u00e1 perdoado\", 0.78, 0.5710000000000001, 102.02600000000001, \"Cluster 3\"], [\"2zhHYs0W7I891mfT4KGJ4d\", \"Nosso Pequeno Castelo\", 0.773, 0.638, 108.962, \"Cluster 3\"], [\"7xpDGoUGbtaquk5xMvzwTh\", \"Telegrama\", 0.643, 0.501, 94.514, \"Cluster 3\"], [\"2gE95JskwQ1pCACTpGe1Db\", \"Down On The Corner\", 0.858, 0.544, 108.21700000000001, \"Cluster 3\"], [\"4tb7A6O8cE2UzELRTwU3KZ\", \"S\\u00f3 Tinha De Ser Com Voc\\u00ea\", 0.807, 0.47600000000000003, 119.729, \"Cluster 3\"], [\"5W7fIifB8wRBPN6yOcHpi2\", \"Samba de uma nota s\\u00f3\", 0.7240000000000001, 0.573, 88.02799999999999, \"Cluster 3\"], [\"7CdDIvw3jvjNaIs5m3mM4A\", \"La Belle De Jour\", 0.644, 0.40399999999999997, 105.06200000000001, \"Cluster 3\"], [\"6ZKlm17z22OxkzgemE4aos\", \"Addicted To Love\", 0.703, 0.579, 111.583, \"Cluster 3\"], [\"6Nabz5Gsy80XL0MJoOmgF8\", \"Beds Are Burning - Remastered\", 0.754, 0.496, 119.186, \"Cluster 3\"], [\"3M5eeHXgG4VplKNcsBC8Dj\", \"Signed, Sealed, Delivered (I'm Yours)\", 0.67, 0.619, 108.82600000000001, \"Cluster 3\"], [\"0p20xyAdYkaxAPWdXr0sir\", \"I Love Rock 'n' Roll\", 0.762, 0.48200000000000004, 94.009, \"Cluster 3\"], [\"7DoBn08dqKS9MmtZiZChVD\", \"Garota Nacional\", 0.86, 0.768, 130.108, \"Cluster 3\"], [\"2PnNomkEqlg9ADKCVG0Wt0\", \"Every Breath You Take\", 0.8290000000000001, 0.434, 117.399, \"Cluster 3\"], [\"7lo43I6slQYrmMZQYb99PC\", \"A Visita\", 0.74, 0.581, 103.429, \"Cluster 3\"], [\"1U5zdT78JN2K5PPJEgyoLG\", \"Meu Erro\", 0.792, 0.506, 104.397, \"Cluster 3\"], [\"73L7X1wQ2d7Y91pT4ElexT\", \"Safety Dance\", 0.76, 0.612, 101.38600000000001, \"Cluster 3\"]], \"hoverlabel\": {\"namelength\": 0}, \"hovertemplate\": \"Cluster=%{customdata[5]}<br>track_id=%{customdata[0]}<br>track_name=%{customdata[1]}<br>danceability=%{customdata[2]}<br>energy=%{customdata[3]}<br>tempo=%{customdata[4]}\", \"legendgroup\": \"Cluster=Cluster 3\", \"marker\": {\"color\": \"#ab63fa\"}, \"name\": \"Cluster=Cluster 3\", \"notched\": true, \"offsetgroup\": \"Cluster=Cluster 3\", \"showlegend\": false, \"type\": \"box\", \"x\": [\"Cluster 3\", \"Cluster 3\", \"Cluster 3\", \"Cluster 3\", \"Cluster 3\", \"Cluster 3\", \"Cluster 3\", \"Cluster 3\", \"Cluster 3\", \"Cluster 3\", \"Cluster 3\", \"Cluster 3\", \"Cluster 3\", \"Cluster 3\", \"Cluster 3\", \"Cluster 3\", \"Cluster 3\", \"Cluster 3\", \"Cluster 3\", \"Cluster 3\", \"Cluster 3\", \"Cluster 3\", \"Cluster 3\", \"Cluster 3\", \"Cluster 3\", \"Cluster 3\", \"Cluster 3\", \"Cluster 3\", \"Cluster 3\", \"Cluster 3\", \"Cluster 3\", \"Cluster 3\", \"Cluster 3\", \"Cluster 3\", \"Cluster 3\", \"Cluster 3\", \"Cluster 3\", \"Cluster 3\", \"Cluster 3\", \"Cluster 3\", \"Cluster 3\", \"Cluster 3\", \"Cluster 3\", \"Cluster 3\", \"Cluster 3\", \"Cluster 3\", \"Cluster 3\", \"Cluster 3\", \"Cluster 3\", \"Cluster 3\", \"Cluster 3\", \"Cluster 3\", \"Cluster 3\", \"Cluster 3\", \"Cluster 3\", \"Cluster 3\", \"Cluster 3\", \"Cluster 3\", \"Cluster 3\", \"Cluster 3\", \"Cluster 3\", \"Cluster 3\", \"Cluster 3\", \"Cluster 3\", \"Cluster 3\", \"Cluster 3\", \"Cluster 3\"], \"xaxis\": \"x2\", \"yaxis\": \"y2\"}, {\"alignmentgroup\": \"True\", \"bingroup\": \"x\", \"hoverlabel\": {\"namelength\": 0}, \"hovertemplate\": \"Cluster=%{x}<br>count=%{y}\", \"legendgroup\": \"Cluster=Cluster 4\", \"marker\": {\"color\": \"#FFA15A\", \"opacity\": 0.7}, \"name\": \"Cluster=Cluster 4\", \"offsetgroup\": \"Cluster=Cluster 4\", \"orientation\": \"v\", \"showlegend\": true, \"type\": \"histogram\", \"x\": [\"Cluster 4\", \"Cluster 4\", \"Cluster 4\", \"Cluster 4\", \"Cluster 4\", \"Cluster 4\", \"Cluster 4\", \"Cluster 4\", \"Cluster 4\", \"Cluster 4\", \"Cluster 4\", \"Cluster 4\", \"Cluster 4\", \"Cluster 4\", \"Cluster 4\", \"Cluster 4\", \"Cluster 4\", \"Cluster 4\", \"Cluster 4\", \"Cluster 4\", \"Cluster 4\", \"Cluster 4\", \"Cluster 4\", \"Cluster 4\", \"Cluster 4\", \"Cluster 4\", \"Cluster 4\", \"Cluster 4\", \"Cluster 4\", \"Cluster 4\", \"Cluster 4\", \"Cluster 4\", \"Cluster 4\", \"Cluster 4\", \"Cluster 4\", \"Cluster 4\", \"Cluster 4\", \"Cluster 4\", \"Cluster 4\", \"Cluster 4\", \"Cluster 4\"], \"xaxis\": \"x\", \"yaxis\": \"y\"}, {\"alignmentgroup\": \"True\", \"customdata\": [[\"3AnQw2w00WUDHMKmtXGvVx\", \"The Sea\", 0.535, 0.7609999999999999, 149.968, \"Cluster 4\"], [\"3INsYP1Y8GG4qJvBsKCdXC\", \"Don't Stop Me Now - ...Revisited\", 0.465, 0.917, 155.061, \"Cluster 4\"], [\"2hlqCFahLVgdBIbY3yTrAb\", \"Rose's Thorn\", 0.537, 0.8590000000000001, 157.98, \"Cluster 4\"], [\"51sjYvAPyoR7CQB1NQUgXJ\", \"Sing\", 0.332, 0.9, 163.534, \"Cluster 4\"], [\"1hlveB9M6ijHZRbzZ2teyh\", \"We're Not Gonna Take It\", 0.502, 0.924, 149.186, \"Cluster 4\"], [\"7wHiBFYJHp2MHjwyYV7xCZ\", \"Meu Lugar\", 0.32299999999999995, 0.655, 164.77, \"Cluster 4\"], [\"1FZ90IoWFZlubV6bjyyEwq\", \"Faded - Dash Berlin Remix\", 0.38799999999999996, 0.915, 127.823, \"Cluster 4\"], [\"7KkzVlps826NezcpXPvEuV\", \"Johnny B. Goode\", 0.502, 0.9309999999999999, 166.407, \"Cluster 4\"], [\"4MR9iW77LJoPPDjwAYbIZZ\", \"You Know My Name - From \\\"Casino Royale\\\" Soundtrack\", 0.368, 0.8640000000000001, 137.526, \"Cluster 4\"], [\"0UvCh63URrLFcPkKt99hHd\", \"Don't Look Back in Anger - Remastered\", 0.327, 0.938, 162.937, \"Cluster 4\"], [\"0YwBZKT8JE4U5TwmYE9BV9\", \"Radio Ga Ga - Live Aid\", 0.406, 0.934, 118.823, \"Cluster 4\"], [\"34pz8XUZRfw04lk4DPtwa7\", \"Keep Yourself Alive - Live At The Rainbow\", 0.308, 0.975, 138.974, \"Cluster 4\"], [\"646J2jOtUe4Jflrmh6JFjN\", \"Bring Me To Life\", 0.312, 0.946, 189.892, \"Cluster 4\"], [\"1xNmF1Uep5OGutizZSbKvd\", \"One Of Us\", 0.316, 0.499, 174.782, \"Cluster 4\"], [\"2fY6tqgrlrg1ky9fgs0t5u\", \"Wanted Dead Or Alive\", 0.257, 0.8029999999999999, 150.81799999999998, \"Cluster 4\"], [\"5VzvK7YiwWbRePA2JOzhYq\", \"Because the Night - MTV Unplugged Version\", 0.408, 0.79, 122.624, \"Cluster 4\"], [\"7fxpqs4G8vj3rFYbJnsG7w\", \"Shitlist\", 0.419, 0.9159999999999999, 128.98, \"Cluster 4\"], [\"2zJespNLwpMVcD8bPyaFef\", \"O Segundo Sol - Acoustic\", 0.424, 0.713, 151.281, \"Cluster 4\"], [\"6I7GpxOjlDzO1Iur14FEfy\", \"\\u00d3culos\", 0.5329999999999999, 0.701, 181.372, \"Cluster 4\"], [\"7qvxFz3JodM0A7xEM7k3YD\", \"Chained To The Rhythm\", 0.446, 0.8, 189.89, \"Cluster 4\"], [\"7yCPwWs66K8Ba5lFuU2bcx\", \"All The Small Things\", 0.439, 0.8909999999999999, 148.599, \"Cluster 4\"], [\"2cZKVvZYfuoTtdha8FEGQi\", \"Relic\\u00e1rio - Ao Vivo\", 0.3, 0.7, 165.642, \"Cluster 4\"], [\"3SBypTHvrB7Dc7Jai9FmI1\", \"C\\u00e9rebro Eletr\\u00f4nico\", 0.414, 0.815, 122.805, \"Cluster 4\"], [\"2aksifNn5ph8igDOkPBA02\", \"Love On The Brain\", 0.509, 0.637, 172.00599999999997, \"Cluster 4\"], [\"7FQSAiopqWOgCGqUNbDvh3\", \"Paranoid\", 0.429, 0.631, 162.734, \"Cluster 4\"], [\"3vV3cr2TpPqFk07zxYUbla\", \"Cum on Feel the Noize\", 0.409, 0.92, 145.085, \"Cluster 4\"], [\"1gKmnrz6SzJlGMNRKBLx1V\", \"One Way Or Another\", 0.47, 0.7959999999999999, 161.414, \"Cluster 4\"], [\"3G69vJMWsX6ZohTykad2AU\", \"One\", 0.392, 0.534, 181.305, \"Cluster 4\"], [\"3sw1PM6wj5aUq3kDrHJsk8\", \"Shiny Happy People\", 0.45299999999999996, 0.9079999999999999, 124.59200000000001, \"Cluster 4\"], [\"1eujVQsT9v7ZTtvAkTEdZr\", \"Piece Of My Heart\", 0.429, 0.665, 160.499, \"Cluster 4\"], [\"5xC8uOesnn0udeXAYlAnoY\", \"Alright\", 0.467, 0.958, 145.92, \"Cluster 4\"], [\"3bDGwl0X3EjQmIyFD1uif5\", \"Roar\", 0.56, 0.7559999999999999, 179.771, \"Cluster 4\"], [\"0LEoCPq4QlV2h41Fm5ENJ3\", \"Common People\", 0.319, 0.8390000000000001, 144.938, \"Cluster 4\"], [\"08mG3Y1vljYA6bvDt4Wqkj\", \"Back In Black\", 0.31, 0.7, 188.386, \"Cluster 4\"], [\"3yP0cohcr97BUNJcgvmSVg\", \"The Passenger\", 0.5, 0.846, 134.937, \"Cluster 4\"], [\"3k9i7UzeSUYWIfUZFeFDUd\", \"Layla - 40th Anniversary Version / 2010 Remastered\", 0.40399999999999997, 0.903, 115.67200000000001, \"Cluster 4\"], [\"1RJeiAIwR9pZBgJA8ndZLL\", \"Paint It, Black - Mono\", 0.505, 0.836, 159.66899999999998, \"Cluster 4\"], [\"6rs96E1pfzZgBdNQKqOjEy\", \"O segundo sol\", 0.33899999999999997, 0.882, 154.202, \"Cluster 4\"], [\"0aJzrpwqEdGZQsSHLvbbpz\", \"Vou Deixar\", 0.509, 0.846, 135.844, \"Cluster 4\"], [\"6Qyc6fS4DsZjB2mRW9DsQs\", \"Iris\", 0.315, 0.715, 155.925, \"Cluster 4\"], [\"63T7DJ1AFDD6Bn8VzG6JE8\", \"Paint It, Black\", 0.46399999999999997, 0.795, 158.691, \"Cluster 4\"]], \"hoverlabel\": {\"namelength\": 0}, \"hovertemplate\": \"Cluster=%{customdata[5]}<br>track_id=%{customdata[0]}<br>track_name=%{customdata[1]}<br>danceability=%{customdata[2]}<br>energy=%{customdata[3]}<br>tempo=%{customdata[4]}\", \"legendgroup\": \"Cluster=Cluster 4\", \"marker\": {\"color\": \"#FFA15A\"}, \"name\": \"Cluster=Cluster 4\", \"notched\": true, \"offsetgroup\": \"Cluster=Cluster 4\", \"showlegend\": false, \"type\": \"box\", \"x\": [\"Cluster 4\", \"Cluster 4\", \"Cluster 4\", \"Cluster 4\", \"Cluster 4\", \"Cluster 4\", \"Cluster 4\", \"Cluster 4\", \"Cluster 4\", \"Cluster 4\", \"Cluster 4\", \"Cluster 4\", \"Cluster 4\", \"Cluster 4\", \"Cluster 4\", \"Cluster 4\", \"Cluster 4\", \"Cluster 4\", \"Cluster 4\", \"Cluster 4\", \"Cluster 4\", \"Cluster 4\", \"Cluster 4\", \"Cluster 4\", \"Cluster 4\", \"Cluster 4\", \"Cluster 4\", \"Cluster 4\", \"Cluster 4\", \"Cluster 4\", \"Cluster 4\", \"Cluster 4\", \"Cluster 4\", \"Cluster 4\", \"Cluster 4\", \"Cluster 4\", \"Cluster 4\", \"Cluster 4\", \"Cluster 4\", \"Cluster 4\", \"Cluster 4\"], \"xaxis\": \"x2\", \"yaxis\": \"y2\"}],\n",
       "                        {\"barmode\": \"relative\", \"legend\": {\"tracegroupgap\": 0}, \"margin\": {\"t\": 60}, \"template\": {\"data\": {\"bar\": [{\"error_x\": {\"color\": \"#2a3f5f\"}, \"error_y\": {\"color\": \"#2a3f5f\"}, \"marker\": {\"line\": {\"color\": \"#E5ECF6\", \"width\": 0.5}}, \"type\": \"bar\"}], \"barpolar\": [{\"marker\": {\"line\": {\"color\": \"#E5ECF6\", \"width\": 0.5}}, \"type\": \"barpolar\"}], \"carpet\": [{\"aaxis\": {\"endlinecolor\": \"#2a3f5f\", \"gridcolor\": \"white\", \"linecolor\": \"white\", \"minorgridcolor\": \"white\", \"startlinecolor\": \"#2a3f5f\"}, \"baxis\": {\"endlinecolor\": \"#2a3f5f\", \"gridcolor\": \"white\", \"linecolor\": \"white\", \"minorgridcolor\": \"white\", \"startlinecolor\": \"#2a3f5f\"}, \"type\": \"carpet\"}], \"choropleth\": [{\"colorbar\": {\"outlinewidth\": 0, \"ticks\": \"\"}, \"type\": \"choropleth\"}], \"contour\": [{\"colorbar\": {\"outlinewidth\": 0, \"ticks\": \"\"}, \"colorscale\": [[0.0, \"#0d0887\"], [0.1111111111111111, \"#46039f\"], [0.2222222222222222, \"#7201a8\"], [0.3333333333333333, \"#9c179e\"], [0.4444444444444444, \"#bd3786\"], [0.5555555555555556, \"#d8576b\"], [0.6666666666666666, \"#ed7953\"], [0.7777777777777778, \"#fb9f3a\"], [0.8888888888888888, \"#fdca26\"], [1.0, \"#f0f921\"]], \"type\": \"contour\"}], \"contourcarpet\": [{\"colorbar\": {\"outlinewidth\": 0, \"ticks\": \"\"}, \"type\": \"contourcarpet\"}], \"heatmap\": [{\"colorbar\": {\"outlinewidth\": 0, \"ticks\": \"\"}, \"colorscale\": [[0.0, \"#0d0887\"], [0.1111111111111111, \"#46039f\"], [0.2222222222222222, \"#7201a8\"], [0.3333333333333333, \"#9c179e\"], [0.4444444444444444, \"#bd3786\"], [0.5555555555555556, \"#d8576b\"], [0.6666666666666666, \"#ed7953\"], [0.7777777777777778, \"#fb9f3a\"], [0.8888888888888888, \"#fdca26\"], [1.0, \"#f0f921\"]], \"type\": \"heatmap\"}], \"heatmapgl\": [{\"colorbar\": {\"outlinewidth\": 0, \"ticks\": \"\"}, \"colorscale\": [[0.0, \"#0d0887\"], [0.1111111111111111, \"#46039f\"], [0.2222222222222222, \"#7201a8\"], [0.3333333333333333, \"#9c179e\"], [0.4444444444444444, \"#bd3786\"], [0.5555555555555556, \"#d8576b\"], [0.6666666666666666, \"#ed7953\"], [0.7777777777777778, \"#fb9f3a\"], [0.8888888888888888, \"#fdca26\"], [1.0, \"#f0f921\"]], \"type\": \"heatmapgl\"}], \"histogram\": [{\"marker\": {\"colorbar\": {\"outlinewidth\": 0, \"ticks\": \"\"}}, \"type\": \"histogram\"}], \"histogram2d\": [{\"colorbar\": {\"outlinewidth\": 0, \"ticks\": \"\"}, \"colorscale\": [[0.0, \"#0d0887\"], [0.1111111111111111, \"#46039f\"], [0.2222222222222222, \"#7201a8\"], [0.3333333333333333, \"#9c179e\"], [0.4444444444444444, \"#bd3786\"], [0.5555555555555556, \"#d8576b\"], [0.6666666666666666, \"#ed7953\"], [0.7777777777777778, \"#fb9f3a\"], [0.8888888888888888, \"#fdca26\"], [1.0, \"#f0f921\"]], \"type\": \"histogram2d\"}], \"histogram2dcontour\": [{\"colorbar\": {\"outlinewidth\": 0, \"ticks\": \"\"}, \"colorscale\": [[0.0, \"#0d0887\"], [0.1111111111111111, \"#46039f\"], [0.2222222222222222, \"#7201a8\"], [0.3333333333333333, \"#9c179e\"], [0.4444444444444444, \"#bd3786\"], [0.5555555555555556, \"#d8576b\"], [0.6666666666666666, \"#ed7953\"], [0.7777777777777778, \"#fb9f3a\"], [0.8888888888888888, \"#fdca26\"], [1.0, \"#f0f921\"]], \"type\": \"histogram2dcontour\"}], \"mesh3d\": [{\"colorbar\": {\"outlinewidth\": 0, \"ticks\": \"\"}, \"type\": \"mesh3d\"}], \"parcoords\": [{\"line\": {\"colorbar\": {\"outlinewidth\": 0, \"ticks\": \"\"}}, \"type\": \"parcoords\"}], \"pie\": [{\"automargin\": true, \"type\": \"pie\"}], \"scatter\": [{\"marker\": {\"colorbar\": {\"outlinewidth\": 0, \"ticks\": \"\"}}, \"type\": \"scatter\"}], \"scatter3d\": [{\"line\": {\"colorbar\": {\"outlinewidth\": 0, \"ticks\": \"\"}}, \"marker\": {\"colorbar\": {\"outlinewidth\": 0, \"ticks\": \"\"}}, \"type\": \"scatter3d\"}], \"scattercarpet\": [{\"marker\": {\"colorbar\": {\"outlinewidth\": 0, \"ticks\": \"\"}}, \"type\": \"scattercarpet\"}], \"scattergeo\": [{\"marker\": {\"colorbar\": {\"outlinewidth\": 0, \"ticks\": \"\"}}, \"type\": \"scattergeo\"}], \"scattergl\": [{\"marker\": {\"colorbar\": {\"outlinewidth\": 0, \"ticks\": \"\"}}, \"type\": \"scattergl\"}], \"scattermapbox\": [{\"marker\": {\"colorbar\": {\"outlinewidth\": 0, \"ticks\": \"\"}}, \"type\": \"scattermapbox\"}], \"scatterpolar\": [{\"marker\": {\"colorbar\": {\"outlinewidth\": 0, \"ticks\": \"\"}}, \"type\": \"scatterpolar\"}], \"scatterpolargl\": [{\"marker\": {\"colorbar\": {\"outlinewidth\": 0, \"ticks\": \"\"}}, \"type\": \"scatterpolargl\"}], \"scatterternary\": [{\"marker\": {\"colorbar\": {\"outlinewidth\": 0, \"ticks\": \"\"}}, \"type\": \"scatterternary\"}], \"surface\": [{\"colorbar\": {\"outlinewidth\": 0, \"ticks\": \"\"}, \"colorscale\": [[0.0, \"#0d0887\"], [0.1111111111111111, \"#46039f\"], [0.2222222222222222, \"#7201a8\"], [0.3333333333333333, \"#9c179e\"], [0.4444444444444444, \"#bd3786\"], [0.5555555555555556, \"#d8576b\"], [0.6666666666666666, \"#ed7953\"], [0.7777777777777778, \"#fb9f3a\"], [0.8888888888888888, \"#fdca26\"], [1.0, \"#f0f921\"]], \"type\": \"surface\"}], \"table\": [{\"cells\": {\"fill\": {\"color\": \"#EBF0F8\"}, \"line\": {\"color\": \"white\"}}, \"header\": {\"fill\": {\"color\": \"#C8D4E3\"}, \"line\": {\"color\": \"white\"}}, \"type\": \"table\"}]}, \"layout\": {\"annotationdefaults\": {\"arrowcolor\": \"#2a3f5f\", \"arrowhead\": 0, \"arrowwidth\": 1}, \"coloraxis\": {\"colorbar\": {\"outlinewidth\": 0, \"ticks\": \"\"}}, \"colorscale\": {\"diverging\": [[0, \"#8e0152\"], [0.1, \"#c51b7d\"], [0.2, \"#de77ae\"], [0.3, \"#f1b6da\"], [0.4, \"#fde0ef\"], [0.5, \"#f7f7f7\"], [0.6, \"#e6f5d0\"], [0.7, \"#b8e186\"], [0.8, \"#7fbc41\"], [0.9, \"#4d9221\"], [1, \"#276419\"]], \"sequential\": [[0.0, \"#0d0887\"], [0.1111111111111111, \"#46039f\"], [0.2222222222222222, \"#7201a8\"], [0.3333333333333333, \"#9c179e\"], [0.4444444444444444, \"#bd3786\"], [0.5555555555555556, \"#d8576b\"], [0.6666666666666666, \"#ed7953\"], [0.7777777777777778, \"#fb9f3a\"], [0.8888888888888888, \"#fdca26\"], [1.0, \"#f0f921\"]], \"sequentialminus\": [[0.0, \"#0d0887\"], [0.1111111111111111, \"#46039f\"], [0.2222222222222222, \"#7201a8\"], [0.3333333333333333, \"#9c179e\"], [0.4444444444444444, \"#bd3786\"], [0.5555555555555556, \"#d8576b\"], [0.6666666666666666, \"#ed7953\"], [0.7777777777777778, \"#fb9f3a\"], [0.8888888888888888, \"#fdca26\"], [1.0, \"#f0f921\"]]}, \"colorway\": [\"#636efa\", \"#EF553B\", \"#00cc96\", \"#ab63fa\", \"#FFA15A\", \"#19d3f3\", \"#FF6692\", \"#B6E880\", \"#FF97FF\", \"#FECB52\"], \"font\": {\"color\": \"#2a3f5f\"}, \"geo\": {\"bgcolor\": \"white\", \"lakecolor\": \"white\", \"landcolor\": \"#E5ECF6\", \"showlakes\": true, \"showland\": true, \"subunitcolor\": \"white\"}, \"hoverlabel\": {\"align\": \"left\"}, \"hovermode\": \"closest\", \"mapbox\": {\"style\": \"light\"}, \"paper_bgcolor\": \"white\", \"plot_bgcolor\": \"#E5ECF6\", \"polar\": {\"angularaxis\": {\"gridcolor\": \"white\", \"linecolor\": \"white\", \"ticks\": \"\"}, \"bgcolor\": \"#E5ECF6\", \"radialaxis\": {\"gridcolor\": \"white\", \"linecolor\": \"white\", \"ticks\": \"\"}}, \"scene\": {\"xaxis\": {\"backgroundcolor\": \"#E5ECF6\", \"gridcolor\": \"white\", \"gridwidth\": 2, \"linecolor\": \"white\", \"showbackground\": true, \"ticks\": \"\", \"zerolinecolor\": \"white\"}, \"yaxis\": {\"backgroundcolor\": \"#E5ECF6\", \"gridcolor\": \"white\", \"gridwidth\": 2, \"linecolor\": \"white\", \"showbackground\": true, \"ticks\": \"\", \"zerolinecolor\": \"white\"}, \"zaxis\": {\"backgroundcolor\": \"#E5ECF6\", \"gridcolor\": \"white\", \"gridwidth\": 2, \"linecolor\": \"white\", \"showbackground\": true, \"ticks\": \"\", \"zerolinecolor\": \"white\"}}, \"shapedefaults\": {\"line\": {\"color\": \"#2a3f5f\"}}, \"ternary\": {\"aaxis\": {\"gridcolor\": \"white\", \"linecolor\": \"white\", \"ticks\": \"\"}, \"baxis\": {\"gridcolor\": \"white\", \"linecolor\": \"white\", \"ticks\": \"\"}, \"bgcolor\": \"#E5ECF6\", \"caxis\": {\"gridcolor\": \"white\", \"linecolor\": \"white\", \"ticks\": \"\"}}, \"title\": {\"x\": 0.05}, \"xaxis\": {\"automargin\": true, \"gridcolor\": \"white\", \"linecolor\": \"white\", \"ticks\": \"\", \"title\": {\"standoff\": 15}, \"zerolinecolor\": \"white\", \"zerolinewidth\": 2}, \"yaxis\": {\"automargin\": true, \"gridcolor\": \"white\", \"linecolor\": \"white\", \"ticks\": \"\", \"title\": {\"standoff\": 15}, \"zerolinecolor\": \"white\", \"zerolinewidth\": 2}}}, \"xaxis\": {\"anchor\": \"y\", \"categoryarray\": [\"Cluster 0\", \"Cluster 1\", \"Cluster 2\", \"Cluster 3\", \"Cluster 4\"], \"categoryorder\": \"array\", \"domain\": [0.0, 1.0], \"title\": {\"text\": \"Cluster\"}}, \"xaxis2\": {\"anchor\": \"y2\", \"domain\": [0.0, 1.0], \"matches\": \"x\", \"showgrid\": true, \"showticklabels\": false}, \"yaxis\": {\"anchor\": \"x\", \"domain\": [0.0, 0.7326], \"title\": {\"text\": \"count\"}}, \"yaxis2\": {\"anchor\": \"x2\", \"domain\": [0.7426, 1.0], \"matches\": \"y2\", \"showgrid\": false, \"showline\": false, \"showticklabels\": false, \"ticks\": \"\"}},\n",
       "                        {\"responsive\": true}\n",
       "                    ).then(function(){\n",
       "                            \n",
       "var gd = document.getElementById('d67e7d93-a41b-4862-a137-aa74beff643c');\n",
       "var x = new MutationObserver(function (mutations, observer) {{\n",
       "        var display = window.getComputedStyle(gd).display;\n",
       "        if (!display || display === 'none') {{\n",
       "            console.log([gd, 'removed!']);\n",
       "            Plotly.purge(gd);\n",
       "            observer.disconnect();\n",
       "        }}\n",
       "}});\n",
       "\n",
       "// Listen for the removal of the full notebook cells\n",
       "var notebookContainer = gd.closest('#notebook-container');\n",
       "if (notebookContainer) {{\n",
       "    x.observe(notebookContainer, {childList: true});\n",
       "}}\n",
       "\n",
       "// Listen for the clearing of the current output cell\n",
       "var outputEl = gd.closest('.output');\n",
       "if (outputEl) {{\n",
       "    x.observe(outputEl, {childList: true});\n",
       "}}\n",
       "\n",
       "                        })\n",
       "                };\n",
       "                });\n",
       "            </script>\n",
       "        </div>"
      ]
     },
     "metadata": {},
     "output_type": "display_data"
    }
   ],
   "source": [
    "plot_model(m, plot = 'distribution') #to see size of clusters"
   ]
  },
  {
   "cell_type": "code",
   "execution_count": 14,
   "metadata": {},
   "outputs": [
    {
     "data": {
      "text/html": [
       "<div>\n",
       "<style scoped>\n",
       "    .dataframe tbody tr th:only-of-type {\n",
       "        vertical-align: middle;\n",
       "    }\n",
       "\n",
       "    .dataframe tbody tr th {\n",
       "        vertical-align: top;\n",
       "    }\n",
       "\n",
       "    .dataframe thead th {\n",
       "        text-align: right;\n",
       "    }\n",
       "</style>\n",
       "<table border=\"1\" class=\"dataframe\">\n",
       "  <thead>\n",
       "    <tr style=\"text-align: right;\">\n",
       "      <th></th>\n",
       "      <th>Cluster</th>\n",
       "      <th>track_name</th>\n",
       "    </tr>\n",
       "  </thead>\n",
       "  <tbody>\n",
       "    <tr>\n",
       "      <th>0</th>\n",
       "      <td>Cluster 3</td>\n",
       "      <td>Have You Ever Seen The Rain</td>\n",
       "    </tr>\n",
       "    <tr>\n",
       "      <th>1</th>\n",
       "      <td>Cluster 1</td>\n",
       "      <td>Break It Down Again</td>\n",
       "    </tr>\n",
       "    <tr>\n",
       "      <th>2</th>\n",
       "      <td>Cluster 2</td>\n",
       "      <td>Stay</td>\n",
       "    </tr>\n",
       "    <tr>\n",
       "      <th>3</th>\n",
       "      <td>Cluster 3</td>\n",
       "      <td>A Visita</td>\n",
       "    </tr>\n",
       "    <tr>\n",
       "      <th>4</th>\n",
       "      <td>Cluster 1</td>\n",
       "      <td>O Que É O Que É?</td>\n",
       "    </tr>\n",
       "    <tr>\n",
       "      <th>5</th>\n",
       "      <td>Cluster 0</td>\n",
       "      <td>Loving Every Minute</td>\n",
       "    </tr>\n",
       "    <tr>\n",
       "      <th>6</th>\n",
       "      <td>Cluster 3</td>\n",
       "      <td>Nosso Pequeno Castelo</td>\n",
       "    </tr>\n",
       "    <tr>\n",
       "      <th>7</th>\n",
       "      <td>Cluster 2</td>\n",
       "      <td>Voce Abusou</td>\n",
       "    </tr>\n",
       "    <tr>\n",
       "      <th>8</th>\n",
       "      <td>Cluster 3</td>\n",
       "      <td>I Follow Rivers</td>\n",
       "    </tr>\n",
       "    <tr>\n",
       "      <th>9</th>\n",
       "      <td>Cluster 0</td>\n",
       "      <td>Relicário</td>\n",
       "    </tr>\n",
       "  </tbody>\n",
       "</table>\n",
       "</div>"
      ],
      "text/plain": [
       "     Cluster                   track_name\n",
       "0  Cluster 3  Have You Ever Seen The Rain\n",
       "1  Cluster 1          Break It Down Again\n",
       "2  Cluster 2                         Stay\n",
       "3  Cluster 3                     A Visita\n",
       "4  Cluster 1             O Que É O Que É?\n",
       "5  Cluster 0          Loving Every Minute\n",
       "6  Cluster 3        Nosso Pequeno Castelo\n",
       "7  Cluster 2                  Voce Abusou\n",
       "8  Cluster 3              I Follow Rivers\n",
       "9  Cluster 0                    Relicário"
      ]
     },
     "execution_count": 14,
     "metadata": {},
     "output_type": "execute_result"
    }
   ],
   "source": [
    "results[['Cluster', 'track_name']].head(10)"
   ]
  },
  {
   "cell_type": "code",
   "execution_count": 15,
   "metadata": {},
   "outputs": [],
   "source": [
    "# Check results\n",
    "def print_cluster(id):\n",
    "    return results[results['Cluster']==f'Cluster {id}'][['track_name']].head(30)"
   ]
  },
  {
   "cell_type": "code",
   "execution_count": 16,
   "metadata": {},
   "outputs": [
    {
     "data": {
      "text/html": [
       "<div>\n",
       "<style scoped>\n",
       "    .dataframe tbody tr th:only-of-type {\n",
       "        vertical-align: middle;\n",
       "    }\n",
       "\n",
       "    .dataframe tbody tr th {\n",
       "        vertical-align: top;\n",
       "    }\n",
       "\n",
       "    .dataframe thead th {\n",
       "        text-align: right;\n",
       "    }\n",
       "</style>\n",
       "<table border=\"1\" class=\"dataframe\">\n",
       "  <thead>\n",
       "    <tr style=\"text-align: right;\">\n",
       "      <th></th>\n",
       "      <th>track_name</th>\n",
       "    </tr>\n",
       "  </thead>\n",
       "  <tbody>\n",
       "    <tr>\n",
       "      <th>10</th>\n",
       "      <td>Meu Lugar</td>\n",
       "    </tr>\n",
       "    <tr>\n",
       "      <th>17</th>\n",
       "      <td>Sing</td>\n",
       "    </tr>\n",
       "    <tr>\n",
       "      <th>21</th>\n",
       "      <td>Don't Look Back in Anger - Remastered</td>\n",
       "    </tr>\n",
       "    <tr>\n",
       "      <th>29</th>\n",
       "      <td>You Know My Name - From \"Casino Royale\" Soundt...</td>\n",
       "    </tr>\n",
       "    <tr>\n",
       "      <th>32</th>\n",
       "      <td>Johnny B. Goode</td>\n",
       "    </tr>\n",
       "    <tr>\n",
       "      <th>55</th>\n",
       "      <td>One Of Us</td>\n",
       "    </tr>\n",
       "    <tr>\n",
       "      <th>68</th>\n",
       "      <td>Vou Deixar</td>\n",
       "    </tr>\n",
       "    <tr>\n",
       "      <th>71</th>\n",
       "      <td>O segundo sol</td>\n",
       "    </tr>\n",
       "    <tr>\n",
       "      <th>96</th>\n",
       "      <td>Bring Me To Life</td>\n",
       "    </tr>\n",
       "    <tr>\n",
       "      <th>104</th>\n",
       "      <td>The Passenger</td>\n",
       "    </tr>\n",
       "    <tr>\n",
       "      <th>106</th>\n",
       "      <td>Back In Black</td>\n",
       "    </tr>\n",
       "    <tr>\n",
       "      <th>119</th>\n",
       "      <td>Common People</td>\n",
       "    </tr>\n",
       "    <tr>\n",
       "      <th>121</th>\n",
       "      <td>Alright</td>\n",
       "    </tr>\n",
       "    <tr>\n",
       "      <th>135</th>\n",
       "      <td>Piece Of My Heart</td>\n",
       "    </tr>\n",
       "    <tr>\n",
       "      <th>142</th>\n",
       "      <td>Paranoid</td>\n",
       "    </tr>\n",
       "    <tr>\n",
       "      <th>146</th>\n",
       "      <td>Love On The Brain</td>\n",
       "    </tr>\n",
       "    <tr>\n",
       "      <th>163</th>\n",
       "      <td>Cérebro Eletrônico</td>\n",
       "    </tr>\n",
       "    <tr>\n",
       "      <th>179</th>\n",
       "      <td>Relicário - Ao Vivo</td>\n",
       "    </tr>\n",
       "    <tr>\n",
       "      <th>189</th>\n",
       "      <td>O Segundo Sol - Acoustic</td>\n",
       "    </tr>\n",
       "    <tr>\n",
       "      <th>195</th>\n",
       "      <td>Because the Night - MTV Unplugged Version</td>\n",
       "    </tr>\n",
       "    <tr>\n",
       "      <th>202</th>\n",
       "      <td>Wanted Dead Or Alive</td>\n",
       "    </tr>\n",
       "    <tr>\n",
       "      <th>213</th>\n",
       "      <td>Shitlist</td>\n",
       "    </tr>\n",
       "    <tr>\n",
       "      <th>216</th>\n",
       "      <td>Óculos</td>\n",
       "    </tr>\n",
       "    <tr>\n",
       "      <th>220</th>\n",
       "      <td>Chained To The Rhythm</td>\n",
       "    </tr>\n",
       "    <tr>\n",
       "      <th>223</th>\n",
       "      <td>All The Small Things</td>\n",
       "    </tr>\n",
       "    <tr>\n",
       "      <th>235</th>\n",
       "      <td>Cum on Feel the Noize</td>\n",
       "    </tr>\n",
       "    <tr>\n",
       "      <th>236</th>\n",
       "      <td>One Way Or Another</td>\n",
       "    </tr>\n",
       "    <tr>\n",
       "      <th>238</th>\n",
       "      <td>One</td>\n",
       "    </tr>\n",
       "    <tr>\n",
       "      <th>239</th>\n",
       "      <td>Shiny Happy People</td>\n",
       "    </tr>\n",
       "    <tr>\n",
       "      <th>246</th>\n",
       "      <td>Roar</td>\n",
       "    </tr>\n",
       "  </tbody>\n",
       "</table>\n",
       "</div>"
      ],
      "text/plain": [
       "                                            track_name\n",
       "10                                           Meu Lugar\n",
       "17                                                Sing\n",
       "21               Don't Look Back in Anger - Remastered\n",
       "29   You Know My Name - From \"Casino Royale\" Soundt...\n",
       "32                                     Johnny B. Goode\n",
       "55                                           One Of Us\n",
       "68                                          Vou Deixar\n",
       "71                                       O segundo sol\n",
       "96                                    Bring Me To Life\n",
       "104                                      The Passenger\n",
       "106                                      Back In Black\n",
       "119                                      Common People\n",
       "121                                            Alright\n",
       "135                                  Piece Of My Heart\n",
       "142                                           Paranoid\n",
       "146                                  Love On The Brain\n",
       "163                                 Cérebro Eletrônico\n",
       "179                                Relicário - Ao Vivo\n",
       "189                           O Segundo Sol - Acoustic\n",
       "195          Because the Night - MTV Unplugged Version\n",
       "202                               Wanted Dead Or Alive\n",
       "213                                           Shitlist\n",
       "216                                             Óculos\n",
       "220                              Chained To The Rhythm\n",
       "223                               All The Small Things\n",
       "235                              Cum on Feel the Noize\n",
       "236                                 One Way Or Another\n",
       "238                                                One\n",
       "239                                 Shiny Happy People\n",
       "246                                               Roar"
      ]
     },
     "execution_count": 16,
     "metadata": {},
     "output_type": "execute_result"
    }
   ],
   "source": [
    "print_cluster(4)"
   ]
  },
  {
   "cell_type": "code",
   "execution_count": null,
   "metadata": {},
   "outputs": [],
   "source": [
    "\n"
   ]
  }
 ],
 "metadata": {
  "kernelspec": {
   "display_name": "Python 3",
   "language": "python",
   "name": "python3"
  },
  "language_info": {
   "codemirror_mode": {
    "name": "ipython",
    "version": 3
   },
   "file_extension": ".py",
   "mimetype": "text/x-python",
   "name": "python",
   "nbconvert_exporter": "python",
   "pygments_lexer": "ipython3",
   "version": "3.7.7"
  }
 },
 "nbformat": 4,
 "nbformat_minor": 4
}
