{
 "cells": [
  {
   "cell_type": "markdown",
   "metadata": {},
   "source": [
    "# Data science approach to organizing my playlist\n",
    "[Complete Post](https://arjon.es/2020/data-science-approach-to-organizing-my-playlist/)\n",
    "\n",
    "## Clustering with pycaret"
   ]
  },
  {
   "cell_type": "code",
   "execution_count": 6,
   "metadata": {},
   "outputs": [],
   "source": [
    "import pandas as pd\n",
    "data = pd.read_csv('my-playlist.csv')"
   ]
  },
  {
   "cell_type": "code",
   "execution_count": 7,
   "metadata": {},
   "outputs": [
    {
     "data": {
      "text/plain": [
       "Index(['track_id', 'track_name', 'danceability', 'energy', 'tempo', 'loudness',\n",
       "       'valence', 'speechiness', 'instrumentalness', 'liveness',\n",
       "       'acousticness'],\n",
       "      dtype='object')"
      ]
     },
     "execution_count": 7,
     "metadata": {},
     "output_type": "execute_result"
    }
   ],
   "source": [
    "data.columns"
   ]
  },
  {
   "cell_type": "code",
   "execution_count": 8,
   "metadata": {},
   "outputs": [
    {
     "data": {
      "text/plain": [
       "Index(['track_id', 'track_name', 'danceability', 'energy', 'tempo', 'valence'], dtype='object')"
      ]
     },
     "execution_count": 8,
     "metadata": {},
     "output_type": "execute_result"
    }
   ],
   "source": [
    "# Select columns to keep on dataset\n",
    "COLUMNS_KEEP = ['track_id', 'track_name', 'danceability', 'energy', 'tempo', 'valence'] #, 'liveness', 'acousticness']\n",
    "\n",
    "data = data[COLUMNS_KEEP]\n",
    "data.columns"
   ]
  },
  {
   "cell_type": "code",
   "execution_count": 9,
   "metadata": {},
   "outputs": [
    {
     "data": {
      "text/html": [
       "<div>\n",
       "<style scoped>\n",
       "    .dataframe tbody tr th:only-of-type {\n",
       "        vertical-align: middle;\n",
       "    }\n",
       "\n",
       "    .dataframe tbody tr th {\n",
       "        vertical-align: top;\n",
       "    }\n",
       "\n",
       "    .dataframe thead th {\n",
       "        text-align: right;\n",
       "    }\n",
       "</style>\n",
       "<table border=\"1\" class=\"dataframe\">\n",
       "  <thead>\n",
       "    <tr style=\"text-align: right;\">\n",
       "      <th></th>\n",
       "      <th>danceability</th>\n",
       "      <th>energy</th>\n",
       "      <th>tempo</th>\n",
       "      <th>valence</th>\n",
       "    </tr>\n",
       "  </thead>\n",
       "  <tbody>\n",
       "    <tr>\n",
       "      <th>count</th>\n",
       "      <td>299.000000</td>\n",
       "      <td>299.000000</td>\n",
       "      <td>299.000000</td>\n",
       "      <td>299.000000</td>\n",
       "    </tr>\n",
       "    <tr>\n",
       "      <th>mean</th>\n",
       "      <td>0.598886</td>\n",
       "      <td>0.629162</td>\n",
       "      <td>119.993211</td>\n",
       "      <td>0.574082</td>\n",
       "    </tr>\n",
       "    <tr>\n",
       "      <th>std</th>\n",
       "      <td>0.146012</td>\n",
       "      <td>0.213013</td>\n",
       "      <td>26.798519</td>\n",
       "      <td>0.246125</td>\n",
       "    </tr>\n",
       "    <tr>\n",
       "      <th>min</th>\n",
       "      <td>0.128000</td>\n",
       "      <td>0.040600</td>\n",
       "      <td>65.179000</td>\n",
       "      <td>0.059100</td>\n",
       "    </tr>\n",
       "    <tr>\n",
       "      <th>25%</th>\n",
       "      <td>0.497500</td>\n",
       "      <td>0.479000</td>\n",
       "      <td>99.934500</td>\n",
       "      <td>0.383500</td>\n",
       "    </tr>\n",
       "    <tr>\n",
       "      <th>50%</th>\n",
       "      <td>0.615000</td>\n",
       "      <td>0.655000</td>\n",
       "      <td>119.344000</td>\n",
       "      <td>0.588000</td>\n",
       "    </tr>\n",
       "    <tr>\n",
       "      <th>75%</th>\n",
       "      <td>0.704000</td>\n",
       "      <td>0.801000</td>\n",
       "      <td>138.004000</td>\n",
       "      <td>0.766500</td>\n",
       "    </tr>\n",
       "    <tr>\n",
       "      <th>max</th>\n",
       "      <td>0.941000</td>\n",
       "      <td>0.977000</td>\n",
       "      <td>189.892000</td>\n",
       "      <td>0.985000</td>\n",
       "    </tr>\n",
       "  </tbody>\n",
       "</table>\n",
       "</div>"
      ],
      "text/plain": [
       "       danceability      energy       tempo     valence\n",
       "count    299.000000  299.000000  299.000000  299.000000\n",
       "mean       0.598886    0.629162  119.993211    0.574082\n",
       "std        0.146012    0.213013   26.798519    0.246125\n",
       "min        0.128000    0.040600   65.179000    0.059100\n",
       "25%        0.497500    0.479000   99.934500    0.383500\n",
       "50%        0.615000    0.655000  119.344000    0.588000\n",
       "75%        0.704000    0.801000  138.004000    0.766500\n",
       "max        0.941000    0.977000  189.892000    0.985000"
      ]
     },
     "execution_count": 9,
     "metadata": {},
     "output_type": "execute_result"
    }
   ],
   "source": [
    "data.describe()"
   ]
  },
  {
   "cell_type": "code",
   "execution_count": 26,
   "metadata": {},
   "outputs": [],
   "source": [
    "data['url'] = data[['track_id']].apply(lambda x: f\"https://open.spotify.com/track/{x['track_id']}\", axis=1)"
   ]
  },
  {
   "cell_type": "code",
   "execution_count": 27,
   "metadata": {},
   "outputs": [
    {
     "name": "stdout",
     "output_type": "stream",
     "text": [
      "\n",
      "Setup Succesfully Completed!\n"
     ]
    },
    {
     "data": {
      "text/html": [
       "<style  type=\"text/css\" >\n",
       "    #T_adacfeae_9ecc_11ea_a047_a683e7bfb66frow10_col1 {\n",
       "            background-color:  lightgreen;\n",
       "        }</style><table id=\"T_adacfeae_9ecc_11ea_a047_a683e7bfb66f\" ><thead>    <tr>        <th class=\"blank level0\" ></th>        <th class=\"col_heading level0 col0\" >Description</th>        <th class=\"col_heading level0 col1\" >Value</th>    </tr></thead><tbody>\n",
       "                <tr>\n",
       "                        <th id=\"T_adacfeae_9ecc_11ea_a047_a683e7bfb66flevel0_row0\" class=\"row_heading level0 row0\" >0</th>\n",
       "                        <td id=\"T_adacfeae_9ecc_11ea_a047_a683e7bfb66frow0_col0\" class=\"data row0 col0\" >session_id </td>\n",
       "                        <td id=\"T_adacfeae_9ecc_11ea_a047_a683e7bfb66frow0_col1\" class=\"data row0 col1\" >42</td>\n",
       "            </tr>\n",
       "            <tr>\n",
       "                        <th id=\"T_adacfeae_9ecc_11ea_a047_a683e7bfb66flevel0_row1\" class=\"row_heading level0 row1\" >1</th>\n",
       "                        <td id=\"T_adacfeae_9ecc_11ea_a047_a683e7bfb66frow1_col0\" class=\"data row1 col0\" >Original Data </td>\n",
       "                        <td id=\"T_adacfeae_9ecc_11ea_a047_a683e7bfb66frow1_col1\" class=\"data row1 col1\" >(299, 7)</td>\n",
       "            </tr>\n",
       "            <tr>\n",
       "                        <th id=\"T_adacfeae_9ecc_11ea_a047_a683e7bfb66flevel0_row2\" class=\"row_heading level0 row2\" >2</th>\n",
       "                        <td id=\"T_adacfeae_9ecc_11ea_a047_a683e7bfb66frow2_col0\" class=\"data row2 col0\" >Missing Values </td>\n",
       "                        <td id=\"T_adacfeae_9ecc_11ea_a047_a683e7bfb66frow2_col1\" class=\"data row2 col1\" >False</td>\n",
       "            </tr>\n",
       "            <tr>\n",
       "                        <th id=\"T_adacfeae_9ecc_11ea_a047_a683e7bfb66flevel0_row3\" class=\"row_heading level0 row3\" >3</th>\n",
       "                        <td id=\"T_adacfeae_9ecc_11ea_a047_a683e7bfb66frow3_col0\" class=\"data row3 col0\" >Numeric Features </td>\n",
       "                        <td id=\"T_adacfeae_9ecc_11ea_a047_a683e7bfb66frow3_col1\" class=\"data row3 col1\" >4</td>\n",
       "            </tr>\n",
       "            <tr>\n",
       "                        <th id=\"T_adacfeae_9ecc_11ea_a047_a683e7bfb66flevel0_row4\" class=\"row_heading level0 row4\" >4</th>\n",
       "                        <td id=\"T_adacfeae_9ecc_11ea_a047_a683e7bfb66frow4_col0\" class=\"data row4 col0\" >Categorical Features </td>\n",
       "                        <td id=\"T_adacfeae_9ecc_11ea_a047_a683e7bfb66frow4_col1\" class=\"data row4 col1\" >3</td>\n",
       "            </tr>\n",
       "            <tr>\n",
       "                        <th id=\"T_adacfeae_9ecc_11ea_a047_a683e7bfb66flevel0_row5\" class=\"row_heading level0 row5\" >5</th>\n",
       "                        <td id=\"T_adacfeae_9ecc_11ea_a047_a683e7bfb66frow5_col0\" class=\"data row5 col0\" >Ordinal Features </td>\n",
       "                        <td id=\"T_adacfeae_9ecc_11ea_a047_a683e7bfb66frow5_col1\" class=\"data row5 col1\" >False</td>\n",
       "            </tr>\n",
       "            <tr>\n",
       "                        <th id=\"T_adacfeae_9ecc_11ea_a047_a683e7bfb66flevel0_row6\" class=\"row_heading level0 row6\" >6</th>\n",
       "                        <td id=\"T_adacfeae_9ecc_11ea_a047_a683e7bfb66frow6_col0\" class=\"data row6 col0\" >High Cardinality Features </td>\n",
       "                        <td id=\"T_adacfeae_9ecc_11ea_a047_a683e7bfb66frow6_col1\" class=\"data row6 col1\" >False</td>\n",
       "            </tr>\n",
       "            <tr>\n",
       "                        <th id=\"T_adacfeae_9ecc_11ea_a047_a683e7bfb66flevel0_row7\" class=\"row_heading level0 row7\" >7</th>\n",
       "                        <td id=\"T_adacfeae_9ecc_11ea_a047_a683e7bfb66frow7_col0\" class=\"data row7 col0\" >Transformed Data </td>\n",
       "                        <td id=\"T_adacfeae_9ecc_11ea_a047_a683e7bfb66frow7_col1\" class=\"data row7 col1\" >(299, 4)</td>\n",
       "            </tr>\n",
       "            <tr>\n",
       "                        <th id=\"T_adacfeae_9ecc_11ea_a047_a683e7bfb66flevel0_row8\" class=\"row_heading level0 row8\" >8</th>\n",
       "                        <td id=\"T_adacfeae_9ecc_11ea_a047_a683e7bfb66frow8_col0\" class=\"data row8 col0\" >Numeric Imputer </td>\n",
       "                        <td id=\"T_adacfeae_9ecc_11ea_a047_a683e7bfb66frow8_col1\" class=\"data row8 col1\" >mean</td>\n",
       "            </tr>\n",
       "            <tr>\n",
       "                        <th id=\"T_adacfeae_9ecc_11ea_a047_a683e7bfb66flevel0_row9\" class=\"row_heading level0 row9\" >9</th>\n",
       "                        <td id=\"T_adacfeae_9ecc_11ea_a047_a683e7bfb66frow9_col0\" class=\"data row9 col0\" >Categorical Imputer </td>\n",
       "                        <td id=\"T_adacfeae_9ecc_11ea_a047_a683e7bfb66frow9_col1\" class=\"data row9 col1\" >constant</td>\n",
       "            </tr>\n",
       "            <tr>\n",
       "                        <th id=\"T_adacfeae_9ecc_11ea_a047_a683e7bfb66flevel0_row10\" class=\"row_heading level0 row10\" >10</th>\n",
       "                        <td id=\"T_adacfeae_9ecc_11ea_a047_a683e7bfb66frow10_col0\" class=\"data row10 col0\" >Normalize </td>\n",
       "                        <td id=\"T_adacfeae_9ecc_11ea_a047_a683e7bfb66frow10_col1\" class=\"data row10 col1\" >True</td>\n",
       "            </tr>\n",
       "            <tr>\n",
       "                        <th id=\"T_adacfeae_9ecc_11ea_a047_a683e7bfb66flevel0_row11\" class=\"row_heading level0 row11\" >11</th>\n",
       "                        <td id=\"T_adacfeae_9ecc_11ea_a047_a683e7bfb66frow11_col0\" class=\"data row11 col0\" >Normalize Method </td>\n",
       "                        <td id=\"T_adacfeae_9ecc_11ea_a047_a683e7bfb66frow11_col1\" class=\"data row11 col1\" >zscore</td>\n",
       "            </tr>\n",
       "            <tr>\n",
       "                        <th id=\"T_adacfeae_9ecc_11ea_a047_a683e7bfb66flevel0_row12\" class=\"row_heading level0 row12\" >12</th>\n",
       "                        <td id=\"T_adacfeae_9ecc_11ea_a047_a683e7bfb66frow12_col0\" class=\"data row12 col0\" >Transformation </td>\n",
       "                        <td id=\"T_adacfeae_9ecc_11ea_a047_a683e7bfb66frow12_col1\" class=\"data row12 col1\" >False</td>\n",
       "            </tr>\n",
       "            <tr>\n",
       "                        <th id=\"T_adacfeae_9ecc_11ea_a047_a683e7bfb66flevel0_row13\" class=\"row_heading level0 row13\" >13</th>\n",
       "                        <td id=\"T_adacfeae_9ecc_11ea_a047_a683e7bfb66frow13_col0\" class=\"data row13 col0\" >Transformation Method </td>\n",
       "                        <td id=\"T_adacfeae_9ecc_11ea_a047_a683e7bfb66frow13_col1\" class=\"data row13 col1\" >None</td>\n",
       "            </tr>\n",
       "            <tr>\n",
       "                        <th id=\"T_adacfeae_9ecc_11ea_a047_a683e7bfb66flevel0_row14\" class=\"row_heading level0 row14\" >14</th>\n",
       "                        <td id=\"T_adacfeae_9ecc_11ea_a047_a683e7bfb66frow14_col0\" class=\"data row14 col0\" >PCA </td>\n",
       "                        <td id=\"T_adacfeae_9ecc_11ea_a047_a683e7bfb66frow14_col1\" class=\"data row14 col1\" >False</td>\n",
       "            </tr>\n",
       "            <tr>\n",
       "                        <th id=\"T_adacfeae_9ecc_11ea_a047_a683e7bfb66flevel0_row15\" class=\"row_heading level0 row15\" >15</th>\n",
       "                        <td id=\"T_adacfeae_9ecc_11ea_a047_a683e7bfb66frow15_col0\" class=\"data row15 col0\" >PCA Method </td>\n",
       "                        <td id=\"T_adacfeae_9ecc_11ea_a047_a683e7bfb66frow15_col1\" class=\"data row15 col1\" >None</td>\n",
       "            </tr>\n",
       "            <tr>\n",
       "                        <th id=\"T_adacfeae_9ecc_11ea_a047_a683e7bfb66flevel0_row16\" class=\"row_heading level0 row16\" >16</th>\n",
       "                        <td id=\"T_adacfeae_9ecc_11ea_a047_a683e7bfb66frow16_col0\" class=\"data row16 col0\" >PCA components </td>\n",
       "                        <td id=\"T_adacfeae_9ecc_11ea_a047_a683e7bfb66frow16_col1\" class=\"data row16 col1\" >None</td>\n",
       "            </tr>\n",
       "            <tr>\n",
       "                        <th id=\"T_adacfeae_9ecc_11ea_a047_a683e7bfb66flevel0_row17\" class=\"row_heading level0 row17\" >17</th>\n",
       "                        <td id=\"T_adacfeae_9ecc_11ea_a047_a683e7bfb66frow17_col0\" class=\"data row17 col0\" >Ignore Low Variance </td>\n",
       "                        <td id=\"T_adacfeae_9ecc_11ea_a047_a683e7bfb66frow17_col1\" class=\"data row17 col1\" >False</td>\n",
       "            </tr>\n",
       "            <tr>\n",
       "                        <th id=\"T_adacfeae_9ecc_11ea_a047_a683e7bfb66flevel0_row18\" class=\"row_heading level0 row18\" >18</th>\n",
       "                        <td id=\"T_adacfeae_9ecc_11ea_a047_a683e7bfb66frow18_col0\" class=\"data row18 col0\" >Combine Rare Levels </td>\n",
       "                        <td id=\"T_adacfeae_9ecc_11ea_a047_a683e7bfb66frow18_col1\" class=\"data row18 col1\" >False</td>\n",
       "            </tr>\n",
       "            <tr>\n",
       "                        <th id=\"T_adacfeae_9ecc_11ea_a047_a683e7bfb66flevel0_row19\" class=\"row_heading level0 row19\" >19</th>\n",
       "                        <td id=\"T_adacfeae_9ecc_11ea_a047_a683e7bfb66frow19_col0\" class=\"data row19 col0\" >Rare Level Threshold </td>\n",
       "                        <td id=\"T_adacfeae_9ecc_11ea_a047_a683e7bfb66frow19_col1\" class=\"data row19 col1\" >None</td>\n",
       "            </tr>\n",
       "            <tr>\n",
       "                        <th id=\"T_adacfeae_9ecc_11ea_a047_a683e7bfb66flevel0_row20\" class=\"row_heading level0 row20\" >20</th>\n",
       "                        <td id=\"T_adacfeae_9ecc_11ea_a047_a683e7bfb66frow20_col0\" class=\"data row20 col0\" >Numeric Binning </td>\n",
       "                        <td id=\"T_adacfeae_9ecc_11ea_a047_a683e7bfb66frow20_col1\" class=\"data row20 col1\" >False</td>\n",
       "            </tr>\n",
       "            <tr>\n",
       "                        <th id=\"T_adacfeae_9ecc_11ea_a047_a683e7bfb66flevel0_row21\" class=\"row_heading level0 row21\" >21</th>\n",
       "                        <td id=\"T_adacfeae_9ecc_11ea_a047_a683e7bfb66frow21_col0\" class=\"data row21 col0\" >Remove Multicollinearity </td>\n",
       "                        <td id=\"T_adacfeae_9ecc_11ea_a047_a683e7bfb66frow21_col1\" class=\"data row21 col1\" >False</td>\n",
       "            </tr>\n",
       "            <tr>\n",
       "                        <th id=\"T_adacfeae_9ecc_11ea_a047_a683e7bfb66flevel0_row22\" class=\"row_heading level0 row22\" >22</th>\n",
       "                        <td id=\"T_adacfeae_9ecc_11ea_a047_a683e7bfb66frow22_col0\" class=\"data row22 col0\" >Multicollinearity Threshold </td>\n",
       "                        <td id=\"T_adacfeae_9ecc_11ea_a047_a683e7bfb66frow22_col1\" class=\"data row22 col1\" >None</td>\n",
       "            </tr>\n",
       "            <tr>\n",
       "                        <th id=\"T_adacfeae_9ecc_11ea_a047_a683e7bfb66flevel0_row23\" class=\"row_heading level0 row23\" >23</th>\n",
       "                        <td id=\"T_adacfeae_9ecc_11ea_a047_a683e7bfb66frow23_col0\" class=\"data row23 col0\" >Group Features </td>\n",
       "                        <td id=\"T_adacfeae_9ecc_11ea_a047_a683e7bfb66frow23_col1\" class=\"data row23 col1\" >False</td>\n",
       "            </tr>\n",
       "    </tbody></table>"
      ],
      "text/plain": [
       "<pandas.io.formats.style.Styler at 0x1356b5950>"
      ]
     },
     "metadata": {},
     "output_type": "display_data"
    }
   ],
   "source": [
    "from pycaret.clustering import *\n",
    "s = setup(data, normalize = True, \n",
    "                   ignore_features = ['track_name', 'track_id', 'url'],\n",
    "                   session_id = 42)"
   ]
  },
  {
   "cell_type": "code",
   "execution_count": 28,
   "metadata": {},
   "outputs": [],
   "source": [
    "# create_model?"
   ]
  },
  {
   "cell_type": "markdown",
   "metadata": {},
   "source": [
    "[Clustering modules](https://scikit-learn.org/stable/modules/clustering.html)"
   ]
  },
  {
   "cell_type": "code",
   "execution_count": 29,
   "metadata": {},
   "outputs": [],
   "source": [
    "# Create Model\n",
    "m = create_model('kmeans', num_clusters=6)"
   ]
  },
  {
   "cell_type": "code",
   "execution_count": 30,
   "metadata": {},
   "outputs": [
    {
     "name": "stdout",
     "output_type": "stream",
     "text": [
      "KMeans(algorithm='auto', copy_x=True, init='k-means++', max_iter=300,\n",
      "       n_clusters=6, n_init=10, n_jobs=None, precompute_distances='auto',\n",
      "       random_state=42, tol=0.0001, verbose=0)\n"
     ]
    }
   ],
   "source": [
    "print(m)"
   ]
  },
  {
   "cell_type": "code",
   "execution_count": 31,
   "metadata": {},
   "outputs": [],
   "source": [
    "results = assign_model(m)"
   ]
  },
  {
   "cell_type": "code",
   "execution_count": 32,
   "metadata": {},
   "outputs": [
    {
     "data": {
      "text/html": [
       "        <script type=\"text/javascript\">\n",
       "        window.PlotlyConfig = {MathJaxConfig: 'local'};\n",
       "        if (window.MathJax) {MathJax.Hub.Config({SVG: {font: \"STIX-Web\"}});}\n",
       "        if (typeof require !== 'undefined') {\n",
       "        require.undef(\"plotly\");\n",
       "        requirejs.config({\n",
       "            paths: {\n",
       "                'plotly': ['https://cdn.plot.ly/plotly-latest.min']\n",
       "            }\n",
       "        });\n",
       "        require(['plotly'], function(Plotly) {\n",
       "            window._Plotly = Plotly;\n",
       "        });\n",
       "        }\n",
       "        </script>\n",
       "        "
      ]
     },
     "metadata": {},
     "output_type": "display_data"
    },
    {
     "data": {
      "image/png": "[encoded data removed]",
      "text/plain": [
       "<Figure size 576x396 with 1 Axes>"
      ]
     },
     "metadata": {},
     "output_type": "display_data"
    }
   ],
   "source": [
    "# Find best value of K\n",
    "plot_model(m, plot = 'elbow')"
   ]
  },
  {
   "cell_type": "code",
   "execution_count": 33,
   "metadata": {},
   "outputs": [
    {
     "data": {
      "text/html": [
       "        <script type=\"text/javascript\">\n",
       "        window.PlotlyConfig = {MathJaxConfig: 'local'};\n",
       "        if (window.MathJax) {MathJax.Hub.Config({SVG: {font: \"STIX-Web\"}});}\n",
       "        if (typeof require !== 'undefined') {\n",
       "        require.undef(\"plotly\");\n",
       "        requirejs.config({\n",
       "            paths: {\n",
       "                'plotly': ['https://cdn.plot.ly/plotly-latest.min']\n",
       "            }\n",
       "        });\n",
       "        require(['plotly'], function(Plotly) {\n",
       "            window._Plotly = Plotly;\n",
       "        });\n",
       "        }\n",
       "        </script>\n",
       "        "
      ]
     },
     "metadata": {},
     "output_type": "display_data"
    },
    {
     "data": {
      "application/vnd.plotly.v1+json": {
       "config": {
        "plotlyServerURL": "https://plot.ly"
       },
       "data": [
        {
         "customdata": [
          [
           "Have You Ever Seen The Rain"
          ],
          [
           "Break It Down Again"
          ],
          [
           "Stay"
          ],
          [
           "A Visita"
          ],
          [
           "O Que É O Que É?"
          ],
          [
           "Loving Every Minute"
          ],
          [
           "Nosso Pequeno Castelo"
          ],
          [
           "Voce Abusou"
          ],
          [
           "I Follow Rivers"
          ],
          [
           "Relicário"
          ],
          [
           "Meu Lugar"
          ],
          [
           "Tocando em Frente"
          ],
          [
           "Como Nossos Pais"
          ],
          [
           "Garota Nacional"
          ],
          [
           "Big Time Sensuality"
          ],
          [
           "Meu Erro"
          ],
          [
           "Cara valente"
          ],
          [
           "Sing"
          ],
          [
           "O Mar Serenou"
          ],
          [
           "What a Wonderful World"
          ],
          [
           "She"
          ],
          [
           "Don't Look Back in Anger - Remastered"
          ],
          [
           "Evidence"
          ],
          [
           "Easy"
          ],
          [
           "Skyfall"
          ],
          [
           "Live And Let Die - Remastered 1993"
          ],
          [
           "The James Bond Theme (From \"Dr. No\")"
          ],
          [
           "Another Way to Die"
          ],
          [
           "Die Another Day"
          ],
          [
           "You Know My Name - From \"Casino Royale\" Soundtrack"
          ],
          [
           "Perfect"
          ],
          [
           "Autumn Leaves"
          ],
          [
           "Johnny B. Goode"
          ],
          [
           "Get Up I Feel Like Being A Sex Machine - Pt. 1 / Single Version"
          ],
          [
           "Minha Tribo Sou Eu"
          ],
          [
           "Aquarela"
          ],
          [
           "Pipes Of Peace - Remastered 2015"
          ],
          [
           "O Trem das 7 (Ao Vivo)"
          ],
          [
           "Acontecimentos"
          ],
          [
           "Colo de Menina"
          ],
          [
           "Space Cowboy"
          ],
          [
           "Meu Guarda-Chuva"
          ],
          [
           "Carolina"
          ],
          [
           "Verdade"
          ],
          [
           "Samba Lelê"
          ],
          [
           "A Banda"
          ],
          [
           "Big Yellow Taxi"
          ],
          [
           "All About That Bass - Live from Spotify London"
          ]
         ],
         "hoverlabel": {
          "namelength": 0
         },
         "hovertemplate": "Cluster=Cluster 0<br>PCA1=%{x}<br>PCA2=%{y}<br>Feature=%{customdata[0]}",
         "legendgroup": "Cluster=Cluster 0",
         "marker": {
          "color": "#636efa",
          "opacity": 0.5,
          "symbol": "circle"
         },
         "mode": "markers",
         "name": "Cluster=Cluster 0",
         "showlegend": true,
         "textposition": "top center",
         "type": "scatter",
         "x": [
          1.7557110688304038,
          0.6295382842327055,
          1.6381456193799295,
          0.502364658457169,
          -0.22860028253250522,
          0.3611557215906837,
          0.33860114780445294,
          0.5129458928328038,
          1.424208088986709,
          1.2638307370068338,
          0.21701188324277207,
          0.3765289903759999,
          1.7109401399671347,
          0.5487889815435997,
          2.606138232180052,
          0.5410095439362046,
          0.23268470652912654,
          1.402391173404644,
          0.6107991779111451,
          0.9790346551989186,
          1.1737739658880317,
          0.503615663249046,
          1.6170169836132808,
          0.8020934693295705,
          0.4349525430858872,
          1.8714526333803359,
          -0.3206306035229604,
          3.138316406527761,
          0.48735665110311105,
          0.6582185108403873,
          1.843452661016886,
          1.8608298567339636,
          2.149863628432891,
          0.8905386532655974,
          0.9766589006785446,
          2.5853637608085065,
          0.9758646360824018,
          1.3613581362081302,
          1.8563716557121681,
          0.3158342860995198,
          1.6951209242313072,
          2.8736732589766056,
          2.4494254389916854,
          2.314158117039135,
          1.5295851633867759,
          0.3042853146582398,
          0.9099554795141862,
          1.0990068106735404
         ],
         "xaxis": "x",
         "y": [
          -0.17544795878105246,
          -0.16269963450064537,
          -0.01117621411435597,
          0.00042793762512432533,
          0.16601508794369155,
          -0.891617303158136,
          0.6326043638222046,
          0.5378347024271526,
          -0.6800714713996964,
          -0.03446926924317829,
          -0.7996745757041043,
          0.30026576460892845,
          -0.774492645027953,
          0.033662373597613746,
          1.3374139304243127,
          0.27443822931809175,
          0.04609783433947689,
          -0.7200640971855375,
          -0.6315302345826683,
          0.3168748978511445,
          -0.4283771523915194,
          -0.9521979443044836,
          -0.4430999337740654,
          -0.09756890087881226,
          -0.7486809702046289,
          -0.2708467887583075,
          0.2321759549701011,
          -0.5370755154744855,
          -0.69770045572255,
          -0.705301388797184,
          -1.2327584598681265,
          -0.18622892872291158,
          -0.4129207225332798,
          0.20191109055717457,
          -0.8718702594331149,
          0.35410997484565987,
          -0.038376985609213744,
          -0.8411768156452782,
          0.6590494186395516,
          0.9360044003584275,
          -0.17388816198196186,
          0.9616462344513692,
          0.5372943194939925,
          0.33482213658323645,
          0.360188386803263,
          0.1410050960053909,
          0.021295999578465702,
          0.046366419128717286
         ],
         "yaxis": "y"
        },
        {
         "customdata": [
          [
           "Rocket Man"
          ],
          [
           "Fireball (feat. John Ryan)"
          ],
          [
           "Non, je ne regrette rien - Remasterisé En 2015"
          ],
          [
           "Respect"
          ],
          [
           "Oh Chuva"
          ],
          [
           "Get Down On It - Single Version"
          ],
          [
           "The Thrill Is Gone"
          ],
          [
           "One Of Us"
          ],
          [
           "Love Of My Life - Live"
          ],
          [
           "Bola De Meia, Bola De Gude"
          ],
          [
           "O bêbado e a equilibrista"
          ],
          [
           "Aqua de Beber"
          ],
          [
           "Mais Que Nada (Remix)"
          ],
          [
           "Under My Thumb"
          ],
          [
           "What's Up?"
          ],
          [
           "Flores em você"
          ],
          [
           "One Note Samba"
          ],
          [
           "Heroes - 1999 Remaster"
          ],
          [
           "Tudo No Lugar"
          ],
          [
           "Funk Nu a Murit"
          ],
          [
           "Vou Deixar"
          ],
          [
           "Exagerado 3.0"
          ],
          [
           "Bete Balanço"
          ],
          [
           "O segundo sol"
          ],
          [
           "Que Beleza"
          ],
          [
           "Malemolencia"
          ],
          [
           "Gostava Tanto de Você - Ao Vivo"
          ],
          [
           "Wish You Were Here"
          ],
          [
           "Só Tinha De Ser Com Voce (Com Tom)"
          ],
          [
           "São Gonça"
          ],
          [
           "Exagerado"
          ],
          [
           "Flor de Lis"
          ],
          [
           "Mais Que Nada"
          ],
          [
           "Aquele Abraço"
          ],
          [
           "16 Toneladas"
          ],
          [
           "Let's Call the Whole Thing Off"
          ],
          [
           "Dream a Little Dream of Me"
          ],
          [
           "What a Wonderful World"
          ],
          [
           "Maracatu Atômico"
          ],
          [
           "I'm Yours"
          ],
          [
           "Human"
          ],
          [
           "I Can't Dance"
          ],
          [
           "Let Her Go"
          ],
          [
           "Young Folks"
          ],
          [
           "Dream A Little Dream Of Me - Album Version With Introduction"
          ],
          [
           "The Last of the Famous International Playboys - 2010 Remaster"
          ],
          [
           "Hey Ya! - Radio Mix / Club Mix"
          ],
          [
           "Seven Nation Army"
          ],
          [
           "Bring Me To Life"
          ],
          [
           "Smooth (feat. Rob Thomas)"
          ],
          [
           "Chão de Giz"
          ],
          [
           "Mistérios da Meia Noite"
          ],
          [
           "These Boots Are Made For Walkin'"
          ],
          [
           "Day Tripper"
          ],
          [
           "Get the Party Started"
          ],
          [
           "Wrecking Ball"
          ],
          [
           "The Passenger"
          ],
          [
           "Fly Me To The Moon - Remastered"
          ],
          [
           "Back In Black"
          ]
         ],
         "hoverlabel": {
          "namelength": 0
         },
         "hovertemplate": "Cluster=Cluster 1<br>PCA1=%{x}<br>PCA2=%{y}<br>Feature=%{customdata[0]}",
         "legendgroup": "Cluster=Cluster 1",
         "marker": {
          "color": "#EF553B",
          "opacity": 0.5,
          "symbol": "circle"
         },
         "mode": "markers",
         "name": "Cluster=Cluster 1",
         "showlegend": true,
         "textposition": "top center",
         "type": "scatter",
         "x": [
          -2.0233523139008054,
          -2.1751864206417317,
          -1.926364809364064,
          -1.2321324440379375,
          -1.3709097919776247,
          -1.9710022917299999,
          -0.5510135886021159,
          -0.34267256458758655,
          -0.4630469281776196,
          -0.4637319814726284,
          -1.26529962916683,
          -0.8575206797988313,
          -1.1788497046871418,
          -0.03804841733122546,
          -1.8374927437698951,
          -1.5246335759550231,
          -1.0510297106017394,
          -1.6706325929233392,
          -1.5345767288063161,
          -0.18186358917135417,
          -1.06774777949241,
          -0.5234344811844706,
          -2.163906824233282,
          -0.22117522192673572,
          -1.8335332431857072,
          -0.4525680806387376,
          -0.29918663888956654,
          -1.4955008541533896,
          -0.3156900600972166,
          -0.9797353934875406,
          -0.9259257849201299,
          -1.6244522732033657,
          -1.0596672413990966,
          -1.2934006681577261,
          -1.1076846210484241,
          -2.354687465255157,
          -1.0374518115596023,
          -0.026041272203156995,
          -1.7862635331149548,
          -1.4910038798860088,
          -1.405620984039582,
          -2.263359344221679,
          -0.6903152670452881,
          -0.6461473927324874,
          -1.5966704926118314,
          -1.831420036734997,
          -1.4338143756682658,
          -1.5927107623432473,
          -1.006259880793107,
          -0.19464285768748016,
          -0.610535220344202,
          -0.2184451987898272,
          -1.682835710473737,
          -1.47137489988172,
          -0.15372257615239018,
          -0.6060501315464929,
          0.03976456790906281,
          -1.14554439579219,
          -0.2951552163764368
         ],
         "xaxis": "x",
         "y": [
          0.052899469169552786,
          -1.3220473420205567,
          -0.9597578088109834,
          -0.8534276894627424,
          -0.6277513436177304,
          -0.8705048666531616,
          -0.9387305645022956,
          -0.9744234122865968,
          -0.1121181225823817,
          -1.249533767804889,
          -0.25398493094491964,
          -1.4338636904877,
          -1.0253318229674226,
          -1.8943102051753553,
          -1.0224371969751553,
          -1.1564680354748362,
          -1.0536822299151587,
          -0.9949493901306434,
          -0.9423055068858222,
          -1.1009894491622252,
          -1.352838357734614,
          -1.06011461609636,
          -1.4751082970516336,
          -1.7682949232054113,
          -1.0059993125759406,
          -1.4395901869385792,
          -0.9123055961198184,
          -0.45743110457020053,
          -1.721050526061476,
          -0.4068830312156558,
          -1.6029193915224953,
          -0.8953879744095917,
          -1.24765339008628,
          -0.14645987068432656,
          -1.0246445992937463,
          -0.6628816927476754,
          -0.2140421245736073,
          -2.244661420858054,
          -0.8610796534420637,
          -0.11568715621945132,
          -0.48622397446942284,
          -0.749385799717897,
          -0.6152524761639298,
          -0.5113841051477571,
          -0.5964200384113517,
          -0.14343793416190895,
          -1.3563792924425784,
          -1.0693029709732969,
          -0.07763483069526565,
          -0.5093980196071206,
          -1.331445508401034,
          -1.1247007547059806,
          -0.7548154653590353,
          -0.07318117153094232,
          -0.7780261275204291,
          0.08907453240138802,
          -0.25483745036716077,
          -0.6018684035502984,
          -1.1253624367047321
         ],
         "yaxis": "y"
        },
        {
         "customdata": [
          [
           "You Shook Me All Night Long"
          ],
          [
           "Highway to Hell"
          ],
          [
           "Danny's Song"
          ],
          [
           "Danny's Song"
          ],
          [
           "Istanbul (Not Constantinople)"
          ],
          [
           "Andar com fé"
          ],
          [
           "Vamos fugir"
          ],
          [
           "Samba Da Bencao"
          ],
          [
           "Bete balanço - Ao vivo"
          ],
          [
           "Anunciação"
          ],
          [
           "La vie en rose - Single Version"
          ],
          [
           "Dream A Little Dream Of Me"
          ],
          [
           "Common People"
          ],
          [
           "Girls and Boys"
          ],
          [
           "Alright"
          ],
          [
           "Hey Ya!"
          ],
          [
           "Crazy"
          ],
          [
           "Smiley Faces"
          ],
          [
           "Fuck You"
          ],
          [
           "Where Is The Love?"
          ],
          [
           "A Little Party Never Killed Nobody (All We Got)"
          ],
          [
           "Party Rock Anthem"
          ],
          [
           "CAN'T STOP THE FEELING! (Original Song from DreamWorks Animation's \"TROLLS\")"
          ],
          [
           "Try"
          ],
          [
           "If I Ain't Got You"
          ],
          [
           "Say Something"
          ],
          [
           "Riders on the Storm"
          ],
          [
           "Summertime"
          ],
          [
           "Piece Of My Heart"
          ],
          [
           "Baba O'Riley"
          ],
          [
           "All Along the Watchtower"
          ],
          [
           "Walk On the Wild Side"
          ],
          [
           "Wish You Were Here"
          ],
          [
           "Another Brick in the Wall, Pt. 2"
          ],
          [
           "Smoke On The Water - Remastered 2012"
          ],
          [
           "Paranoid"
          ],
          [
           "Águas De Março"
          ],
          [
           "Good People"
          ]
         ],
         "hoverlabel": {
          "namelength": 0
         },
         "hovertemplate": "Cluster=Cluster 2<br>PCA1=%{x}<br>PCA2=%{y}<br>Feature=%{customdata[0]}",
         "legendgroup": "Cluster=Cluster 2",
         "marker": {
          "color": "#00cc96",
          "opacity": 0.5,
          "symbol": "circle"
         },
         "mode": "markers",
         "name": "Cluster=Cluster 2",
         "showlegend": true,
         "textposition": "top center",
         "type": "scatter",
         "x": [
          0.7328943380178939,
          0.7712953774007445,
          2.0621695175739605,
          2.157165979227327,
          1.8423859556407234,
          1.4849980161394576,
          1.1512466758937214,
          1.052397621123636,
          1.308709357919917,
          1.040750442847729,
          1.166837358867445,
          1.0796149855279367,
          1.0219659519983146,
          0.9091406154437429,
          1.7330595507637394,
          1.0785083740786452,
          0.5785728042700392,
          1.4334702234143328,
          1.1038815845318415,
          0.5349765441739368,
          1.7730471531634058,
          1.0549996158100505,
          1.4638123521680813,
          2.01892441456896,
          0.9742550392139904,
          1.200752861612994,
          0.015731633711044777,
          0.9490499419286039,
          0.5157227310555387,
          0.6893385770757787,
          1.4950645152615205,
          0.35508461560508076,
          1.033695012270992,
          1.7499346833263256,
          0.9317983520096458,
          0.8963188579310017,
          0.5262158704179702,
          1.4592955284837752
         ],
         "xaxis": "x",
         "y": [
          1.9940512172116367,
          1.1704662080853405,
          1.959508517450991,
          1.675096101958366,
          2.02175104575035,
          2.0118911989986388,
          1.5752419149766155,
          1.4249234992098931,
          1.2296923052891822,
          1.700227189669074,
          0.8491652500754221,
          1.2206814748971693,
          0.6526751556514973,
          0.7751875691392703,
          1.3044025148598526,
          0.7953896941960091,
          1.4711187137360129,
          1.7983982020137863,
          1.9092615263732358,
          1.035023297561986,
          2.4084966572954465,
          1.3064036859982198,
          1.4700983203330524,
          1.7680155909589075,
          1.838667943398385,
          1.560170448783957,
          1.8992376666768982,
          2.6901148961081565,
          1.4055804834347985,
          2.025950830739151,
          2.53727028054612,
          1.826356424913771,
          1.8508397437701711,
          3.3228396607546054,
          1.5601100351733344,
          2.748072206793207,
          2.231920762106159,
          0.28138172364933917
         ],
         "yaxis": "y"
        },
        {
         "customdata": [
          [
           "Got My Mind Set On You - 2004 Mix"
          ],
          [
           "Love On The Brain"
          ],
          [
           "I Love Rock 'n' Roll"
          ],
          [
           "Kung Fu Fighting (Single Version)"
          ],
          [
           "Lay, Lady, Lay"
          ],
          [
           "Superstition - Single Version"
          ],
          [
           "Signed, Sealed, Delivered (I'm Yours)"
          ],
          [
           "Coffee and TV"
          ],
          [
           "Hey Boy Hey Girl"
          ],
          [
           "Go"
          ],
          [
           "Block Rockin' Beats"
          ],
          [
           "Sunshine Reggae - 2008 Remaster"
          ],
          [
           "Dona Cila"
          ],
          [
           "Layla - Acoustic; Live at MTV Unplugged, Bray Film Studios, Windsor, England, UK, 1/16/1992; 2013 Remaster"
          ],
          [
           "Beds Are Burning - Remastered"
          ],
          [
           "House of Fun - 2000 Remastered Version"
          ],
          [
           "Addicted To Love"
          ],
          [
           "Moving On Up"
          ],
          [
           "Cérebro Eletrônico"
          ],
          [
           "Só Tinha De Ser Com Você"
          ],
          [
           "The Joker"
          ],
          [
           "Friction"
          ],
          [
           "You Had Me"
          ],
          [
           "Love Today"
          ],
          [
           "Happy Ending/Over My Shoulder"
          ],
          [
           "The River of Dreams"
          ],
          [
           "Down On The Corner"
          ],
          [
           "Kiss from a Rose"
          ],
          [
           "Crazy"
          ],
          [
           "Telegrama"
          ],
          [
           "Amor e Sexo"
          ],
          [
           "Metamorfose Ambulante"
          ],
          [
           "Codinome Beija-Flor"
          ]
         ],
         "hoverlabel": {
          "namelength": 0
         },
         "hovertemplate": "Cluster=Cluster 3<br>PCA1=%{x}<br>PCA2=%{y}<br>Feature=%{customdata[0]}",
         "legendgroup": "Cluster=Cluster 3",
         "marker": {
          "color": "#ab63fa",
          "opacity": 0.5,
          "symbol": "circle"
         },
         "mode": "markers",
         "name": "Cluster=Cluster 3",
         "showlegend": true,
         "textposition": "top center",
         "type": "scatter",
         "x": [
          0.8782449145924679,
          1.7526303274699908,
          1.0945874286800097,
          1.7335589656207515,
          2.1008111754060996,
          1.4370627301172798,
          3.0672329466041974,
          4.164966342179607,
          1.2436918671736272,
          2.3735173522232644,
          1.795154911195934,
          1.0923266416921171,
          2.53486900631731,
          0.48312789073083356,
          1.9870735180776495,
          0.4182016640863219,
          1.1177027634441863,
          0.31411779057798545,
          1.7017959683685966,
          1.7441423723323968,
          1.9394547058723433,
          1.691368958305089,
          2.4101112454058002,
          1.8926180389089113,
          2.80422506241235,
          0.16327403964517687,
          0.5030187765752016,
          0.3880791343425302,
          1.1375507267467824,
          1.1004926531780934,
          1.1665538316514013,
          1.3603602928736647,
          1.8267311960462258
         ],
         "xaxis": "x",
         "y": [
          -1.7445359070426767,
          -0.6486317706512138,
          -1.7523648447363924,
          -1.063332613874343,
          -1.4501798846734966,
          -1.6905968857238272,
          -0.7549953744041549,
          -2.0312344141495386,
          -2.7603765899307446,
          -1.0664619406247644,
          -1.5821853331040423,
          -1.927654419300463,
          -1.573589924320051,
          -1.8773635438773921,
          -2.1249462407480912,
          -1.2141400984078214,
          -1.085797107288589,
          -1.788846092254238,
          -0.8908471824469002,
          -1.0771993487803515,
          -2.960392151933323,
          -2.2641452809991724,
          -1.0071778331758818,
          -0.6616654687546429,
          -0.6331750948315907,
          -2.050275328652124,
          -1.593687063980251,
          -2.145463597135581,
          -0.5714916694726035,
          -1.3150936892364133,
          -2.1232203361700424,
          -1.336514784203392,
          -0.8506196354359665
         ],
         "yaxis": "y"
        },
        {
         "customdata": [
          [
           "Cotidiano"
          ],
          [
           "Relicário - Ao Vivo"
          ],
          [
           "Chega de Saudade"
          ],
          [
           "Tropicana (Morena Tropicana)"
          ],
          [
           "Não Me Deixe Só"
          ],
          [
           "Boa Sorte / Good Luck"
          ],
          [
           "Segue o Som"
          ],
          [
           "Samba de uma nota só"
          ],
          [
           "Ai, Ai, Ai..."
          ],
          [
           "La Belle De Jour"
          ],
          [
           "Tá perdoado"
          ],
          [
           "O Segundo Sol - Acoustic"
          ],
          [
           "Vamos Fugir"
          ],
          [
           "Greenback Boogie (Theme from \"Suits\")"
          ],
          [
           "Safety Dance"
          ],
          [
           "Da Ya Think I'm Sexy"
          ],
          [
           "Pela Luz dos Olhos Teus - Bonus Track"
          ],
          [
           "Because the Night - MTV Unplugged Version"
          ],
          [
           "Under Pressure - Remastered"
          ],
          [
           "Three Little Birds"
          ],
          [
           "Every Breath You Take"
          ],
          [
           "Johnny B Goode - 2002 Remaster"
          ],
          [
           "Livin' On A Prayer"
          ],
          [
           "You Give Love A Bad Name"
          ],
          [
           "Wanted Dead Or Alive"
          ],
          [
           "The Way You Look Tonight"
          ],
          [
           "Carta Ao Tom 74"
          ],
          [
           "Galvanize"
          ],
          [
           "Viva La Vida"
          ],
          [
           "Flames"
          ],
          [
           "Lose Yourself - From \"8 Mile\" Soundtrack"
          ],
          [
           "The Sweet Escape"
          ],
          [
           "Toxic"
          ],
          [
           "Feel It Still"
          ],
          [
           "Pretend We're Dead"
          ],
          [
           "Shitlist"
          ],
          [
           "Black Velvet"
          ],
          [
           "That's All - 2007 Remaster"
          ],
          [
           "Óculos"
          ],
          [
           "Envelheço na cidade"
          ],
          [
           "Pobre paulista"
          ],
          [
           "Mantenha o Respeito"
          ],
          [
           "Chained To The Rhythm"
          ],
          [
           "Dark Horse"
          ],
          [
           "I Kissed A Girl"
          ],
          [
           "All The Small Things"
          ],
          [
           "Ho Hey"
          ],
          [
           "Halo"
          ],
          [
           "Counting Stars"
          ],
          [
           "Happy Together"
          ],
          [
           "Human"
          ],
          [
           "Better Together"
          ],
          [
           "Wherever You Will Go"
          ],
          [
           "We Didn't Start the Fire"
          ],
          [
           "Teardrop"
          ],
          [
           "Smiled At Me (Sorriu Para Mim)"
          ],
          [
           "Corcovado"
          ],
          [
           "Cum on Feel the Noize"
          ],
          [
           "One Way Or Another"
          ],
          [
           "Fast Car"
          ],
          [
           "One"
          ]
         ],
         "hoverlabel": {
          "namelength": 0
         },
         "hovertemplate": "Cluster=Cluster 4<br>PCA1=%{x}<br>PCA2=%{y}<br>Feature=%{customdata[0]}",
         "legendgroup": "Cluster=Cluster 4",
         "marker": {
          "color": "#FFA15A",
          "opacity": 0.5,
          "symbol": "circle"
         },
         "mode": "markers",
         "name": "Cluster=Cluster 4",
         "showlegend": true,
         "textposition": "top center",
         "type": "scatter",
         "x": [
          -0.6377509680911502,
          -0.13210671759347425,
          0.539787775706048,
          -0.5607588160344911,
          0.21621413520486857,
          0.32221340393425507,
          0.46145650547736705,
          -0.573973524509954,
          0.1659271915709421,
          -1.0194184064580007,
          0.3696071451268887,
          -0.7522783797775309,
          -0.3400513049161329,
          -0.06389427173264013,
          -0.46699471740156706,
          -0.56621464792978,
          -1.0298082073391408,
          -2.3709159683482492,
          -0.10657544277663394,
          0.08981477771685857,
          0.40794817759089486,
          -0.6873351876538262,
          -0.7456374535695087,
          -0.4224509520912431,
          0.4361739232186571,
          0.010489729726493023,
          -0.5299455170103139,
          -0.14691861851029084,
          0.1011775766439675,
          -0.8822953532216007,
          -0.6868427622161424,
          0.3176803267263334,
          -1.643721105309416,
          0.0653020323024001,
          -0.6202596145041782,
          -0.41900203752775994,
          -0.2148173136028277,
          -0.5651819665189357,
          -0.20138215814885488,
          -1.4632272201963585,
          0.11837028714418892,
          0.6245927344980129,
          -0.17318954416728674,
          0.17142237941689814,
          -0.3246684901963031,
          -1.192012771612868,
          -1.0261003994309112,
          -0.10923533589393722,
          0.29996594972492996,
          -1.0603288711582057,
          -1.046098705229173,
          -0.8628707724533375,
          0.2520318150597218,
          -0.010960257492528986,
          -2.424108953485928,
          -0.1800692805953093,
          0.03924033825896531,
          -0.036706973909314974,
          -0.049538731566691904,
          -0.26565617065672775,
          -1.8338412309683734
         ],
         "xaxis": "x",
         "y": [
          0.08164635174481243,
          0.10063832835306963,
          0.05181080594915596,
          0.41001167874422023,
          -0.49295407453311363,
          -0.688316701730475,
          -0.2825671746293318,
          -0.12477176007666621,
          -0.866428718511778,
          0.5562110419455081,
          0.6432948505779512,
          -0.2853812952768051,
          -0.17476037460967453,
          -0.8011810238428904,
          -1.1398326264742458,
          0.01277786309905734,
          0.27752014516662005,
          -0.2831505987916913,
          0.3989428859845032,
          0.17288340829815316,
          -0.6599938550812255,
          -0.24320154154408533,
          -0.40783518842428346,
          -0.5527858939444605,
          -1.1156449011092548,
          0.6853442433769419,
          -1.100738728730934,
          -0.16639204857848514,
          -0.23740504743787302,
          -0.3488612817478125,
          -0.06408780392488878,
          -0.009425730757951386,
          -0.2561691186350903,
          -0.9143964030386609,
          -0.08605915865976572,
          -0.029750144628191772,
          -0.569198631560946,
          0.44531478724258555,
          -1.344871129122862,
          -0.12031605378416083,
          -0.8996804817280234,
          0.4086377486860875,
          0.18413047897930535,
          -0.6983990912842551,
          -0.6031595240113926,
          -0.09291523587385889,
          0.2740327016518307,
          -0.609961348420747,
          -1.0226976621913464,
          -0.40255047081089296,
          0.14409429440550134,
          0.40479018713335235,
          -0.5351373876759341,
          0.9368326644622036,
          -0.2813560078593393,
          -0.12651450193692315,
          -0.12293572047719503,
          0.872295874461068,
          -0.1379518933479877,
          -0.576302465137765,
          -0.18591244378183833
         ],
         "yaxis": "y"
        },
        {
         "customdata": [
          [
           "Shiny Happy People"
          ],
          [
           "A Casa é Sua"
          ],
          [
           "With Or Without You - Remastered"
          ],
          [
           "Beija Eu"
          ],
          [
           "Rolling In The Deep"
          ],
          [
           "Set Fire to the Rain"
          ],
          [
           "Firework"
          ],
          [
           "Roar"
          ],
          [
           "Wake Me Up - Radio Edit"
          ],
          [
           "Hello"
          ],
          [
           "Under Pressure - Remastered"
          ],
          [
           "A Message to You Rudy"
          ],
          [
           "Stressed Out"
          ],
          [
           "Heathens"
          ],
          [
           "Ride"
          ],
          [
           "Here Comes The Sun - Remastered 2009"
          ],
          [
           "Do Lado de Cá"
          ],
          [
           "Juste un inconnu"
          ],
          [
           "The Ballad Of John And Yoko - Remastered 2009"
          ],
          [
           "Cocaine"
          ],
          [
           "Layla - 40th Anniversary Version / 2010 Remastered"
          ],
          [
           "Paint It, Black - Mono"
          ],
          [
           "Nothing Else Matters"
          ],
          [
           "Comfortably Numb"
          ],
          [
           "Blaze Of Glory - From \"Young Guns II\" Soundtrack"
          ],
          [
           "Miracle"
          ],
          [
           "Daughter (Remastered)"
          ],
          [
           "Kiss from a Rose - Acoustic"
          ],
          [
           "Zombie - Acoustic Version"
          ],
          [
           "Black"
          ],
          [
           "Crazy Mary (Remastered)"
          ],
          [
           "Iris"
          ],
          [
           "Alanis’ Interlude"
          ],
          [
           "Blue Sky Mine - 2011 Remaster"
          ],
          [
           "Whole Wide World"
          ],
          [
           "The Box, Pt. 1"
          ],
          [
           "The Box - Part 2"
          ],
          [
           "This Is What It Feels Like"
          ],
          [
           "Here Tonight"
          ],
          [
           "Faded - Dash Berlin Remix"
          ],
          [
           "Shine Ibiza Anthem 2019"
          ],
          [
           "Fico Assim Sem Você"
          ],
          [
           "Ai, Ai, Ai..."
          ],
          [
           "O Calibre"
          ],
          [
           "Somewhere Only We Know"
          ],
          [
           "Realla"
          ],
          [
           "Rose's Thorn"
          ],
          [
           "Wen Uuu"
          ],
          [
           "Tainted Love"
          ],
          [
           "18 and Life"
          ],
          [
           "We're Not Gonna Take It"
          ],
          [
           "Keep Yourself Alive - Live At The Rainbow"
          ],
          [
           "Bohemian Rhapsody - 2011 Mix"
          ],
          [
           "Radio Ga Ga - Live Aid"
          ],
          [
           "The Show Must Go On - 2011 Mix"
          ],
          [
           "Don't Stop Me Now - ...Revisited"
          ],
          [
           "The Sea"
          ],
          [
           "We No Speak Americano (JT Radio Edit)"
          ],
          [
           "Uprising"
          ],
          [
           "Paint It, Black"
          ]
         ],
         "hoverlabel": {
          "namelength": 0
         },
         "hovertemplate": "Cluster=Cluster 5<br>PCA1=%{x}<br>PCA2=%{y}<br>Feature=%{customdata[0]}",
         "legendgroup": "Cluster=Cluster 5",
         "marker": {
          "color": "#19d3f3",
          "opacity": 0.5,
          "symbol": "circle"
         },
         "mode": "markers",
         "name": "Cluster=Cluster 5",
         "showlegend": true,
         "textposition": "top center",
         "type": "scatter",
         "x": [
          -2.3655084218883715,
          -0.3461802267064788,
          0.07101168170521191,
          -1.1326448412378205,
          -0.9187620783349891,
          -0.7442590588370591,
          -2.049250741545144,
          -1.0047301510267126,
          -2.3300579795498604,
          -1.1916748008245825,
          -1.3415979250881835,
          -0.9346787993308856,
          -0.5615697401346879,
          -1.1721629822504906,
          -0.3175665347681235,
          -1.6739209927979544,
          -2.1740333642943797,
          -1.9336412024127108,
          -0.9416861997692445,
          -1.162867877119122,
          -1.3735527375194359,
          -0.502726825544754,
          -1.6489034612232605,
          -1.9715612524124642,
          -0.30686872520668784,
          -0.05727128424889301,
          -0.42163858172985147,
          -0.40365587065074965,
          -1.0313954618919146,
          -0.9460126093384758,
          -1.9717335264074503,
          -1.9920892481557904,
          -0.5706853887787109,
          -0.2501470499080896,
          -0.9003243950991889,
          -0.4963500466971501,
          -0.8145379921040855,
          -1.736122956014118,
          -1.1125414024145945,
          -1.0074166648431595,
          -1.8337574437438524,
          -1.489105778814374,
          -1.0440615254525312,
          -0.1904978847719315,
          -1.6298363863888803,
          -0.4884513567189289,
          -0.4529363804313764,
          -1.346115849015209,
          -0.5595665112683283,
          -0.9289521473687485,
          -0.1587300558254528,
          -1.4937035066019304,
          -0.708759614034872,
          -1.2404165399609424,
          -0.3094891765184859,
          -0.6416394561527227,
          -1.299566032983996,
          -0.480687985003757,
          -1.9580444580042276,
          -0.591837063921803
         ],
         "xaxis": "x",
         "y": [
          0.7279817437076898,
          1.2834260095138463,
          0.8780312163663491,
          1.2807525077876696,
          0.7564399175503836,
          0.050639436333528375,
          1.214660139223427,
          0.4633319536310567,
          0.3442564177876295,
          0.9779146224729681,
          0.7522497939944084,
          1.952210023398933,
          0.4782751880151705,
          0.1077094713146663,
          0.8534137353887151,
          0.3544938787571328,
          0.9352685192812467,
          0.6855514440548031,
          0.8409124918768563,
          0.4233903127713373,
          1.3521930364704489,
          1.1051340361969486,
          0.825683463600229,
          0.972354168271941,
          1.9336428985293062,
          1.1176678360395997,
          1.2945383780675956,
          0.6057657583300068,
          1.0877479514248605,
          0.4748075497035058,
          1.1258861002960747,
          0.08312617782594088,
          0.9795553469181276,
          1.9576984032318367,
          1.164368516436325,
          2.1409970129611295,
          2.439202181085959,
          0.6061008162761518,
          0.4898581472942295,
          1.220700714069834,
          1.511476063577053,
          0.6001738244985163,
          0.8780115157058899,
          1.1956679844037674,
          1.0838712300277074,
          0.5814682595295527,
          0.8037611254423088,
          0.1190466040911501,
          1.1386206416418883,
          0.8486575041811196,
          0.7087136357676537,
          0.0934394436397619,
          0.6263284161899818,
          0.5580678865039974,
          1.2725971716033055,
          1.2610851036812993,
          0.7717654394389643,
          1.9905680603312503,
          0.20150860447433394,
          0.8370381583087834
         ],
         "yaxis": "y"
        }
       ],
       "layout": {
        "height": 600,
        "legend": {
         "tracegroupgap": 0
        },
        "margin": {
         "t": 60
        },
        "plot_bgcolor": "rgb(240,240,240)",
        "template": {
         "data": {
          "bar": [
           {
            "error_x": {
             "color": "#2a3f5f"
            },
            "error_y": {
             "color": "#2a3f5f"
            },
            "marker": {
             "line": {
              "color": "#E5ECF6",
              "width": 0.5
             }
            },
            "type": "bar"
           }
          ],
          "barpolar": [
           {
            "marker": {
             "line": {
              "color": "#E5ECF6",
              "width": 0.5
             }
            },
            "type": "barpolar"
           }
          ],
          "carpet": [
           {
            "aaxis": {
             "endlinecolor": "#2a3f5f",
             "gridcolor": "white",
             "linecolor": "white",
             "minorgridcolor": "white",
             "startlinecolor": "#2a3f5f"
            },
            "baxis": {
             "endlinecolor": "#2a3f5f",
             "gridcolor": "white",
             "linecolor": "white",
             "minorgridcolor": "white",
             "startlinecolor": "#2a3f5f"
            },
            "type": "carpet"
           }
          ],
          "choropleth": [
           {
            "colorbar": {
             "outlinewidth": 0,
             "ticks": ""
            },
            "type": "choropleth"
           }
          ],
          "contour": [
           {
            "colorbar": {
             "outlinewidth": 0,
             "ticks": ""
            },
            "colorscale": [
             [
              0,
              "#0d0887"
             ],
             [
              0.1111111111111111,
              "#46039f"
             ],
             [
              0.2222222222222222,
              "#7201a8"
             ],
             [
              0.3333333333333333,
              "#9c179e"
             ],
             [
              0.4444444444444444,
              "#bd3786"
             ],
             [
              0.5555555555555556,
              "#d8576b"
             ],
             [
              0.6666666666666666,
              "#ed7953"
             ],
             [
              0.7777777777777778,
              "#fb9f3a"
             ],
             [
              0.8888888888888888,
              "#fdca26"
             ],
             [
              1,
              "#f0f921"
             ]
            ],
            "type": "contour"
           }
          ],
          "contourcarpet": [
           {
            "colorbar": {
             "outlinewidth": 0,
             "ticks": ""
            },
            "type": "contourcarpet"
           }
          ],
          "heatmap": [
           {
            "colorbar": {
             "outlinewidth": 0,
             "ticks": ""
            },
            "colorscale": [
             [
              0,
              "#0d0887"
             ],
             [
              0.1111111111111111,
              "#46039f"
             ],
             [
              0.2222222222222222,
              "#7201a8"
             ],
             [
              0.3333333333333333,
              "#9c179e"
             ],
             [
              0.4444444444444444,
              "#bd3786"
             ],
             [
              0.5555555555555556,
              "#d8576b"
             ],
             [
              0.6666666666666666,
              "#ed7953"
             ],
             [
              0.7777777777777778,
              "#fb9f3a"
             ],
             [
              0.8888888888888888,
              "#fdca26"
             ],
             [
              1,
              "#f0f921"
             ]
            ],
            "type": "heatmap"
           }
          ],
          "heatmapgl": [
           {
            "colorbar": {
             "outlinewidth": 0,
             "ticks": ""
            },
            "colorscale": [
             [
              0,
              "#0d0887"
             ],
             [
              0.1111111111111111,
              "#46039f"
             ],
             [
              0.2222222222222222,
              "#7201a8"
             ],
             [
              0.3333333333333333,
              "#9c179e"
             ],
             [
              0.4444444444444444,
              "#bd3786"
             ],
             [
              0.5555555555555556,
              "#d8576b"
             ],
             [
              0.6666666666666666,
              "#ed7953"
             ],
             [
              0.7777777777777778,
              "#fb9f3a"
             ],
             [
              0.8888888888888888,
              "#fdca26"
             ],
             [
              1,
              "#f0f921"
             ]
            ],
            "type": "heatmapgl"
           }
          ],
          "histogram": [
           {
            "marker": {
             "colorbar": {
              "outlinewidth": 0,
              "ticks": ""
             }
            },
            "type": "histogram"
           }
          ],
          "histogram2d": [
           {
            "colorbar": {
             "outlinewidth": 0,
             "ticks": ""
            },
            "colorscale": [
             [
              0,
              "#0d0887"
             ],
             [
              0.1111111111111111,
              "#46039f"
             ],
             [
              0.2222222222222222,
              "#7201a8"
             ],
             [
              0.3333333333333333,
              "#9c179e"
             ],
             [
              0.4444444444444444,
              "#bd3786"
             ],
             [
              0.5555555555555556,
              "#d8576b"
             ],
             [
              0.6666666666666666,
              "#ed7953"
             ],
             [
              0.7777777777777778,
              "#fb9f3a"
             ],
             [
              0.8888888888888888,
              "#fdca26"
             ],
             [
              1,
              "#f0f921"
             ]
            ],
            "type": "histogram2d"
           }
          ],
          "histogram2dcontour": [
           {
            "colorbar": {
             "outlinewidth": 0,
             "ticks": ""
            },
            "colorscale": [
             [
              0,
              "#0d0887"
             ],
             [
              0.1111111111111111,
              "#46039f"
             ],
             [
              0.2222222222222222,
              "#7201a8"
             ],
             [
              0.3333333333333333,
              "#9c179e"
             ],
             [
              0.4444444444444444,
              "#bd3786"
             ],
             [
              0.5555555555555556,
              "#d8576b"
             ],
             [
              0.6666666666666666,
              "#ed7953"
             ],
             [
              0.7777777777777778,
              "#fb9f3a"
             ],
             [
              0.8888888888888888,
              "#fdca26"
             ],
             [
              1,
              "#f0f921"
             ]
            ],
            "type": "histogram2dcontour"
           }
          ],
          "mesh3d": [
           {
            "colorbar": {
             "outlinewidth": 0,
             "ticks": ""
            },
            "type": "mesh3d"
           }
          ],
          "parcoords": [
           {
            "line": {
             "colorbar": {
              "outlinewidth": 0,
              "ticks": ""
             }
            },
            "type": "parcoords"
           }
          ],
          "pie": [
           {
            "automargin": true,
            "type": "pie"
           }
          ],
          "scatter": [
           {
            "marker": {
             "colorbar": {
              "outlinewidth": 0,
              "ticks": ""
             }
            },
            "type": "scatter"
           }
          ],
          "scatter3d": [
           {
            "line": {
             "colorbar": {
              "outlinewidth": 0,
              "ticks": ""
             }
            },
            "marker": {
             "colorbar": {
              "outlinewidth": 0,
              "ticks": ""
             }
            },
            "type": "scatter3d"
           }
          ],
          "scattercarpet": [
           {
            "marker": {
             "colorbar": {
              "outlinewidth": 0,
              "ticks": ""
             }
            },
            "type": "scattercarpet"
           }
          ],
          "scattergeo": [
           {
            "marker": {
             "colorbar": {
              "outlinewidth": 0,
              "ticks": ""
             }
            },
            "type": "scattergeo"
           }
          ],
          "scattergl": [
           {
            "marker": {
             "colorbar": {
              "outlinewidth": 0,
              "ticks": ""
             }
            },
            "type": "scattergl"
           }
          ],
          "scattermapbox": [
           {
            "marker": {
             "colorbar": {
              "outlinewidth": 0,
              "ticks": ""
             }
            },
            "type": "scattermapbox"
           }
          ],
          "scatterpolar": [
           {
            "marker": {
             "colorbar": {
              "outlinewidth": 0,
              "ticks": ""
             }
            },
            "type": "scatterpolar"
           }
          ],
          "scatterpolargl": [
           {
            "marker": {
             "colorbar": {
              "outlinewidth": 0,
              "ticks": ""
             }
            },
            "type": "scatterpolargl"
           }
          ],
          "scatterternary": [
           {
            "marker": {
             "colorbar": {
              "outlinewidth": 0,
              "ticks": ""
             }
            },
            "type": "scatterternary"
           }
          ],
          "surface": [
           {
            "colorbar": {
             "outlinewidth": 0,
             "ticks": ""
            },
            "colorscale": [
             [
              0,
              "#0d0887"
             ],
             [
              0.1111111111111111,
              "#46039f"
             ],
             [
              0.2222222222222222,
              "#7201a8"
             ],
             [
              0.3333333333333333,
              "#9c179e"
             ],
             [
              0.4444444444444444,
              "#bd3786"
             ],
             [
              0.5555555555555556,
              "#d8576b"
             ],
             [
              0.6666666666666666,
              "#ed7953"
             ],
             [
              0.7777777777777778,
              "#fb9f3a"
             ],
             [
              0.8888888888888888,
              "#fdca26"
             ],
             [
              1,
              "#f0f921"
             ]
            ],
            "type": "surface"
           }
          ],
          "table": [
           {
            "cells": {
             "fill": {
              "color": "#EBF0F8"
             },
             "line": {
              "color": "white"
             }
            },
            "header": {
             "fill": {
              "color": "#C8D4E3"
             },
             "line": {
              "color": "white"
             }
            },
            "type": "table"
           }
          ]
         },
         "layout": {
          "annotationdefaults": {
           "arrowcolor": "#2a3f5f",
           "arrowhead": 0,
           "arrowwidth": 1
          },
          "coloraxis": {
           "colorbar": {
            "outlinewidth": 0,
            "ticks": ""
           }
          },
          "colorscale": {
           "diverging": [
            [
             0,
             "#8e0152"
            ],
            [
             0.1,
             "#c51b7d"
            ],
            [
             0.2,
             "#de77ae"
            ],
            [
             0.3,
             "#f1b6da"
            ],
            [
             0.4,
             "#fde0ef"
            ],
            [
             0.5,
             "#f7f7f7"
            ],
            [
             0.6,
             "#e6f5d0"
            ],
            [
             0.7,
             "#b8e186"
            ],
            [
             0.8,
             "#7fbc41"
            ],
            [
             0.9,
             "#4d9221"
            ],
            [
             1,
             "#276419"
            ]
           ],
           "sequential": [
            [
             0,
             "#0d0887"
            ],
            [
             0.1111111111111111,
             "#46039f"
            ],
            [
             0.2222222222222222,
             "#7201a8"
            ],
            [
             0.3333333333333333,
             "#9c179e"
            ],
            [
             0.4444444444444444,
             "#bd3786"
            ],
            [
             0.5555555555555556,
             "#d8576b"
            ],
            [
             0.6666666666666666,
             "#ed7953"
            ],
            [
             0.7777777777777778,
             "#fb9f3a"
            ],
            [
             0.8888888888888888,
             "#fdca26"
            ],
            [
             1,
             "#f0f921"
            ]
           ],
           "sequentialminus": [
            [
             0,
             "#0d0887"
            ],
            [
             0.1111111111111111,
             "#46039f"
            ],
            [
             0.2222222222222222,
             "#7201a8"
            ],
            [
             0.3333333333333333,
             "#9c179e"
            ],
            [
             0.4444444444444444,
             "#bd3786"
            ],
            [
             0.5555555555555556,
             "#d8576b"
            ],
            [
             0.6666666666666666,
             "#ed7953"
            ],
            [
             0.7777777777777778,
             "#fb9f3a"
            ],
            [
             0.8888888888888888,
             "#fdca26"
            ],
            [
             1,
             "#f0f921"
            ]
           ]
          },
          "colorway": [
           "#636efa",
           "#EF553B",
           "#00cc96",
           "#ab63fa",
           "#FFA15A",
           "#19d3f3",
           "#FF6692",
           "#B6E880",
           "#FF97FF",
           "#FECB52"
          ],
          "font": {
           "color": "#2a3f5f"
          },
          "geo": {
           "bgcolor": "white",
           "lakecolor": "white",
           "landcolor": "#E5ECF6",
           "showlakes": true,
           "showland": true,
           "subunitcolor": "white"
          },
          "hoverlabel": {
           "align": "left"
          },
          "hovermode": "closest",
          "mapbox": {
           "style": "light"
          },
          "paper_bgcolor": "white",
          "plot_bgcolor": "#E5ECF6",
          "polar": {
           "angularaxis": {
            "gridcolor": "white",
            "linecolor": "white",
            "ticks": ""
           },
           "bgcolor": "#E5ECF6",
           "radialaxis": {
            "gridcolor": "white",
            "linecolor": "white",
            "ticks": ""
           }
          },
          "scene": {
           "xaxis": {
            "backgroundcolor": "#E5ECF6",
            "gridcolor": "white",
            "gridwidth": 2,
            "linecolor": "white",
            "showbackground": true,
            "ticks": "",
            "zerolinecolor": "white"
           },
           "yaxis": {
            "backgroundcolor": "#E5ECF6",
            "gridcolor": "white",
            "gridwidth": 2,
            "linecolor": "white",
            "showbackground": true,
            "ticks": "",
            "zerolinecolor": "white"
           },
           "zaxis": {
            "backgroundcolor": "#E5ECF6",
            "gridcolor": "white",
            "gridwidth": 2,
            "linecolor": "white",
            "showbackground": true,
            "ticks": "",
            "zerolinecolor": "white"
           }
          },
          "shapedefaults": {
           "line": {
            "color": "#2a3f5f"
           }
          },
          "ternary": {
           "aaxis": {
            "gridcolor": "white",
            "linecolor": "white",
            "ticks": ""
           },
           "baxis": {
            "gridcolor": "white",
            "linecolor": "white",
            "ticks": ""
           },
           "bgcolor": "#E5ECF6",
           "caxis": {
            "gridcolor": "white",
            "linecolor": "white",
            "ticks": ""
           }
          },
          "title": {
           "x": 0.05
          },
          "xaxis": {
           "automargin": true,
           "gridcolor": "white",
           "linecolor": "white",
           "ticks": "",
           "title": {
            "standoff": 15
           },
           "zerolinecolor": "white",
           "zerolinewidth": 2
          },
          "yaxis": {
           "automargin": true,
           "gridcolor": "white",
           "linecolor": "white",
           "ticks": "",
           "title": {
            "standoff": 15
           },
           "zerolinecolor": "white",
           "zerolinewidth": 2
          }
         }
        },
        "title": {
         "text": "2D Cluster PCA Plot"
        },
        "xaxis": {
         "anchor": "y",
         "domain": [
          0,
          1
         ],
         "title": {
          "text": "PCA1"
         }
        },
        "yaxis": {
         "anchor": "x",
         "domain": [
          0,
          1
         ],
         "title": {
          "text": "PCA2"
         }
        }
       }
      },
      "text/html": [
       "<div>\n",
       "        \n",
       "        \n",
       "            <div id=\"59d0ce56-11c2-4a98-8a96-e90d1ab724d4\" class=\"plotly-graph-div\" style=\"height:600px; width:100%;\"></div>\n",
       "            <script type=\"text/javascript\">\n",
       "                require([\"plotly\"], function(Plotly) {\n",
       "                    window.PLOTLYENV=window.PLOTLYENV || {};\n",
       "                    \n",
       "                if (document.getElementById(\"59d0ce56-11c2-4a98-8a96-e90d1ab724d4\")) {\n",
       "                    Plotly.newPlot(\n",
       "                        '59d0ce56-11c2-4a98-8a96-e90d1ab724d4',\n",
       "                        [{\"customdata\": [[\"Have You Ever Seen The Rain\"], [\"Break It Down Again\"], [\"Stay\"], [\"A Visita\"], [\"O Que \\u00c9 O Que \\u00c9?\"], [\"Loving Every Minute\"], [\"Nosso Pequeno Castelo\"], [\"Voce Abusou\"], [\"I Follow Rivers\"], [\"Relic\\u00e1rio\"], [\"Meu Lugar\"], [\"Tocando em Frente\"], [\"Como Nossos Pais\"], [\"Garota Nacional\"], [\"Big Time Sensuality\"], [\"Meu Erro\"], [\"Cara valente\"], [\"Sing\"], [\"O Mar Serenou\"], [\"What a Wonderful World\"], [\"She\"], [\"Don't Look Back in Anger - Remastered\"], [\"Evidence\"], [\"Easy\"], [\"Skyfall\"], [\"Live And Let Die - Remastered 1993\"], [\"The James Bond Theme (From \\\"Dr. No\\\")\"], [\"Another Way to Die\"], [\"Die Another Day\"], [\"You Know My Name - From \\\"Casino Royale\\\" Soundtrack\"], [\"Perfect\"], [\"Autumn Leaves\"], [\"Johnny B. Goode\"], [\"Get Up I Feel Like Being A Sex Machine - Pt. 1 / Single Version\"], [\"Minha Tribo Sou Eu\"], [\"Aquarela\"], [\"Pipes Of Peace - Remastered 2015\"], [\"O Trem das 7 (Ao Vivo)\"], [\"Acontecimentos\"], [\"Colo de Menina\"], [\"Space Cowboy\"], [\"Meu Guarda-Chuva\"], [\"Carolina\"], [\"Verdade\"], [\"Samba Lel\\u00ea\"], [\"A Banda\"], [\"Big Yellow Taxi\"], [\"All About That Bass - Live from Spotify London\"]], \"hoverlabel\": {\"namelength\": 0}, \"hovertemplate\": \"Cluster=Cluster 0<br>PCA1=%{x}<br>PCA2=%{y}<br>Feature=%{customdata[0]}\", \"legendgroup\": \"Cluster=Cluster 0\", \"marker\": {\"color\": \"#636efa\", \"opacity\": 0.5, \"symbol\": \"circle\"}, \"mode\": \"markers\", \"name\": \"Cluster=Cluster 0\", \"showlegend\": true, \"textposition\": \"top center\", \"type\": \"scatter\", \"x\": [1.7557110688304038, 0.6295382842327055, 1.6381456193799295, 0.502364658457169, -0.22860028253250522, 0.3611557215906837, 0.33860114780445294, 0.5129458928328038, 1.424208088986709, 1.2638307370068338, 0.21701188324277207, 0.3765289903759999, 1.7109401399671347, 0.5487889815435997, 2.606138232180052, 0.5410095439362046, 0.23268470652912654, 1.402391173404644, 0.6107991779111451, 0.9790346551989186, 1.1737739658880317, 0.503615663249046, 1.6170169836132808, 0.8020934693295705, 0.4349525430858872, 1.8714526333803359, -0.3206306035229604, 3.138316406527761, 0.48735665110311105, 0.6582185108403873, 1.843452661016886, 1.8608298567339636, 2.149863628432891, 0.8905386532655974, 0.9766589006785446, 2.5853637608085065, 0.9758646360824018, 1.3613581362081302, 1.8563716557121681, 0.3158342860995198, 1.6951209242313072, 2.8736732589766056, 2.4494254389916854, 2.314158117039135, 1.5295851633867759, 0.3042853146582398, 0.9099554795141862, 1.0990068106735404], \"xaxis\": \"x\", \"y\": [-0.17544795878105246, -0.16269963450064537, -0.01117621411435597, 0.00042793762512432533, 0.16601508794369155, -0.891617303158136, 0.6326043638222046, 0.5378347024271526, -0.6800714713996964, -0.03446926924317829, -0.7996745757041043, 0.30026576460892845, -0.774492645027953, 0.033662373597613746, 1.3374139304243127, 0.27443822931809175, 0.04609783433947689, -0.7200640971855375, -0.6315302345826683, 0.3168748978511445, -0.4283771523915194, -0.9521979443044836, -0.4430999337740654, -0.09756890087881226, -0.7486809702046289, -0.2708467887583075, 0.2321759549701011, -0.5370755154744855, -0.69770045572255, -0.705301388797184, -1.2327584598681265, -0.18622892872291158, -0.4129207225332798, 0.20191109055717457, -0.8718702594331149, 0.35410997484565987, -0.038376985609213744, -0.8411768156452782, 0.6590494186395516, 0.9360044003584275, -0.17388816198196186, 0.9616462344513692, 0.5372943194939925, 0.33482213658323645, 0.360188386803263, 0.1410050960053909, 0.021295999578465702, 0.046366419128717286], \"yaxis\": \"y\"}, {\"customdata\": [[\"Rocket Man\"], [\"Fireball (feat. John Ryan)\"], [\"Non, je ne regrette rien - Remasteris\\u00e9 En 2015\"], [\"Respect\"], [\"Oh Chuva\"], [\"Get Down On It - Single Version\"], [\"The Thrill Is Gone\"], [\"One Of Us\"], [\"Love Of My Life - Live\"], [\"Bola De Meia, Bola De Gude\"], [\"O b\\u00eabado e a equilibrista\"], [\"Aqua de Beber\"], [\"Mais Que Nada (Remix)\"], [\"Under My Thumb\"], [\"What's Up?\"], [\"Flores em voc\\u00ea\"], [\"One Note Samba\"], [\"Heroes - 1999 Remaster\"], [\"Tudo No Lugar\"], [\"Funk Nu a Murit\"], [\"Vou Deixar\"], [\"Exagerado 3.0\"], [\"Bete Balan\\u00e7o\"], [\"O segundo sol\"], [\"Que Beleza\"], [\"Malemolencia\"], [\"Gostava Tanto de Voc\\u00ea - Ao Vivo\"], [\"Wish You Were Here\"], [\"S\\u00f3 Tinha De Ser Com Voce (Com Tom)\"], [\"S\\u00e3o Gon\\u00e7a\"], [\"Exagerado\"], [\"Flor de Lis\"], [\"Mais Que Nada\"], [\"Aquele Abra\\u00e7o\"], [\"16 Toneladas\"], [\"Let's Call the Whole Thing Off\"], [\"Dream a Little Dream of Me\"], [\"What a Wonderful World\"], [\"Maracatu At\\u00f4mico\"], [\"I'm Yours\"], [\"Human\"], [\"I Can't Dance\"], [\"Let Her Go\"], [\"Young Folks\"], [\"Dream A Little Dream Of Me - Album Version With Introduction\"], [\"The Last of the Famous International Playboys - 2010 Remaster\"], [\"Hey Ya! - Radio Mix / Club Mix\"], [\"Seven Nation Army\"], [\"Bring Me To Life\"], [\"Smooth (feat. Rob Thomas)\"], [\"Ch\\u00e3o de Giz\"], [\"Mist\\u00e9rios da Meia Noite\"], [\"These Boots Are Made For Walkin'\"], [\"Day Tripper\"], [\"Get the Party Started\"], [\"Wrecking Ball\"], [\"The Passenger\"], [\"Fly Me To The Moon - Remastered\"], [\"Back In Black\"]], \"hoverlabel\": {\"namelength\": 0}, \"hovertemplate\": \"Cluster=Cluster 1<br>PCA1=%{x}<br>PCA2=%{y}<br>Feature=%{customdata[0]}\", \"legendgroup\": \"Cluster=Cluster 1\", \"marker\": {\"color\": \"#EF553B\", \"opacity\": 0.5, \"symbol\": \"circle\"}, \"mode\": \"markers\", \"name\": \"Cluster=Cluster 1\", \"showlegend\": true, \"textposition\": \"top center\", \"type\": \"scatter\", \"x\": [-2.0233523139008054, -2.1751864206417317, -1.926364809364064, -1.2321324440379375, -1.3709097919776247, -1.9710022917299999, -0.5510135886021159, -0.34267256458758655, -0.4630469281776196, -0.4637319814726284, -1.26529962916683, -0.8575206797988313, -1.1788497046871418, -0.03804841733122546, -1.8374927437698951, -1.5246335759550231, -1.0510297106017394, -1.6706325929233392, -1.5345767288063161, -0.18186358917135417, -1.06774777949241, -0.5234344811844706, -2.163906824233282, -0.22117522192673572, -1.8335332431857072, -0.4525680806387376, -0.29918663888956654, -1.4955008541533896, -0.3156900600972166, -0.9797353934875406, -0.9259257849201299, -1.6244522732033657, -1.0596672413990966, -1.2934006681577261, -1.1076846210484241, -2.354687465255157, -1.0374518115596023, -0.026041272203156995, -1.7862635331149548, -1.4910038798860088, -1.405620984039582, -2.263359344221679, -0.6903152670452881, -0.6461473927324874, -1.5966704926118314, -1.831420036734997, -1.4338143756682658, -1.5927107623432473, -1.006259880793107, -0.19464285768748016, -0.610535220344202, -0.2184451987898272, -1.682835710473737, -1.47137489988172, -0.15372257615239018, -0.6060501315464929, 0.03976456790906281, -1.14554439579219, -0.2951552163764368], \"xaxis\": \"x\", \"y\": [0.052899469169552786, -1.3220473420205567, -0.9597578088109834, -0.8534276894627424, -0.6277513436177304, -0.8705048666531616, -0.9387305645022956, -0.9744234122865968, -0.1121181225823817, -1.249533767804889, -0.25398493094491964, -1.4338636904877, -1.0253318229674226, -1.8943102051753553, -1.0224371969751553, -1.1564680354748362, -1.0536822299151587, -0.9949493901306434, -0.9423055068858222, -1.1009894491622252, -1.352838357734614, -1.06011461609636, -1.4751082970516336, -1.7682949232054113, -1.0059993125759406, -1.4395901869385792, -0.9123055961198184, -0.45743110457020053, -1.721050526061476, -0.4068830312156558, -1.6029193915224953, -0.8953879744095917, -1.24765339008628, -0.14645987068432656, -1.0246445992937463, -0.6628816927476754, -0.2140421245736073, -2.244661420858054, -0.8610796534420637, -0.11568715621945132, -0.48622397446942284, -0.749385799717897, -0.6152524761639298, -0.5113841051477571, -0.5964200384113517, -0.14343793416190895, -1.3563792924425784, -1.0693029709732969, -0.07763483069526565, -0.5093980196071206, -1.331445508401034, -1.1247007547059806, -0.7548154653590353, -0.07318117153094232, -0.7780261275204291, 0.08907453240138802, -0.25483745036716077, -0.6018684035502984, -1.1253624367047321], \"yaxis\": \"y\"}, {\"customdata\": [[\"You Shook Me All Night Long\"], [\"Highway to Hell\"], [\"Danny's Song\"], [\"Danny's Song\"], [\"Istanbul (Not Constantinople)\"], [\"Andar com f\\u00e9\"], [\"Vamos fugir\"], [\"Samba Da Bencao\"], [\"Bete balan\\u00e7o - Ao vivo\"], [\"Anuncia\\u00e7\\u00e3o\"], [\"La vie en rose - Single Version\"], [\"Dream A Little Dream Of Me\"], [\"Common People\"], [\"Girls and Boys\"], [\"Alright\"], [\"Hey Ya!\"], [\"Crazy\"], [\"Smiley Faces\"], [\"Fuck You\"], [\"Where Is The Love?\"], [\"A Little Party Never Killed Nobody (All We Got)\"], [\"Party Rock Anthem\"], [\"CAN'T STOP THE FEELING! (Original Song from DreamWorks Animation's \\\"TROLLS\\\")\"], [\"Try\"], [\"If I Ain't Got You\"], [\"Say Something\"], [\"Riders on the Storm\"], [\"Summertime\"], [\"Piece Of My Heart\"], [\"Baba O'Riley\"], [\"All Along the Watchtower\"], [\"Walk On the Wild Side\"], [\"Wish You Were Here\"], [\"Another Brick in the Wall, Pt. 2\"], [\"Smoke On The Water - Remastered 2012\"], [\"Paranoid\"], [\"\\u00c1guas De Mar\\u00e7o\"], [\"Good People\"]], \"hoverlabel\": {\"namelength\": 0}, \"hovertemplate\": \"Cluster=Cluster 2<br>PCA1=%{x}<br>PCA2=%{y}<br>Feature=%{customdata[0]}\", \"legendgroup\": \"Cluster=Cluster 2\", \"marker\": {\"color\": \"#00cc96\", \"opacity\": 0.5, \"symbol\": \"circle\"}, \"mode\": \"markers\", \"name\": \"Cluster=Cluster 2\", \"showlegend\": true, \"textposition\": \"top center\", \"type\": \"scatter\", \"x\": [0.7328943380178939, 0.7712953774007445, 2.0621695175739605, 2.157165979227327, 1.8423859556407234, 1.4849980161394576, 1.1512466758937214, 1.052397621123636, 1.308709357919917, 1.040750442847729, 1.166837358867445, 1.0796149855279367, 1.0219659519983146, 0.9091406154437429, 1.7330595507637394, 1.0785083740786452, 0.5785728042700392, 1.4334702234143328, 1.1038815845318415, 0.5349765441739368, 1.7730471531634058, 1.0549996158100505, 1.4638123521680813, 2.01892441456896, 0.9742550392139904, 1.200752861612994, 0.015731633711044777, 0.9490499419286039, 0.5157227310555387, 0.6893385770757787, 1.4950645152615205, 0.35508461560508076, 1.033695012270992, 1.7499346833263256, 0.9317983520096458, 0.8963188579310017, 0.5262158704179702, 1.4592955284837752], \"xaxis\": \"x\", \"y\": [1.9940512172116367, 1.1704662080853405, 1.959508517450991, 1.675096101958366, 2.02175104575035, 2.0118911989986388, 1.5752419149766155, 1.4249234992098931, 1.2296923052891822, 1.700227189669074, 0.8491652500754221, 1.2206814748971693, 0.6526751556514973, 0.7751875691392703, 1.3044025148598526, 0.7953896941960091, 1.4711187137360129, 1.7983982020137863, 1.9092615263732358, 1.035023297561986, 2.4084966572954465, 1.3064036859982198, 1.4700983203330524, 1.7680155909589075, 1.838667943398385, 1.560170448783957, 1.8992376666768982, 2.6901148961081565, 1.4055804834347985, 2.025950830739151, 2.53727028054612, 1.826356424913771, 1.8508397437701711, 3.3228396607546054, 1.5601100351733344, 2.748072206793207, 2.231920762106159, 0.28138172364933917], \"yaxis\": \"y\"}, {\"customdata\": [[\"Got My Mind Set On You - 2004 Mix\"], [\"Love On The Brain\"], [\"I Love Rock 'n' Roll\"], [\"Kung Fu Fighting (Single Version)\"], [\"Lay, Lady, Lay\"], [\"Superstition - Single Version\"], [\"Signed, Sealed, Delivered (I'm Yours)\"], [\"Coffee and TV\"], [\"Hey Boy Hey Girl\"], [\"Go\"], [\"Block Rockin' Beats\"], [\"Sunshine Reggae - 2008 Remaster\"], [\"Dona Cila\"], [\"Layla - Acoustic; Live at MTV Unplugged, Bray Film Studios, Windsor, England, UK, 1/16/1992; 2013 Remaster\"], [\"Beds Are Burning - Remastered\"], [\"House of Fun - 2000 Remastered Version\"], [\"Addicted To Love\"], [\"Moving On Up\"], [\"C\\u00e9rebro Eletr\\u00f4nico\"], [\"S\\u00f3 Tinha De Ser Com Voc\\u00ea\"], [\"The Joker\"], [\"Friction\"], [\"You Had Me\"], [\"Love Today\"], [\"Happy Ending/Over My Shoulder\"], [\"The River of Dreams\"], [\"Down On The Corner\"], [\"Kiss from a Rose\"], [\"Crazy\"], [\"Telegrama\"], [\"Amor e Sexo\"], [\"Metamorfose Ambulante\"], [\"Codinome Beija-Flor\"]], \"hoverlabel\": {\"namelength\": 0}, \"hovertemplate\": \"Cluster=Cluster 3<br>PCA1=%{x}<br>PCA2=%{y}<br>Feature=%{customdata[0]}\", \"legendgroup\": \"Cluster=Cluster 3\", \"marker\": {\"color\": \"#ab63fa\", \"opacity\": 0.5, \"symbol\": \"circle\"}, \"mode\": \"markers\", \"name\": \"Cluster=Cluster 3\", \"showlegend\": true, \"textposition\": \"top center\", \"type\": \"scatter\", \"x\": [0.8782449145924679, 1.7526303274699908, 1.0945874286800097, 1.7335589656207515, 2.1008111754060996, 1.4370627301172798, 3.0672329466041974, 4.164966342179607, 1.2436918671736272, 2.3735173522232644, 1.795154911195934, 1.0923266416921171, 2.53486900631731, 0.48312789073083356, 1.9870735180776495, 0.4182016640863219, 1.1177027634441863, 0.31411779057798545, 1.7017959683685966, 1.7441423723323968, 1.9394547058723433, 1.691368958305089, 2.4101112454058002, 1.8926180389089113, 2.80422506241235, 0.16327403964517687, 0.5030187765752016, 0.3880791343425302, 1.1375507267467824, 1.1004926531780934, 1.1665538316514013, 1.3603602928736647, 1.8267311960462258], \"xaxis\": \"x\", \"y\": [-1.7445359070426767, -0.6486317706512138, -1.7523648447363924, -1.063332613874343, -1.4501798846734966, -1.6905968857238272, -0.7549953744041549, -2.0312344141495386, -2.7603765899307446, -1.0664619406247644, -1.5821853331040423, -1.927654419300463, -1.573589924320051, -1.8773635438773921, -2.1249462407480912, -1.2141400984078214, -1.085797107288589, -1.788846092254238, -0.8908471824469002, -1.0771993487803515, -2.960392151933323, -2.2641452809991724, -1.0071778331758818, -0.6616654687546429, -0.6331750948315907, -2.050275328652124, -1.593687063980251, -2.145463597135581, -0.5714916694726035, -1.3150936892364133, -2.1232203361700424, -1.336514784203392, -0.8506196354359665], \"yaxis\": \"y\"}, {\"customdata\": [[\"Cotidiano\"], [\"Relic\\u00e1rio - Ao Vivo\"], [\"Chega de Saudade\"], [\"Tropicana (Morena Tropicana)\"], [\"N\\u00e3o Me Deixe S\\u00f3\"], [\"Boa Sorte / Good Luck\"], [\"Segue o Som\"], [\"Samba de uma nota s\\u00f3\"], [\"Ai, Ai, Ai...\"], [\"La Belle De Jour\"], [\"T\\u00e1 perdoado\"], [\"O Segundo Sol - Acoustic\"], [\"Vamos Fugir\"], [\"Greenback Boogie (Theme from \\\"Suits\\\")\"], [\"Safety Dance\"], [\"Da Ya Think I'm Sexy\"], [\"Pela Luz dos Olhos Teus - Bonus Track\"], [\"Because the Night - MTV Unplugged Version\"], [\"Under Pressure - Remastered\"], [\"Three Little Birds\"], [\"Every Breath You Take\"], [\"Johnny B Goode - 2002 Remaster\"], [\"Livin' On A Prayer\"], [\"You Give Love A Bad Name\"], [\"Wanted Dead Or Alive\"], [\"The Way You Look Tonight\"], [\"Carta Ao Tom 74\"], [\"Galvanize\"], [\"Viva La Vida\"], [\"Flames\"], [\"Lose Yourself - From \\\"8 Mile\\\" Soundtrack\"], [\"The Sweet Escape\"], [\"Toxic\"], [\"Feel It Still\"], [\"Pretend We're Dead\"], [\"Shitlist\"], [\"Black Velvet\"], [\"That's All - 2007 Remaster\"], [\"\\u00d3culos\"], [\"Envelhe\\u00e7o na cidade\"], [\"Pobre paulista\"], [\"Mantenha o Respeito\"], [\"Chained To The Rhythm\"], [\"Dark Horse\"], [\"I Kissed A Girl\"], [\"All The Small Things\"], [\"Ho Hey\"], [\"Halo\"], [\"Counting Stars\"], [\"Happy Together\"], [\"Human\"], [\"Better Together\"], [\"Wherever You Will Go\"], [\"We Didn't Start the Fire\"], [\"Teardrop\"], [\"Smiled At Me (Sorriu Para Mim)\"], [\"Corcovado\"], [\"Cum on Feel the Noize\"], [\"One Way Or Another\"], [\"Fast Car\"], [\"One\"]], \"hoverlabel\": {\"namelength\": 0}, \"hovertemplate\": \"Cluster=Cluster 4<br>PCA1=%{x}<br>PCA2=%{y}<br>Feature=%{customdata[0]}\", \"legendgroup\": \"Cluster=Cluster 4\", \"marker\": {\"color\": \"#FFA15A\", \"opacity\": 0.5, \"symbol\": \"circle\"}, \"mode\": \"markers\", \"name\": \"Cluster=Cluster 4\", \"showlegend\": true, \"textposition\": \"top center\", \"type\": \"scatter\", \"x\": [-0.6377509680911502, -0.13210671759347425, 0.539787775706048, -0.5607588160344911, 0.21621413520486857, 0.32221340393425507, 0.46145650547736705, -0.573973524509954, 0.1659271915709421, -1.0194184064580007, 0.3696071451268887, -0.7522783797775309, -0.3400513049161329, -0.06389427173264013, -0.46699471740156706, -0.56621464792978, -1.0298082073391408, -2.3709159683482492, -0.10657544277663394, 0.08981477771685857, 0.40794817759089486, -0.6873351876538262, -0.7456374535695087, -0.4224509520912431, 0.4361739232186571, 0.010489729726493023, -0.5299455170103139, -0.14691861851029084, 0.1011775766439675, -0.8822953532216007, -0.6868427622161424, 0.3176803267263334, -1.643721105309416, 0.0653020323024001, -0.6202596145041782, -0.41900203752775994, -0.2148173136028277, -0.5651819665189357, -0.20138215814885488, -1.4632272201963585, 0.11837028714418892, 0.6245927344980129, -0.17318954416728674, 0.17142237941689814, -0.3246684901963031, -1.192012771612868, -1.0261003994309112, -0.10923533589393722, 0.29996594972492996, -1.0603288711582057, -1.046098705229173, -0.8628707724533375, 0.2520318150597218, -0.010960257492528986, -2.424108953485928, -0.1800692805953093, 0.03924033825896531, -0.036706973909314974, -0.049538731566691904, -0.26565617065672775, -1.8338412309683734], \"xaxis\": \"x\", \"y\": [0.08164635174481243, 0.10063832835306963, 0.05181080594915596, 0.41001167874422023, -0.49295407453311363, -0.688316701730475, -0.2825671746293318, -0.12477176007666621, -0.866428718511778, 0.5562110419455081, 0.6432948505779512, -0.2853812952768051, -0.17476037460967453, -0.8011810238428904, -1.1398326264742458, 0.01277786309905734, 0.27752014516662005, -0.2831505987916913, 0.3989428859845032, 0.17288340829815316, -0.6599938550812255, -0.24320154154408533, -0.40783518842428346, -0.5527858939444605, -1.1156449011092548, 0.6853442433769419, -1.100738728730934, -0.16639204857848514, -0.23740504743787302, -0.3488612817478125, -0.06408780392488878, -0.009425730757951386, -0.2561691186350903, -0.9143964030386609, -0.08605915865976572, -0.029750144628191772, -0.569198631560946, 0.44531478724258555, -1.344871129122862, -0.12031605378416083, -0.8996804817280234, 0.4086377486860875, 0.18413047897930535, -0.6983990912842551, -0.6031595240113926, -0.09291523587385889, 0.2740327016518307, -0.609961348420747, -1.0226976621913464, -0.40255047081089296, 0.14409429440550134, 0.40479018713335235, -0.5351373876759341, 0.9368326644622036, -0.2813560078593393, -0.12651450193692315, -0.12293572047719503, 0.872295874461068, -0.1379518933479877, -0.576302465137765, -0.18591244378183833], \"yaxis\": \"y\"}, {\"customdata\": [[\"Shiny Happy People\"], [\"A Casa \\u00e9 Sua\"], [\"With Or Without You - Remastered\"], [\"Beija Eu\"], [\"Rolling In The Deep\"], [\"Set Fire to the Rain\"], [\"Firework\"], [\"Roar\"], [\"Wake Me Up - Radio Edit\"], [\"Hello\"], [\"Under Pressure - Remastered\"], [\"A Message to You Rudy\"], [\"Stressed Out\"], [\"Heathens\"], [\"Ride\"], [\"Here Comes The Sun - Remastered 2009\"], [\"Do Lado de C\\u00e1\"], [\"Juste un inconnu\"], [\"The Ballad Of John And Yoko - Remastered 2009\"], [\"Cocaine\"], [\"Layla - 40th Anniversary Version / 2010 Remastered\"], [\"Paint It, Black - Mono\"], [\"Nothing Else Matters\"], [\"Comfortably Numb\"], [\"Blaze Of Glory - From \\\"Young Guns II\\\" Soundtrack\"], [\"Miracle\"], [\"Daughter (Remastered)\"], [\"Kiss from a Rose - Acoustic\"], [\"Zombie - Acoustic Version\"], [\"Black\"], [\"Crazy Mary (Remastered)\"], [\"Iris\"], [\"Alanis\\u2019 Interlude\"], [\"Blue Sky Mine - 2011 Remaster\"], [\"Whole Wide World\"], [\"The Box, Pt. 1\"], [\"The Box - Part 2\"], [\"This Is What It Feels Like\"], [\"Here Tonight\"], [\"Faded - Dash Berlin Remix\"], [\"Shine Ibiza Anthem 2019\"], [\"Fico Assim Sem Voc\\u00ea\"], [\"Ai, Ai, Ai...\"], [\"O Calibre\"], [\"Somewhere Only We Know\"], [\"Realla\"], [\"Rose's Thorn\"], [\"Wen Uuu\"], [\"Tainted Love\"], [\"18 and Life\"], [\"We're Not Gonna Take It\"], [\"Keep Yourself Alive - Live At The Rainbow\"], [\"Bohemian Rhapsody - 2011 Mix\"], [\"Radio Ga Ga - Live Aid\"], [\"The Show Must Go On - 2011 Mix\"], [\"Don't Stop Me Now - ...Revisited\"], [\"The Sea\"], [\"We No Speak Americano (JT Radio Edit)\"], [\"Uprising\"], [\"Paint It, Black\"]], \"hoverlabel\": {\"namelength\": 0}, \"hovertemplate\": \"Cluster=Cluster 5<br>PCA1=%{x}<br>PCA2=%{y}<br>Feature=%{customdata[0]}\", \"legendgroup\": \"Cluster=Cluster 5\", \"marker\": {\"color\": \"#19d3f3\", \"opacity\": 0.5, \"symbol\": \"circle\"}, \"mode\": \"markers\", \"name\": \"Cluster=Cluster 5\", \"showlegend\": true, \"textposition\": \"top center\", \"type\": \"scatter\", \"x\": [-2.3655084218883715, -0.3461802267064788, 0.07101168170521191, -1.1326448412378205, -0.9187620783349891, -0.7442590588370591, -2.049250741545144, -1.0047301510267126, -2.3300579795498604, -1.1916748008245825, -1.3415979250881835, -0.9346787993308856, -0.5615697401346879, -1.1721629822504906, -0.3175665347681235, -1.6739209927979544, -2.1740333642943797, -1.9336412024127108, -0.9416861997692445, -1.162867877119122, -1.3735527375194359, -0.502726825544754, -1.6489034612232605, -1.9715612524124642, -0.30686872520668784, -0.05727128424889301, -0.42163858172985147, -0.40365587065074965, -1.0313954618919146, -0.9460126093384758, -1.9717335264074503, -1.9920892481557904, -0.5706853887787109, -0.2501470499080896, -0.9003243950991889, -0.4963500466971501, -0.8145379921040855, -1.736122956014118, -1.1125414024145945, -1.0074166648431595, -1.8337574437438524, -1.489105778814374, -1.0440615254525312, -0.1904978847719315, -1.6298363863888803, -0.4884513567189289, -0.4529363804313764, -1.346115849015209, -0.5595665112683283, -0.9289521473687485, -0.1587300558254528, -1.4937035066019304, -0.708759614034872, -1.2404165399609424, -0.3094891765184859, -0.6416394561527227, -1.299566032983996, -0.480687985003757, -1.9580444580042276, -0.591837063921803], \"xaxis\": \"x\", \"y\": [0.7279817437076898, 1.2834260095138463, 0.8780312163663491, 1.2807525077876696, 0.7564399175503836, 0.050639436333528375, 1.214660139223427, 0.4633319536310567, 0.3442564177876295, 0.9779146224729681, 0.7522497939944084, 1.952210023398933, 0.4782751880151705, 0.1077094713146663, 0.8534137353887151, 0.3544938787571328, 0.9352685192812467, 0.6855514440548031, 0.8409124918768563, 0.4233903127713373, 1.3521930364704489, 1.1051340361969486, 0.825683463600229, 0.972354168271941, 1.9336428985293062, 1.1176678360395997, 1.2945383780675956, 0.6057657583300068, 1.0877479514248605, 0.4748075497035058, 1.1258861002960747, 0.08312617782594088, 0.9795553469181276, 1.9576984032318367, 1.164368516436325, 2.1409970129611295, 2.439202181085959, 0.6061008162761518, 0.4898581472942295, 1.220700714069834, 1.511476063577053, 0.6001738244985163, 0.8780115157058899, 1.1956679844037674, 1.0838712300277074, 0.5814682595295527, 0.8037611254423088, 0.1190466040911501, 1.1386206416418883, 0.8486575041811196, 0.7087136357676537, 0.0934394436397619, 0.6263284161899818, 0.5580678865039974, 1.2725971716033055, 1.2610851036812993, 0.7717654394389643, 1.9905680603312503, 0.20150860447433394, 0.8370381583087834], \"yaxis\": \"y\"}],\n",
       "                        {\"height\": 600, \"legend\": {\"tracegroupgap\": 0}, \"margin\": {\"t\": 60}, \"plot_bgcolor\": \"rgb(240,240,240)\", \"template\": {\"data\": {\"bar\": [{\"error_x\": {\"color\": \"#2a3f5f\"}, \"error_y\": {\"color\": \"#2a3f5f\"}, \"marker\": {\"line\": {\"color\": \"#E5ECF6\", \"width\": 0.5}}, \"type\": \"bar\"}], \"barpolar\": [{\"marker\": {\"line\": {\"color\": \"#E5ECF6\", \"width\": 0.5}}, \"type\": \"barpolar\"}], \"carpet\": [{\"aaxis\": {\"endlinecolor\": \"#2a3f5f\", \"gridcolor\": \"white\", \"linecolor\": \"white\", \"minorgridcolor\": \"white\", \"startlinecolor\": \"#2a3f5f\"}, \"baxis\": {\"endlinecolor\": \"#2a3f5f\", \"gridcolor\": \"white\", \"linecolor\": \"white\", \"minorgridcolor\": \"white\", \"startlinecolor\": \"#2a3f5f\"}, \"type\": \"carpet\"}], \"choropleth\": [{\"colorbar\": {\"outlinewidth\": 0, \"ticks\": \"\"}, \"type\": \"choropleth\"}], \"contour\": [{\"colorbar\": {\"outlinewidth\": 0, \"ticks\": \"\"}, \"colorscale\": [[0.0, \"#0d0887\"], [0.1111111111111111, \"#46039f\"], [0.2222222222222222, \"#7201a8\"], [0.3333333333333333, \"#9c179e\"], [0.4444444444444444, \"#bd3786\"], [0.5555555555555556, \"#d8576b\"], [0.6666666666666666, \"#ed7953\"], [0.7777777777777778, \"#fb9f3a\"], [0.8888888888888888, \"#fdca26\"], [1.0, \"#f0f921\"]], \"type\": \"contour\"}], \"contourcarpet\": [{\"colorbar\": {\"outlinewidth\": 0, \"ticks\": \"\"}, \"type\": \"contourcarpet\"}], \"heatmap\": [{\"colorbar\": {\"outlinewidth\": 0, \"ticks\": \"\"}, \"colorscale\": [[0.0, \"#0d0887\"], [0.1111111111111111, \"#46039f\"], [0.2222222222222222, \"#7201a8\"], [0.3333333333333333, \"#9c179e\"], [0.4444444444444444, \"#bd3786\"], [0.5555555555555556, \"#d8576b\"], [0.6666666666666666, \"#ed7953\"], [0.7777777777777778, \"#fb9f3a\"], [0.8888888888888888, \"#fdca26\"], [1.0, \"#f0f921\"]], \"type\": \"heatmap\"}], \"heatmapgl\": [{\"colorbar\": {\"outlinewidth\": 0, \"ticks\": \"\"}, \"colorscale\": [[0.0, \"#0d0887\"], [0.1111111111111111, \"#46039f\"], [0.2222222222222222, \"#7201a8\"], [0.3333333333333333, \"#9c179e\"], [0.4444444444444444, \"#bd3786\"], [0.5555555555555556, \"#d8576b\"], [0.6666666666666666, \"#ed7953\"], [0.7777777777777778, \"#fb9f3a\"], [0.8888888888888888, \"#fdca26\"], [1.0, \"#f0f921\"]], \"type\": \"heatmapgl\"}], \"histogram\": [{\"marker\": {\"colorbar\": {\"outlinewidth\": 0, \"ticks\": \"\"}}, \"type\": \"histogram\"}], \"histogram2d\": [{\"colorbar\": {\"outlinewidth\": 0, \"ticks\": \"\"}, \"colorscale\": [[0.0, \"#0d0887\"], [0.1111111111111111, \"#46039f\"], [0.2222222222222222, \"#7201a8\"], [0.3333333333333333, \"#9c179e\"], [0.4444444444444444, \"#bd3786\"], [0.5555555555555556, \"#d8576b\"], [0.6666666666666666, \"#ed7953\"], [0.7777777777777778, \"#fb9f3a\"], [0.8888888888888888, \"#fdca26\"], [1.0, \"#f0f921\"]], \"type\": \"histogram2d\"}], \"histogram2dcontour\": [{\"colorbar\": {\"outlinewidth\": 0, \"ticks\": \"\"}, \"colorscale\": [[0.0, \"#0d0887\"], [0.1111111111111111, \"#46039f\"], [0.2222222222222222, \"#7201a8\"], [0.3333333333333333, \"#9c179e\"], [0.4444444444444444, \"#bd3786\"], [0.5555555555555556, \"#d8576b\"], [0.6666666666666666, \"#ed7953\"], [0.7777777777777778, \"#fb9f3a\"], [0.8888888888888888, \"#fdca26\"], [1.0, \"#f0f921\"]], \"type\": \"histogram2dcontour\"}], \"mesh3d\": [{\"colorbar\": {\"outlinewidth\": 0, \"ticks\": \"\"}, \"type\": \"mesh3d\"}], \"parcoords\": [{\"line\": {\"colorbar\": {\"outlinewidth\": 0, \"ticks\": \"\"}}, \"type\": \"parcoords\"}], \"pie\": [{\"automargin\": true, \"type\": \"pie\"}], \"scatter\": [{\"marker\": {\"colorbar\": {\"outlinewidth\": 0, \"ticks\": \"\"}}, \"type\": \"scatter\"}], \"scatter3d\": [{\"line\": {\"colorbar\": {\"outlinewidth\": 0, \"ticks\": \"\"}}, \"marker\": {\"colorbar\": {\"outlinewidth\": 0, \"ticks\": \"\"}}, \"type\": \"scatter3d\"}], \"scattercarpet\": [{\"marker\": {\"colorbar\": {\"outlinewidth\": 0, \"ticks\": \"\"}}, \"type\": \"scattercarpet\"}], \"scattergeo\": [{\"marker\": {\"colorbar\": {\"outlinewidth\": 0, \"ticks\": \"\"}}, \"type\": \"scattergeo\"}], \"scattergl\": [{\"marker\": {\"colorbar\": {\"outlinewidth\": 0, \"ticks\": \"\"}}, \"type\": \"scattergl\"}], \"scattermapbox\": [{\"marker\": {\"colorbar\": {\"outlinewidth\": 0, \"ticks\": \"\"}}, \"type\": \"scattermapbox\"}], \"scatterpolar\": [{\"marker\": {\"colorbar\": {\"outlinewidth\": 0, \"ticks\": \"\"}}, \"type\": \"scatterpolar\"}], \"scatterpolargl\": [{\"marker\": {\"colorbar\": {\"outlinewidth\": 0, \"ticks\": \"\"}}, \"type\": \"scatterpolargl\"}], \"scatterternary\": [{\"marker\": {\"colorbar\": {\"outlinewidth\": 0, \"ticks\": \"\"}}, \"type\": \"scatterternary\"}], \"surface\": [{\"colorbar\": {\"outlinewidth\": 0, \"ticks\": \"\"}, \"colorscale\": [[0.0, \"#0d0887\"], [0.1111111111111111, \"#46039f\"], [0.2222222222222222, \"#7201a8\"], [0.3333333333333333, \"#9c179e\"], [0.4444444444444444, \"#bd3786\"], [0.5555555555555556, \"#d8576b\"], [0.6666666666666666, \"#ed7953\"], [0.7777777777777778, \"#fb9f3a\"], [0.8888888888888888, \"#fdca26\"], [1.0, \"#f0f921\"]], \"type\": \"surface\"}], \"table\": [{\"cells\": {\"fill\": {\"color\": \"#EBF0F8\"}, \"line\": {\"color\": \"white\"}}, \"header\": {\"fill\": {\"color\": \"#C8D4E3\"}, \"line\": {\"color\": \"white\"}}, \"type\": \"table\"}]}, \"layout\": {\"annotationdefaults\": {\"arrowcolor\": \"#2a3f5f\", \"arrowhead\": 0, \"arrowwidth\": 1}, \"coloraxis\": {\"colorbar\": {\"outlinewidth\": 0, \"ticks\": \"\"}}, \"colorscale\": {\"diverging\": [[0, \"#8e0152\"], [0.1, \"#c51b7d\"], [0.2, \"#de77ae\"], [0.3, \"#f1b6da\"], [0.4, \"#fde0ef\"], [0.5, \"#f7f7f7\"], [0.6, \"#e6f5d0\"], [0.7, \"#b8e186\"], [0.8, \"#7fbc41\"], [0.9, \"#4d9221\"], [1, \"#276419\"]], \"sequential\": [[0.0, \"#0d0887\"], [0.1111111111111111, \"#46039f\"], [0.2222222222222222, \"#7201a8\"], [0.3333333333333333, \"#9c179e\"], [0.4444444444444444, \"#bd3786\"], [0.5555555555555556, \"#d8576b\"], [0.6666666666666666, \"#ed7953\"], [0.7777777777777778, \"#fb9f3a\"], [0.8888888888888888, \"#fdca26\"], [1.0, \"#f0f921\"]], \"sequentialminus\": [[0.0, \"#0d0887\"], [0.1111111111111111, \"#46039f\"], [0.2222222222222222, \"#7201a8\"], [0.3333333333333333, \"#9c179e\"], [0.4444444444444444, \"#bd3786\"], [0.5555555555555556, \"#d8576b\"], [0.6666666666666666, \"#ed7953\"], [0.7777777777777778, \"#fb9f3a\"], [0.8888888888888888, \"#fdca26\"], [1.0, \"#f0f921\"]]}, \"colorway\": [\"#636efa\", \"#EF553B\", \"#00cc96\", \"#ab63fa\", \"#FFA15A\", \"#19d3f3\", \"#FF6692\", \"#B6E880\", \"#FF97FF\", \"#FECB52\"], \"font\": {\"color\": \"#2a3f5f\"}, \"geo\": {\"bgcolor\": \"white\", \"lakecolor\": \"white\", \"landcolor\": \"#E5ECF6\", \"showlakes\": true, \"showland\": true, \"subunitcolor\": \"white\"}, \"hoverlabel\": {\"align\": \"left\"}, \"hovermode\": \"closest\", \"mapbox\": {\"style\": \"light\"}, \"paper_bgcolor\": \"white\", \"plot_bgcolor\": \"#E5ECF6\", \"polar\": {\"angularaxis\": {\"gridcolor\": \"white\", \"linecolor\": \"white\", \"ticks\": \"\"}, \"bgcolor\": \"#E5ECF6\", \"radialaxis\": {\"gridcolor\": \"white\", \"linecolor\": \"white\", \"ticks\": \"\"}}, \"scene\": {\"xaxis\": {\"backgroundcolor\": \"#E5ECF6\", \"gridcolor\": \"white\", \"gridwidth\": 2, \"linecolor\": \"white\", \"showbackground\": true, \"ticks\": \"\", \"zerolinecolor\": \"white\"}, \"yaxis\": {\"backgroundcolor\": \"#E5ECF6\", \"gridcolor\": \"white\", \"gridwidth\": 2, \"linecolor\": \"white\", \"showbackground\": true, \"ticks\": \"\", \"zerolinecolor\": \"white\"}, \"zaxis\": {\"backgroundcolor\": \"#E5ECF6\", \"gridcolor\": \"white\", \"gridwidth\": 2, \"linecolor\": \"white\", \"showbackground\": true, \"ticks\": \"\", \"zerolinecolor\": \"white\"}}, \"shapedefaults\": {\"line\": {\"color\": \"#2a3f5f\"}}, \"ternary\": {\"aaxis\": {\"gridcolor\": \"white\", \"linecolor\": \"white\", \"ticks\": \"\"}, \"baxis\": {\"gridcolor\": \"white\", \"linecolor\": \"white\", \"ticks\": \"\"}, \"bgcolor\": \"#E5ECF6\", \"caxis\": {\"gridcolor\": \"white\", \"linecolor\": \"white\", \"ticks\": \"\"}}, \"title\": {\"x\": 0.05}, \"xaxis\": {\"automargin\": true, \"gridcolor\": \"white\", \"linecolor\": \"white\", \"ticks\": \"\", \"title\": {\"standoff\": 15}, \"zerolinecolor\": \"white\", \"zerolinewidth\": 2}, \"yaxis\": {\"automargin\": true, \"gridcolor\": \"white\", \"linecolor\": \"white\", \"ticks\": \"\", \"title\": {\"standoff\": 15}, \"zerolinecolor\": \"white\", \"zerolinewidth\": 2}}}, \"title\": {\"text\": \"2D Cluster PCA Plot\"}, \"xaxis\": {\"anchor\": \"y\", \"domain\": [0.0, 1.0], \"title\": {\"text\": \"PCA1\"}}, \"yaxis\": {\"anchor\": \"x\", \"domain\": [0.0, 1.0], \"title\": {\"text\": \"PCA2\"}}},\n",
       "                        {\"responsive\": true}\n",
       "                    ).then(function(){\n",
       "                            \n",
       "var gd = document.getElementById('59d0ce56-11c2-4a98-8a96-e90d1ab724d4');\n",
       "var x = new MutationObserver(function (mutations, observer) {{\n",
       "        var display = window.getComputedStyle(gd).display;\n",
       "        if (!display || display === 'none') {{\n",
       "            console.log([gd, 'removed!']);\n",
       "            Plotly.purge(gd);\n",
       "            observer.disconnect();\n",
       "        }}\n",
       "}});\n",
       "\n",
       "// Listen for the removal of the full notebook cells\n",
       "var notebookContainer = gd.closest('#notebook-container');\n",
       "if (notebookContainer) {{\n",
       "    x.observe(notebookContainer, {childList: true});\n",
       "}}\n",
       "\n",
       "// Listen for the clearing of the current output cell\n",
       "var outputEl = gd.closest('.output');\n",
       "if (outputEl) {{\n",
       "    x.observe(outputEl, {childList: true});\n",
       "}}\n",
       "\n",
       "                        })\n",
       "                };\n",
       "                });\n",
       "            </script>\n",
       "        </div>"
      ]
     },
     "metadata": {},
     "output_type": "display_data"
    }
   ],
   "source": [
    "plot_model(m, feature='track_name')"
   ]
  },
  {
   "cell_type": "code",
   "execution_count": 34,
   "metadata": {},
   "outputs": [
    {
     "data": {
      "text/html": [
       "        <script type=\"text/javascript\">\n",
       "        window.PlotlyConfig = {MathJaxConfig: 'local'};\n",
       "        if (window.MathJax) {MathJax.Hub.Config({SVG: {font: \"STIX-Web\"}});}\n",
       "        if (typeof require !== 'undefined') {\n",
       "        require.undef(\"plotly\");\n",
       "        requirejs.config({\n",
       "            paths: {\n",
       "                'plotly': ['https://cdn.plot.ly/plotly-latest.min']\n",
       "            }\n",
       "        });\n",
       "        require(['plotly'], function(Plotly) {\n",
       "            window._Plotly = Plotly;\n",
       "        });\n",
       "        }\n",
       "        </script>\n",
       "        "
      ]
     },
     "metadata": {},
     "output_type": "display_data"
    },
    {
     "data": {
      "image/png": "[encoded data removed]",
      "text/plain": [
       "<Figure size 576x396 with 1 Axes>"
      ]
     },
     "metadata": {},
     "output_type": "display_data"
    }
   ],
   "source": [
    "# https://scikit-learn.org/stable/auto_examples/cluster/plot_kmeans_silhouette_analysis.html\n",
    "plot_model(m, plot = 'silhouette')"
   ]
  },
  {
   "cell_type": "code",
   "execution_count": 35,
   "metadata": {},
   "outputs": [
    {
     "data": {
      "text/html": [
       "        <script type=\"text/javascript\">\n",
       "        window.PlotlyConfig = {MathJaxConfig: 'local'};\n",
       "        if (window.MathJax) {MathJax.Hub.Config({SVG: {font: \"STIX-Web\"}});}\n",
       "        if (typeof require !== 'undefined') {\n",
       "        require.undef(\"plotly\");\n",
       "        requirejs.config({\n",
       "            paths: {\n",
       "                'plotly': ['https://cdn.plot.ly/plotly-latest.min']\n",
       "            }\n",
       "        });\n",
       "        require(['plotly'], function(Plotly) {\n",
       "            window._Plotly = Plotly;\n",
       "        });\n",
       "        }\n",
       "        </script>\n",
       "        "
      ]
     },
     "metadata": {},
     "output_type": "display_data"
    },
    {
     "data": {
      "application/vnd.plotly.v1+json": {
       "config": {
        "plotlyServerURL": "https://plot.ly"
       },
       "data": [
        {
         "alignmentgroup": "True",
         "bingroup": "x",
         "hoverlabel": {
          "namelength": 0
         },
         "hovertemplate": "Cluster=%{x}<br>count=%{y}",
         "legendgroup": "Cluster=Cluster 0",
         "marker": {
          "color": "#636efa",
          "opacity": 0.7
         },
         "name": "Cluster=Cluster 0",
         "offsetgroup": "Cluster=Cluster 0",
         "orientation": "v",
         "showlegend": true,
         "type": "histogram",
         "x": [
          "Cluster 0",
          "Cluster 0",
          "Cluster 0",
          "Cluster 0",
          "Cluster 0",
          "Cluster 0",
          "Cluster 0",
          "Cluster 0",
          "Cluster 0",
          "Cluster 0",
          "Cluster 0",
          "Cluster 0",
          "Cluster 0",
          "Cluster 0",
          "Cluster 0",
          "Cluster 0",
          "Cluster 0",
          "Cluster 0",
          "Cluster 0",
          "Cluster 0",
          "Cluster 0",
          "Cluster 0",
          "Cluster 0",
          "Cluster 0",
          "Cluster 0",
          "Cluster 0",
          "Cluster 0",
          "Cluster 0",
          "Cluster 0",
          "Cluster 0",
          "Cluster 0",
          "Cluster 0",
          "Cluster 0",
          "Cluster 0",
          "Cluster 0",
          "Cluster 0",
          "Cluster 0",
          "Cluster 0",
          "Cluster 0",
          "Cluster 0",
          "Cluster 0",
          "Cluster 0",
          "Cluster 0",
          "Cluster 0",
          "Cluster 0",
          "Cluster 0",
          "Cluster 0",
          "Cluster 0"
         ],
         "xaxis": "x",
         "yaxis": "y"
        },
        {
         "alignmentgroup": "True",
         "customdata": [
          [
           "4uYwlMp841PLJmj1gJJwIq",
           "Lay, Lady, Lay",
           0.52,
           0.179,
           155.746,
           0.40700000000000003,
           "https://open.spotify.com/track/4uYwlMp841PLJmj1gJJwIq",
           "Cluster 0"
          ],
          [
           "4y6P6eic8hhTcFqtaV5ftn",
           "Carta Ao Tom 74",
           0.621,
           0.369,
           143.1,
           0.517,
           "https://open.spotify.com/track/4y6P6eic8hhTcFqtaV5ftn",
           "Cluster 0"
          ],
          [
           "6nbyjI9tJUITph7LN7uZPj",
           "O Trem das 7 (Ao Vivo)",
           0.396,
           0.47600000000000003,
           122.02,
           0.39399999999999996,
           "https://open.spotify.com/track/6nbyjI9tJUITph7LN7uZPj",
           "Cluster 0"
          ],
          [
           "1Ow7BwZB6NKfxham67mLH7",
           "Acontecimentos",
           0.634,
           0.495,
           137.879,
           0.45399999999999996,
           "https://open.spotify.com/track/1Ow7BwZB6NKfxham67mLH7",
           "Cluster 0"
          ],
          [
           "5aGhtbviqUqjtno5vcUmCN",
           "Colo de Menina",
           0.654,
           0.46399999999999997,
           145.371,
           0.72,
           "https://open.spotify.com/track/5aGhtbviqUqjtno5vcUmCN",
           "Cluster 0"
          ],
          [
           "0X3wPQutw80NtG4PQGolvT",
           "Let's Call the Whole Thing Off",
           0.644,
           0.312,
           123.396,
           0.5820000000000001,
           "https://open.spotify.com/track/0X3wPQutw80NtG4PQGolvT",
           "Cluster 0"
          ],
          [
           "2kzEEsKiUPTvct5pGflQVF",
           "Greenback Boogie (Theme from \"Suits\")",
           0.629,
           0.67,
           142.997,
           0.418,
           "https://open.spotify.com/track/2kzEEsKiUPTvct5pGflQVF",
           "Cluster 0"
          ],
          [
           "2Yk0HvfTaijA47aM0Fj88u",
           "Metamorfose Ambulante",
           0.498,
           0.5870000000000001,
           135.91299999999998,
           0.597,
           "https://open.spotify.com/track/2Yk0HvfTaijA47aM0Fj88u",
           "Cluster 0"
          ],
          [
           "333v4s9EybUEFOY6ComIC2",
           "Amor e Sexo",
           0.6409999999999999,
           0.37,
           129.843,
           0.17600000000000002,
           "https://open.spotify.com/track/333v4s9EybUEFOY6ComIC2",
           "Cluster 0"
          ],
          [
           "3YKptz29AsOlm7WAVnztBh",
           "Kiss from a Rose",
           0.583,
           0.532,
           131.741,
           0.223,
           "https://open.spotify.com/track/3YKptz29AsOlm7WAVnztBh",
           "Cluster 0"
          ],
          [
           "6Nabz5Gsy80XL0MJoOmgF8",
           "Beds Are Burning - Remastered",
           0.754,
           0.496,
           119.186,
           0.341,
           "https://open.spotify.com/track/6Nabz5Gsy80XL0MJoOmgF8",
           "Cluster 0"
          ],
          [
           "1BIDHSkkst8nckyBaHVP6A",
           "Águas De Março",
           0.637,
           0.551,
           143.10399999999998,
           0.46799999999999997,
           "https://open.spotify.com/track/1BIDHSkkst8nckyBaHVP6A",
           "Cluster 0"
          ],
          [
           "6mFkJmJqdDVQ1REhVfGgd1",
           "Wish You Were Here",
           0.48100000000000004,
           0.262,
           122.883,
           0.375,
           "https://open.spotify.com/track/6mFkJmJqdDVQ1REhVfGgd1",
           "Cluster 0"
          ],
          [
           "5jrdCoLpJSvHHorevXBATy",
           "Dark Horse",
           0.645,
           0.585,
           131.931,
           0.353,
           "https://open.spotify.com/track/5jrdCoLpJSvHHorevXBATy",
           "Cluster 0"
          ],
          [
           "44sw25l5s3dUQx38QQ4hix",
           "Summertime",
           0.3,
           0.312,
           180.549,
           0.39399999999999996,
           "https://open.spotify.com/track/44sw25l5s3dUQx38QQ4hix",
           "Cluster 0"
          ],
          [
           "7f0jXNMu2xjQUtmKMuWhGA",
           "What's Up?",
           0.5660000000000001,
           0.57,
           134.537,
           0.491,
           "https://open.spotify.com/track/7f0jXNMu2xjQUtmKMuWhGA",
           "Cluster 0"
          ],
          [
           "74I1z55PBTBkBC6Ay5ydf5",
           "Flores em você",
           0.606,
           0.278,
           155.888,
           0.763,
           "https://open.spotify.com/track/74I1z55PBTBkBC6Ay5ydf5",
           "Cluster 0"
          ],
          [
           "3XVBdLihbNbxUwZosxcGuJ",
           "If I Ain't Got You",
           0.609,
           0.445,
           118.39299999999999,
           0.166,
           "https://open.spotify.com/track/3XVBdLihbNbxUwZosxcGuJ",
           "Cluster 0"
          ],
          [
           "7LjcQfRQtD7XYvjR1JKsZA",
           "Samba Da Bencao",
           0.5920000000000001,
           0.371,
           123.435,
           0.534,
           "https://open.spotify.com/track/7LjcQfRQtD7XYvjR1JKsZA",
           "Cluster 0"
          ],
          [
           "401RZ4h6JrBHq8mzBDu9nQ",
           "Danny's Song",
           0.51,
           0.442,
           144.614,
           0.517,
           "https://open.spotify.com/track/401RZ4h6JrBHq8mzBDu9nQ",
           "Cluster 0"
          ],
          [
           "5mnvqisoDJilY0uCEdT8rG",
           "Danny's Song",
           0.507,
           0.198,
           141.261,
           0.601,
           "https://open.spotify.com/track/5mnvqisoDJilY0uCEdT8rG",
           "Cluster 0"
          ],
          [
           "2dR5WkrpwylTuT3jRWNufa",
           "Fly Me To The Moon - Remastered",
           0.67,
           0.365,
           119.344,
           0.45,
           "https://open.spotify.com/track/2dR5WkrpwylTuT3jRWNufa",
           "Cluster 0"
          ],
          [
           "6oDPg7fXW3Ug3KmbafrXzA",
           "Wrecking Ball",
           0.466,
           0.40299999999999997,
           119.81,
           0.337,
           "https://open.spotify.com/track/6oDPg7fXW3Ug3KmbafrXzA",
           "Cluster 0"
          ],
          [
           "4XYdH6H7haUCeEm9YezQ9K",
           "Chão de Giz",
           0.667,
           0.44,
           143.843,
           0.34,
           "https://open.spotify.com/track/4XYdH6H7haUCeEm9YezQ9K",
           "Cluster 0"
          ],
          [
           "3m6KkYKdnbffMpGd9Pm9FP",
           "Seven Nation Army",
           0.745,
           0.466,
           123.889,
           0.303,
           "https://open.spotify.com/track/3m6KkYKdnbffMpGd9Pm9FP",
           "Cluster 0"
          ],
          [
           "7ytqdjooPEAa97QSu6NUHS",
           "Dream A Little Dream Of Me - Album Version With Introduction",
           0.45899999999999996,
           0.322,
           133.91,
           0.331,
           "https://open.spotify.com/track/7ytqdjooPEAa97QSu6NUHS",
           "Cluster 0"
          ],
          [
           "1EzrEOXmMH3G43AXT1y7pA",
           "I'm Yours",
           0.6859999999999999,
           0.457,
           150.953,
           0.718,
           "https://open.spotify.com/track/1EzrEOXmMH3G43AXT1y7pA",
           "Cluster 0"
          ],
          [
           "5TvE3pk05pyFIGdSY9j4DJ",
           "Say Something",
           0.40700000000000003,
           0.147,
           141.284,
           0.0765,
           "https://open.spotify.com/track/5TvE3pk05pyFIGdSY9j4DJ",
           "Cluster 0"
          ],
          [
           "1JO1xLtVc8mWhIoE3YaCL0",
           "Happy Together",
           0.584,
           0.36700000000000005,
           120.175,
           0.588,
           "https://open.spotify.com/track/1JO1xLtVc8mWhIoE3YaCL0",
           "Cluster 0"
          ],
          [
           "4SpqtLElDsO6KGbd4ub96Z",
           "Pela Luz dos Olhos Teus - Bonus Track",
           0.45299999999999996,
           0.27699999999999997,
           116.83200000000001,
           0.779,
           "https://open.spotify.com/track/4SpqtLElDsO6KGbd4ub96Z",
           "Cluster 0"
          ],
          [
           "7KsQssGg3DaovFkd9Kbnc6",
           "Corcovado",
           0.517,
           0.0854,
           126.854,
           0.391,
           "https://open.spotify.com/track/7KsQssGg3DaovFkd9Kbnc6",
           "Cluster 0"
          ],
          [
           "10igKaIKsSB6ZnWxPxPvKO",
           "Nothing Else Matters",
           0.5579999999999999,
           0.364,
           142.171,
           0.17,
           "https://open.spotify.com/track/10igKaIKsSB6ZnWxPxPvKO",
           "Cluster 0"
          ],
          [
           "5HNCy40Ni5BZJFw1TKzRsC",
           "Comfortably Numb",
           0.47200000000000003,
           0.366,
           127.167,
           0.171,
           "https://open.spotify.com/track/5HNCy40Ni5BZJFw1TKzRsC",
           "Cluster 0"
          ],
          [
           "4dIWbsYRqqTcLKf4bVU4kk",
           "Como Nossos Pais",
           0.51,
           0.401,
           143.942,
           0.574,
           "https://open.spotify.com/track/4dIWbsYRqqTcLKf4bVU4kk",
           "Cluster 0"
          ],
          [
           "3YfiGjwBzBsDrYPqAJsD4z",
           "Kiss from a Rose - Acoustic",
           0.659,
           0.40700000000000003,
           119.321,
           0.26899999999999996,
           "https://open.spotify.com/track/3YfiGjwBzBsDrYPqAJsD4z",
           "Cluster 0"
          ],
          [
           "40hrL4q3dxErnwzpIof6fc",
           "Crazy Mary (Remastered)",
           0.385,
           0.465,
           139.109,
           0.10400000000000001,
           "https://open.spotify.com/track/40hrL4q3dxErnwzpIof6fc",
           "Cluster 0"
          ],
          [
           "5bIEpKwEFgJzB7U3gFaeKm",
           "Here Comes The Sun - Remastered 2009",
           0.557,
           0.519,
           129.157,
           0.371,
           "https://open.spotify.com/track/5bIEpKwEFgJzB7U3gFaeKm",
           "Cluster 0"
          ],
          [
           "5TbwZ0OSuU1fGtQ8aTgiZP",
           "The Box, Pt. 1",
           0.672,
           0.21600000000000003,
           141.002,
           0.268,
           "https://open.spotify.com/track/5TbwZ0OSuU1fGtQ8aTgiZP",
           "Cluster 0"
          ],
          [
           "1MDoll6jK4rrk2BcFRP5i7",
           "Hello",
           0.47100000000000003,
           0.431,
           157.98,
           0.289,
           "https://open.spotify.com/track/1MDoll6jK4rrk2BcFRP5i7",
           "Cluster 0"
          ],
          [
           "4kLWjcI5IrMKELSngOhTJv",
           "Beija Eu",
           0.5429999999999999,
           0.526,
           159.093,
           0.677,
           "https://open.spotify.com/track/4kLWjcI5IrMKELSngOhTJv",
           "Cluster 0"
          ],
          [
           "0OrE0VWVZuhOPHSjO7WhKD",
           "Voce Abusou",
           0.435,
           0.209,
           144.86700000000002,
           0.522,
           "https://open.spotify.com/track/0OrE0VWVZuhOPHSjO7WhKD",
           "Cluster 0"
          ],
          [
           "3vFh4274hFZc3q2LoidsyK",
           "Somewhere Only We Know",
           0.314,
           0.28600000000000003,
           172.021,
           0.278,
           "https://open.spotify.com/track/3vFh4274hFZc3q2LoidsyK",
           "Cluster 0"
          ],
          [
           "6Z1zJjEXLrszqTPol6bfFV",
           "Live And Let Die - Remastered 1993",
           0.41200000000000003,
           0.39299999999999996,
           154.241,
           0.183,
           "https://open.spotify.com/track/6Z1zJjEXLrszqTPol6bfFV",
           "Cluster 0"
          ],
          [
           "3z8h0TU7ReDPLIbEnYhWZb",
           "Bohemian Rhapsody - 2011 Mix",
           0.39,
           0.397,
           144.031,
           0.24600000000000002,
           "https://open.spotify.com/track/3z8h0TU7ReDPLIbEnYhWZb",
           "Cluster 0"
          ],
          [
           "589AelScFm0FYQ4VG1biJi",
           "The James Bond Theme (From \"Dr. No\")",
           0.43700000000000006,
           0.5670000000000001,
           130.14700000000002,
           0.326,
           "https://open.spotify.com/track/589AelScFm0FYQ4VG1biJi",
           "Cluster 0"
          ],
          [
           "44hOGg1uFg1XJZGZYNwYmM",
           "Tainted Love",
           0.569,
           0.402,
           144.635,
           0.696,
           "https://open.spotify.com/track/44hOGg1uFg1XJZGZYNwYmM",
           "Cluster 0"
          ],
          [
           "1HL90u8MrrXtqNonXYN5of",
           "Realla",
           0.628,
           0.601,
           129.98,
           0.235,
           "https://open.spotify.com/track/1HL90u8MrrXtqNonXYN5of",
           "Cluster 0"
          ],
          [
           "4zzvMG8KrsykYtvFEJ99Cl",
           "Easy",
           0.506,
           0.5539999999999999,
           124.72399999999999,
           0.375,
           "https://open.spotify.com/track/4zzvMG8KrsykYtvFEJ99Cl",
           "Cluster 0"
          ]
         ],
         "hoverlabel": {
          "namelength": 0
         },
         "hovertemplate": "Cluster=%{customdata[7]}<br>track_id=%{customdata[0]}<br>track_name=%{customdata[1]}<br>danceability=%{customdata[2]}<br>energy=%{customdata[3]}<br>tempo=%{customdata[4]}<br>valence=%{customdata[5]}<br>url=%{customdata[6]}",
         "legendgroup": "Cluster=Cluster 0",
         "marker": {
          "color": "#636efa"
         },
         "name": "Cluster=Cluster 0",
         "notched": true,
         "offsetgroup": "Cluster=Cluster 0",
         "showlegend": false,
         "type": "box",
         "x": [
          "Cluster 0",
          "Cluster 0",
          "Cluster 0",
          "Cluster 0",
          "Cluster 0",
          "Cluster 0",
          "Cluster 0",
          "Cluster 0",
          "Cluster 0",
          "Cluster 0",
          "Cluster 0",
          "Cluster 0",
          "Cluster 0",
          "Cluster 0",
          "Cluster 0",
          "Cluster 0",
          "Cluster 0",
          "Cluster 0",
          "Cluster 0",
          "Cluster 0",
          "Cluster 0",
          "Cluster 0",
          "Cluster 0",
          "Cluster 0",
          "Cluster 0",
          "Cluster 0",
          "Cluster 0",
          "Cluster 0",
          "Cluster 0",
          "Cluster 0",
          "Cluster 0",
          "Cluster 0",
          "Cluster 0",
          "Cluster 0",
          "Cluster 0",
          "Cluster 0",
          "Cluster 0",
          "Cluster 0",
          "Cluster 0",
          "Cluster 0",
          "Cluster 0",
          "Cluster 0",
          "Cluster 0",
          "Cluster 0",
          "Cluster 0",
          "Cluster 0",
          "Cluster 0",
          "Cluster 0"
         ],
         "xaxis": "x2",
         "yaxis": "y2"
        },
        {
         "alignmentgroup": "True",
         "bingroup": "x",
         "hoverlabel": {
          "namelength": 0
         },
         "hovertemplate": "Cluster=%{x}<br>count=%{y}",
         "legendgroup": "Cluster=Cluster 1",
         "marker": {
          "color": "#EF553B",
          "opacity": 0.7
         },
         "name": "Cluster=Cluster 1",
         "offsetgroup": "Cluster=Cluster 1",
         "orientation": "v",
         "showlegend": true,
         "type": "histogram",
         "x": [
          "Cluster 1",
          "Cluster 1",
          "Cluster 1",
          "Cluster 1",
          "Cluster 1",
          "Cluster 1",
          "Cluster 1",
          "Cluster 1",
          "Cluster 1",
          "Cluster 1",
          "Cluster 1",
          "Cluster 1",
          "Cluster 1",
          "Cluster 1",
          "Cluster 1",
          "Cluster 1",
          "Cluster 1",
          "Cluster 1",
          "Cluster 1",
          "Cluster 1",
          "Cluster 1",
          "Cluster 1",
          "Cluster 1",
          "Cluster 1",
          "Cluster 1",
          "Cluster 1",
          "Cluster 1",
          "Cluster 1",
          "Cluster 1",
          "Cluster 1",
          "Cluster 1",
          "Cluster 1",
          "Cluster 1",
          "Cluster 1",
          "Cluster 1",
          "Cluster 1",
          "Cluster 1",
          "Cluster 1",
          "Cluster 1",
          "Cluster 1",
          "Cluster 1",
          "Cluster 1",
          "Cluster 1",
          "Cluster 1",
          "Cluster 1",
          "Cluster 1",
          "Cluster 1",
          "Cluster 1",
          "Cluster 1",
          "Cluster 1",
          "Cluster 1",
          "Cluster 1",
          "Cluster 1",
          "Cluster 1",
          "Cluster 1",
          "Cluster 1",
          "Cluster 1",
          "Cluster 1",
          "Cluster 1"
         ],
         "xaxis": "x",
         "yaxis": "y"
        },
        {
         "alignmentgroup": "True",
         "customdata": [
          [
           "72CPoBQn1XmRhJXS1Vy7O2",
           "We No Speak Americano (JT Radio Edit)",
           0.902,
           0.805,
           124.99600000000001,
           0.737,
           "https://open.spotify.com/track/72CPoBQn1XmRhJXS1Vy7O2",
           "Cluster 1"
          ],
          [
           "5VwQYHpyQPhiToPKWJaHiO",
           "I Can't Dance",
           0.941,
           0.49700000000000005,
           107.552,
           0.899,
           "https://open.spotify.com/track/5VwQYHpyQPhiToPKWJaHiO",
           "Cluster 1"
          ],
          [
           "0uqPG793dkDDN7sCUJJIVC",
           "Where Is The Love?",
           0.835,
           0.687,
           94.059,
           0.828,
           "https://open.spotify.com/track/0uqPG793dkDDN7sCUJJIVC",
           "Cluster 1"
          ],
          [
           "1vxw6aYJls2oq3gW0DujAo",
           "Crazy",
           0.855,
           0.5870000000000001,
           111.97,
           0.64,
           "https://open.spotify.com/track/1vxw6aYJls2oq3gW0DujAo",
           "Cluster 1"
          ],
          [
           "4AHU8QRdwCUWxPC53cw4Hh",
           "Whole Wide World",
           0.752,
           0.54,
           114.21700000000001,
           0.882,
           "https://open.spotify.com/track/4AHU8QRdwCUWxPC53cw4Hh",
           "Cluster 1"
          ],
          [
           "0BCF5r2criwyGRSN3n36re",
           "Andar com fé",
           0.774,
           0.647,
           95.098,
           0.965,
           "https://open.spotify.com/track/0BCF5r2criwyGRSN3n36re",
           "Cluster 1"
          ],
          [
           "2udGjDmpK1dH9VGyw7nrei",
           "Cocaine",
           0.6990000000000001,
           0.502,
           105.26700000000001,
           0.6759999999999999,
           "https://open.spotify.com/track/2udGjDmpK1dH9VGyw7nrei",
           "Cluster 1"
          ],
          [
           "36i9NcqbdQFdQfOROpIwMA",
           "Fico Assim Sem Você",
           0.809,
           0.428,
           121.969,
           0.507,
           "https://open.spotify.com/track/36i9NcqbdQFdQfOROpIwMA",
           "Cluster 1"
          ],
          [
           "36482hNESSwELpr9sS3NbE",
           "A Little Party Never Killed Nobody (All We Got)",
           0.7609999999999999,
           0.619,
           129.998,
           0.516,
           "https://open.spotify.com/track/36482hNESSwELpr9sS3NbE",
           "Cluster 1"
          ],
          [
           "4gMgiXfqyzZLMhsksGmbQV",
           "Another Brick in the Wall, Pt. 2",
           0.6940000000000001,
           0.39399999999999996,
           104.126,
           0.7190000000000001,
           "https://open.spotify.com/track/4gMgiXfqyzZLMhsksGmbQV",
           "Cluster 1"
          ],
          [
           "300RfAPZ57B0y6YYj9n6DN",
           "Superstition - Single Version",
           0.642,
           0.735,
           99.682,
           0.8640000000000001,
           "https://open.spotify.com/track/300RfAPZ57B0y6YYj9n6DN",
           "Cluster 1"
          ],
          [
           "0p20xyAdYkaxAPWdXr0sir",
           "I Love Rock 'n' Roll",
           0.762,
           0.48200000000000004,
           94.009,
           0.684,
           "https://open.spotify.com/track/0p20xyAdYkaxAPWdXr0sir",
           "Cluster 1"
          ],
          [
           "2zFdsAIk9r2Mi7Lmm1w3sM",
           "That's All - 2007 Remaster",
           0.6970000000000001,
           0.627,
           87.695,
           0.797,
           "https://open.spotify.com/track/2zFdsAIk9r2Mi7Lmm1w3sM",
           "Cluster 1"
          ],
          [
           "1KU5EHSz04JhGg3rReGJ0N",
           "Black Velvet",
           0.754,
           0.366,
           91.147,
           0.469,
           "https://open.spotify.com/track/1KU5EHSz04JhGg3rReGJ0N",
           "Cluster 1"
          ],
          [
           "6QgjcU0zLnzq5OrUoSZ3OK",
           "Feel It Still",
           0.8009999999999999,
           0.795,
           79.028,
           0.754,
           "https://open.spotify.com/track/6QgjcU0zLnzq5OrUoSZ3OK",
           "Cluster 1"
          ],
          [
           "6c9FQiAlvzMaTc3HrLqSRx",
           "The Way You Look Tonight",
           0.8059999999999999,
           0.485,
           104.83200000000001,
           0.8740000000000001,
           "https://open.spotify.com/track/6c9FQiAlvzMaTc3HrLqSRx",
           "Cluster 1"
          ],
          [
           "2PnNomkEqlg9ADKCVG0Wt0",
           "Every Breath You Take",
           0.8290000000000001,
           0.434,
           117.399,
           0.721,
           "https://open.spotify.com/track/2PnNomkEqlg9ADKCVG0Wt0",
           "Cluster 1"
          ],
          [
           "0wfcNeRfE0Z7bTlTYmVKQC",
           "A Casa é Sua",
           0.68,
           0.687,
           79.517,
           0.9490000000000001,
           "https://open.spotify.com/track/0wfcNeRfE0Z7bTlTYmVKQC",
           "Cluster 1"
          ],
          [
           "5ua6ByZaOw4hlMP6i8Vjdz",
           "Tá perdoado",
           0.78,
           0.5710000000000001,
           102.02600000000001,
           0.858,
           "https://open.spotify.com/track/5ua6ByZaOw4hlMP6i8Vjdz",
           "Cluster 1"
          ],
          [
           "7CdDIvw3jvjNaIs5m3mM4A",
           "La Belle De Jour",
           0.644,
           0.40399999999999997,
           105.06200000000001,
           0.6890000000000001,
           "https://open.spotify.com/track/7CdDIvw3jvjNaIs5m3mM4A",
           "Cluster 1"
          ],
          [
           "2EYilkg1F79h8ch4f4Csii",
           "Segue o Som",
           0.7809999999999999,
           0.544,
           92.00200000000001,
           0.688,
           "https://open.spotify.com/track/2EYilkg1F79h8ch4f4Csii",
           "Cluster 1"
          ],
          [
           "2ukW9zOr51AYeLSmCtTVqW",
           "Não Me Deixe Só",
           0.731,
           0.469,
           107.09299999999999,
           0.6409999999999999,
           "https://open.spotify.com/track/2ukW9zOr51AYeLSmCtTVqW",
           "Cluster 1"
          ],
          [
           "2IrdHGhifKDX6m2S8vHf1s",
           "A Message to You Rudy",
           0.9059999999999999,
           0.45299999999999996,
           102.98100000000001,
           0.9690000000000001,
           "https://open.spotify.com/track/2IrdHGhifKDX6m2S8vHf1s",
           "Cluster 1"
          ],
          [
           "6i0V12jOa3mr6uu4WYhUBr",
           "Heathens",
           0.732,
           0.396,
           90.024,
           0.5479999999999999,
           "https://open.spotify.com/track/6i0V12jOa3mr6uu4WYhUBr",
           "Cluster 1"
          ],
          [
           "2gE95JskwQ1pCACTpGe1Db",
           "Down On The Corner",
           0.858,
           0.544,
           108.21700000000001,
           0.8740000000000001,
           "https://open.spotify.com/track/2gE95JskwQ1pCACTpGe1Db",
           "Cluster 1"
          ],
          [
           "371VkfwKiXJxgH5ZPoQNHD",
           "The Joker",
           0.596,
           0.44799999999999995,
           83.29299999999999,
           0.7959999999999999,
           "https://open.spotify.com/track/371VkfwKiXJxgH5ZPoQNHD",
           "Cluster 1"
          ],
          [
           "4tb7A6O8cE2UzELRTwU3KZ",
           "Só Tinha De Ser Com Você",
           0.807,
           0.47600000000000003,
           119.729,
           0.46,
           "https://open.spotify.com/track/4tb7A6O8cE2UzELRTwU3KZ",
           "Cluster 1"
          ],
          [
           "6ZKlm17z22OxkzgemE4aos",
           "Addicted To Love",
           0.703,
           0.579,
           111.583,
           0.973,
           "https://open.spotify.com/track/6ZKlm17z22OxkzgemE4aos",
           "Cluster 1"
          ],
          [
           "7HacxOP2pHeSv1OsraqmDA",
           "Do Lado de Cá",
           0.628,
           0.46,
           75.708,
           0.677,
           "https://open.spotify.com/track/7HacxOP2pHeSv1OsraqmDA",
           "Cluster 1"
          ],
          [
           "3M5eeHXgG4VplKNcsBC8Dj",
           "Signed, Sealed, Delivered (I'm Yours)",
           0.67,
           0.619,
           108.82600000000001,
           0.807,
           "https://open.spotify.com/track/3M5eeHXgG4VplKNcsBC8Dj",
           "Cluster 1"
          ],
          [
           "4VywXu6umkIQ2OS0m1I79y",
           "Better Together",
           0.868,
           0.34700000000000003,
           110.059,
           0.659,
           "https://open.spotify.com/track/4VywXu6umkIQ2OS0m1I79y",
           "Cluster 1"
          ],
          [
           "3OkHIS1p4y2F8TdVKWZfod",
           "Juste un inconnu",
           0.8690000000000001,
           0.38299999999999995,
           129.02100000000002,
           0.919,
           "https://open.spotify.com/track/3OkHIS1p4y2F8TdVKWZfod",
           "Cluster 1"
          ],
          [
           "4eJFgz99l1ppawgesG8RRV",
           "16 Toneladas",
           0.616,
           0.52,
           82.697,
           0.938,
           "https://open.spotify.com/track/4eJFgz99l1ppawgesG8RRV",
           "Cluster 1"
          ],
          [
           "2LawezPeJhN4AWuSB0GtAU",
           "Have You Ever Seen The Rain",
           0.741,
           0.6970000000000001,
           116.109,
           0.774,
           "https://open.spotify.com/track/2LawezPeJhN4AWuSB0GtAU",
           "Cluster 1"
          ],
          [
           "0bQLIdNVBA46reRFqeSz3y",
           "Mais Que Nada",
           0.649,
           0.569,
           88.95299999999999,
           0.884,
           "https://open.spotify.com/track/0bQLIdNVBA46reRFqeSz3y",
           "Cluster 1"
          ],
          [
           "0CufeoNTkYAgTkTQsX7T5o",
           "Get Down On It - Single Version",
           0.879,
           0.644,
           110.87200000000001,
           0.971,
           "https://open.spotify.com/track/0CufeoNTkYAgTkTQsX7T5o",
           "Cluster 1"
          ],
          [
           "5RFG9IVkzxE4LhObpIJncY",
           "Under My Thumb",
           0.73,
           0.555,
           126.959,
           0.807,
           "https://open.spotify.com/track/5RFG9IVkzxE4LhObpIJncY",
           "Cluster 1"
          ],
          [
           "5xTt7WCmlfdSa9aP3MV56A",
           "One Note Samba",
           0.636,
           0.209,
           82.33200000000001,
           0.731,
           "https://open.spotify.com/track/5xTt7WCmlfdSa9aP3MV56A",
           "Cluster 1"
          ],
          [
           "46gLyFY3qZAoXpulDt6dPq",
           "Respect",
           0.821,
           0.496,
           114.605,
           0.955,
           "https://open.spotify.com/track/46gLyFY3qZAoXpulDt6dPq",
           "Cluster 1"
          ],
          [
           "6mPCZm2rCaTledoBjTqSRl",
           "All About That Bass - Live from Spotify London",
           0.775,
           0.528,
           135.197,
           0.9329999999999999,
           "https://open.spotify.com/track/6mPCZm2rCaTledoBjTqSRl",
           "Cluster 1"
          ],
          [
           "76cWfrsIopzpOsWDPBjNJ7",
           "A Banda",
           0.723,
           0.517,
           118.554,
           0.961,
           "https://open.spotify.com/track/76cWfrsIopzpOsWDPBjNJ7",
           "Cluster 1"
          ],
          [
           "2Z5d1taNoyOoxRQQDazMWR",
           "Samba Lelê",
           0.894,
           0.79,
           96.024,
           0.797,
           "https://open.spotify.com/track/2Z5d1taNoyOoxRQQDazMWR",
           "Cluster 1"
          ],
          [
           "0L7urInJWJwBXrVeunHwCU",
           "Aquele Abraço",
           0.48100000000000004,
           0.621,
           84.916,
           0.951,
           "https://open.spotify.com/track/0L7urInJWJwBXrVeunHwCU",
           "Cluster 1"
          ],
          [
           "6OSUZBGoQJOhbSrmvLrNa8",
           "Space Cowboy",
           0.635,
           0.5379999999999999,
           110.805,
           0.795,
           "https://open.spotify.com/track/6OSUZBGoQJOhbSrmvLrNa8",
           "Cluster 1"
          ],
          [
           "5uCdgBAqYPWQ2HGpJVGAeD",
           "Get Up I Feel Like Being A Sex Machine - Pt. 1 / Single Version",
           0.802,
           0.6609999999999999,
           107.774,
           0.799,
           "https://open.spotify.com/track/5uCdgBAqYPWQ2HGpJVGAeD",
           "Cluster 1"
          ],
          [
           "0SrDqCmn2ClzEzNkAZYc2Y",
           "Bete Balanço",
           0.782,
           0.705,
           116.96700000000001,
           0.902,
           "https://open.spotify.com/track/0SrDqCmn2ClzEzNkAZYc2Y",
           "Cluster 1"
          ],
          [
           "1N10tJPyQ70QcMLxhobSbJ",
           "O Mar Serenou",
           0.706,
           0.52,
           85.568,
           0.94,
           "https://open.spotify.com/track/1N10tJPyQ70QcMLxhobSbJ",
           "Cluster 1"
          ],
          [
           "1U5zdT78JN2K5PPJEgyoLG",
           "Meu Erro",
           0.792,
           0.506,
           104.397,
           0.9059999999999999,
           "https://open.spotify.com/track/1U5zdT78JN2K5PPJEgyoLG",
           "Cluster 1"
          ],
          [
           "3voQ4FSnDNKEKuBNeJjAR5",
           "Malemolencia",
           0.846,
           0.564,
           141.886,
           0.637,
           "https://open.spotify.com/track/3voQ4FSnDNKEKuBNeJjAR5",
           "Cluster 1"
          ],
          [
           "6fR4It0y0RdwwjBRVIr405",
           "I Follow Rivers",
           0.596,
           0.529,
           110.03200000000001,
           0.696,
           "https://open.spotify.com/track/6fR4It0y0RdwwjBRVIr405",
           "Cluster 1"
          ],
          [
           "4wMgrdT7euVj4GugqcKPz4",
           "Aqua de Beber",
           0.626,
           0.52,
           82.57,
           0.76,
           "https://open.spotify.com/track/4wMgrdT7euVj4GugqcKPz4",
           "Cluster 1"
          ],
          [
           "4v4woUHljv9XQPSOSNwFcG",
           "Só Tinha De Ser Com Voce (Com Tom)",
           0.7959999999999999,
           0.385,
           119.932,
           0.506,
           "https://open.spotify.com/track/4v4woUHljv9XQPSOSNwFcG",
           "Cluster 1"
          ],
          [
           "7lo43I6slQYrmMZQYb99PC",
           "A Visita",
           0.74,
           0.581,
           103.429,
           0.9690000000000001,
           "https://open.spotify.com/track/7lo43I6slQYrmMZQYb99PC",
           "Cluster 1"
          ],
          [
           "6IBYNkdYt6UePLysFn6xu9",
           "O Que É O Que É?",
           0.672,
           0.6940000000000001,
           111.829,
           0.9390000000000001,
           "https://open.spotify.com/track/6IBYNkdYt6UePLysFn6xu9",
           "Cluster 1"
          ],
          [
           "5ed6a8Fanf7jNghrZboXlU",
           "Loving Every Minute",
           0.557,
           0.528,
           97.10799999999999,
           0.72,
           "https://open.spotify.com/track/5ed6a8Fanf7jNghrZboXlU",
           "Cluster 1"
          ],
          [
           "0oxnbj3KvvMl5khReTSn59",
           "Wish You Were Here",
           0.7909999999999999,
           0.569,
           143.97799999999998,
           0.5770000000000001,
           "https://open.spotify.com/track/0oxnbj3KvvMl5khReTSn59",
           "Cluster 1"
          ],
          [
           "2xGKkcdKQUyqKKfOhd58gP",
           "Stay",
           0.581,
           0.525,
           119.09,
           0.652,
           "https://open.spotify.com/track/2xGKkcdKQUyqKKfOhd58gP",
           "Cluster 1"
          ],
          [
           "2zhHYs0W7I891mfT4KGJ4d",
           "Nosso Pequeno Castelo",
           0.773,
           0.638,
           108.962,
           0.6970000000000001,
           "https://open.spotify.com/track/2zhHYs0W7I891mfT4KGJ4d",
           "Cluster 1"
          ],
          [
           "1TX4h6MrIZ0K3r4OOG11WO",
           "Flor de Lis",
           0.5489999999999999,
           0.502,
           85.79299999999999,
           0.7809999999999999,
           "https://open.spotify.com/track/1TX4h6MrIZ0K3r4OOG11WO",
           "Cluster 1"
          ]
         ],
         "hoverlabel": {
          "namelength": 0
         },
         "hovertemplate": "Cluster=%{customdata[7]}<br>track_id=%{customdata[0]}<br>track_name=%{customdata[1]}<br>danceability=%{customdata[2]}<br>energy=%{customdata[3]}<br>tempo=%{customdata[4]}<br>valence=%{customdata[5]}<br>url=%{customdata[6]}",
         "legendgroup": "Cluster=Cluster 1",
         "marker": {
          "color": "#EF553B"
         },
         "name": "Cluster=Cluster 1",
         "notched": true,
         "offsetgroup": "Cluster=Cluster 1",
         "showlegend": false,
         "type": "box",
         "x": [
          "Cluster 1",
          "Cluster 1",
          "Cluster 1",
          "Cluster 1",
          "Cluster 1",
          "Cluster 1",
          "Cluster 1",
          "Cluster 1",
          "Cluster 1",
          "Cluster 1",
          "Cluster 1",
          "Cluster 1",
          "Cluster 1",
          "Cluster 1",
          "Cluster 1",
          "Cluster 1",
          "Cluster 1",
          "Cluster 1",
          "Cluster 1",
          "Cluster 1",
          "Cluster 1",
          "Cluster 1",
          "Cluster 1",
          "Cluster 1",
          "Cluster 1",
          "Cluster 1",
          "Cluster 1",
          "Cluster 1",
          "Cluster 1",
          "Cluster 1",
          "Cluster 1",
          "Cluster 1",
          "Cluster 1",
          "Cluster 1",
          "Cluster 1",
          "Cluster 1",
          "Cluster 1",
          "Cluster 1",
          "Cluster 1",
          "Cluster 1",
          "Cluster 1",
          "Cluster 1",
          "Cluster 1",
          "Cluster 1",
          "Cluster 1",
          "Cluster 1",
          "Cluster 1",
          "Cluster 1",
          "Cluster 1",
          "Cluster 1",
          "Cluster 1",
          "Cluster 1",
          "Cluster 1",
          "Cluster 1",
          "Cluster 1",
          "Cluster 1",
          "Cluster 1",
          "Cluster 1",
          "Cluster 1"
         ],
         "xaxis": "x2",
         "yaxis": "y2"
        },
        {
         "alignmentgroup": "True",
         "bingroup": "x",
         "hoverlabel": {
          "namelength": 0
         },
         "hovertemplate": "Cluster=%{x}<br>count=%{y}",
         "legendgroup": "Cluster=Cluster 2",
         "marker": {
          "color": "#00cc96",
          "opacity": 0.7
         },
         "name": "Cluster=Cluster 2",
         "offsetgroup": "Cluster=Cluster 2",
         "orientation": "v",
         "showlegend": true,
         "type": "histogram",
         "x": [
          "Cluster 2",
          "Cluster 2",
          "Cluster 2",
          "Cluster 2",
          "Cluster 2",
          "Cluster 2",
          "Cluster 2",
          "Cluster 2",
          "Cluster 2",
          "Cluster 2",
          "Cluster 2",
          "Cluster 2",
          "Cluster 2",
          "Cluster 2",
          "Cluster 2",
          "Cluster 2",
          "Cluster 2",
          "Cluster 2",
          "Cluster 2",
          "Cluster 2",
          "Cluster 2",
          "Cluster 2",
          "Cluster 2",
          "Cluster 2",
          "Cluster 2",
          "Cluster 2",
          "Cluster 2",
          "Cluster 2",
          "Cluster 2",
          "Cluster 2",
          "Cluster 2",
          "Cluster 2",
          "Cluster 2",
          "Cluster 2",
          "Cluster 2",
          "Cluster 2",
          "Cluster 2",
          "Cluster 2"
         ],
         "xaxis": "x",
         "yaxis": "y"
        },
        {
         "alignmentgroup": "True",
         "customdata": [
          [
           "3INsYP1Y8GG4qJvBsKCdXC",
           "Don't Stop Me Now - ...Revisited",
           0.465,
           0.917,
           155.061,
           0.39,
           "https://open.spotify.com/track/3INsYP1Y8GG4qJvBsKCdXC",
           "Cluster 2"
          ],
          [
           "0YwBZKT8JE4U5TwmYE9BV9",
           "Radio Ga Ga - Live Aid",
           0.406,
           0.934,
           118.823,
           0.395,
           "https://open.spotify.com/track/0YwBZKT8JE4U5TwmYE9BV9",
           "Cluster 2"
          ],
          [
           "2fY6tqgrlrg1ky9fgs0t5u",
           "Wanted Dead Or Alive",
           0.257,
           0.8029999999999999,
           150.81799999999998,
           0.294,
           "https://open.spotify.com/track/2fY6tqgrlrg1ky9fgs0t5u",
           "Cluster 2"
          ],
          [
           "1xNmF1Uep5OGutizZSbKvd",
           "One Of Us",
           0.316,
           0.499,
           174.782,
           0.40299999999999997,
           "https://open.spotify.com/track/1xNmF1Uep5OGutizZSbKvd",
           "Cluster 2"
          ],
          [
           "2cZKVvZYfuoTtdha8FEGQi",
           "Relicário - Ao Vivo",
           0.3,
           0.7,
           165.642,
           0.39799999999999996,
           "https://open.spotify.com/track/2cZKVvZYfuoTtdha8FEGQi",
           "Cluster 2"
          ],
          [
           "34pz8XUZRfw04lk4DPtwa7",
           "Keep Yourself Alive - Live At The Rainbow",
           0.308,
           0.975,
           138.974,
           0.295,
           "https://open.spotify.com/track/34pz8XUZRfw04lk4DPtwa7",
           "Cluster 2"
          ],
          [
           "2aksifNn5ph8igDOkPBA02",
           "Love On The Brain",
           0.509,
           0.637,
           172.00599999999997,
           0.37799999999999995,
           "https://open.spotify.com/track/2aksifNn5ph8igDOkPBA02",
           "Cluster 2"
          ],
          [
           "2zJespNLwpMVcD8bPyaFef",
           "O Segundo Sol - Acoustic",
           0.424,
           0.713,
           151.281,
           0.461,
           "https://open.spotify.com/track/2zJespNLwpMVcD8bPyaFef",
           "Cluster 2"
          ],
          [
           "1Q8lDjEzlTwATSZz2zgPd9",
           "Wen Uuu",
           0.674,
           0.655,
           174.014,
           0.0597,
           "https://open.spotify.com/track/1Q8lDjEzlTwATSZz2zgPd9",
           "Cluster 2"
          ],
          [
           "2hlqCFahLVgdBIbY3yTrAb",
           "Rose's Thorn",
           0.537,
           0.8590000000000001,
           157.98,
           0.21,
           "https://open.spotify.com/track/2hlqCFahLVgdBIbY3yTrAb",
           "Cluster 2"
          ],
          [
           "5VzvK7YiwWbRePA2JOzhYq",
           "Because the Night - MTV Unplugged Version",
           0.408,
           0.79,
           122.624,
           0.34700000000000003,
           "https://open.spotify.com/track/5VzvK7YiwWbRePA2JOzhYq",
           "Cluster 2"
          ],
          [
           "3AnQw2w00WUDHMKmtXGvVx",
           "The Sea",
           0.535,
           0.7609999999999999,
           149.968,
           0.248,
           "https://open.spotify.com/track/3AnQw2w00WUDHMKmtXGvVx",
           "Cluster 2"
          ],
          [
           "1mea3bSkSGXuIRvnydlB5b",
           "Viva La Vida",
           0.485,
           0.619,
           138.017,
           0.41600000000000004,
           "https://open.spotify.com/track/1mea3bSkSGXuIRvnydlB5b",
           "Cluster 2"
          ],
          [
           "6Ha2gDoMVDHaRjxxoS6qZJ",
           "Here Tonight",
           0.557,
           0.841,
           127.977,
           0.188,
           "https://open.spotify.com/track/6Ha2gDoMVDHaRjxxoS6qZJ",
           "Cluster 2"
          ],
          [
           "1FZ90IoWFZlubV6bjyyEwq",
           "Faded - Dash Berlin Remix",
           0.38799999999999996,
           0.915,
           127.823,
           0.102,
           "https://open.spotify.com/track/1FZ90IoWFZlubV6bjyyEwq",
           "Cluster 2"
          ],
          [
           "5GjnIpUlLGEIYk052ISOw9",
           "This Is What It Feels Like",
           0.552,
           0.831,
           129.889,
           0.14400000000000002,
           "https://open.spotify.com/track/5GjnIpUlLGEIYk052ISOw9",
           "Cluster 2"
          ],
          [
           "7ju9l3vOySwv0OQ3WuwwSq",
           "Shine Ibiza Anthem 2019",
           0.5489999999999999,
           0.977,
           137.991,
           0.25,
           "https://open.spotify.com/track/7ju9l3vOySwv0OQ3WuwwSq",
           "Cluster 2"
          ],
          [
           "6Qyc6fS4DsZjB2mRW9DsQs",
           "Iris",
           0.315,
           0.715,
           155.925,
           0.49700000000000005,
           "https://open.spotify.com/track/6Qyc6fS4DsZjB2mRW9DsQs",
           "Cluster 2"
          ],
          [
           "7wHiBFYJHp2MHjwyYV7xCZ",
           "Meu Lugar",
           0.32299999999999995,
           0.655,
           164.77,
           0.657,
           "https://open.spotify.com/track/7wHiBFYJHp2MHjwyYV7xCZ",
           "Cluster 2"
          ],
          [
           "3k9i7UzeSUYWIfUZFeFDUd",
           "Layla - 40th Anniversary Version / 2010 Remastered",
           0.40399999999999997,
           0.903,
           115.67200000000001,
           0.498,
           "https://open.spotify.com/track/3k9i7UzeSUYWIfUZFeFDUd",
           "Cluster 2"
          ],
          [
           "51sjYvAPyoR7CQB1NQUgXJ",
           "Sing",
           0.332,
           0.9,
           163.534,
           0.243,
           "https://open.spotify.com/track/51sjYvAPyoR7CQB1NQUgXJ",
           "Cluster 2"
          ],
          [
           "7w9bgPAmPTtrkt2v16QWvQ",
           "Lose Yourself - From \"8 Mile\" Soundtrack",
           0.701,
           0.728,
           171.388,
           0.0591,
           "https://open.spotify.com/track/7w9bgPAmPTtrkt2v16QWvQ",
           "Cluster 2"
          ],
          [
           "7FQSAiopqWOgCGqUNbDvh3",
           "Paranoid",
           0.429,
           0.631,
           162.734,
           0.376,
           "https://open.spotify.com/track/7FQSAiopqWOgCGqUNbDvh3",
           "Cluster 2"
          ],
          [
           "3G69vJMWsX6ZohTykad2AU",
           "One",
           0.392,
           0.534,
           181.305,
           0.325,
           "https://open.spotify.com/track/3G69vJMWsX6ZohTykad2AU",
           "Cluster 2"
          ],
          [
           "3vV3cr2TpPqFk07zxYUbla",
           "Cum on Feel the Noize",
           0.409,
           0.92,
           145.085,
           0.37,
           "https://open.spotify.com/track/3vV3cr2TpPqFk07zxYUbla",
           "Cluster 2"
          ],
          [
           "4MR9iW77LJoPPDjwAYbIZZ",
           "You Know My Name - From \"Casino Royale\" Soundtrack",
           0.368,
           0.8640000000000001,
           137.526,
           0.374,
           "https://open.spotify.com/track/4MR9iW77LJoPPDjwAYbIZZ",
           "Cluster 2"
          ],
          [
           "7yCPwWs66K8Ba5lFuU2bcx",
           "All The Small Things",
           0.439,
           0.8909999999999999,
           148.599,
           0.695,
           "https://open.spotify.com/track/7yCPwWs66K8Ba5lFuU2bcx",
           "Cluster 2"
          ],
          [
           "7qvxFz3JodM0A7xEM7k3YD",
           "Chained To The Rhythm",
           0.446,
           0.8,
           189.89,
           0.474,
           "https://open.spotify.com/track/7qvxFz3JodM0A7xEM7k3YD",
           "Cluster 2"
          ],
          [
           "7fxpqs4G8vj3rFYbJnsG7w",
           "Shitlist",
           0.419,
           0.9159999999999999,
           128.98,
           0.496,
           "https://open.spotify.com/track/7fxpqs4G8vj3rFYbJnsG7w",
           "Cluster 2"
          ],
          [
           "3bDGwl0X3EjQmIyFD1uif5",
           "Roar",
           0.56,
           0.7559999999999999,
           179.771,
           0.40399999999999997,
           "https://open.spotify.com/track/3bDGwl0X3EjQmIyFD1uif5",
           "Cluster 2"
          ],
          [
           "0UvCh63URrLFcPkKt99hHd",
           "Don't Look Back in Anger - Remastered",
           0.327,
           0.938,
           162.937,
           0.326,
           "https://open.spotify.com/track/0UvCh63URrLFcPkKt99hHd",
           "Cluster 2"
          ],
          [
           "63T7DJ1AFDD6Bn8VzG6JE8",
           "Paint It, Black",
           0.46399999999999997,
           0.795,
           158.691,
           0.612,
           "https://open.spotify.com/track/63T7DJ1AFDD6Bn8VzG6JE8",
           "Cluster 2"
          ],
          [
           "0LEoCPq4QlV2h41Fm5ENJ3",
           "Common People",
           0.319,
           0.8390000000000001,
           144.938,
           0.5379999999999999,
           "https://open.spotify.com/track/0LEoCPq4QlV2h41Fm5ENJ3",
           "Cluster 2"
          ],
          [
           "646J2jOtUe4Jflrmh6JFjN",
           "Bring Me To Life",
           0.312,
           0.946,
           189.892,
           0.297,
           "https://open.spotify.com/track/646J2jOtUe4Jflrmh6JFjN",
           "Cluster 2"
          ],
          [
           "1eujVQsT9v7ZTtvAkTEdZr",
           "Piece Of My Heart",
           0.429,
           0.665,
           160.499,
           0.5429999999999999,
           "https://open.spotify.com/track/1eujVQsT9v7ZTtvAkTEdZr",
           "Cluster 2"
          ],
          [
           "08mG3Y1vljYA6bvDt4Wqkj",
           "Back In Black",
           0.31,
           0.7,
           188.386,
           0.763,
           "https://open.spotify.com/track/08mG3Y1vljYA6bvDt4Wqkj",
           "Cluster 2"
          ],
          [
           "6rs96E1pfzZgBdNQKqOjEy",
           "O segundo sol",
           0.33899999999999997,
           0.882,
           154.202,
           0.679,
           "https://open.spotify.com/track/6rs96E1pfzZgBdNQKqOjEy",
           "Cluster 2"
          ],
          [
           "2KmEgiY8fQs0G6WNxtzQKr",
           "Baba O'Riley",
           0.489,
           0.7240000000000001,
           117.292,
           0.15,
           "https://open.spotify.com/track/2KmEgiY8fQs0G6WNxtzQKr",
           "Cluster 2"
          ]
         ],
         "hoverlabel": {
          "namelength": 0
         },
         "hovertemplate": "Cluster=%{customdata[7]}<br>track_id=%{customdata[0]}<br>track_name=%{customdata[1]}<br>danceability=%{customdata[2]}<br>energy=%{customdata[3]}<br>tempo=%{customdata[4]}<br>valence=%{customdata[5]}<br>url=%{customdata[6]}",
         "legendgroup": "Cluster=Cluster 2",
         "marker": {
          "color": "#00cc96"
         },
         "name": "Cluster=Cluster 2",
         "notched": true,
         "offsetgroup": "Cluster=Cluster 2",
         "showlegend": false,
         "type": "box",
         "x": [
          "Cluster 2",
          "Cluster 2",
          "Cluster 2",
          "Cluster 2",
          "Cluster 2",
          "Cluster 2",
          "Cluster 2",
          "Cluster 2",
          "Cluster 2",
          "Cluster 2",
          "Cluster 2",
          "Cluster 2",
          "Cluster 2",
          "Cluster 2",
          "Cluster 2",
          "Cluster 2",
          "Cluster 2",
          "Cluster 2",
          "Cluster 2",
          "Cluster 2",
          "Cluster 2",
          "Cluster 2",
          "Cluster 2",
          "Cluster 2",
          "Cluster 2",
          "Cluster 2",
          "Cluster 2",
          "Cluster 2",
          "Cluster 2",
          "Cluster 2",
          "Cluster 2",
          "Cluster 2",
          "Cluster 2",
          "Cluster 2",
          "Cluster 2",
          "Cluster 2",
          "Cluster 2",
          "Cluster 2"
         ],
         "xaxis": "x2",
         "yaxis": "y2"
        },
        {
         "alignmentgroup": "True",
         "bingroup": "x",
         "hoverlabel": {
          "namelength": 0
         },
         "hovertemplate": "Cluster=%{x}<br>count=%{y}",
         "legendgroup": "Cluster=Cluster 3",
         "marker": {
          "color": "#ab63fa",
          "opacity": 0.7
         },
         "name": "Cluster=Cluster 3",
         "offsetgroup": "Cluster=Cluster 3",
         "orientation": "v",
         "showlegend": true,
         "type": "histogram",
         "x": [
          "Cluster 3",
          "Cluster 3",
          "Cluster 3",
          "Cluster 3",
          "Cluster 3",
          "Cluster 3",
          "Cluster 3",
          "Cluster 3",
          "Cluster 3",
          "Cluster 3",
          "Cluster 3",
          "Cluster 3",
          "Cluster 3",
          "Cluster 3",
          "Cluster 3",
          "Cluster 3",
          "Cluster 3",
          "Cluster 3",
          "Cluster 3",
          "Cluster 3",
          "Cluster 3",
          "Cluster 3",
          "Cluster 3",
          "Cluster 3",
          "Cluster 3",
          "Cluster 3",
          "Cluster 3",
          "Cluster 3",
          "Cluster 3",
          "Cluster 3",
          "Cluster 3",
          "Cluster 3",
          "Cluster 3"
         ],
         "xaxis": "x",
         "yaxis": "y"
        },
        {
         "alignmentgroup": "True",
         "customdata": [
          [
           "6IVjnPfMGjQeUXvqpzLLdY",
           "Smiled At Me (Sorriu Para Mim)",
           0.55,
           0.267,
           90.676,
           0.513,
           "https://open.spotify.com/track/6IVjnPfMGjQeUXvqpzLLdY",
           "Cluster 3"
          ],
          [
           "5Xak5fmy089t0FYmh3VJiY",
           "Black",
           0.36,
           0.684,
           77.15,
           0.2,
           "https://open.spotify.com/track/5Xak5fmy089t0FYmh3VJiY",
           "Cluster 3"
          ],
          [
           "2M9ro2krNb7nr7HSprkEgo",
           "Fast Car",
           0.711,
           0.292,
           103.95100000000001,
           0.19399999999999998,
           "https://open.spotify.com/track/2M9ro2krNb7nr7HSprkEgo",
           "Cluster 3"
          ],
          [
           "0qukw1Cr7FADBAgzU55MQK",
           "Non, je ne regrette rien - Remasterisé En 2015",
           0.341,
           0.408,
           86.14200000000001,
           0.42700000000000005,
           "https://open.spotify.com/track/0qukw1Cr7FADBAgzU55MQK",
           "Cluster 3"
          ],
          [
           "1qylvO4iCIZZcqc4TqSjTZ",
           "Zombie - Acoustic Version",
           0.469,
           0.42700000000000005,
           84.053,
           0.0821,
           "https://open.spotify.com/track/1qylvO4iCIZZcqc4TqSjTZ",
           "Cluster 3"
          ],
          [
           "34eHLnDCoIh9g0co9zro3F",
           "Tocando em Frente",
           0.49,
           0.282,
           88.039,
           0.389,
           "https://open.spotify.com/track/34eHLnDCoIh9g0co9zro3F",
           "Cluster 3"
          ],
          [
           "5bLVrPldS8KXxkhuFLIqZO",
           "Happy Ending/Over My Shoulder",
           0.35,
           0.237,
           119.569,
           0.0959,
           "https://open.spotify.com/track/5bLVrPldS8KXxkhuFLIqZO",
           "Cluster 3"
          ],
          [
           "2lHVwMuA9fnKDYlceiXDLM",
           "Rocket Man",
           0.128,
           0.0535,
           75.233,
           0.0821,
           "https://open.spotify.com/track/2lHVwMuA9fnKDYlceiXDLM",
           "Cluster 3"
          ],
          [
           "3Bbbz0IGORWZSLf9UqsAL4",
           "Dream A Little Dream Of Me",
           0.631,
           0.127,
           76.559,
           0.322,
           "https://open.spotify.com/track/3Bbbz0IGORWZSLf9UqsAL4",
           "Cluster 3"
          ],
          [
           "3mr584ZFSkZrWja9kJAzlb",
           "Skyfall",
           0.34600000000000003,
           0.552,
           75.881,
           0.0789,
           "https://open.spotify.com/track/3mr584ZFSkZrWja9kJAzlb",
           "Cluster 3"
          ],
          [
           "2jERD2u9uoC7gGNQ0LbCrI",
           "Codinome Beija-Flor",
           0.48200000000000004,
           0.255,
           95.205,
           0.301,
           "https://open.spotify.com/track/2jERD2u9uoC7gGNQ0LbCrI",
           "Cluster 3"
          ],
          [
           "67Hna13dNDkZvBpTXRIaOJ",
           "Teardrop",
           0.615,
           0.419,
           76.997,
           0.21600000000000003,
           "https://open.spotify.com/track/67Hna13dNDkZvBpTXRIaOJ",
           "Cluster 3"
          ],
          [
           "3RnA0bz5qbwtjSnAP0EcvS",
           "What a Wonderful World",
           0.305,
           0.282,
           79.756,
           0.262,
           "https://open.spotify.com/track/3RnA0bz5qbwtjSnAP0EcvS",
           "Cluster 3"
          ],
          [
           "0dWOiVQwoUYTtXD0VVgmJQ",
           "Chega de Saudade",
           0.563,
           0.242,
           87.771,
           0.647,
           "https://open.spotify.com/track/0dWOiVQwoUYTtXD0VVgmJQ",
           "Cluster 3"
          ],
          [
           "6OguEkETIgjJs48LKaOjdZ",
           "She",
           0.39,
           0.287,
           65.179,
           0.302,
           "https://open.spotify.com/track/6OguEkETIgjJs48LKaOjdZ",
           "Cluster 3"
          ],
          [
           "7xpDGoUGbtaquk5xMvzwTh",
           "Telegrama",
           0.643,
           0.501,
           94.514,
           0.39399999999999996,
           "https://open.spotify.com/track/7xpDGoUGbtaquk5xMvzwTh",
           "Cluster 3"
          ],
          [
           "2kMvM1l45ZjpOv73qPefxA",
           "Relicário",
           0.46,
           0.515,
           83.809,
           0.395,
           "https://open.spotify.com/track/2kMvM1l45ZjpOv73qPefxA",
           "Cluster 3"
          ],
          [
           "1jdNcAD8Ir58RlsdGjJJdx",
           "Ho Hey",
           0.685,
           0.474,
           79.991,
           0.36,
           "https://open.spotify.com/track/1jdNcAD8Ir58RlsdGjJJdx",
           "Cluster 3"
          ],
          [
           "38BhHsOGE3ly3q3IiRCh66",
           "Pipes Of Peace - Remastered 2015",
           0.369,
           0.413,
           94.287,
           0.406,
           "https://open.spotify.com/track/38BhHsOGE3ly3q3IiRCh66",
           "Cluster 3"
          ],
          [
           "7KFUj2MunvS4cbauF04r6w",
           "O bêbado e a equilibrista",
           0.442,
           0.41700000000000004,
           94.23299999999999,
           0.276,
           "https://open.spotify.com/track/7KFUj2MunvS4cbauF04r6w",
           "Cluster 3"
          ],
          [
           "0zDVclPMSsjeyvbnqhWOmt",
           "La vie en rose - Single Version",
           0.52,
           0.0406,
           70.138,
           0.285,
           "https://open.spotify.com/track/0zDVclPMSsjeyvbnqhWOmt",
           "Cluster 3"
          ],
          [
           "00hwJU6jHS9C1LW4PLWXId",
           "Dream a Little Dream of Me",
           0.455,
           0.16699999999999998,
           76.118,
           0.40399999999999997,
           "https://open.spotify.com/track/00hwJU6jHS9C1LW4PLWXId",
           "Cluster 3"
          ],
          [
           "6tjZNDZo24C8gGelsozCzB",
           "What a Wonderful World",
           0.41100000000000003,
           0.292,
           108.315,
           0.18600000000000003,
           "https://open.spotify.com/track/6tjZNDZo24C8gGelsozCzB",
           "Cluster 3"
          ],
          [
           "5WZDLZVCvY1rEyNir6k8Pg",
           "The Show Must Go On - 2011 Mix",
           0.425,
           0.675,
           84.156,
           0.0671,
           "https://open.spotify.com/track/5WZDLZVCvY1rEyNir6k8Pg",
           "Cluster 3"
          ],
          [
           "4jtYkaxeQg2yjPRZQttd9I",
           "Love Of My Life - Live",
           0.302,
           0.321,
           110.52799999999999,
           0.196,
           "https://open.spotify.com/track/4jtYkaxeQg2yjPRZQttd9I",
           "Cluster 3"
          ],
          [
           "2nwCO1PqpvyoFIvq3Vrj8N",
           "These Boots Are Made For Walkin'",
           0.74,
           0.392,
           82.742,
           0.387,
           "https://open.spotify.com/track/2nwCO1PqpvyoFIvq3Vrj8N",
           "Cluster 3"
          ],
          [
           "5gEuWtxcn5Vz4xpT7dBoBU",
           "The Thrill Is Gone",
           0.6920000000000001,
           0.493,
           86.64399999999999,
           0.28,
           "https://open.spotify.com/track/5gEuWtxcn5Vz4xpT7dBoBU",
           "Cluster 3"
          ],
          [
           "4rq3CoA3hrw3LjgtItwSu5",
           "Aquarela",
           0.561,
           0.26899999999999996,
           75.117,
           0.6459999999999999,
           "https://open.spotify.com/track/4rq3CoA3hrw3LjgtItwSu5",
           "Cluster 3"
          ],
          [
           "0qgrrDnUUhyxpxbBznUnzg",
           "18 and Life",
           0.466,
           0.648,
           90.435,
           0.305,
           "https://open.spotify.com/track/0qgrrDnUUhyxpxbBznUnzg",
           "Cluster 3"
          ],
          [
           "5p3JunprHCxClJjOmcLV8G",
           "Walk On the Wild Side",
           0.575,
           0.318,
           104.522,
           0.385,
           "https://open.spotify.com/track/5p3JunprHCxClJjOmcLV8G",
           "Cluster 3"
          ],
          [
           "2FYE5aTxHX5lMJZ8HKmiQn",
           "Dona Cila",
           0.635,
           0.248,
           88.074,
           0.28600000000000003,
           "https://open.spotify.com/track/2FYE5aTxHX5lMJZ8HKmiQn",
           "Cluster 3"
          ],
          [
           "6GmUVqe73u5YRfUUynZK6I",
           "Let Her Go",
           0.479,
           0.545,
           74.89699999999999,
           0.244,
           "https://open.spotify.com/track/6GmUVqe73u5YRfUUynZK6I",
           "Cluster 3"
          ],
          [
           "2x45xqISlmmDJqxOqr8BuS",
           "With Or Without You - Remastered",
           0.5379999999999999,
           0.43200000000000005,
           110.181,
           0.11599999999999999,
           "https://open.spotify.com/track/2x45xqISlmmDJqxOqr8BuS",
           "Cluster 3"
          ]
         ],
         "hoverlabel": {
          "namelength": 0
         },
         "hovertemplate": "Cluster=%{customdata[7]}<br>track_id=%{customdata[0]}<br>track_name=%{customdata[1]}<br>danceability=%{customdata[2]}<br>energy=%{customdata[3]}<br>tempo=%{customdata[4]}<br>valence=%{customdata[5]}<br>url=%{customdata[6]}",
         "legendgroup": "Cluster=Cluster 3",
         "marker": {
          "color": "#ab63fa"
         },
         "name": "Cluster=Cluster 3",
         "notched": true,
         "offsetgroup": "Cluster=Cluster 3",
         "showlegend": false,
         "type": "box",
         "x": [
          "Cluster 3",
          "Cluster 3",
          "Cluster 3",
          "Cluster 3",
          "Cluster 3",
          "Cluster 3",
          "Cluster 3",
          "Cluster 3",
          "Cluster 3",
          "Cluster 3",
          "Cluster 3",
          "Cluster 3",
          "Cluster 3",
          "Cluster 3",
          "Cluster 3",
          "Cluster 3",
          "Cluster 3",
          "Cluster 3",
          "Cluster 3",
          "Cluster 3",
          "Cluster 3",
          "Cluster 3",
          "Cluster 3",
          "Cluster 3",
          "Cluster 3",
          "Cluster 3",
          "Cluster 3",
          "Cluster 3",
          "Cluster 3",
          "Cluster 3",
          "Cluster 3",
          "Cluster 3",
          "Cluster 3"
         ],
         "xaxis": "x2",
         "yaxis": "y2"
        },
        {
         "alignmentgroup": "True",
         "bingroup": "x",
         "hoverlabel": {
          "namelength": 0
         },
         "hovertemplate": "Cluster=%{x}<br>count=%{y}",
         "legendgroup": "Cluster=Cluster 4",
         "marker": {
          "color": "#FFA15A",
          "opacity": 0.7
         },
         "name": "Cluster=Cluster 4",
         "offsetgroup": "Cluster=Cluster 4",
         "orientation": "v",
         "showlegend": true,
         "type": "histogram",
         "x": [
          "Cluster 4",
          "Cluster 4",
          "Cluster 4",
          "Cluster 4",
          "Cluster 4",
          "Cluster 4",
          "Cluster 4",
          "Cluster 4",
          "Cluster 4",
          "Cluster 4",
          "Cluster 4",
          "Cluster 4",
          "Cluster 4",
          "Cluster 4",
          "Cluster 4",
          "Cluster 4",
          "Cluster 4",
          "Cluster 4",
          "Cluster 4",
          "Cluster 4",
          "Cluster 4",
          "Cluster 4",
          "Cluster 4",
          "Cluster 4",
          "Cluster 4",
          "Cluster 4",
          "Cluster 4",
          "Cluster 4",
          "Cluster 4",
          "Cluster 4",
          "Cluster 4",
          "Cluster 4",
          "Cluster 4",
          "Cluster 4",
          "Cluster 4",
          "Cluster 4",
          "Cluster 4",
          "Cluster 4",
          "Cluster 4",
          "Cluster 4",
          "Cluster 4",
          "Cluster 4",
          "Cluster 4",
          "Cluster 4",
          "Cluster 4",
          "Cluster 4",
          "Cluster 4",
          "Cluster 4",
          "Cluster 4",
          "Cluster 4",
          "Cluster 4",
          "Cluster 4",
          "Cluster 4",
          "Cluster 4",
          "Cluster 4",
          "Cluster 4",
          "Cluster 4",
          "Cluster 4",
          "Cluster 4",
          "Cluster 4",
          "Cluster 4"
         ],
         "xaxis": "x",
         "yaxis": "y"
        },
        {
         "alignmentgroup": "True",
         "customdata": [
          [
           "4NvgRMckw4uzjNn2t7taPe",
           "Die Another Day",
           0.7879999999999999,
           0.777,
           123.994,
           0.42700000000000005,
           "https://open.spotify.com/track/4NvgRMckw4uzjNn2t7taPe",
           "Cluster 4"
          ],
          [
           "6sy3LkhNFjJWlaeSMNwQ62",
           "Counting Stars",
           0.664,
           0.705,
           122.01700000000001,
           0.47700000000000004,
           "https://open.spotify.com/track/6sy3LkhNFjJWlaeSMNwQ62",
           "Cluster 4"
          ],
          [
           "5QpaGzWp0hwB5faV8dkbAz",
           "Wherever You Will Go",
           0.5579999999999999,
           0.7190000000000001,
           112.027,
           0.371,
           "https://open.spotify.com/track/5QpaGzWp0hwB5faV8dkbAz",
           "Cluster 4"
          ],
          [
           "4AwNUVU4h3QmUMHIbzurRa",
           "Envelheço na cidade",
           0.61,
           0.802,
           117.184,
           0.645,
           "https://open.spotify.com/track/4AwNUVU4h3QmUMHIbzurRa",
           "Cluster 4"
          ],
          [
           "2iUrcZcAuVIahQD0dg9HLe",
           "Autumn Leaves",
           0.496,
           0.634,
           93.35700000000001,
           0.606,
           "https://open.spotify.com/track/2iUrcZcAuVIahQD0dg9HLe",
           "Cluster 4"
          ],
          [
           "4JehYebiI9JE8sR8MisGVb",
           "Halo",
           0.508,
           0.72,
           79.983,
           0.47200000000000003,
           "https://open.spotify.com/track/4JehYebiI9JE8sR8MisGVb",
           "Cluster 4"
          ],
          [
           "5scK80Nrz12oGUnQGcPgg1",
           "Mantenha o Respeito",
           0.589,
           0.6609999999999999,
           108.035,
           0.382,
           "https://open.spotify.com/track/5scK80Nrz12oGUnQGcPgg1",
           "Cluster 4"
          ],
          [
           "5jtEGp5xkVV3zvNq7mVcW1",
           "Anunciação",
           0.541,
           0.711,
           100.111,
           0.785,
           "https://open.spotify.com/track/5jtEGp5xkVV3zvNq7mVcW1",
           "Cluster 4"
          ],
          [
           "5UnqU47OSB8LBahj0jtjrR",
           "Another Way to Die",
           0.541,
           0.772,
           71.20100000000001,
           0.43,
           "https://open.spotify.com/track/5UnqU47OSB8LBahj0jtjrR",
           "Cluster 4"
          ],
          [
           "0F3GMvgFyxWCOm1nxlkQSW",
           "Perfect",
           0.639,
           0.897,
           114.29700000000001,
           0.701,
           "https://open.spotify.com/track/0F3GMvgFyxWCOm1nxlkQSW",
           "Cluster 4"
          ],
          [
           "2aoo2jlRnM3A0NyLQqMN2f",
           "All Along the Watchtower",
           0.43799999999999994,
           0.805,
           113.25299999999999,
           0.564,
           "https://open.spotify.com/track/2aoo2jlRnM3A0NyLQqMN2f",
           "Cluster 4"
          ],
          [
           "7h8Ud480Fm4ReUVxgFF9ZX",
           "Rolling In The Deep",
           0.7290000000000001,
           0.777,
           104.946,
           0.527,
           "https://open.spotify.com/track/7h8Ud480Fm4ReUVxgFF9ZX",
           "Cluster 4"
          ],
          [
           "2TDDvKi8n44EaLVJXd2GkP",
           "Break It Down Again",
           0.6779999999999999,
           0.7440000000000001,
           108.98899999999999,
           0.484,
           "https://open.spotify.com/track/2TDDvKi8n44EaLVJXd2GkP",
           "Cluster 4"
          ],
          [
           "3cR6v2bOwqi7znC8P5Vs1T",
           "Maracatu Atômico",
           0.748,
           0.7290000000000001,
           95.743,
           0.264,
           "https://open.spotify.com/track/3cR6v2bOwqi7znC8P5Vs1T",
           "Cluster 4"
          ],
          [
           "3erAiWBiKsbVG39cqCrsI0",
           "Human",
           0.643,
           0.698,
           75.07300000000001,
           0.556,
           "https://open.spotify.com/track/3erAiWBiKsbVG39cqCrsI0",
           "Cluster 4"
          ],
          [
           "7C1bOiV8Bj0I3YpAnuS8ue",
           "São Gonça",
           0.639,
           0.777,
           108.01700000000001,
           0.603,
           "https://open.spotify.com/track/7C1bOiV8Bj0I3YpAnuS8ue",
           "Cluster 4"
          ],
          [
           "1idZSAVHfLPQq9tDTYhnIA",
           "The Last of the Famous International Playboys - 2010 Remaster",
           0.617,
           0.8759999999999999,
           104.228,
           0.735,
           "https://open.spotify.com/track/1idZSAVHfLPQq9tDTYhnIA",
           "Cluster 4"
          ],
          [
           "5WQ1hIc5d2EVbRQ8qsj8Uh",
           "Hey Ya! - Radio Mix / Club Mix",
           0.7190000000000001,
           0.9670000000000001,
           79.505,
           0.9640000000000001,
           "https://open.spotify.com/track/5WQ1hIc5d2EVbRQ8qsj8Uh",
           "Cluster 4"
          ],
          [
           "2YNnsUUgc23G8Th8TKpH44",
           "O Calibre",
           0.47700000000000004,
           0.977,
           90.155,
           0.528,
           "https://open.spotify.com/track/2YNnsUUgc23G8Th8TKpH44",
           "Cluster 4"
          ],
          [
           "2jmJZpdJhCXhfEhewqui5G",
           "Gostava Tanto de Você - Ao Vivo",
           0.561,
           0.8320000000000001,
           104.198,
           0.444,
           "https://open.spotify.com/track/2jmJZpdJhCXhfEhewqui5G",
           "Cluster 4"
          ],
          [
           "67FQ9r8wiJvKKj5gq8zmCb",
           "Mistérios da Meia Noite",
           0.49700000000000005,
           0.568,
           94.447,
           0.579,
           "https://open.spotify.com/track/67FQ9r8wiJvKKj5gq8zmCb",
           "Cluster 4"
          ],
          [
           "6ZmwwHYtun94UOdFWWgdif",
           "Alanis’ Interlude",
           0.705,
           0.89,
           94.01299999999999,
           0.45,
           "https://open.spotify.com/track/6ZmwwHYtun94UOdFWWgdif",
           "Cluster 4"
          ],
          [
           "53eJFr4Mfbw5PXJ01K6cFw",
           "Daughter (Remastered)",
           0.615,
           0.7020000000000001,
           96.99,
           0.7340000000000001,
           "https://open.spotify.com/track/53eJFr4Mfbw5PXJ01K6cFw",
           "Cluster 4"
          ],
          [
           "6FJ9Xp3fCxSTAdcRVaDQdl",
           "Miracle",
           0.5770000000000001,
           0.677,
           92.007,
           0.6829999999999999,
           "https://open.spotify.com/track/6FJ9Xp3fCxSTAdcRVaDQdl",
           "Cluster 4"
          ],
          [
           "1sUTfgduT0WIQO8kXKXxLC",
           "Blaze Of Glory - From \"Young Guns II\" Soundtrack",
           0.55,
           0.618,
           78.61,
           0.429,
           "https://open.spotify.com/track/1sUTfgduT0WIQO8kXKXxLC",
           "Cluster 4"
          ],
          [
           "2zYzyRzz6pRmhPzyfMEC8s",
           "Highway to Hell",
           0.573,
           0.9129999999999999,
           115.715,
           0.42200000000000004,
           "https://open.spotify.com/track/2zYzyRzz6pRmhPzyfMEC8s",
           "Cluster 4"
          ],
          [
           "2Z8WuEywRWYTKe1NybPQEW",
           "Ride",
           0.645,
           0.713,
           74.98899999999999,
           0.5660000000000001,
           "https://open.spotify.com/track/2Z8WuEywRWYTKe1NybPQEW",
           "Cluster 4"
          ],
          [
           "6suU8oBlW4O2pg88tOXgHo",
           "Under Pressure - Remastered",
           0.672,
           0.6990000000000001,
           113.73700000000001,
           0.46,
           "https://open.spotify.com/track/6suU8oBlW4O2pg88tOXgHo",
           "Cluster 4"
          ],
          [
           "3CKCZ9pfwAfoMZlMncA1Nc",
           "Set Fire to the Rain",
           0.61,
           0.6829999999999999,
           108.00299999999999,
           0.466,
           "https://open.spotify.com/track/3CKCZ9pfwAfoMZlMncA1Nc",
           "Cluster 4"
          ],
          [
           "0cLH7BXqfm0RqnjueCPLfW",
           "Evidence",
           0.6859999999999999,
           0.779,
           97.948,
           0.627,
           "https://open.spotify.com/track/0cLH7BXqfm0RqnjueCPLfW",
           "Cluster 4"
          ],
          [
           "6avkLAdK3IbkR1c7l6APmJ",
           "Big Time Sensuality",
           0.728,
           0.7170000000000001,
           118.589,
           0.5660000000000001,
           "https://open.spotify.com/track/6avkLAdK3IbkR1c7l6APmJ",
           "Cluster 4"
          ],
          [
           "22JzTLr1YHfewbyPkgCARt",
           "Pobre paulista",
           0.42700000000000005,
           0.759,
           93.01799999999999,
           0.595,
           "https://open.spotify.com/track/22JzTLr1YHfewbyPkgCARt",
           "Cluster 4"
          ],
          [
           "1oJSAzNyTUCm36zhFYMcAZ",
           "Big Yellow Taxi",
           0.672,
           0.872,
           88.04700000000001,
           0.848,
           "https://open.spotify.com/track/1oJSAzNyTUCm36zhFYMcAZ",
           "Cluster 4"
          ],
          [
           "3BEZCNZSmVv30vsMNSOCri",
           "Layla - Acoustic; Live at MTV Unplugged, Bray Film Studios, Windsor, England, UK, 1/16/1992; 2013 Remaster",
           0.5579999999999999,
           0.524,
           93.654,
           0.636,
           "https://open.spotify.com/track/3BEZCNZSmVv30vsMNSOCri",
           "Cluster 4"
          ],
          [
           "3y9p60VKSjscT2M2de0uz8",
           "Smiley Faces",
           0.562,
           0.8859999999999999,
           86.999,
           0.636,
           "https://open.spotify.com/track/3y9p60VKSjscT2M2de0uz8",
           "Cluster 4"
          ],
          [
           "14XWXWv5FoCbFzLksawpEe",
           "Riders on the Storm",
           0.5489999999999999,
           0.722,
           103.885,
           0.716,
           "https://open.spotify.com/track/14XWXWv5FoCbFzLksawpEe",
           "Cluster 4"
          ],
          [
           "3OhfY94w6eTzs6UnvwDryF",
           "Carolina",
           0.627,
           0.752,
           89.995,
           0.48,
           "https://open.spotify.com/track/3OhfY94w6eTzs6UnvwDryF",
           "Cluster 4"
          ],
          [
           "0WZRuNn00I9CJ6XO84F6j9",
           "Verdade",
           0.5820000000000001,
           0.902,
           106.54299999999999,
           0.608,
           "https://open.spotify.com/track/0WZRuNn00I9CJ6XO84F6j9",
           "Cluster 4"
          ],
          [
           "5W7fIifB8wRBPN6yOcHpi2",
           "Samba de uma nota só",
           0.7240000000000001,
           0.573,
           88.02799999999999,
           0.43700000000000006,
           "https://open.spotify.com/track/5W7fIifB8wRBPN6yOcHpi2",
           "Cluster 4"
          ],
          [
           "2REJewOG7lanXShkriw5f2",
           "Tudo No Lugar",
           0.73,
           0.905,
           95.985,
           0.6859999999999999,
           "https://open.spotify.com/track/2REJewOG7lanXShkriw5f2",
           "Cluster 4"
          ],
          [
           "6A3Q8BVAAI2PW1s6MX4ZGF",
           "Boa Sorte / Good Luck",
           0.779,
           0.5660000000000001,
           111.022,
           0.28,
           "https://open.spotify.com/track/6A3Q8BVAAI2PW1s6MX4ZGF",
           "Cluster 4"
          ],
          [
           "5j6ZZwA9BnxZi5Bk0Ng4jB",
           "Heroes - 1999 Remaster",
           0.478,
           0.774,
           112.57700000000001,
           0.429,
           "https://open.spotify.com/track/5j6ZZwA9BnxZi5Bk0Ng4jB",
           "Cluster 4"
          ],
          [
           "7mitXLIMCflkhZiD34uEQI",
           "Party Rock Anthem",
           0.7509999999999999,
           0.736,
           130.014,
           0.35200000000000004,
           "https://open.spotify.com/track/7mitXLIMCflkhZiD34uEQI",
           "Cluster 4"
          ],
          [
           "2UzQqudrAxeZeuJTcPBKBx",
           "Cotidiano",
           0.434,
           0.537,
           89.09100000000001,
           0.772,
           "https://open.spotify.com/track/2UzQqudrAxeZeuJTcPBKBx",
           "Cluster 4"
          ],
          [
           "1jF7IL57ayN4Ity3jQqGu0",
           "Try",
           0.6729999999999999,
           0.629,
           103.99799999999999,
           0.551,
           "https://open.spotify.com/track/1jF7IL57ayN4Ity3jQqGu0",
           "Cluster 4"
          ],
          [
           "3PkfVwSOVxP0ffvdQAWJUN",
           "You Had Me",
           0.6940000000000001,
           0.8270000000000001,
           102.025,
           0.703,
           "https://open.spotify.com/track/3PkfVwSOVxP0ffvdQAWJUN",
           "Cluster 4"
          ],
          [
           "6JV2JOEocMgcZxYSZelKcc",
           "CAN'T STOP THE FEELING! (Original Song from DreamWorks Animation's \"TROLLS\")",
           0.667,
           0.83,
           113.03,
           0.701,
           "https://open.spotify.com/track/6JV2JOEocMgcZxYSZelKcc",
           "Cluster 4"
          ],
          [
           "30qVCFYKBtAENjTIBA8FPZ",
           "The River of Dreams",
           0.631,
           0.7490000000000001,
           89.646,
           0.43700000000000006,
           "https://open.spotify.com/track/30qVCFYKBtAENjTIBA8FPZ",
           "Cluster 4"
          ],
          [
           "73L7X1wQ2d7Y91pT4ElexT",
           "Safety Dance",
           0.76,
           0.612,
           101.38600000000001,
           0.198,
           "https://open.spotify.com/track/73L7X1wQ2d7Y91pT4ElexT",
           "Cluster 4"
          ],
          [
           "7HZXKocB073IEw7ZgnVQEO",
           "Funk Nu a Murit",
           0.6809999999999999,
           0.809,
           92.021,
           0.67,
           "https://open.spotify.com/track/7HZXKocB073IEw7ZgnVQEO",
           "Cluster 4"
          ],
          [
           "6Vz7vzOpCwKeSQlfViibuY",
           "Crazy",
           0.633,
           0.858,
           102.559,
           0.725,
           "https://open.spotify.com/track/6Vz7vzOpCwKeSQlfViibuY",
           "Cluster 4"
          ],
          [
           "2cNjgoSh1TBHFQIhfzRJUE",
           "Go",
           0.7509999999999999,
           0.897,
           119.97,
           0.48200000000000004,
           "https://open.spotify.com/track/2cNjgoSh1TBHFQIhfzRJUE",
           "Cluster 4"
          ],
          [
           "33IOhptvC2Qoy2UhjiHXLV",
           "Flames",
           0.609,
           0.726,
           93.958,
           0.36200000000000004,
           "https://open.spotify.com/track/33IOhptvC2Qoy2UhjiHXLV",
           "Cluster 4"
          ],
          [
           "4VqPOruhp5EdPBeR92t6lQ",
           "Uprising",
           0.602,
           0.905,
           128.019,
           0.41100000000000003,
           "https://open.spotify.com/track/4VqPOruhp5EdPBeR92t6lQ",
           "Cluster 4"
          ],
          [
           "2PpruBYCo4H7WOBJ7Q2EwM",
           "Hey Ya!",
           0.728,
           0.9740000000000001,
           79.52600000000001,
           0.965,
           "https://open.spotify.com/track/2PpruBYCo4H7WOBJ7Q2EwM",
           "Cluster 4"
          ],
          [
           "11IzgLRXV7Cgek3tEgGgjw",
           "Under Pressure - Remastered",
           0.6709999999999999,
           0.711,
           113.809,
           0.466,
           "https://open.spotify.com/track/11IzgLRXV7Cgek3tEgGgjw",
           "Cluster 4"
          ],
          [
           "4m815SdxfKNxLHITG4WpzB",
           "Bola De Meia, Bola De Gude",
           0.5660000000000001,
           0.7,
           106.154,
           0.542,
           "https://open.spotify.com/track/4m815SdxfKNxLHITG4WpzB",
           "Cluster 4"
          ],
          [
           "7kXmJwrZGIhDaLT9sNo3ut",
           "Hey Boy Hey Girl",
           0.632,
           0.92,
           127.001,
           0.363,
           "https://open.spotify.com/track/7kXmJwrZGIhDaLT9sNo3ut",
           "Cluster 4"
          ],
          [
           "0INtjcLMDnXjNB2YGe6RBT",
           "Kung Fu Fighting (Single Version)",
           0.623,
           0.705,
           110.064,
           0.49,
           "https://open.spotify.com/track/0INtjcLMDnXjNB2YGe6RBT",
           "Cluster 4"
          ],
          [
           "4bz7uB4edifWKJXSDxwHcs",
           "Galvanize",
           0.745,
           0.7140000000000001,
           104.00299999999999,
           0.365,
           "https://open.spotify.com/track/4bz7uB4edifWKJXSDxwHcs",
           "Cluster 4"
          ],
          [
           "4rFCA3E7dSDUuxmbg25K6l",
           "Mais Que Nada (Remix)",
           0.778,
           0.87,
           99.758,
           0.775,
           "https://open.spotify.com/track/4rFCA3E7dSDUuxmbg25K6l",
           "Cluster 4"
          ]
         ],
         "hoverlabel": {
          "namelength": 0
         },
         "hovertemplate": "Cluster=%{customdata[7]}<br>track_id=%{customdata[0]}<br>track_name=%{customdata[1]}<br>danceability=%{customdata[2]}<br>energy=%{customdata[3]}<br>tempo=%{customdata[4]}<br>valence=%{customdata[5]}<br>url=%{customdata[6]}",
         "legendgroup": "Cluster=Cluster 4",
         "marker": {
          "color": "#FFA15A"
         },
         "name": "Cluster=Cluster 4",
         "notched": true,
         "offsetgroup": "Cluster=Cluster 4",
         "showlegend": false,
         "type": "box",
         "x": [
          "Cluster 4",
          "Cluster 4",
          "Cluster 4",
          "Cluster 4",
          "Cluster 4",
          "Cluster 4",
          "Cluster 4",
          "Cluster 4",
          "Cluster 4",
          "Cluster 4",
          "Cluster 4",
          "Cluster 4",
          "Cluster 4",
          "Cluster 4",
          "Cluster 4",
          "Cluster 4",
          "Cluster 4",
          "Cluster 4",
          "Cluster 4",
          "Cluster 4",
          "Cluster 4",
          "Cluster 4",
          "Cluster 4",
          "Cluster 4",
          "Cluster 4",
          "Cluster 4",
          "Cluster 4",
          "Cluster 4",
          "Cluster 4",
          "Cluster 4",
          "Cluster 4",
          "Cluster 4",
          "Cluster 4",
          "Cluster 4",
          "Cluster 4",
          "Cluster 4",
          "Cluster 4",
          "Cluster 4",
          "Cluster 4",
          "Cluster 4",
          "Cluster 4",
          "Cluster 4",
          "Cluster 4",
          "Cluster 4",
          "Cluster 4",
          "Cluster 4",
          "Cluster 4",
          "Cluster 4",
          "Cluster 4",
          "Cluster 4",
          "Cluster 4",
          "Cluster 4",
          "Cluster 4",
          "Cluster 4",
          "Cluster 4",
          "Cluster 4",
          "Cluster 4",
          "Cluster 4",
          "Cluster 4",
          "Cluster 4",
          "Cluster 4"
         ],
         "xaxis": "x2",
         "yaxis": "y2"
        },
        {
         "alignmentgroup": "True",
         "bingroup": "x",
         "hoverlabel": {
          "namelength": 0
         },
         "hovertemplate": "Cluster=%{x}<br>count=%{y}",
         "legendgroup": "Cluster=Cluster 5",
         "marker": {
          "color": "#19d3f3",
          "opacity": 0.7
         },
         "name": "Cluster=Cluster 5",
         "offsetgroup": "Cluster=Cluster 5",
         "orientation": "v",
         "showlegend": true,
         "type": "histogram",
         "x": [
          "Cluster 5",
          "Cluster 5",
          "Cluster 5",
          "Cluster 5",
          "Cluster 5",
          "Cluster 5",
          "Cluster 5",
          "Cluster 5",
          "Cluster 5",
          "Cluster 5",
          "Cluster 5",
          "Cluster 5",
          "Cluster 5",
          "Cluster 5",
          "Cluster 5",
          "Cluster 5",
          "Cluster 5",
          "Cluster 5",
          "Cluster 5",
          "Cluster 5",
          "Cluster 5",
          "Cluster 5",
          "Cluster 5",
          "Cluster 5",
          "Cluster 5",
          "Cluster 5",
          "Cluster 5",
          "Cluster 5",
          "Cluster 5",
          "Cluster 5",
          "Cluster 5",
          "Cluster 5",
          "Cluster 5",
          "Cluster 5",
          "Cluster 5",
          "Cluster 5",
          "Cluster 5",
          "Cluster 5",
          "Cluster 5",
          "Cluster 5",
          "Cluster 5",
          "Cluster 5",
          "Cluster 5",
          "Cluster 5",
          "Cluster 5",
          "Cluster 5",
          "Cluster 5",
          "Cluster 5",
          "Cluster 5",
          "Cluster 5",
          "Cluster 5",
          "Cluster 5",
          "Cluster 5",
          "Cluster 5",
          "Cluster 5",
          "Cluster 5",
          "Cluster 5",
          "Cluster 5",
          "Cluster 5",
          "Cluster 5"
         ],
         "xaxis": "x",
         "yaxis": "y"
        },
        {
         "alignmentgroup": "True",
         "customdata": [
          [
           "1lkC6oC7SbwgnEBEC05r64",
           "Get the Party Started",
           0.799,
           0.903,
           128.92600000000002,
           0.963,
           "https://open.spotify.com/track/1lkC6oC7SbwgnEBEC05r64",
           "Cluster 5"
          ],
          [
           "3yP0cohcr97BUNJcgvmSVg",
           "The Passenger",
           0.5,
           0.846,
           134.937,
           0.738,
           "https://open.spotify.com/track/3yP0cohcr97BUNJcgvmSVg",
           "Cluster 5"
          ],
          [
           "5N4Hl2Gv1UDpEHu3nMRQFB",
           "Friction",
           0.6729999999999999,
           0.7190000000000001,
           150.129,
           0.428,
           "https://open.spotify.com/track/5N4Hl2Gv1UDpEHu3nMRQFB",
           "Cluster 5"
          ],
          [
           "1A4WjuUXeFEVXjwgc7eVZ6",
           "Good People",
           0.721,
           0.586,
           176.105,
           0.9179999999999999,
           "https://open.spotify.com/track/1A4WjuUXeFEVXjwgc7eVZ6",
           "Cluster 5"
          ],
          [
           "0VtiO1D14T68y8DEMMNS8d",
           "Love Today",
           0.6709999999999999,
           0.9009999999999999,
           124.464,
           0.63,
           "https://open.spotify.com/track/0VtiO1D14T68y8DEMMNS8d",
           "Cluster 5"
          ],
          [
           "5MMnwYs0hIxkENRsbkWJ2G",
           "Smoke On The Water - Remastered 2012",
           0.598,
           0.6759999999999999,
           114.169,
           0.805,
           "https://open.spotify.com/track/5MMnwYs0hIxkENRsbkWJ2G",
           "Cluster 5"
          ],
          [
           "3OeUlriM0EZHdWleJtjoVr",
           "Got My Mind Set On You - 2004 Mix",
           0.767,
           0.8540000000000001,
           149.20600000000002,
           0.963,
           "https://open.spotify.com/track/3OeUlriM0EZHdWleJtjoVr",
           "Cluster 5"
          ],
          [
           "4d0DpU7Odiv0ztvX2GxJlk",
           "Exagerado",
           0.6779999999999999,
           0.6629999999999999,
           136.388,
           0.8220000000000001,
           "https://open.spotify.com/track/4d0DpU7Odiv0ztvX2GxJlk",
           "Cluster 5"
          ],
          [
           "189ORFltyfCNtP4CCJou8L",
           "Moving On Up",
           0.851,
           0.851,
           125.057,
           0.897,
           "https://open.spotify.com/track/189ORFltyfCNtP4CCJou8L",
           "Cluster 5"
          ],
          [
           "6z9ehfxE973fOlKJKNJL2x",
           "Blue Sky Mine - 2011 Remaster",
           0.631,
           0.852,
           132.018,
           0.8340000000000001,
           "https://open.spotify.com/track/6z9ehfxE973fOlKJKNJL2x",
           "Cluster 5"
          ],
          [
           "2wPFy7SAFnt9Nj2TipWcqb",
           "Block Rockin' Beats",
           0.606,
           0.977,
           109.41,
           0.809,
           "https://open.spotify.com/track/2wPFy7SAFnt9Nj2TipWcqb",
           "Cluster 5"
          ],
          [
           "1hlveB9M6ijHZRbzZ2teyh",
           "We're Not Gonna Take It",
           0.502,
           0.924,
           149.186,
           0.922,
           "https://open.spotify.com/track/1hlveB9M6ijHZRbzZ2teyh",
           "Cluster 5"
          ],
          [
           "2gsRi0MuGDsDyvR9usz1pd",
           "Day Tripper",
           0.6609999999999999,
           0.57,
           145.879,
           0.763,
           "https://open.spotify.com/track/2gsRi0MuGDsDyvR9usz1pd",
           "Cluster 5"
          ],
          [
           "5eSllZgRWCIJsDTAqFRwQw",
           "Coffee and TV",
           0.743,
           0.743,
           121.604,
           0.7070000000000001,
           "https://open.spotify.com/track/5eSllZgRWCIJsDTAqFRwQw",
           "Cluster 5"
          ],
          [
           "1kV6GsEtVGmPehcGpmYtnr",
           "The Box - Part 2",
           0.603,
           0.72,
           140.991,
           0.66,
           "https://open.spotify.com/track/1kV6GsEtVGmPehcGpmYtnr",
           "Cluster 5"
          ],
          [
           "7MIzAYEVULbhSwP6vK1zVH",
           "Oh Chuva",
           0.7559999999999999,
           0.759,
           127.963,
           0.8690000000000001,
           "https://open.spotify.com/track/7MIzAYEVULbhSwP6vK1zVH",
           "Cluster 5"
          ],
          [
           "78gWMNi0b8lgSgVe0U0AMX",
           "House of Fun - 2000 Remastered Version",
           0.725,
           0.934,
           127.39,
           0.985,
           "https://open.spotify.com/track/78gWMNi0b8lgSgVe0U0AMX",
           "Cluster 5"
          ],
          [
           "4Y7XAxTANhu3lmnLAzhWJW",
           "Fireball (feat. John Ryan)",
           0.7609999999999999,
           0.9329999999999999,
           122.959,
           0.836,
           "https://open.spotify.com/track/4Y7XAxTANhu3lmnLAzhWJW",
           "Cluster 5"
          ],
          [
           "6M6UoxIPn4NOWW0x7JPRfv",
           "Young Folks",
           0.701,
           0.815,
           138.142,
           0.67,
           "https://open.spotify.com/track/6M6UoxIPn4NOWW0x7JPRfv",
           "Cluster 5"
          ],
          [
           "6IvKz4Ax11LsLA0X0bPkqD",
           "Ai, Ai, Ai...",
           0.643,
           0.6729999999999999,
           130.108,
           0.9159999999999999,
           "https://open.spotify.com/track/6IvKz4Ax11LsLA0X0bPkqD",
           "Cluster 5"
          ],
          [
           "1Ng1cdcIdXqt3ouDhpw477",
           "Sunshine Reggae - 2008 Remaster",
           0.7340000000000001,
           0.708,
           167.49900000000002,
           0.893,
           "https://open.spotify.com/track/1Ng1cdcIdXqt3ouDhpw477",
           "Cluster 5"
          ],
          [
           "3SBypTHvrB7Dc7Jai9FmI1",
           "Cérebro Eletrônico",
           0.414,
           0.815,
           122.805,
           0.9259999999999999,
           "https://open.spotify.com/track/3SBypTHvrB7Dc7Jai9FmI1",
           "Cluster 5"
          ],
          [
           "0n2SEXB2qoRQg171q7XqeW",
           "Smooth (feat. Rob Thomas)",
           0.609,
           0.9229999999999999,
           115.99600000000001,
           0.961,
           "https://open.spotify.com/track/0n2SEXB2qoRQg171q7XqeW",
           "Cluster 5"
          ],
          [
           "6I9VzXrHxO9rA9A5euc8Ak",
           "Toxic",
           0.774,
           0.838,
           143.04,
           0.924,
           "https://open.spotify.com/track/6I9VzXrHxO9rA9A5euc8Ak",
           "Cluster 5"
          ],
          [
           "1RJeiAIwR9pZBgJA8ndZLL",
           "Paint It, Black - Mono",
           0.505,
           0.836,
           159.66899999999998,
           0.764,
           "https://open.spotify.com/track/1RJeiAIwR9pZBgJA8ndZLL",
           "Cluster 5"
          ],
          [
           "5mhUPDWQH3s544WCsa0r9w",
           "Human",
           0.547,
           0.8370000000000001,
           135.47,
           0.568,
           "https://open.spotify.com/track/5mhUPDWQH3s544WCsa0r9w",
           "Cluster 5"
          ],
          [
           "0aJzrpwqEdGZQsSHLvbbpz",
           "Vou Deixar",
           0.509,
           0.846,
           135.844,
           0.753,
           "https://open.spotify.com/track/0aJzrpwqEdGZQsSHLvbbpz",
           "Cluster 5"
          ],
          [
           "6xGoLwsVOwcxg5LYuUwz8D",
           "Three Little Birds",
           0.6509999999999999,
           0.5920000000000001,
           148.131,
           0.711,
           "https://open.spotify.com/track/6xGoLwsVOwcxg5LYuUwz8D",
           "Cluster 5"
          ],
          [
           "2DKuUrwCGwfRQBzIiSAKRi",
           "Bete balanço - Ao vivo",
           0.5770000000000001,
           0.9329999999999999,
           124.09100000000001,
           0.794,
           "https://open.spotify.com/track/2DKuUrwCGwfRQBzIiSAKRi",
           "Cluster 5"
          ],
          [
           "4uQcu4YZSma1ZA8OUazmW9",
           "I Kissed A Girl",
           0.6990000000000001,
           0.76,
           129.996,
           0.696,
           "https://open.spotify.com/track/4uQcu4YZSma1ZA8OUazmW9",
           "Cluster 5"
          ],
          [
           "5uPYEStMW3KsXnnLV7iCTw",
           "Johnny B Goode - 2002 Remaster",
           0.7490000000000001,
           0.8490000000000001,
           145.16899999999998,
           0.9590000000000001,
           "https://open.spotify.com/track/5uPYEStMW3KsXnnLV7iCTw",
           "Cluster 5"
          ],
          [
           "058VOmj2vkyItyKHFLc8vF",
           "Da Ya Think I'm Sexy",
           0.759,
           0.815,
           112.006,
           0.917,
           "https://open.spotify.com/track/058VOmj2vkyItyKHFLc8vF",
           "Cluster 5"
          ],
          [
           "0J6mQxEZnlRt9ymzFntA6z",
           "Livin' On A Prayer",
           0.534,
           0.887,
           122.494,
           0.72,
           "https://open.spotify.com/track/0J6mQxEZnlRt9ymzFntA6z",
           "Cluster 5"
          ],
          [
           "5xC8uOesnn0udeXAYlAnoY",
           "Alright",
           0.467,
           0.958,
           145.92,
           0.701,
           "https://open.spotify.com/track/5xC8uOesnn0udeXAYlAnoY",
           "Cluster 5"
          ],
          [
           "4z5vQIvJg32wmmIGFsmKMx",
           "Minha Tribo Sou Eu",
           0.654,
           0.885,
           138.987,
           0.684,
           "https://open.spotify.com/track/4z5vQIvJg32wmmIGFsmKMx",
           "Cluster 5"
          ],
          [
           "6I7GpxOjlDzO1Iur14FEfy",
           "Óculos",
           0.5329999999999999,
           0.701,
           181.372,
           0.912,
           "https://open.spotify.com/track/6I7GpxOjlDzO1Iur14FEfy",
           "Cluster 5"
          ],
          [
           "7KkzVlps826NezcpXPvEuV",
           "Johnny B. Goode",
           0.502,
           0.9309999999999999,
           166.407,
           0.903,
           "https://open.spotify.com/track/7KkzVlps826NezcpXPvEuV",
           "Cluster 5"
          ],
          [
           "5CeL9C3bsoe4yzYS1Qz8cw",
           "Girls and Boys",
           0.693,
           0.875,
           120.04799999999999,
           0.9009999999999999,
           "https://open.spotify.com/track/5CeL9C3bsoe4yzYS1Qz8cw",
           "Cluster 5"
          ],
          [
           "3z5ggGtcs4t8pizW521gW9",
           "Pretend We're Dead",
           0.569,
           0.7879999999999999,
           115.15100000000001,
           0.9129999999999999,
           "https://open.spotify.com/track/3z5ggGtcs4t8pizW521gW9",
           "Cluster 5"
          ],
          [
           "3KYiA4vq6RPO1dE2XROXd8",
           "You Give Love A Bad Name",
           0.537,
           0.9590000000000001,
           122.806,
           0.828,
           "https://open.spotify.com/track/3KYiA4vq6RPO1dE2XROXd8",
           "Cluster 5"
          ],
          [
           "38bDGWuyYdSdNfrFfbCiVS",
           "We Didn't Start the Fire",
           0.711,
           0.9670000000000001,
           145.024,
           0.892,
           "https://open.spotify.com/track/38bDGWuyYdSdNfrFfbCiVS",
           "Cluster 5"
          ],
          [
           "77QC2Lgrj6PG7H4HI6yNzS",
           "Meu Guarda-Chuva",
           0.787,
           0.612,
           154.033,
           0.892,
           "https://open.spotify.com/track/77QC2Lgrj6PG7H4HI6yNzS",
           "Cluster 5"
          ],
          [
           "3qZaenSSBPkKTi8nJ48aKf",
           "Vamos fugir",
           0.627,
           0.7929999999999999,
           134.197,
           0.828,
           "https://open.spotify.com/track/3qZaenSSBPkKTi8nJ48aKf",
           "Cluster 5"
          ],
          [
           "5flYFbJweqUHlQjle7uRlI",
           "Que Beleza",
           0.507,
           0.547,
           160.879,
           0.905,
           "https://open.spotify.com/track/5flYFbJweqUHlQjle7uRlI",
           "Cluster 5"
          ],
          [
           "0iwo02NoGqyooxs81iEkz3",
           "The Ballad Of John And Yoko - Remastered 2009",
           0.654,
           0.862,
           135.11700000000002,
           0.956,
           "https://open.spotify.com/track/0iwo02NoGqyooxs81iEkz3",
           "Cluster 5"
          ],
          [
           "0JmNkza8Oax92TF7lJV8GZ",
           "Cara valente",
           0.738,
           0.56,
           157.946,
           0.645,
           "https://open.spotify.com/track/0JmNkza8Oax92TF7lJV8GZ",
           "Cluster 5"
          ],
          [
           "6yl8Es1tCYD9WdSkeVLFw4",
           "You Shook Me All Night Long",
           0.529,
           0.768,
           127.316,
           0.769,
           "https://open.spotify.com/track/6yl8Es1tCYD9WdSkeVLFw4",
           "Cluster 5"
          ],
          [
           "26eOTllWPn7oKuDUJnsJwF",
           "The Sweet Escape",
           0.7559999999999999,
           0.77,
           119.961,
           0.73,
           "https://open.spotify.com/track/26eOTllWPn7oKuDUJnsJwF",
           "Cluster 5"
          ],
          [
           "3CRDbSIZ4r5MsZ0YwxuEkn",
           "Stressed Out",
           0.7340000000000001,
           0.637,
           169.977,
           0.648,
           "https://open.spotify.com/track/3CRDbSIZ4r5MsZ0YwxuEkn",
           "Cluster 5"
          ],
          [
           "5Wl9fPpzcNSE72hJAOuG3R",
           "Tropicana (Morena Tropicana)",
           0.6409999999999999,
           0.802,
           134.11,
           0.759,
           "https://open.spotify.com/track/5Wl9fPpzcNSE72hJAOuG3R",
           "Cluster 5"
          ],
          [
           "6g1NlCpW7fgqDnWbCCDrHl",
           "Wake Me Up - Radio Edit",
           0.532,
           0.7829999999999999,
           124.08,
           0.643,
           "https://open.spotify.com/track/6g1NlCpW7fgqDnWbCCDrHl",
           "Cluster 5"
          ],
          [
           "63vL5oxWrlvaJ0ayNaQnbX",
           "Istanbul (Not Constantinople)",
           0.688,
           0.748,
           114.14399999999999,
           0.892,
           "https://open.spotify.com/track/63vL5oxWrlvaJ0ayNaQnbX",
           "Cluster 5"
          ],
          [
           "3Kc1TDpaMfq6DBt4Gz3Pq1",
           "Firework",
           0.638,
           0.8320000000000001,
           124.071,
           0.648,
           "https://open.spotify.com/track/3Kc1TDpaMfq6DBt4Gz3Pq1",
           "Cluster 5"
          ],
          [
           "6zBw2Qqqj2daIoST9XIJC4",
           "Ai, Ai, Ai...",
           0.64,
           0.718,
           130.119,
           0.92,
           "https://open.spotify.com/track/6zBw2Qqqj2daIoST9XIJC4",
           "Cluster 5"
          ],
          [
           "3sw1PM6wj5aUq3kDrHJsk8",
           "Shiny Happy People",
           0.45299999999999996,
           0.9079999999999999,
           124.59200000000001,
           0.74,
           "https://open.spotify.com/track/3sw1PM6wj5aUq3kDrHJsk8",
           "Cluster 5"
          ],
          [
           "4D3HlCklYQQgTEuPDso96G",
           "Exagerado 3.0",
           0.5660000000000001,
           0.878,
           136.02700000000002,
           0.725,
           "https://open.spotify.com/track/4D3HlCklYQQgTEuPDso96G",
           "Cluster 5"
          ],
          [
           "3ydfhgIZIc2j39NLIhpJpq",
           "Fuck You",
           0.693,
           0.879,
           127.45700000000001,
           0.753,
           "https://open.spotify.com/track/3ydfhgIZIc2j39NLIhpJpq",
           "Cluster 5"
          ],
          [
           "1gKmnrz6SzJlGMNRKBLx1V",
           "One Way Or Another",
           0.47,
           0.7959999999999999,
           161.414,
           0.909,
           "https://open.spotify.com/track/1gKmnrz6SzJlGMNRKBLx1V",
           "Cluster 5"
          ],
          [
           "7DoBn08dqKS9MmtZiZChVD",
           "Garota Nacional",
           0.86,
           0.768,
           130.108,
           0.81,
           "https://open.spotify.com/track/7DoBn08dqKS9MmtZiZChVD",
           "Cluster 5"
          ],
          [
           "7dxK6RSoCWZcb5gobxs1h9",
           "Vamos Fugir",
           0.6,
           0.752,
           135.98,
           0.735,
           "https://open.spotify.com/track/7dxK6RSoCWZcb5gobxs1h9",
           "Cluster 5"
          ]
         ],
         "hoverlabel": {
          "namelength": 0
         },
         "hovertemplate": "Cluster=%{customdata[7]}<br>track_id=%{customdata[0]}<br>track_name=%{customdata[1]}<br>danceability=%{customdata[2]}<br>energy=%{customdata[3]}<br>tempo=%{customdata[4]}<br>valence=%{customdata[5]}<br>url=%{customdata[6]}",
         "legendgroup": "Cluster=Cluster 5",
         "marker": {
          "color": "#19d3f3"
         },
         "name": "Cluster=Cluster 5",
         "notched": true,
         "offsetgroup": "Cluster=Cluster 5",
         "showlegend": false,
         "type": "box",
         "x": [
          "Cluster 5",
          "Cluster 5",
          "Cluster 5",
          "Cluster 5",
          "Cluster 5",
          "Cluster 5",
          "Cluster 5",
          "Cluster 5",
          "Cluster 5",
          "Cluster 5",
          "Cluster 5",
          "Cluster 5",
          "Cluster 5",
          "Cluster 5",
          "Cluster 5",
          "Cluster 5",
          "Cluster 5",
          "Cluster 5",
          "Cluster 5",
          "Cluster 5",
          "Cluster 5",
          "Cluster 5",
          "Cluster 5",
          "Cluster 5",
          "Cluster 5",
          "Cluster 5",
          "Cluster 5",
          "Cluster 5",
          "Cluster 5",
          "Cluster 5",
          "Cluster 5",
          "Cluster 5",
          "Cluster 5",
          "Cluster 5",
          "Cluster 5",
          "Cluster 5",
          "Cluster 5",
          "Cluster 5",
          "Cluster 5",
          "Cluster 5",
          "Cluster 5",
          "Cluster 5",
          "Cluster 5",
          "Cluster 5",
          "Cluster 5",
          "Cluster 5",
          "Cluster 5",
          "Cluster 5",
          "Cluster 5",
          "Cluster 5",
          "Cluster 5",
          "Cluster 5",
          "Cluster 5",
          "Cluster 5",
          "Cluster 5",
          "Cluster 5",
          "Cluster 5",
          "Cluster 5",
          "Cluster 5",
          "Cluster 5"
         ],
         "xaxis": "x2",
         "yaxis": "y2"
        }
       ],
       "layout": {
        "barmode": "relative",
        "legend": {
         "tracegroupgap": 0
        },
        "margin": {
         "t": 60
        },
        "template": {
         "data": {
          "bar": [
           {
            "error_x": {
             "color": "#2a3f5f"
            },
            "error_y": {
             "color": "#2a3f5f"
            },
            "marker": {
             "line": {
              "color": "#E5ECF6",
              "width": 0.5
             }
            },
            "type": "bar"
           }
          ],
          "barpolar": [
           {
            "marker": {
             "line": {
              "color": "#E5ECF6",
              "width": 0.5
             }
            },
            "type": "barpolar"
           }
          ],
          "carpet": [
           {
            "aaxis": {
             "endlinecolor": "#2a3f5f",
             "gridcolor": "white",
             "linecolor": "white",
             "minorgridcolor": "white",
             "startlinecolor": "#2a3f5f"
            },
            "baxis": {
             "endlinecolor": "#2a3f5f",
             "gridcolor": "white",
             "linecolor": "white",
             "minorgridcolor": "white",
             "startlinecolor": "#2a3f5f"
            },
            "type": "carpet"
           }
          ],
          "choropleth": [
           {
            "colorbar": {
             "outlinewidth": 0,
             "ticks": ""
            },
            "type": "choropleth"
           }
          ],
          "contour": [
           {
            "colorbar": {
             "outlinewidth": 0,
             "ticks": ""
            },
            "colorscale": [
             [
              0,
              "#0d0887"
             ],
             [
              0.1111111111111111,
              "#46039f"
             ],
             [
              0.2222222222222222,
              "#7201a8"
             ],
             [
              0.3333333333333333,
              "#9c179e"
             ],
             [
              0.4444444444444444,
              "#bd3786"
             ],
             [
              0.5555555555555556,
              "#d8576b"
             ],
             [
              0.6666666666666666,
              "#ed7953"
             ],
             [
              0.7777777777777778,
              "#fb9f3a"
             ],
             [
              0.8888888888888888,
              "#fdca26"
             ],
             [
              1,
              "#f0f921"
             ]
            ],
            "type": "contour"
           }
          ],
          "contourcarpet": [
           {
            "colorbar": {
             "outlinewidth": 0,
             "ticks": ""
            },
            "type": "contourcarpet"
           }
          ],
          "heatmap": [
           {
            "colorbar": {
             "outlinewidth": 0,
             "ticks": ""
            },
            "colorscale": [
             [
              0,
              "#0d0887"
             ],
             [
              0.1111111111111111,
              "#46039f"
             ],
             [
              0.2222222222222222,
              "#7201a8"
             ],
             [
              0.3333333333333333,
              "#9c179e"
             ],
             [
              0.4444444444444444,
              "#bd3786"
             ],
             [
              0.5555555555555556,
              "#d8576b"
             ],
             [
              0.6666666666666666,
              "#ed7953"
             ],
             [
              0.7777777777777778,
              "#fb9f3a"
             ],
             [
              0.8888888888888888,
              "#fdca26"
             ],
             [
              1,
              "#f0f921"
             ]
            ],
            "type": "heatmap"
           }
          ],
          "heatmapgl": [
           {
            "colorbar": {
             "outlinewidth": 0,
             "ticks": ""
            },
            "colorscale": [
             [
              0,
              "#0d0887"
             ],
             [
              0.1111111111111111,
              "#46039f"
             ],
             [
              0.2222222222222222,
              "#7201a8"
             ],
             [
              0.3333333333333333,
              "#9c179e"
             ],
             [
              0.4444444444444444,
              "#bd3786"
             ],
             [
              0.5555555555555556,
              "#d8576b"
             ],
             [
              0.6666666666666666,
              "#ed7953"
             ],
             [
              0.7777777777777778,
              "#fb9f3a"
             ],
             [
              0.8888888888888888,
              "#fdca26"
             ],
             [
              1,
              "#f0f921"
             ]
            ],
            "type": "heatmapgl"
           }
          ],
          "histogram": [
           {
            "marker": {
             "colorbar": {
              "outlinewidth": 0,
              "ticks": ""
             }
            },
            "type": "histogram"
           }
          ],
          "histogram2d": [
           {
            "colorbar": {
             "outlinewidth": 0,
             "ticks": ""
            },
            "colorscale": [
             [
              0,
              "#0d0887"
             ],
             [
              0.1111111111111111,
              "#46039f"
             ],
             [
              0.2222222222222222,
              "#7201a8"
             ],
             [
              0.3333333333333333,
              "#9c179e"
             ],
             [
              0.4444444444444444,
              "#bd3786"
             ],
             [
              0.5555555555555556,
              "#d8576b"
             ],
             [
              0.6666666666666666,
              "#ed7953"
             ],
             [
              0.7777777777777778,
              "#fb9f3a"
             ],
             [
              0.8888888888888888,
              "#fdca26"
             ],
             [
              1,
              "#f0f921"
             ]
            ],
            "type": "histogram2d"
           }
          ],
          "histogram2dcontour": [
           {
            "colorbar": {
             "outlinewidth": 0,
             "ticks": ""
            },
            "colorscale": [
             [
              0,
              "#0d0887"
             ],
             [
              0.1111111111111111,
              "#46039f"
             ],
             [
              0.2222222222222222,
              "#7201a8"
             ],
             [
              0.3333333333333333,
              "#9c179e"
             ],
             [
              0.4444444444444444,
              "#bd3786"
             ],
             [
              0.5555555555555556,
              "#d8576b"
             ],
             [
              0.6666666666666666,
              "#ed7953"
             ],
             [
              0.7777777777777778,
              "#fb9f3a"
             ],
             [
              0.8888888888888888,
              "#fdca26"
             ],
             [
              1,
              "#f0f921"
             ]
            ],
            "type": "histogram2dcontour"
           }
          ],
          "mesh3d": [
           {
            "colorbar": {
             "outlinewidth": 0,
             "ticks": ""
            },
            "type": "mesh3d"
           }
          ],
          "parcoords": [
           {
            "line": {
             "colorbar": {
              "outlinewidth": 0,
              "ticks": ""
             }
            },
            "type": "parcoords"
           }
          ],
          "pie": [
           {
            "automargin": true,
            "type": "pie"
           }
          ],
          "scatter": [
           {
            "marker": {
             "colorbar": {
              "outlinewidth": 0,
              "ticks": ""
             }
            },
            "type": "scatter"
           }
          ],
          "scatter3d": [
           {
            "line": {
             "colorbar": {
              "outlinewidth": 0,
              "ticks": ""
             }
            },
            "marker": {
             "colorbar": {
              "outlinewidth": 0,
              "ticks": ""
             }
            },
            "type": "scatter3d"
           }
          ],
          "scattercarpet": [
           {
            "marker": {
             "colorbar": {
              "outlinewidth": 0,
              "ticks": ""
             }
            },
            "type": "scattercarpet"
           }
          ],
          "scattergeo": [
           {
            "marker": {
             "colorbar": {
              "outlinewidth": 0,
              "ticks": ""
             }
            },
            "type": "scattergeo"
           }
          ],
          "scattergl": [
           {
            "marker": {
             "colorbar": {
              "outlinewidth": 0,
              "ticks": ""
             }
            },
            "type": "scattergl"
           }
          ],
          "scattermapbox": [
           {
            "marker": {
             "colorbar": {
              "outlinewidth": 0,
              "ticks": ""
             }
            },
            "type": "scattermapbox"
           }
          ],
          "scatterpolar": [
           {
            "marker": {
             "colorbar": {
              "outlinewidth": 0,
              "ticks": ""
             }
            },
            "type": "scatterpolar"
           }
          ],
          "scatterpolargl": [
           {
            "marker": {
             "colorbar": {
              "outlinewidth": 0,
              "ticks": ""
             }
            },
            "type": "scatterpolargl"
           }
          ],
          "scatterternary": [
           {
            "marker": {
             "colorbar": {
              "outlinewidth": 0,
              "ticks": ""
             }
            },
            "type": "scatterternary"
           }
          ],
          "surface": [
           {
            "colorbar": {
             "outlinewidth": 0,
             "ticks": ""
            },
            "colorscale": [
             [
              0,
              "#0d0887"
             ],
             [
              0.1111111111111111,
              "#46039f"
             ],
             [
              0.2222222222222222,
              "#7201a8"
             ],
             [
              0.3333333333333333,
              "#9c179e"
             ],
             [
              0.4444444444444444,
              "#bd3786"
             ],
             [
              0.5555555555555556,
              "#d8576b"
             ],
             [
              0.6666666666666666,
              "#ed7953"
             ],
             [
              0.7777777777777778,
              "#fb9f3a"
             ],
             [
              0.8888888888888888,
              "#fdca26"
             ],
             [
              1,
              "#f0f921"
             ]
            ],
            "type": "surface"
           }
          ],
          "table": [
           {
            "cells": {
             "fill": {
              "color": "#EBF0F8"
             },
             "line": {
              "color": "white"
             }
            },
            "header": {
             "fill": {
              "color": "#C8D4E3"
             },
             "line": {
              "color": "white"
             }
            },
            "type": "table"
           }
          ]
         },
         "layout": {
          "annotationdefaults": {
           "arrowcolor": "#2a3f5f",
           "arrowhead": 0,
           "arrowwidth": 1
          },
          "coloraxis": {
           "colorbar": {
            "outlinewidth": 0,
            "ticks": ""
           }
          },
          "colorscale": {
           "diverging": [
            [
             0,
             "#8e0152"
            ],
            [
             0.1,
             "#c51b7d"
            ],
            [
             0.2,
             "#de77ae"
            ],
            [
             0.3,
             "#f1b6da"
            ],
            [
             0.4,
             "#fde0ef"
            ],
            [
             0.5,
             "#f7f7f7"
            ],
            [
             0.6,
             "#e6f5d0"
            ],
            [
             0.7,
             "#b8e186"
            ],
            [
             0.8,
             "#7fbc41"
            ],
            [
             0.9,
             "#4d9221"
            ],
            [
             1,
             "#276419"
            ]
           ],
           "sequential": [
            [
             0,
             "#0d0887"
            ],
            [
             0.1111111111111111,
             "#46039f"
            ],
            [
             0.2222222222222222,
             "#7201a8"
            ],
            [
             0.3333333333333333,
             "#9c179e"
            ],
            [
             0.4444444444444444,
             "#bd3786"
            ],
            [
             0.5555555555555556,
             "#d8576b"
            ],
            [
             0.6666666666666666,
             "#ed7953"
            ],
            [
             0.7777777777777778,
             "#fb9f3a"
            ],
            [
             0.8888888888888888,
             "#fdca26"
            ],
            [
             1,
             "#f0f921"
            ]
           ],
           "sequentialminus": [
            [
             0,
             "#0d0887"
            ],
            [
             0.1111111111111111,
             "#46039f"
            ],
            [
             0.2222222222222222,
             "#7201a8"
            ],
            [
             0.3333333333333333,
             "#9c179e"
            ],
            [
             0.4444444444444444,
             "#bd3786"
            ],
            [
             0.5555555555555556,
             "#d8576b"
            ],
            [
             0.6666666666666666,
             "#ed7953"
            ],
            [
             0.7777777777777778,
             "#fb9f3a"
            ],
            [
             0.8888888888888888,
             "#fdca26"
            ],
            [
             1,
             "#f0f921"
            ]
           ]
          },
          "colorway": [
           "#636efa",
           "#EF553B",
           "#00cc96",
           "#ab63fa",
           "#FFA15A",
           "#19d3f3",
           "#FF6692",
           "#B6E880",
           "#FF97FF",
           "#FECB52"
          ],
          "font": {
           "color": "#2a3f5f"
          },
          "geo": {
           "bgcolor": "white",
           "lakecolor": "white",
           "landcolor": "#E5ECF6",
           "showlakes": true,
           "showland": true,
           "subunitcolor": "white"
          },
          "hoverlabel": {
           "align": "left"
          },
          "hovermode": "closest",
          "mapbox": {
           "style": "light"
          },
          "paper_bgcolor": "white",
          "plot_bgcolor": "#E5ECF6",
          "polar": {
           "angularaxis": {
            "gridcolor": "white",
            "linecolor": "white",
            "ticks": ""
           },
           "bgcolor": "#E5ECF6",
           "radialaxis": {
            "gridcolor": "white",
            "linecolor": "white",
            "ticks": ""
           }
          },
          "scene": {
           "xaxis": {
            "backgroundcolor": "#E5ECF6",
            "gridcolor": "white",
            "gridwidth": 2,
            "linecolor": "white",
            "showbackground": true,
            "ticks": "",
            "zerolinecolor": "white"
           },
           "yaxis": {
            "backgroundcolor": "#E5ECF6",
            "gridcolor": "white",
            "gridwidth": 2,
            "linecolor": "white",
            "showbackground": true,
            "ticks": "",
            "zerolinecolor": "white"
           },
           "zaxis": {
            "backgroundcolor": "#E5ECF6",
            "gridcolor": "white",
            "gridwidth": 2,
            "linecolor": "white",
            "showbackground": true,
            "ticks": "",
            "zerolinecolor": "white"
           }
          },
          "shapedefaults": {
           "line": {
            "color": "#2a3f5f"
           }
          },
          "ternary": {
           "aaxis": {
            "gridcolor": "white",
            "linecolor": "white",
            "ticks": ""
           },
           "baxis": {
            "gridcolor": "white",
            "linecolor": "white",
            "ticks": ""
           },
           "bgcolor": "#E5ECF6",
           "caxis": {
            "gridcolor": "white",
            "linecolor": "white",
            "ticks": ""
           }
          },
          "title": {
           "x": 0.05
          },
          "xaxis": {
           "automargin": true,
           "gridcolor": "white",
           "linecolor": "white",
           "ticks": "",
           "title": {
            "standoff": 15
           },
           "zerolinecolor": "white",
           "zerolinewidth": 2
          },
          "yaxis": {
           "automargin": true,
           "gridcolor": "white",
           "linecolor": "white",
           "ticks": "",
           "title": {
            "standoff": 15
           },
           "zerolinecolor": "white",
           "zerolinewidth": 2
          }
         }
        },
        "xaxis": {
         "anchor": "y",
         "categoryarray": [
          "Cluster 0",
          "Cluster 1",
          "Cluster 2",
          "Cluster 3",
          "Cluster 4",
          "Cluster 5"
         ],
         "categoryorder": "array",
         "domain": [
          0,
          1
         ],
         "title": {
          "text": "Cluster"
         }
        },
        "xaxis2": {
         "anchor": "y2",
         "domain": [
          0,
          1
         ],
         "matches": "x",
         "showgrid": true,
         "showticklabels": false
        },
        "yaxis": {
         "anchor": "x",
         "domain": [
          0,
          0.7326
         ],
         "title": {
          "text": "count"
         }
        },
        "yaxis2": {
         "anchor": "x2",
         "domain": [
          0.7426,
          1
         ],
         "matches": "y2",
         "showgrid": false,
         "showline": false,
         "showticklabels": false,
         "ticks": ""
        }
       }
      },
      "text/html": [
       "<div>\n",
       "        \n",
       "        \n",
       "            <div id=\"0f6933ab-197c-4322-9370-e3557f0c95b4\" class=\"plotly-graph-div\" style=\"height:525px; width:100%;\"></div>\n",
       "            <script type=\"text/javascript\">\n",
       "                require([\"plotly\"], function(Plotly) {\n",
       "                    window.PLOTLYENV=window.PLOTLYENV || {};\n",
       "                    \n",
       "                if (document.getElementById(\"0f6933ab-197c-4322-9370-e3557f0c95b4\")) {\n",
       "                    Plotly.newPlot(\n",
       "                        '0f6933ab-197c-4322-9370-e3557f0c95b4',\n",
       "                        [{\"alignmentgroup\": \"True\", \"bingroup\": \"x\", \"hoverlabel\": {\"namelength\": 0}, \"hovertemplate\": \"Cluster=%{x}<br>count=%{y}\", \"legendgroup\": \"Cluster=Cluster 0\", \"marker\": {\"color\": \"#636efa\", \"opacity\": 0.7}, \"name\": \"Cluster=Cluster 0\", \"offsetgroup\": \"Cluster=Cluster 0\", \"orientation\": \"v\", \"showlegend\": true, \"type\": \"histogram\", \"x\": [\"Cluster 0\", \"Cluster 0\", \"Cluster 0\", \"Cluster 0\", \"Cluster 0\", \"Cluster 0\", \"Cluster 0\", \"Cluster 0\", \"Cluster 0\", \"Cluster 0\", \"Cluster 0\", \"Cluster 0\", \"Cluster 0\", \"Cluster 0\", \"Cluster 0\", \"Cluster 0\", \"Cluster 0\", \"Cluster 0\", \"Cluster 0\", \"Cluster 0\", \"Cluster 0\", \"Cluster 0\", \"Cluster 0\", \"Cluster 0\", \"Cluster 0\", \"Cluster 0\", \"Cluster 0\", \"Cluster 0\", \"Cluster 0\", \"Cluster 0\", \"Cluster 0\", \"Cluster 0\", \"Cluster 0\", \"Cluster 0\", \"Cluster 0\", \"Cluster 0\", \"Cluster 0\", \"Cluster 0\", \"Cluster 0\", \"Cluster 0\", \"Cluster 0\", \"Cluster 0\", \"Cluster 0\", \"Cluster 0\", \"Cluster 0\", \"Cluster 0\", \"Cluster 0\", \"Cluster 0\"], \"xaxis\": \"x\", \"yaxis\": \"y\"}, {\"alignmentgroup\": \"True\", \"customdata\": [[\"4uYwlMp841PLJmj1gJJwIq\", \"Lay, Lady, Lay\", 0.52, 0.179, 155.746, 0.40700000000000003, \"https://open.spotify.com/track/4uYwlMp841PLJmj1gJJwIq\", \"Cluster 0\"], [\"4y6P6eic8hhTcFqtaV5ftn\", \"Carta Ao Tom 74\", 0.621, 0.369, 143.1, 0.517, \"https://open.spotify.com/track/4y6P6eic8hhTcFqtaV5ftn\", \"Cluster 0\"], [\"6nbyjI9tJUITph7LN7uZPj\", \"O Trem das 7 (Ao Vivo)\", 0.396, 0.47600000000000003, 122.02, 0.39399999999999996, \"https://open.spotify.com/track/6nbyjI9tJUITph7LN7uZPj\", \"Cluster 0\"], [\"1Ow7BwZB6NKfxham67mLH7\", \"Acontecimentos\", 0.634, 0.495, 137.879, 0.45399999999999996, \"https://open.spotify.com/track/1Ow7BwZB6NKfxham67mLH7\", \"Cluster 0\"], [\"5aGhtbviqUqjtno5vcUmCN\", \"Colo de Menina\", 0.654, 0.46399999999999997, 145.371, 0.72, \"https://open.spotify.com/track/5aGhtbviqUqjtno5vcUmCN\", \"Cluster 0\"], [\"0X3wPQutw80NtG4PQGolvT\", \"Let's Call the Whole Thing Off\", 0.644, 0.312, 123.396, 0.5820000000000001, \"https://open.spotify.com/track/0X3wPQutw80NtG4PQGolvT\", \"Cluster 0\"], [\"2kzEEsKiUPTvct5pGflQVF\", \"Greenback Boogie (Theme from \\\"Suits\\\")\", 0.629, 0.67, 142.997, 0.418, \"https://open.spotify.com/track/2kzEEsKiUPTvct5pGflQVF\", \"Cluster 0\"], [\"2Yk0HvfTaijA47aM0Fj88u\", \"Metamorfose Ambulante\", 0.498, 0.5870000000000001, 135.91299999999998, 0.597, \"https://open.spotify.com/track/2Yk0HvfTaijA47aM0Fj88u\", \"Cluster 0\"], [\"333v4s9EybUEFOY6ComIC2\", \"Amor e Sexo\", 0.6409999999999999, 0.37, 129.843, 0.17600000000000002, \"https://open.spotify.com/track/333v4s9EybUEFOY6ComIC2\", \"Cluster 0\"], [\"3YKptz29AsOlm7WAVnztBh\", \"Kiss from a Rose\", 0.583, 0.532, 131.741, 0.223, \"https://open.spotify.com/track/3YKptz29AsOlm7WAVnztBh\", \"Cluster 0\"], [\"6Nabz5Gsy80XL0MJoOmgF8\", \"Beds Are Burning - Remastered\", 0.754, 0.496, 119.186, 0.341, \"https://open.spotify.com/track/6Nabz5Gsy80XL0MJoOmgF8\", \"Cluster 0\"], [\"1BIDHSkkst8nckyBaHVP6A\", \"\\u00c1guas De Mar\\u00e7o\", 0.637, 0.551, 143.10399999999998, 0.46799999999999997, \"https://open.spotify.com/track/1BIDHSkkst8nckyBaHVP6A\", \"Cluster 0\"], [\"6mFkJmJqdDVQ1REhVfGgd1\", \"Wish You Were Here\", 0.48100000000000004, 0.262, 122.883, 0.375, \"https://open.spotify.com/track/6mFkJmJqdDVQ1REhVfGgd1\", \"Cluster 0\"], [\"5jrdCoLpJSvHHorevXBATy\", \"Dark Horse\", 0.645, 0.585, 131.931, 0.353, \"https://open.spotify.com/track/5jrdCoLpJSvHHorevXBATy\", \"Cluster 0\"], [\"44sw25l5s3dUQx38QQ4hix\", \"Summertime\", 0.3, 0.312, 180.549, 0.39399999999999996, \"https://open.spotify.com/track/44sw25l5s3dUQx38QQ4hix\", \"Cluster 0\"], [\"7f0jXNMu2xjQUtmKMuWhGA\", \"What's Up?\", 0.5660000000000001, 0.57, 134.537, 0.491, \"https://open.spotify.com/track/7f0jXNMu2xjQUtmKMuWhGA\", \"Cluster 0\"], [\"74I1z55PBTBkBC6Ay5ydf5\", \"Flores em voc\\u00ea\", 0.606, 0.278, 155.888, 0.763, \"https://open.spotify.com/track/74I1z55PBTBkBC6Ay5ydf5\", \"Cluster 0\"], [\"3XVBdLihbNbxUwZosxcGuJ\", \"If I Ain't Got You\", 0.609, 0.445, 118.39299999999999, 0.166, \"https://open.spotify.com/track/3XVBdLihbNbxUwZosxcGuJ\", \"Cluster 0\"], [\"7LjcQfRQtD7XYvjR1JKsZA\", \"Samba Da Bencao\", 0.5920000000000001, 0.371, 123.435, 0.534, \"https://open.spotify.com/track/7LjcQfRQtD7XYvjR1JKsZA\", \"Cluster 0\"], [\"401RZ4h6JrBHq8mzBDu9nQ\", \"Danny's Song\", 0.51, 0.442, 144.614, 0.517, \"https://open.spotify.com/track/401RZ4h6JrBHq8mzBDu9nQ\", \"Cluster 0\"], [\"5mnvqisoDJilY0uCEdT8rG\", \"Danny's Song\", 0.507, 0.198, 141.261, 0.601, \"https://open.spotify.com/track/5mnvqisoDJilY0uCEdT8rG\", \"Cluster 0\"], [\"2dR5WkrpwylTuT3jRWNufa\", \"Fly Me To The Moon - Remastered\", 0.67, 0.365, 119.344, 0.45, \"https://open.spotify.com/track/2dR5WkrpwylTuT3jRWNufa\", \"Cluster 0\"], [\"6oDPg7fXW3Ug3KmbafrXzA\", \"Wrecking Ball\", 0.466, 0.40299999999999997, 119.81, 0.337, \"https://open.spotify.com/track/6oDPg7fXW3Ug3KmbafrXzA\", \"Cluster 0\"], [\"4XYdH6H7haUCeEm9YezQ9K\", \"Ch\\u00e3o de Giz\", 0.667, 0.44, 143.843, 0.34, \"https://open.spotify.com/track/4XYdH6H7haUCeEm9YezQ9K\", \"Cluster 0\"], [\"3m6KkYKdnbffMpGd9Pm9FP\", \"Seven Nation Army\", 0.745, 0.466, 123.889, 0.303, \"https://open.spotify.com/track/3m6KkYKdnbffMpGd9Pm9FP\", \"Cluster 0\"], [\"7ytqdjooPEAa97QSu6NUHS\", \"Dream A Little Dream Of Me - Album Version With Introduction\", 0.45899999999999996, 0.322, 133.91, 0.331, \"https://open.spotify.com/track/7ytqdjooPEAa97QSu6NUHS\", \"Cluster 0\"], [\"1EzrEOXmMH3G43AXT1y7pA\", \"I'm Yours\", 0.6859999999999999, 0.457, 150.953, 0.718, \"https://open.spotify.com/track/1EzrEOXmMH3G43AXT1y7pA\", \"Cluster 0\"], [\"5TvE3pk05pyFIGdSY9j4DJ\", \"Say Something\", 0.40700000000000003, 0.147, 141.284, 0.0765, \"https://open.spotify.com/track/5TvE3pk05pyFIGdSY9j4DJ\", \"Cluster 0\"], [\"1JO1xLtVc8mWhIoE3YaCL0\", \"Happy Together\", 0.584, 0.36700000000000005, 120.175, 0.588, \"https://open.spotify.com/track/1JO1xLtVc8mWhIoE3YaCL0\", \"Cluster 0\"], [\"4SpqtLElDsO6KGbd4ub96Z\", \"Pela Luz dos Olhos Teus - Bonus Track\", 0.45299999999999996, 0.27699999999999997, 116.83200000000001, 0.779, \"https://open.spotify.com/track/4SpqtLElDsO6KGbd4ub96Z\", \"Cluster 0\"], [\"7KsQssGg3DaovFkd9Kbnc6\", \"Corcovado\", 0.517, 0.0854, 126.854, 0.391, \"https://open.spotify.com/track/7KsQssGg3DaovFkd9Kbnc6\", \"Cluster 0\"], [\"10igKaIKsSB6ZnWxPxPvKO\", \"Nothing Else Matters\", 0.5579999999999999, 0.364, 142.171, 0.17, \"https://open.spotify.com/track/10igKaIKsSB6ZnWxPxPvKO\", \"Cluster 0\"], [\"5HNCy40Ni5BZJFw1TKzRsC\", \"Comfortably Numb\", 0.47200000000000003, 0.366, 127.167, 0.171, \"https://open.spotify.com/track/5HNCy40Ni5BZJFw1TKzRsC\", \"Cluster 0\"], [\"4dIWbsYRqqTcLKf4bVU4kk\", \"Como Nossos Pais\", 0.51, 0.401, 143.942, 0.574, \"https://open.spotify.com/track/4dIWbsYRqqTcLKf4bVU4kk\", \"Cluster 0\"], [\"3YfiGjwBzBsDrYPqAJsD4z\", \"Kiss from a Rose - Acoustic\", 0.659, 0.40700000000000003, 119.321, 0.26899999999999996, \"https://open.spotify.com/track/3YfiGjwBzBsDrYPqAJsD4z\", \"Cluster 0\"], [\"40hrL4q3dxErnwzpIof6fc\", \"Crazy Mary (Remastered)\", 0.385, 0.465, 139.109, 0.10400000000000001, \"https://open.spotify.com/track/40hrL4q3dxErnwzpIof6fc\", \"Cluster 0\"], [\"5bIEpKwEFgJzB7U3gFaeKm\", \"Here Comes The Sun - Remastered 2009\", 0.557, 0.519, 129.157, 0.371, \"https://open.spotify.com/track/5bIEpKwEFgJzB7U3gFaeKm\", \"Cluster 0\"], [\"5TbwZ0OSuU1fGtQ8aTgiZP\", \"The Box, Pt. 1\", 0.672, 0.21600000000000003, 141.002, 0.268, \"https://open.spotify.com/track/5TbwZ0OSuU1fGtQ8aTgiZP\", \"Cluster 0\"], [\"1MDoll6jK4rrk2BcFRP5i7\", \"Hello\", 0.47100000000000003, 0.431, 157.98, 0.289, \"https://open.spotify.com/track/1MDoll6jK4rrk2BcFRP5i7\", \"Cluster 0\"], [\"4kLWjcI5IrMKELSngOhTJv\", \"Beija Eu\", 0.5429999999999999, 0.526, 159.093, 0.677, \"https://open.spotify.com/track/4kLWjcI5IrMKELSngOhTJv\", \"Cluster 0\"], [\"0OrE0VWVZuhOPHSjO7WhKD\", \"Voce Abusou\", 0.435, 0.209, 144.86700000000002, 0.522, \"https://open.spotify.com/track/0OrE0VWVZuhOPHSjO7WhKD\", \"Cluster 0\"], [\"3vFh4274hFZc3q2LoidsyK\", \"Somewhere Only We Know\", 0.314, 0.28600000000000003, 172.021, 0.278, \"https://open.spotify.com/track/3vFh4274hFZc3q2LoidsyK\", \"Cluster 0\"], [\"6Z1zJjEXLrszqTPol6bfFV\", \"Live And Let Die - Remastered 1993\", 0.41200000000000003, 0.39299999999999996, 154.241, 0.183, \"https://open.spotify.com/track/6Z1zJjEXLrszqTPol6bfFV\", \"Cluster 0\"], [\"3z8h0TU7ReDPLIbEnYhWZb\", \"Bohemian Rhapsody - 2011 Mix\", 0.39, 0.397, 144.031, 0.24600000000000002, \"https://open.spotify.com/track/3z8h0TU7ReDPLIbEnYhWZb\", \"Cluster 0\"], [\"589AelScFm0FYQ4VG1biJi\", \"The James Bond Theme (From \\\"Dr. No\\\")\", 0.43700000000000006, 0.5670000000000001, 130.14700000000002, 0.326, \"https://open.spotify.com/track/589AelScFm0FYQ4VG1biJi\", \"Cluster 0\"], [\"44hOGg1uFg1XJZGZYNwYmM\", \"Tainted Love\", 0.569, 0.402, 144.635, 0.696, \"https://open.spotify.com/track/44hOGg1uFg1XJZGZYNwYmM\", \"Cluster 0\"], [\"1HL90u8MrrXtqNonXYN5of\", \"Realla\", 0.628, 0.601, 129.98, 0.235, \"https://open.spotify.com/track/1HL90u8MrrXtqNonXYN5of\", \"Cluster 0\"], [\"4zzvMG8KrsykYtvFEJ99Cl\", \"Easy\", 0.506, 0.5539999999999999, 124.72399999999999, 0.375, \"https://open.spotify.com/track/4zzvMG8KrsykYtvFEJ99Cl\", \"Cluster 0\"]], \"hoverlabel\": {\"namelength\": 0}, \"hovertemplate\": \"Cluster=%{customdata[7]}<br>track_id=%{customdata[0]}<br>track_name=%{customdata[1]}<br>danceability=%{customdata[2]}<br>energy=%{customdata[3]}<br>tempo=%{customdata[4]}<br>valence=%{customdata[5]}<br>url=%{customdata[6]}\", \"legendgroup\": \"Cluster=Cluster 0\", \"marker\": {\"color\": \"#636efa\"}, \"name\": \"Cluster=Cluster 0\", \"notched\": true, \"offsetgroup\": \"Cluster=Cluster 0\", \"showlegend\": false, \"type\": \"box\", \"x\": [\"Cluster 0\", \"Cluster 0\", \"Cluster 0\", \"Cluster 0\", \"Cluster 0\", \"Cluster 0\", \"Cluster 0\", \"Cluster 0\", \"Cluster 0\", \"Cluster 0\", \"Cluster 0\", \"Cluster 0\", \"Cluster 0\", \"Cluster 0\", \"Cluster 0\", \"Cluster 0\", \"Cluster 0\", \"Cluster 0\", \"Cluster 0\", \"Cluster 0\", \"Cluster 0\", \"Cluster 0\", \"Cluster 0\", \"Cluster 0\", \"Cluster 0\", \"Cluster 0\", \"Cluster 0\", \"Cluster 0\", \"Cluster 0\", \"Cluster 0\", \"Cluster 0\", \"Cluster 0\", \"Cluster 0\", \"Cluster 0\", \"Cluster 0\", \"Cluster 0\", \"Cluster 0\", \"Cluster 0\", \"Cluster 0\", \"Cluster 0\", \"Cluster 0\", \"Cluster 0\", \"Cluster 0\", \"Cluster 0\", \"Cluster 0\", \"Cluster 0\", \"Cluster 0\", \"Cluster 0\"], \"xaxis\": \"x2\", \"yaxis\": \"y2\"}, {\"alignmentgroup\": \"True\", \"bingroup\": \"x\", \"hoverlabel\": {\"namelength\": 0}, \"hovertemplate\": \"Cluster=%{x}<br>count=%{y}\", \"legendgroup\": \"Cluster=Cluster 1\", \"marker\": {\"color\": \"#EF553B\", \"opacity\": 0.7}, \"name\": \"Cluster=Cluster 1\", \"offsetgroup\": \"Cluster=Cluster 1\", \"orientation\": \"v\", \"showlegend\": true, \"type\": \"histogram\", \"x\": [\"Cluster 1\", \"Cluster 1\", \"Cluster 1\", \"Cluster 1\", \"Cluster 1\", \"Cluster 1\", \"Cluster 1\", \"Cluster 1\", \"Cluster 1\", \"Cluster 1\", \"Cluster 1\", \"Cluster 1\", \"Cluster 1\", \"Cluster 1\", \"Cluster 1\", \"Cluster 1\", \"Cluster 1\", \"Cluster 1\", \"Cluster 1\", \"Cluster 1\", \"Cluster 1\", \"Cluster 1\", \"Cluster 1\", \"Cluster 1\", \"Cluster 1\", \"Cluster 1\", \"Cluster 1\", \"Cluster 1\", \"Cluster 1\", \"Cluster 1\", \"Cluster 1\", \"Cluster 1\", \"Cluster 1\", \"Cluster 1\", \"Cluster 1\", \"Cluster 1\", \"Cluster 1\", \"Cluster 1\", \"Cluster 1\", \"Cluster 1\", \"Cluster 1\", \"Cluster 1\", \"Cluster 1\", \"Cluster 1\", \"Cluster 1\", \"Cluster 1\", \"Cluster 1\", \"Cluster 1\", \"Cluster 1\", \"Cluster 1\", \"Cluster 1\", \"Cluster 1\", \"Cluster 1\", \"Cluster 1\", \"Cluster 1\", \"Cluster 1\", \"Cluster 1\", \"Cluster 1\", \"Cluster 1\"], \"xaxis\": \"x\", \"yaxis\": \"y\"}, {\"alignmentgroup\": \"True\", \"customdata\": [[\"72CPoBQn1XmRhJXS1Vy7O2\", \"We No Speak Americano (JT Radio Edit)\", 0.902, 0.805, 124.99600000000001, 0.737, \"https://open.spotify.com/track/72CPoBQn1XmRhJXS1Vy7O2\", \"Cluster 1\"], [\"5VwQYHpyQPhiToPKWJaHiO\", \"I Can't Dance\", 0.941, 0.49700000000000005, 107.552, 0.899, \"https://open.spotify.com/track/5VwQYHpyQPhiToPKWJaHiO\", \"Cluster 1\"], [\"0uqPG793dkDDN7sCUJJIVC\", \"Where Is The Love?\", 0.835, 0.687, 94.059, 0.828, \"https://open.spotify.com/track/0uqPG793dkDDN7sCUJJIVC\", \"Cluster 1\"], [\"1vxw6aYJls2oq3gW0DujAo\", \"Crazy\", 0.855, 0.5870000000000001, 111.97, 0.64, \"https://open.spotify.com/track/1vxw6aYJls2oq3gW0DujAo\", \"Cluster 1\"], [\"4AHU8QRdwCUWxPC53cw4Hh\", \"Whole Wide World\", 0.752, 0.54, 114.21700000000001, 0.882, \"https://open.spotify.com/track/4AHU8QRdwCUWxPC53cw4Hh\", \"Cluster 1\"], [\"0BCF5r2criwyGRSN3n36re\", \"Andar com f\\u00e9\", 0.774, 0.647, 95.098, 0.965, \"https://open.spotify.com/track/0BCF5r2criwyGRSN3n36re\", \"Cluster 1\"], [\"2udGjDmpK1dH9VGyw7nrei\", \"Cocaine\", 0.6990000000000001, 0.502, 105.26700000000001, 0.6759999999999999, \"https://open.spotify.com/track/2udGjDmpK1dH9VGyw7nrei\", \"Cluster 1\"], [\"36i9NcqbdQFdQfOROpIwMA\", \"Fico Assim Sem Voc\\u00ea\", 0.809, 0.428, 121.969, 0.507, \"https://open.spotify.com/track/36i9NcqbdQFdQfOROpIwMA\", \"Cluster 1\"], [\"36482hNESSwELpr9sS3NbE\", \"A Little Party Never Killed Nobody (All We Got)\", 0.7609999999999999, 0.619, 129.998, 0.516, \"https://open.spotify.com/track/36482hNESSwELpr9sS3NbE\", \"Cluster 1\"], [\"4gMgiXfqyzZLMhsksGmbQV\", \"Another Brick in the Wall, Pt. 2\", 0.6940000000000001, 0.39399999999999996, 104.126, 0.7190000000000001, \"https://open.spotify.com/track/4gMgiXfqyzZLMhsksGmbQV\", \"Cluster 1\"], [\"300RfAPZ57B0y6YYj9n6DN\", \"Superstition - Single Version\", 0.642, 0.735, 99.682, 0.8640000000000001, \"https://open.spotify.com/track/300RfAPZ57B0y6YYj9n6DN\", \"Cluster 1\"], [\"0p20xyAdYkaxAPWdXr0sir\", \"I Love Rock 'n' Roll\", 0.762, 0.48200000000000004, 94.009, 0.684, \"https://open.spotify.com/track/0p20xyAdYkaxAPWdXr0sir\", \"Cluster 1\"], [\"2zFdsAIk9r2Mi7Lmm1w3sM\", \"That's All - 2007 Remaster\", 0.6970000000000001, 0.627, 87.695, 0.797, \"https://open.spotify.com/track/2zFdsAIk9r2Mi7Lmm1w3sM\", \"Cluster 1\"], [\"1KU5EHSz04JhGg3rReGJ0N\", \"Black Velvet\", 0.754, 0.366, 91.147, 0.469, \"https://open.spotify.com/track/1KU5EHSz04JhGg3rReGJ0N\", \"Cluster 1\"], [\"6QgjcU0zLnzq5OrUoSZ3OK\", \"Feel It Still\", 0.8009999999999999, 0.795, 79.028, 0.754, \"https://open.spotify.com/track/6QgjcU0zLnzq5OrUoSZ3OK\", \"Cluster 1\"], [\"6c9FQiAlvzMaTc3HrLqSRx\", \"The Way You Look Tonight\", 0.8059999999999999, 0.485, 104.83200000000001, 0.8740000000000001, \"https://open.spotify.com/track/6c9FQiAlvzMaTc3HrLqSRx\", \"Cluster 1\"], [\"2PnNomkEqlg9ADKCVG0Wt0\", \"Every Breath You Take\", 0.8290000000000001, 0.434, 117.399, 0.721, \"https://open.spotify.com/track/2PnNomkEqlg9ADKCVG0Wt0\", \"Cluster 1\"], [\"0wfcNeRfE0Z7bTlTYmVKQC\", \"A Casa \\u00e9 Sua\", 0.68, 0.687, 79.517, 0.9490000000000001, \"https://open.spotify.com/track/0wfcNeRfE0Z7bTlTYmVKQC\", \"Cluster 1\"], [\"5ua6ByZaOw4hlMP6i8Vjdz\", \"T\\u00e1 perdoado\", 0.78, 0.5710000000000001, 102.02600000000001, 0.858, \"https://open.spotify.com/track/5ua6ByZaOw4hlMP6i8Vjdz\", \"Cluster 1\"], [\"7CdDIvw3jvjNaIs5m3mM4A\", \"La Belle De Jour\", 0.644, 0.40399999999999997, 105.06200000000001, 0.6890000000000001, \"https://open.spotify.com/track/7CdDIvw3jvjNaIs5m3mM4A\", \"Cluster 1\"], [\"2EYilkg1F79h8ch4f4Csii\", \"Segue o Som\", 0.7809999999999999, 0.544, 92.00200000000001, 0.688, \"https://open.spotify.com/track/2EYilkg1F79h8ch4f4Csii\", \"Cluster 1\"], [\"2ukW9zOr51AYeLSmCtTVqW\", \"N\\u00e3o Me Deixe S\\u00f3\", 0.731, 0.469, 107.09299999999999, 0.6409999999999999, \"https://open.spotify.com/track/2ukW9zOr51AYeLSmCtTVqW\", \"Cluster 1\"], [\"2IrdHGhifKDX6m2S8vHf1s\", \"A Message to You Rudy\", 0.9059999999999999, 0.45299999999999996, 102.98100000000001, 0.9690000000000001, \"https://open.spotify.com/track/2IrdHGhifKDX6m2S8vHf1s\", \"Cluster 1\"], [\"6i0V12jOa3mr6uu4WYhUBr\", \"Heathens\", 0.732, 0.396, 90.024, 0.5479999999999999, \"https://open.spotify.com/track/6i0V12jOa3mr6uu4WYhUBr\", \"Cluster 1\"], [\"2gE95JskwQ1pCACTpGe1Db\", \"Down On The Corner\", 0.858, 0.544, 108.21700000000001, 0.8740000000000001, \"https://open.spotify.com/track/2gE95JskwQ1pCACTpGe1Db\", \"Cluster 1\"], [\"371VkfwKiXJxgH5ZPoQNHD\", \"The Joker\", 0.596, 0.44799999999999995, 83.29299999999999, 0.7959999999999999, \"https://open.spotify.com/track/371VkfwKiXJxgH5ZPoQNHD\", \"Cluster 1\"], [\"4tb7A6O8cE2UzELRTwU3KZ\", \"S\\u00f3 Tinha De Ser Com Voc\\u00ea\", 0.807, 0.47600000000000003, 119.729, 0.46, \"https://open.spotify.com/track/4tb7A6O8cE2UzELRTwU3KZ\", \"Cluster 1\"], [\"6ZKlm17z22OxkzgemE4aos\", \"Addicted To Love\", 0.703, 0.579, 111.583, 0.973, \"https://open.spotify.com/track/6ZKlm17z22OxkzgemE4aos\", \"Cluster 1\"], [\"7HacxOP2pHeSv1OsraqmDA\", \"Do Lado de C\\u00e1\", 0.628, 0.46, 75.708, 0.677, \"https://open.spotify.com/track/7HacxOP2pHeSv1OsraqmDA\", \"Cluster 1\"], [\"3M5eeHXgG4VplKNcsBC8Dj\", \"Signed, Sealed, Delivered (I'm Yours)\", 0.67, 0.619, 108.82600000000001, 0.807, \"https://open.spotify.com/track/3M5eeHXgG4VplKNcsBC8Dj\", \"Cluster 1\"], [\"4VywXu6umkIQ2OS0m1I79y\", \"Better Together\", 0.868, 0.34700000000000003, 110.059, 0.659, \"https://open.spotify.com/track/4VywXu6umkIQ2OS0m1I79y\", \"Cluster 1\"], [\"3OkHIS1p4y2F8TdVKWZfod\", \"Juste un inconnu\", 0.8690000000000001, 0.38299999999999995, 129.02100000000002, 0.919, \"https://open.spotify.com/track/3OkHIS1p4y2F8TdVKWZfod\", \"Cluster 1\"], [\"4eJFgz99l1ppawgesG8RRV\", \"16 Toneladas\", 0.616, 0.52, 82.697, 0.938, \"https://open.spotify.com/track/4eJFgz99l1ppawgesG8RRV\", \"Cluster 1\"], [\"2LawezPeJhN4AWuSB0GtAU\", \"Have You Ever Seen The Rain\", 0.741, 0.6970000000000001, 116.109, 0.774, \"https://open.spotify.com/track/2LawezPeJhN4AWuSB0GtAU\", \"Cluster 1\"], [\"0bQLIdNVBA46reRFqeSz3y\", \"Mais Que Nada\", 0.649, 0.569, 88.95299999999999, 0.884, \"https://open.spotify.com/track/0bQLIdNVBA46reRFqeSz3y\", \"Cluster 1\"], [\"0CufeoNTkYAgTkTQsX7T5o\", \"Get Down On It - Single Version\", 0.879, 0.644, 110.87200000000001, 0.971, \"https://open.spotify.com/track/0CufeoNTkYAgTkTQsX7T5o\", \"Cluster 1\"], [\"5RFG9IVkzxE4LhObpIJncY\", \"Under My Thumb\", 0.73, 0.555, 126.959, 0.807, \"https://open.spotify.com/track/5RFG9IVkzxE4LhObpIJncY\", \"Cluster 1\"], [\"5xTt7WCmlfdSa9aP3MV56A\", \"One Note Samba\", 0.636, 0.209, 82.33200000000001, 0.731, \"https://open.spotify.com/track/5xTt7WCmlfdSa9aP3MV56A\", \"Cluster 1\"], [\"46gLyFY3qZAoXpulDt6dPq\", \"Respect\", 0.821, 0.496, 114.605, 0.955, \"https://open.spotify.com/track/46gLyFY3qZAoXpulDt6dPq\", \"Cluster 1\"], [\"6mPCZm2rCaTledoBjTqSRl\", \"All About That Bass - Live from Spotify London\", 0.775, 0.528, 135.197, 0.9329999999999999, \"https://open.spotify.com/track/6mPCZm2rCaTledoBjTqSRl\", \"Cluster 1\"], [\"76cWfrsIopzpOsWDPBjNJ7\", \"A Banda\", 0.723, 0.517, 118.554, 0.961, \"https://open.spotify.com/track/76cWfrsIopzpOsWDPBjNJ7\", \"Cluster 1\"], [\"2Z5d1taNoyOoxRQQDazMWR\", \"Samba Lel\\u00ea\", 0.894, 0.79, 96.024, 0.797, \"https://open.spotify.com/track/2Z5d1taNoyOoxRQQDazMWR\", \"Cluster 1\"], [\"0L7urInJWJwBXrVeunHwCU\", \"Aquele Abra\\u00e7o\", 0.48100000000000004, 0.621, 84.916, 0.951, \"https://open.spotify.com/track/0L7urInJWJwBXrVeunHwCU\", \"Cluster 1\"], [\"6OSUZBGoQJOhbSrmvLrNa8\", \"Space Cowboy\", 0.635, 0.5379999999999999, 110.805, 0.795, \"https://open.spotify.com/track/6OSUZBGoQJOhbSrmvLrNa8\", \"Cluster 1\"], [\"5uCdgBAqYPWQ2HGpJVGAeD\", \"Get Up I Feel Like Being A Sex Machine - Pt. 1 / Single Version\", 0.802, 0.6609999999999999, 107.774, 0.799, \"https://open.spotify.com/track/5uCdgBAqYPWQ2HGpJVGAeD\", \"Cluster 1\"], [\"0SrDqCmn2ClzEzNkAZYc2Y\", \"Bete Balan\\u00e7o\", 0.782, 0.705, 116.96700000000001, 0.902, \"https://open.spotify.com/track/0SrDqCmn2ClzEzNkAZYc2Y\", \"Cluster 1\"], [\"1N10tJPyQ70QcMLxhobSbJ\", \"O Mar Serenou\", 0.706, 0.52, 85.568, 0.94, \"https://open.spotify.com/track/1N10tJPyQ70QcMLxhobSbJ\", \"Cluster 1\"], [\"1U5zdT78JN2K5PPJEgyoLG\", \"Meu Erro\", 0.792, 0.506, 104.397, 0.9059999999999999, \"https://open.spotify.com/track/1U5zdT78JN2K5PPJEgyoLG\", \"Cluster 1\"], [\"3voQ4FSnDNKEKuBNeJjAR5\", \"Malemolencia\", 0.846, 0.564, 141.886, 0.637, \"https://open.spotify.com/track/3voQ4FSnDNKEKuBNeJjAR5\", \"Cluster 1\"], [\"6fR4It0y0RdwwjBRVIr405\", \"I Follow Rivers\", 0.596, 0.529, 110.03200000000001, 0.696, \"https://open.spotify.com/track/6fR4It0y0RdwwjBRVIr405\", \"Cluster 1\"], [\"4wMgrdT7euVj4GugqcKPz4\", \"Aqua de Beber\", 0.626, 0.52, 82.57, 0.76, \"https://open.spotify.com/track/4wMgrdT7euVj4GugqcKPz4\", \"Cluster 1\"], [\"4v4woUHljv9XQPSOSNwFcG\", \"S\\u00f3 Tinha De Ser Com Voce (Com Tom)\", 0.7959999999999999, 0.385, 119.932, 0.506, \"https://open.spotify.com/track/4v4woUHljv9XQPSOSNwFcG\", \"Cluster 1\"], [\"7lo43I6slQYrmMZQYb99PC\", \"A Visita\", 0.74, 0.581, 103.429, 0.9690000000000001, \"https://open.spotify.com/track/7lo43I6slQYrmMZQYb99PC\", \"Cluster 1\"], [\"6IBYNkdYt6UePLysFn6xu9\", \"O Que \\u00c9 O Que \\u00c9?\", 0.672, 0.6940000000000001, 111.829, 0.9390000000000001, \"https://open.spotify.com/track/6IBYNkdYt6UePLysFn6xu9\", \"Cluster 1\"], [\"5ed6a8Fanf7jNghrZboXlU\", \"Loving Every Minute\", 0.557, 0.528, 97.10799999999999, 0.72, \"https://open.spotify.com/track/5ed6a8Fanf7jNghrZboXlU\", \"Cluster 1\"], [\"0oxnbj3KvvMl5khReTSn59\", \"Wish You Were Here\", 0.7909999999999999, 0.569, 143.97799999999998, 0.5770000000000001, \"https://open.spotify.com/track/0oxnbj3KvvMl5khReTSn59\", \"Cluster 1\"], [\"2xGKkcdKQUyqKKfOhd58gP\", \"Stay\", 0.581, 0.525, 119.09, 0.652, \"https://open.spotify.com/track/2xGKkcdKQUyqKKfOhd58gP\", \"Cluster 1\"], [\"2zhHYs0W7I891mfT4KGJ4d\", \"Nosso Pequeno Castelo\", 0.773, 0.638, 108.962, 0.6970000000000001, \"https://open.spotify.com/track/2zhHYs0W7I891mfT4KGJ4d\", \"Cluster 1\"], [\"1TX4h6MrIZ0K3r4OOG11WO\", \"Flor de Lis\", 0.5489999999999999, 0.502, 85.79299999999999, 0.7809999999999999, \"https://open.spotify.com/track/1TX4h6MrIZ0K3r4OOG11WO\", \"Cluster 1\"]], \"hoverlabel\": {\"namelength\": 0}, \"hovertemplate\": \"Cluster=%{customdata[7]}<br>track_id=%{customdata[0]}<br>track_name=%{customdata[1]}<br>danceability=%{customdata[2]}<br>energy=%{customdata[3]}<br>tempo=%{customdata[4]}<br>valence=%{customdata[5]}<br>url=%{customdata[6]}\", \"legendgroup\": \"Cluster=Cluster 1\", \"marker\": {\"color\": \"#EF553B\"}, \"name\": \"Cluster=Cluster 1\", \"notched\": true, \"offsetgroup\": \"Cluster=Cluster 1\", \"showlegend\": false, \"type\": \"box\", \"x\": [\"Cluster 1\", \"Cluster 1\", \"Cluster 1\", \"Cluster 1\", \"Cluster 1\", \"Cluster 1\", \"Cluster 1\", \"Cluster 1\", \"Cluster 1\", \"Cluster 1\", \"Cluster 1\", \"Cluster 1\", \"Cluster 1\", \"Cluster 1\", \"Cluster 1\", \"Cluster 1\", \"Cluster 1\", \"Cluster 1\", \"Cluster 1\", \"Cluster 1\", \"Cluster 1\", \"Cluster 1\", \"Cluster 1\", \"Cluster 1\", \"Cluster 1\", \"Cluster 1\", \"Cluster 1\", \"Cluster 1\", \"Cluster 1\", \"Cluster 1\", \"Cluster 1\", \"Cluster 1\", \"Cluster 1\", \"Cluster 1\", \"Cluster 1\", \"Cluster 1\", \"Cluster 1\", \"Cluster 1\", \"Cluster 1\", \"Cluster 1\", \"Cluster 1\", \"Cluster 1\", \"Cluster 1\", \"Cluster 1\", \"Cluster 1\", \"Cluster 1\", \"Cluster 1\", \"Cluster 1\", \"Cluster 1\", \"Cluster 1\", \"Cluster 1\", \"Cluster 1\", \"Cluster 1\", \"Cluster 1\", \"Cluster 1\", \"Cluster 1\", \"Cluster 1\", \"Cluster 1\", \"Cluster 1\"], \"xaxis\": \"x2\", \"yaxis\": \"y2\"}, {\"alignmentgroup\": \"True\", \"bingroup\": \"x\", \"hoverlabel\": {\"namelength\": 0}, \"hovertemplate\": \"Cluster=%{x}<br>count=%{y}\", \"legendgroup\": \"Cluster=Cluster 2\", \"marker\": {\"color\": \"#00cc96\", \"opacity\": 0.7}, \"name\": \"Cluster=Cluster 2\", \"offsetgroup\": \"Cluster=Cluster 2\", \"orientation\": \"v\", \"showlegend\": true, \"type\": \"histogram\", \"x\": [\"Cluster 2\", \"Cluster 2\", \"Cluster 2\", \"Cluster 2\", \"Cluster 2\", \"Cluster 2\", \"Cluster 2\", \"Cluster 2\", \"Cluster 2\", \"Cluster 2\", \"Cluster 2\", \"Cluster 2\", \"Cluster 2\", \"Cluster 2\", \"Cluster 2\", \"Cluster 2\", \"Cluster 2\", \"Cluster 2\", \"Cluster 2\", \"Cluster 2\", \"Cluster 2\", \"Cluster 2\", \"Cluster 2\", \"Cluster 2\", \"Cluster 2\", \"Cluster 2\", \"Cluster 2\", \"Cluster 2\", \"Cluster 2\", \"Cluster 2\", \"Cluster 2\", \"Cluster 2\", \"Cluster 2\", \"Cluster 2\", \"Cluster 2\", \"Cluster 2\", \"Cluster 2\", \"Cluster 2\"], \"xaxis\": \"x\", \"yaxis\": \"y\"}, {\"alignmentgroup\": \"True\", \"customdata\": [[\"3INsYP1Y8GG4qJvBsKCdXC\", \"Don't Stop Me Now - ...Revisited\", 0.465, 0.917, 155.061, 0.39, \"https://open.spotify.com/track/3INsYP1Y8GG4qJvBsKCdXC\", \"Cluster 2\"], [\"0YwBZKT8JE4U5TwmYE9BV9\", \"Radio Ga Ga - Live Aid\", 0.406, 0.934, 118.823, 0.395, \"https://open.spotify.com/track/0YwBZKT8JE4U5TwmYE9BV9\", \"Cluster 2\"], [\"2fY6tqgrlrg1ky9fgs0t5u\", \"Wanted Dead Or Alive\", 0.257, 0.8029999999999999, 150.81799999999998, 0.294, \"https://open.spotify.com/track/2fY6tqgrlrg1ky9fgs0t5u\", \"Cluster 2\"], [\"1xNmF1Uep5OGutizZSbKvd\", \"One Of Us\", 0.316, 0.499, 174.782, 0.40299999999999997, \"https://open.spotify.com/track/1xNmF1Uep5OGutizZSbKvd\", \"Cluster 2\"], [\"2cZKVvZYfuoTtdha8FEGQi\", \"Relic\\u00e1rio - Ao Vivo\", 0.3, 0.7, 165.642, 0.39799999999999996, \"https://open.spotify.com/track/2cZKVvZYfuoTtdha8FEGQi\", \"Cluster 2\"], [\"34pz8XUZRfw04lk4DPtwa7\", \"Keep Yourself Alive - Live At The Rainbow\", 0.308, 0.975, 138.974, 0.295, \"https://open.spotify.com/track/34pz8XUZRfw04lk4DPtwa7\", \"Cluster 2\"], [\"2aksifNn5ph8igDOkPBA02\", \"Love On The Brain\", 0.509, 0.637, 172.00599999999997, 0.37799999999999995, \"https://open.spotify.com/track/2aksifNn5ph8igDOkPBA02\", \"Cluster 2\"], [\"2zJespNLwpMVcD8bPyaFef\", \"O Segundo Sol - Acoustic\", 0.424, 0.713, 151.281, 0.461, \"https://open.spotify.com/track/2zJespNLwpMVcD8bPyaFef\", \"Cluster 2\"], [\"1Q8lDjEzlTwATSZz2zgPd9\", \"Wen Uuu\", 0.674, 0.655, 174.014, 0.0597, \"https://open.spotify.com/track/1Q8lDjEzlTwATSZz2zgPd9\", \"Cluster 2\"], [\"2hlqCFahLVgdBIbY3yTrAb\", \"Rose's Thorn\", 0.537, 0.8590000000000001, 157.98, 0.21, \"https://open.spotify.com/track/2hlqCFahLVgdBIbY3yTrAb\", \"Cluster 2\"], [\"5VzvK7YiwWbRePA2JOzhYq\", \"Because the Night - MTV Unplugged Version\", 0.408, 0.79, 122.624, 0.34700000000000003, \"https://open.spotify.com/track/5VzvK7YiwWbRePA2JOzhYq\", \"Cluster 2\"], [\"3AnQw2w00WUDHMKmtXGvVx\", \"The Sea\", 0.535, 0.7609999999999999, 149.968, 0.248, \"https://open.spotify.com/track/3AnQw2w00WUDHMKmtXGvVx\", \"Cluster 2\"], [\"1mea3bSkSGXuIRvnydlB5b\", \"Viva La Vida\", 0.485, 0.619, 138.017, 0.41600000000000004, \"https://open.spotify.com/track/1mea3bSkSGXuIRvnydlB5b\", \"Cluster 2\"], [\"6Ha2gDoMVDHaRjxxoS6qZJ\", \"Here Tonight\", 0.557, 0.841, 127.977, 0.188, \"https://open.spotify.com/track/6Ha2gDoMVDHaRjxxoS6qZJ\", \"Cluster 2\"], [\"1FZ90IoWFZlubV6bjyyEwq\", \"Faded - Dash Berlin Remix\", 0.38799999999999996, 0.915, 127.823, 0.102, \"https://open.spotify.com/track/1FZ90IoWFZlubV6bjyyEwq\", \"Cluster 2\"], [\"5GjnIpUlLGEIYk052ISOw9\", \"This Is What It Feels Like\", 0.552, 0.831, 129.889, 0.14400000000000002, \"https://open.spotify.com/track/5GjnIpUlLGEIYk052ISOw9\", \"Cluster 2\"], [\"7ju9l3vOySwv0OQ3WuwwSq\", \"Shine Ibiza Anthem 2019\", 0.5489999999999999, 0.977, 137.991, 0.25, \"https://open.spotify.com/track/7ju9l3vOySwv0OQ3WuwwSq\", \"Cluster 2\"], [\"6Qyc6fS4DsZjB2mRW9DsQs\", \"Iris\", 0.315, 0.715, 155.925, 0.49700000000000005, \"https://open.spotify.com/track/6Qyc6fS4DsZjB2mRW9DsQs\", \"Cluster 2\"], [\"7wHiBFYJHp2MHjwyYV7xCZ\", \"Meu Lugar\", 0.32299999999999995, 0.655, 164.77, 0.657, \"https://open.spotify.com/track/7wHiBFYJHp2MHjwyYV7xCZ\", \"Cluster 2\"], [\"3k9i7UzeSUYWIfUZFeFDUd\", \"Layla - 40th Anniversary Version / 2010 Remastered\", 0.40399999999999997, 0.903, 115.67200000000001, 0.498, \"https://open.spotify.com/track/3k9i7UzeSUYWIfUZFeFDUd\", \"Cluster 2\"], [\"51sjYvAPyoR7CQB1NQUgXJ\", \"Sing\", 0.332, 0.9, 163.534, 0.243, \"https://open.spotify.com/track/51sjYvAPyoR7CQB1NQUgXJ\", \"Cluster 2\"], [\"7w9bgPAmPTtrkt2v16QWvQ\", \"Lose Yourself - From \\\"8 Mile\\\" Soundtrack\", 0.701, 0.728, 171.388, 0.0591, \"https://open.spotify.com/track/7w9bgPAmPTtrkt2v16QWvQ\", \"Cluster 2\"], [\"7FQSAiopqWOgCGqUNbDvh3\", \"Paranoid\", 0.429, 0.631, 162.734, 0.376, \"https://open.spotify.com/track/7FQSAiopqWOgCGqUNbDvh3\", \"Cluster 2\"], [\"3G69vJMWsX6ZohTykad2AU\", \"One\", 0.392, 0.534, 181.305, 0.325, \"https://open.spotify.com/track/3G69vJMWsX6ZohTykad2AU\", \"Cluster 2\"], [\"3vV3cr2TpPqFk07zxYUbla\", \"Cum on Feel the Noize\", 0.409, 0.92, 145.085, 0.37, \"https://open.spotify.com/track/3vV3cr2TpPqFk07zxYUbla\", \"Cluster 2\"], [\"4MR9iW77LJoPPDjwAYbIZZ\", \"You Know My Name - From \\\"Casino Royale\\\" Soundtrack\", 0.368, 0.8640000000000001, 137.526, 0.374, \"https://open.spotify.com/track/4MR9iW77LJoPPDjwAYbIZZ\", \"Cluster 2\"], [\"7yCPwWs66K8Ba5lFuU2bcx\", \"All The Small Things\", 0.439, 0.8909999999999999, 148.599, 0.695, \"https://open.spotify.com/track/7yCPwWs66K8Ba5lFuU2bcx\", \"Cluster 2\"], [\"7qvxFz3JodM0A7xEM7k3YD\", \"Chained To The Rhythm\", 0.446, 0.8, 189.89, 0.474, \"https://open.spotify.com/track/7qvxFz3JodM0A7xEM7k3YD\", \"Cluster 2\"], [\"7fxpqs4G8vj3rFYbJnsG7w\", \"Shitlist\", 0.419, 0.9159999999999999, 128.98, 0.496, \"https://open.spotify.com/track/7fxpqs4G8vj3rFYbJnsG7w\", \"Cluster 2\"], [\"3bDGwl0X3EjQmIyFD1uif5\", \"Roar\", 0.56, 0.7559999999999999, 179.771, 0.40399999999999997, \"https://open.spotify.com/track/3bDGwl0X3EjQmIyFD1uif5\", \"Cluster 2\"], [\"0UvCh63URrLFcPkKt99hHd\", \"Don't Look Back in Anger - Remastered\", 0.327, 0.938, 162.937, 0.326, \"https://open.spotify.com/track/0UvCh63URrLFcPkKt99hHd\", \"Cluster 2\"], [\"63T7DJ1AFDD6Bn8VzG6JE8\", \"Paint It, Black\", 0.46399999999999997, 0.795, 158.691, 0.612, \"https://open.spotify.com/track/63T7DJ1AFDD6Bn8VzG6JE8\", \"Cluster 2\"], [\"0LEoCPq4QlV2h41Fm5ENJ3\", \"Common People\", 0.319, 0.8390000000000001, 144.938, 0.5379999999999999, \"https://open.spotify.com/track/0LEoCPq4QlV2h41Fm5ENJ3\", \"Cluster 2\"], [\"646J2jOtUe4Jflrmh6JFjN\", \"Bring Me To Life\", 0.312, 0.946, 189.892, 0.297, \"https://open.spotify.com/track/646J2jOtUe4Jflrmh6JFjN\", \"Cluster 2\"], [\"1eujVQsT9v7ZTtvAkTEdZr\", \"Piece Of My Heart\", 0.429, 0.665, 160.499, 0.5429999999999999, \"https://open.spotify.com/track/1eujVQsT9v7ZTtvAkTEdZr\", \"Cluster 2\"], [\"08mG3Y1vljYA6bvDt4Wqkj\", \"Back In Black\", 0.31, 0.7, 188.386, 0.763, \"https://open.spotify.com/track/08mG3Y1vljYA6bvDt4Wqkj\", \"Cluster 2\"], [\"6rs96E1pfzZgBdNQKqOjEy\", \"O segundo sol\", 0.33899999999999997, 0.882, 154.202, 0.679, \"https://open.spotify.com/track/6rs96E1pfzZgBdNQKqOjEy\", \"Cluster 2\"], [\"2KmEgiY8fQs0G6WNxtzQKr\", \"Baba O'Riley\", 0.489, 0.7240000000000001, 117.292, 0.15, \"https://open.spotify.com/track/2KmEgiY8fQs0G6WNxtzQKr\", \"Cluster 2\"]], \"hoverlabel\": {\"namelength\": 0}, \"hovertemplate\": \"Cluster=%{customdata[7]}<br>track_id=%{customdata[0]}<br>track_name=%{customdata[1]}<br>danceability=%{customdata[2]}<br>energy=%{customdata[3]}<br>tempo=%{customdata[4]}<br>valence=%{customdata[5]}<br>url=%{customdata[6]}\", \"legendgroup\": \"Cluster=Cluster 2\", \"marker\": {\"color\": \"#00cc96\"}, \"name\": \"Cluster=Cluster 2\", \"notched\": true, \"offsetgroup\": \"Cluster=Cluster 2\", \"showlegend\": false, \"type\": \"box\", \"x\": [\"Cluster 2\", \"Cluster 2\", \"Cluster 2\", \"Cluster 2\", \"Cluster 2\", \"Cluster 2\", \"Cluster 2\", \"Cluster 2\", \"Cluster 2\", \"Cluster 2\", \"Cluster 2\", \"Cluster 2\", \"Cluster 2\", \"Cluster 2\", \"Cluster 2\", \"Cluster 2\", \"Cluster 2\", \"Cluster 2\", \"Cluster 2\", \"Cluster 2\", \"Cluster 2\", \"Cluster 2\", \"Cluster 2\", \"Cluster 2\", \"Cluster 2\", \"Cluster 2\", \"Cluster 2\", \"Cluster 2\", \"Cluster 2\", \"Cluster 2\", \"Cluster 2\", \"Cluster 2\", \"Cluster 2\", \"Cluster 2\", \"Cluster 2\", \"Cluster 2\", \"Cluster 2\", \"Cluster 2\"], \"xaxis\": \"x2\", \"yaxis\": \"y2\"}, {\"alignmentgroup\": \"True\", \"bingroup\": \"x\", \"hoverlabel\": {\"namelength\": 0}, \"hovertemplate\": \"Cluster=%{x}<br>count=%{y}\", \"legendgroup\": \"Cluster=Cluster 3\", \"marker\": {\"color\": \"#ab63fa\", \"opacity\": 0.7}, \"name\": \"Cluster=Cluster 3\", \"offsetgroup\": \"Cluster=Cluster 3\", \"orientation\": \"v\", \"showlegend\": true, \"type\": \"histogram\", \"x\": [\"Cluster 3\", \"Cluster 3\", \"Cluster 3\", \"Cluster 3\", \"Cluster 3\", \"Cluster 3\", \"Cluster 3\", \"Cluster 3\", \"Cluster 3\", \"Cluster 3\", \"Cluster 3\", \"Cluster 3\", \"Cluster 3\", \"Cluster 3\", \"Cluster 3\", \"Cluster 3\", \"Cluster 3\", \"Cluster 3\", \"Cluster 3\", \"Cluster 3\", \"Cluster 3\", \"Cluster 3\", \"Cluster 3\", \"Cluster 3\", \"Cluster 3\", \"Cluster 3\", \"Cluster 3\", \"Cluster 3\", \"Cluster 3\", \"Cluster 3\", \"Cluster 3\", \"Cluster 3\", \"Cluster 3\"], \"xaxis\": \"x\", \"yaxis\": \"y\"}, {\"alignmentgroup\": \"True\", \"customdata\": [[\"6IVjnPfMGjQeUXvqpzLLdY\", \"Smiled At Me (Sorriu Para Mim)\", 0.55, 0.267, 90.676, 0.513, \"https://open.spotify.com/track/6IVjnPfMGjQeUXvqpzLLdY\", \"Cluster 3\"], [\"5Xak5fmy089t0FYmh3VJiY\", \"Black\", 0.36, 0.684, 77.15, 0.2, \"https://open.spotify.com/track/5Xak5fmy089t0FYmh3VJiY\", \"Cluster 3\"], [\"2M9ro2krNb7nr7HSprkEgo\", \"Fast Car\", 0.711, 0.292, 103.95100000000001, 0.19399999999999998, \"https://open.spotify.com/track/2M9ro2krNb7nr7HSprkEgo\", \"Cluster 3\"], [\"0qukw1Cr7FADBAgzU55MQK\", \"Non, je ne regrette rien - Remasteris\\u00e9 En 2015\", 0.341, 0.408, 86.14200000000001, 0.42700000000000005, \"https://open.spotify.com/track/0qukw1Cr7FADBAgzU55MQK\", \"Cluster 3\"], [\"1qylvO4iCIZZcqc4TqSjTZ\", \"Zombie - Acoustic Version\", 0.469, 0.42700000000000005, 84.053, 0.0821, \"https://open.spotify.com/track/1qylvO4iCIZZcqc4TqSjTZ\", \"Cluster 3\"], [\"34eHLnDCoIh9g0co9zro3F\", \"Tocando em Frente\", 0.49, 0.282, 88.039, 0.389, \"https://open.spotify.com/track/34eHLnDCoIh9g0co9zro3F\", \"Cluster 3\"], [\"5bLVrPldS8KXxkhuFLIqZO\", \"Happy Ending/Over My Shoulder\", 0.35, 0.237, 119.569, 0.0959, \"https://open.spotify.com/track/5bLVrPldS8KXxkhuFLIqZO\", \"Cluster 3\"], [\"2lHVwMuA9fnKDYlceiXDLM\", \"Rocket Man\", 0.128, 0.0535, 75.233, 0.0821, \"https://open.spotify.com/track/2lHVwMuA9fnKDYlceiXDLM\", \"Cluster 3\"], [\"3Bbbz0IGORWZSLf9UqsAL4\", \"Dream A Little Dream Of Me\", 0.631, 0.127, 76.559, 0.322, \"https://open.spotify.com/track/3Bbbz0IGORWZSLf9UqsAL4\", \"Cluster 3\"], [\"3mr584ZFSkZrWja9kJAzlb\", \"Skyfall\", 0.34600000000000003, 0.552, 75.881, 0.0789, \"https://open.spotify.com/track/3mr584ZFSkZrWja9kJAzlb\", \"Cluster 3\"], [\"2jERD2u9uoC7gGNQ0LbCrI\", \"Codinome Beija-Flor\", 0.48200000000000004, 0.255, 95.205, 0.301, \"https://open.spotify.com/track/2jERD2u9uoC7gGNQ0LbCrI\", \"Cluster 3\"], [\"67Hna13dNDkZvBpTXRIaOJ\", \"Teardrop\", 0.615, 0.419, 76.997, 0.21600000000000003, \"https://open.spotify.com/track/67Hna13dNDkZvBpTXRIaOJ\", \"Cluster 3\"], [\"3RnA0bz5qbwtjSnAP0EcvS\", \"What a Wonderful World\", 0.305, 0.282, 79.756, 0.262, \"https://open.spotify.com/track/3RnA0bz5qbwtjSnAP0EcvS\", \"Cluster 3\"], [\"0dWOiVQwoUYTtXD0VVgmJQ\", \"Chega de Saudade\", 0.563, 0.242, 87.771, 0.647, \"https://open.spotify.com/track/0dWOiVQwoUYTtXD0VVgmJQ\", \"Cluster 3\"], [\"6OguEkETIgjJs48LKaOjdZ\", \"She\", 0.39, 0.287, 65.179, 0.302, \"https://open.spotify.com/track/6OguEkETIgjJs48LKaOjdZ\", \"Cluster 3\"], [\"7xpDGoUGbtaquk5xMvzwTh\", \"Telegrama\", 0.643, 0.501, 94.514, 0.39399999999999996, \"https://open.spotify.com/track/7xpDGoUGbtaquk5xMvzwTh\", \"Cluster 3\"], [\"2kMvM1l45ZjpOv73qPefxA\", \"Relic\\u00e1rio\", 0.46, 0.515, 83.809, 0.395, \"https://open.spotify.com/track/2kMvM1l45ZjpOv73qPefxA\", \"Cluster 3\"], [\"1jdNcAD8Ir58RlsdGjJJdx\", \"Ho Hey\", 0.685, 0.474, 79.991, 0.36, \"https://open.spotify.com/track/1jdNcAD8Ir58RlsdGjJJdx\", \"Cluster 3\"], [\"38BhHsOGE3ly3q3IiRCh66\", \"Pipes Of Peace - Remastered 2015\", 0.369, 0.413, 94.287, 0.406, \"https://open.spotify.com/track/38BhHsOGE3ly3q3IiRCh66\", \"Cluster 3\"], [\"7KFUj2MunvS4cbauF04r6w\", \"O b\\u00eabado e a equilibrista\", 0.442, 0.41700000000000004, 94.23299999999999, 0.276, \"https://open.spotify.com/track/7KFUj2MunvS4cbauF04r6w\", \"Cluster 3\"], [\"0zDVclPMSsjeyvbnqhWOmt\", \"La vie en rose - Single Version\", 0.52, 0.0406, 70.138, 0.285, \"https://open.spotify.com/track/0zDVclPMSsjeyvbnqhWOmt\", \"Cluster 3\"], [\"00hwJU6jHS9C1LW4PLWXId\", \"Dream a Little Dream of Me\", 0.455, 0.16699999999999998, 76.118, 0.40399999999999997, \"https://open.spotify.com/track/00hwJU6jHS9C1LW4PLWXId\", \"Cluster 3\"], [\"6tjZNDZo24C8gGelsozCzB\", \"What a Wonderful World\", 0.41100000000000003, 0.292, 108.315, 0.18600000000000003, \"https://open.spotify.com/track/6tjZNDZo24C8gGelsozCzB\", \"Cluster 3\"], [\"5WZDLZVCvY1rEyNir6k8Pg\", \"The Show Must Go On - 2011 Mix\", 0.425, 0.675, 84.156, 0.0671, \"https://open.spotify.com/track/5WZDLZVCvY1rEyNir6k8Pg\", \"Cluster 3\"], [\"4jtYkaxeQg2yjPRZQttd9I\", \"Love Of My Life - Live\", 0.302, 0.321, 110.52799999999999, 0.196, \"https://open.spotify.com/track/4jtYkaxeQg2yjPRZQttd9I\", \"Cluster 3\"], [\"2nwCO1PqpvyoFIvq3Vrj8N\", \"These Boots Are Made For Walkin'\", 0.74, 0.392, 82.742, 0.387, \"https://open.spotify.com/track/2nwCO1PqpvyoFIvq3Vrj8N\", \"Cluster 3\"], [\"5gEuWtxcn5Vz4xpT7dBoBU\", \"The Thrill Is Gone\", 0.6920000000000001, 0.493, 86.64399999999999, 0.28, \"https://open.spotify.com/track/5gEuWtxcn5Vz4xpT7dBoBU\", \"Cluster 3\"], [\"4rq3CoA3hrw3LjgtItwSu5\", \"Aquarela\", 0.561, 0.26899999999999996, 75.117, 0.6459999999999999, \"https://open.spotify.com/track/4rq3CoA3hrw3LjgtItwSu5\", \"Cluster 3\"], [\"0qgrrDnUUhyxpxbBznUnzg\", \"18 and Life\", 0.466, 0.648, 90.435, 0.305, \"https://open.spotify.com/track/0qgrrDnUUhyxpxbBznUnzg\", \"Cluster 3\"], [\"5p3JunprHCxClJjOmcLV8G\", \"Walk On the Wild Side\", 0.575, 0.318, 104.522, 0.385, \"https://open.spotify.com/track/5p3JunprHCxClJjOmcLV8G\", \"Cluster 3\"], [\"2FYE5aTxHX5lMJZ8HKmiQn\", \"Dona Cila\", 0.635, 0.248, 88.074, 0.28600000000000003, \"https://open.spotify.com/track/2FYE5aTxHX5lMJZ8HKmiQn\", \"Cluster 3\"], [\"6GmUVqe73u5YRfUUynZK6I\", \"Let Her Go\", 0.479, 0.545, 74.89699999999999, 0.244, \"https://open.spotify.com/track/6GmUVqe73u5YRfUUynZK6I\", \"Cluster 3\"], [\"2x45xqISlmmDJqxOqr8BuS\", \"With Or Without You - Remastered\", 0.5379999999999999, 0.43200000000000005, 110.181, 0.11599999999999999, \"https://open.spotify.com/track/2x45xqISlmmDJqxOqr8BuS\", \"Cluster 3\"]], \"hoverlabel\": {\"namelength\": 0}, \"hovertemplate\": \"Cluster=%{customdata[7]}<br>track_id=%{customdata[0]}<br>track_name=%{customdata[1]}<br>danceability=%{customdata[2]}<br>energy=%{customdata[3]}<br>tempo=%{customdata[4]}<br>valence=%{customdata[5]}<br>url=%{customdata[6]}\", \"legendgroup\": \"Cluster=Cluster 3\", \"marker\": {\"color\": \"#ab63fa\"}, \"name\": \"Cluster=Cluster 3\", \"notched\": true, \"offsetgroup\": \"Cluster=Cluster 3\", \"showlegend\": false, \"type\": \"box\", \"x\": [\"Cluster 3\", \"Cluster 3\", \"Cluster 3\", \"Cluster 3\", \"Cluster 3\", \"Cluster 3\", \"Cluster 3\", \"Cluster 3\", \"Cluster 3\", \"Cluster 3\", \"Cluster 3\", \"Cluster 3\", \"Cluster 3\", \"Cluster 3\", \"Cluster 3\", \"Cluster 3\", \"Cluster 3\", \"Cluster 3\", \"Cluster 3\", \"Cluster 3\", \"Cluster 3\", \"Cluster 3\", \"Cluster 3\", \"Cluster 3\", \"Cluster 3\", \"Cluster 3\", \"Cluster 3\", \"Cluster 3\", \"Cluster 3\", \"Cluster 3\", \"Cluster 3\", \"Cluster 3\", \"Cluster 3\"], \"xaxis\": \"x2\", \"yaxis\": \"y2\"}, {\"alignmentgroup\": \"True\", \"bingroup\": \"x\", \"hoverlabel\": {\"namelength\": 0}, \"hovertemplate\": \"Cluster=%{x}<br>count=%{y}\", \"legendgroup\": \"Cluster=Cluster 4\", \"marker\": {\"color\": \"#FFA15A\", \"opacity\": 0.7}, \"name\": \"Cluster=Cluster 4\", \"offsetgroup\": \"Cluster=Cluster 4\", \"orientation\": \"v\", \"showlegend\": true, \"type\": \"histogram\", \"x\": [\"Cluster 4\", \"Cluster 4\", \"Cluster 4\", \"Cluster 4\", \"Cluster 4\", \"Cluster 4\", \"Cluster 4\", \"Cluster 4\", \"Cluster 4\", \"Cluster 4\", \"Cluster 4\", \"Cluster 4\", \"Cluster 4\", \"Cluster 4\", \"Cluster 4\", \"Cluster 4\", \"Cluster 4\", \"Cluster 4\", \"Cluster 4\", \"Cluster 4\", \"Cluster 4\", \"Cluster 4\", \"Cluster 4\", \"Cluster 4\", \"Cluster 4\", \"Cluster 4\", \"Cluster 4\", \"Cluster 4\", \"Cluster 4\", \"Cluster 4\", \"Cluster 4\", \"Cluster 4\", \"Cluster 4\", \"Cluster 4\", \"Cluster 4\", \"Cluster 4\", \"Cluster 4\", \"Cluster 4\", \"Cluster 4\", \"Cluster 4\", \"Cluster 4\", \"Cluster 4\", \"Cluster 4\", \"Cluster 4\", \"Cluster 4\", \"Cluster 4\", \"Cluster 4\", \"Cluster 4\", \"Cluster 4\", \"Cluster 4\", \"Cluster 4\", \"Cluster 4\", \"Cluster 4\", \"Cluster 4\", \"Cluster 4\", \"Cluster 4\", \"Cluster 4\", \"Cluster 4\", \"Cluster 4\", \"Cluster 4\", \"Cluster 4\"], \"xaxis\": \"x\", \"yaxis\": \"y\"}, {\"alignmentgroup\": \"True\", \"customdata\": [[\"4NvgRMckw4uzjNn2t7taPe\", \"Die Another Day\", 0.7879999999999999, 0.777, 123.994, 0.42700000000000005, \"https://open.spotify.com/track/4NvgRMckw4uzjNn2t7taPe\", \"Cluster 4\"], [\"6sy3LkhNFjJWlaeSMNwQ62\", \"Counting Stars\", 0.664, 0.705, 122.01700000000001, 0.47700000000000004, \"https://open.spotify.com/track/6sy3LkhNFjJWlaeSMNwQ62\", \"Cluster 4\"], [\"5QpaGzWp0hwB5faV8dkbAz\", \"Wherever You Will Go\", 0.5579999999999999, 0.7190000000000001, 112.027, 0.371, \"https://open.spotify.com/track/5QpaGzWp0hwB5faV8dkbAz\", \"Cluster 4\"], [\"4AwNUVU4h3QmUMHIbzurRa\", \"Envelhe\\u00e7o na cidade\", 0.61, 0.802, 117.184, 0.645, \"https://open.spotify.com/track/4AwNUVU4h3QmUMHIbzurRa\", \"Cluster 4\"], [\"2iUrcZcAuVIahQD0dg9HLe\", \"Autumn Leaves\", 0.496, 0.634, 93.35700000000001, 0.606, \"https://open.spotify.com/track/2iUrcZcAuVIahQD0dg9HLe\", \"Cluster 4\"], [\"4JehYebiI9JE8sR8MisGVb\", \"Halo\", 0.508, 0.72, 79.983, 0.47200000000000003, \"https://open.spotify.com/track/4JehYebiI9JE8sR8MisGVb\", \"Cluster 4\"], [\"5scK80Nrz12oGUnQGcPgg1\", \"Mantenha o Respeito\", 0.589, 0.6609999999999999, 108.035, 0.382, \"https://open.spotify.com/track/5scK80Nrz12oGUnQGcPgg1\", \"Cluster 4\"], [\"5jtEGp5xkVV3zvNq7mVcW1\", \"Anuncia\\u00e7\\u00e3o\", 0.541, 0.711, 100.111, 0.785, \"https://open.spotify.com/track/5jtEGp5xkVV3zvNq7mVcW1\", \"Cluster 4\"], [\"5UnqU47OSB8LBahj0jtjrR\", \"Another Way to Die\", 0.541, 0.772, 71.20100000000001, 0.43, \"https://open.spotify.com/track/5UnqU47OSB8LBahj0jtjrR\", \"Cluster 4\"], [\"0F3GMvgFyxWCOm1nxlkQSW\", \"Perfect\", 0.639, 0.897, 114.29700000000001, 0.701, \"https://open.spotify.com/track/0F3GMvgFyxWCOm1nxlkQSW\", \"Cluster 4\"], [\"2aoo2jlRnM3A0NyLQqMN2f\", \"All Along the Watchtower\", 0.43799999999999994, 0.805, 113.25299999999999, 0.564, \"https://open.spotify.com/track/2aoo2jlRnM3A0NyLQqMN2f\", \"Cluster 4\"], [\"7h8Ud480Fm4ReUVxgFF9ZX\", \"Rolling In The Deep\", 0.7290000000000001, 0.777, 104.946, 0.527, \"https://open.spotify.com/track/7h8Ud480Fm4ReUVxgFF9ZX\", \"Cluster 4\"], [\"2TDDvKi8n44EaLVJXd2GkP\", \"Break It Down Again\", 0.6779999999999999, 0.7440000000000001, 108.98899999999999, 0.484, \"https://open.spotify.com/track/2TDDvKi8n44EaLVJXd2GkP\", \"Cluster 4\"], [\"3cR6v2bOwqi7znC8P5Vs1T\", \"Maracatu At\\u00f4mico\", 0.748, 0.7290000000000001, 95.743, 0.264, \"https://open.spotify.com/track/3cR6v2bOwqi7znC8P5Vs1T\", \"Cluster 4\"], [\"3erAiWBiKsbVG39cqCrsI0\", \"Human\", 0.643, 0.698, 75.07300000000001, 0.556, \"https://open.spotify.com/track/3erAiWBiKsbVG39cqCrsI0\", \"Cluster 4\"], [\"7C1bOiV8Bj0I3YpAnuS8ue\", \"S\\u00e3o Gon\\u00e7a\", 0.639, 0.777, 108.01700000000001, 0.603, \"https://open.spotify.com/track/7C1bOiV8Bj0I3YpAnuS8ue\", \"Cluster 4\"], [\"1idZSAVHfLPQq9tDTYhnIA\", \"The Last of the Famous International Playboys - 2010 Remaster\", 0.617, 0.8759999999999999, 104.228, 0.735, \"https://open.spotify.com/track/1idZSAVHfLPQq9tDTYhnIA\", \"Cluster 4\"], [\"5WQ1hIc5d2EVbRQ8qsj8Uh\", \"Hey Ya! - Radio Mix / Club Mix\", 0.7190000000000001, 0.9670000000000001, 79.505, 0.9640000000000001, \"https://open.spotify.com/track/5WQ1hIc5d2EVbRQ8qsj8Uh\", \"Cluster 4\"], [\"2YNnsUUgc23G8Th8TKpH44\", \"O Calibre\", 0.47700000000000004, 0.977, 90.155, 0.528, \"https://open.spotify.com/track/2YNnsUUgc23G8Th8TKpH44\", \"Cluster 4\"], [\"2jmJZpdJhCXhfEhewqui5G\", \"Gostava Tanto de Voc\\u00ea - Ao Vivo\", 0.561, 0.8320000000000001, 104.198, 0.444, \"https://open.spotify.com/track/2jmJZpdJhCXhfEhewqui5G\", \"Cluster 4\"], [\"67FQ9r8wiJvKKj5gq8zmCb\", \"Mist\\u00e9rios da Meia Noite\", 0.49700000000000005, 0.568, 94.447, 0.579, \"https://open.spotify.com/track/67FQ9r8wiJvKKj5gq8zmCb\", \"Cluster 4\"], [\"6ZmwwHYtun94UOdFWWgdif\", \"Alanis\\u2019 Interlude\", 0.705, 0.89, 94.01299999999999, 0.45, \"https://open.spotify.com/track/6ZmwwHYtun94UOdFWWgdif\", \"Cluster 4\"], [\"53eJFr4Mfbw5PXJ01K6cFw\", \"Daughter (Remastered)\", 0.615, 0.7020000000000001, 96.99, 0.7340000000000001, \"https://open.spotify.com/track/53eJFr4Mfbw5PXJ01K6cFw\", \"Cluster 4\"], [\"6FJ9Xp3fCxSTAdcRVaDQdl\", \"Miracle\", 0.5770000000000001, 0.677, 92.007, 0.6829999999999999, \"https://open.spotify.com/track/6FJ9Xp3fCxSTAdcRVaDQdl\", \"Cluster 4\"], [\"1sUTfgduT0WIQO8kXKXxLC\", \"Blaze Of Glory - From \\\"Young Guns II\\\" Soundtrack\", 0.55, 0.618, 78.61, 0.429, \"https://open.spotify.com/track/1sUTfgduT0WIQO8kXKXxLC\", \"Cluster 4\"], [\"2zYzyRzz6pRmhPzyfMEC8s\", \"Highway to Hell\", 0.573, 0.9129999999999999, 115.715, 0.42200000000000004, \"https://open.spotify.com/track/2zYzyRzz6pRmhPzyfMEC8s\", \"Cluster 4\"], [\"2Z8WuEywRWYTKe1NybPQEW\", \"Ride\", 0.645, 0.713, 74.98899999999999, 0.5660000000000001, \"https://open.spotify.com/track/2Z8WuEywRWYTKe1NybPQEW\", \"Cluster 4\"], [\"6suU8oBlW4O2pg88tOXgHo\", \"Under Pressure - Remastered\", 0.672, 0.6990000000000001, 113.73700000000001, 0.46, \"https://open.spotify.com/track/6suU8oBlW4O2pg88tOXgHo\", \"Cluster 4\"], [\"3CKCZ9pfwAfoMZlMncA1Nc\", \"Set Fire to the Rain\", 0.61, 0.6829999999999999, 108.00299999999999, 0.466, \"https://open.spotify.com/track/3CKCZ9pfwAfoMZlMncA1Nc\", \"Cluster 4\"], [\"0cLH7BXqfm0RqnjueCPLfW\", \"Evidence\", 0.6859999999999999, 0.779, 97.948, 0.627, \"https://open.spotify.com/track/0cLH7BXqfm0RqnjueCPLfW\", \"Cluster 4\"], [\"6avkLAdK3IbkR1c7l6APmJ\", \"Big Time Sensuality\", 0.728, 0.7170000000000001, 118.589, 0.5660000000000001, \"https://open.spotify.com/track/6avkLAdK3IbkR1c7l6APmJ\", \"Cluster 4\"], [\"22JzTLr1YHfewbyPkgCARt\", \"Pobre paulista\", 0.42700000000000005, 0.759, 93.01799999999999, 0.595, \"https://open.spotify.com/track/22JzTLr1YHfewbyPkgCARt\", \"Cluster 4\"], [\"1oJSAzNyTUCm36zhFYMcAZ\", \"Big Yellow Taxi\", 0.672, 0.872, 88.04700000000001, 0.848, \"https://open.spotify.com/track/1oJSAzNyTUCm36zhFYMcAZ\", \"Cluster 4\"], [\"3BEZCNZSmVv30vsMNSOCri\", \"Layla - Acoustic; Live at MTV Unplugged, Bray Film Studios, Windsor, England, UK, 1/16/1992; 2013 Remaster\", 0.5579999999999999, 0.524, 93.654, 0.636, \"https://open.spotify.com/track/3BEZCNZSmVv30vsMNSOCri\", \"Cluster 4\"], [\"3y9p60VKSjscT2M2de0uz8\", \"Smiley Faces\", 0.562, 0.8859999999999999, 86.999, 0.636, \"https://open.spotify.com/track/3y9p60VKSjscT2M2de0uz8\", \"Cluster 4\"], [\"14XWXWv5FoCbFzLksawpEe\", \"Riders on the Storm\", 0.5489999999999999, 0.722, 103.885, 0.716, \"https://open.spotify.com/track/14XWXWv5FoCbFzLksawpEe\", \"Cluster 4\"], [\"3OhfY94w6eTzs6UnvwDryF\", \"Carolina\", 0.627, 0.752, 89.995, 0.48, \"https://open.spotify.com/track/3OhfY94w6eTzs6UnvwDryF\", \"Cluster 4\"], [\"0WZRuNn00I9CJ6XO84F6j9\", \"Verdade\", 0.5820000000000001, 0.902, 106.54299999999999, 0.608, \"https://open.spotify.com/track/0WZRuNn00I9CJ6XO84F6j9\", \"Cluster 4\"], [\"5W7fIifB8wRBPN6yOcHpi2\", \"Samba de uma nota s\\u00f3\", 0.7240000000000001, 0.573, 88.02799999999999, 0.43700000000000006, \"https://open.spotify.com/track/5W7fIifB8wRBPN6yOcHpi2\", \"Cluster 4\"], [\"2REJewOG7lanXShkriw5f2\", \"Tudo No Lugar\", 0.73, 0.905, 95.985, 0.6859999999999999, \"https://open.spotify.com/track/2REJewOG7lanXShkriw5f2\", \"Cluster 4\"], [\"6A3Q8BVAAI2PW1s6MX4ZGF\", \"Boa Sorte / Good Luck\", 0.779, 0.5660000000000001, 111.022, 0.28, \"https://open.spotify.com/track/6A3Q8BVAAI2PW1s6MX4ZGF\", \"Cluster 4\"], [\"5j6ZZwA9BnxZi5Bk0Ng4jB\", \"Heroes - 1999 Remaster\", 0.478, 0.774, 112.57700000000001, 0.429, \"https://open.spotify.com/track/5j6ZZwA9BnxZi5Bk0Ng4jB\", \"Cluster 4\"], [\"7mitXLIMCflkhZiD34uEQI\", \"Party Rock Anthem\", 0.7509999999999999, 0.736, 130.014, 0.35200000000000004, \"https://open.spotify.com/track/7mitXLIMCflkhZiD34uEQI\", \"Cluster 4\"], [\"2UzQqudrAxeZeuJTcPBKBx\", \"Cotidiano\", 0.434, 0.537, 89.09100000000001, 0.772, \"https://open.spotify.com/track/2UzQqudrAxeZeuJTcPBKBx\", \"Cluster 4\"], [\"1jF7IL57ayN4Ity3jQqGu0\", \"Try\", 0.6729999999999999, 0.629, 103.99799999999999, 0.551, \"https://open.spotify.com/track/1jF7IL57ayN4Ity3jQqGu0\", \"Cluster 4\"], [\"3PkfVwSOVxP0ffvdQAWJUN\", \"You Had Me\", 0.6940000000000001, 0.8270000000000001, 102.025, 0.703, \"https://open.spotify.com/track/3PkfVwSOVxP0ffvdQAWJUN\", \"Cluster 4\"], [\"6JV2JOEocMgcZxYSZelKcc\", \"CAN'T STOP THE FEELING! (Original Song from DreamWorks Animation's \\\"TROLLS\\\")\", 0.667, 0.83, 113.03, 0.701, \"https://open.spotify.com/track/6JV2JOEocMgcZxYSZelKcc\", \"Cluster 4\"], [\"30qVCFYKBtAENjTIBA8FPZ\", \"The River of Dreams\", 0.631, 0.7490000000000001, 89.646, 0.43700000000000006, \"https://open.spotify.com/track/30qVCFYKBtAENjTIBA8FPZ\", \"Cluster 4\"], [\"73L7X1wQ2d7Y91pT4ElexT\", \"Safety Dance\", 0.76, 0.612, 101.38600000000001, 0.198, \"https://open.spotify.com/track/73L7X1wQ2d7Y91pT4ElexT\", \"Cluster 4\"], [\"7HZXKocB073IEw7ZgnVQEO\", \"Funk Nu a Murit\", 0.6809999999999999, 0.809, 92.021, 0.67, \"https://open.spotify.com/track/7HZXKocB073IEw7ZgnVQEO\", \"Cluster 4\"], [\"6Vz7vzOpCwKeSQlfViibuY\", \"Crazy\", 0.633, 0.858, 102.559, 0.725, \"https://open.spotify.com/track/6Vz7vzOpCwKeSQlfViibuY\", \"Cluster 4\"], [\"2cNjgoSh1TBHFQIhfzRJUE\", \"Go\", 0.7509999999999999, 0.897, 119.97, 0.48200000000000004, \"https://open.spotify.com/track/2cNjgoSh1TBHFQIhfzRJUE\", \"Cluster 4\"], [\"33IOhptvC2Qoy2UhjiHXLV\", \"Flames\", 0.609, 0.726, 93.958, 0.36200000000000004, \"https://open.spotify.com/track/33IOhptvC2Qoy2UhjiHXLV\", \"Cluster 4\"], [\"4VqPOruhp5EdPBeR92t6lQ\", \"Uprising\", 0.602, 0.905, 128.019, 0.41100000000000003, \"https://open.spotify.com/track/4VqPOruhp5EdPBeR92t6lQ\", \"Cluster 4\"], [\"2PpruBYCo4H7WOBJ7Q2EwM\", \"Hey Ya!\", 0.728, 0.9740000000000001, 79.52600000000001, 0.965, \"https://open.spotify.com/track/2PpruBYCo4H7WOBJ7Q2EwM\", \"Cluster 4\"], [\"11IzgLRXV7Cgek3tEgGgjw\", \"Under Pressure - Remastered\", 0.6709999999999999, 0.711, 113.809, 0.466, \"https://open.spotify.com/track/11IzgLRXV7Cgek3tEgGgjw\", \"Cluster 4\"], [\"4m815SdxfKNxLHITG4WpzB\", \"Bola De Meia, Bola De Gude\", 0.5660000000000001, 0.7, 106.154, 0.542, \"https://open.spotify.com/track/4m815SdxfKNxLHITG4WpzB\", \"Cluster 4\"], [\"7kXmJwrZGIhDaLT9sNo3ut\", \"Hey Boy Hey Girl\", 0.632, 0.92, 127.001, 0.363, \"https://open.spotify.com/track/7kXmJwrZGIhDaLT9sNo3ut\", \"Cluster 4\"], [\"0INtjcLMDnXjNB2YGe6RBT\", \"Kung Fu Fighting (Single Version)\", 0.623, 0.705, 110.064, 0.49, \"https://open.spotify.com/track/0INtjcLMDnXjNB2YGe6RBT\", \"Cluster 4\"], [\"4bz7uB4edifWKJXSDxwHcs\", \"Galvanize\", 0.745, 0.7140000000000001, 104.00299999999999, 0.365, \"https://open.spotify.com/track/4bz7uB4edifWKJXSDxwHcs\", \"Cluster 4\"], [\"4rFCA3E7dSDUuxmbg25K6l\", \"Mais Que Nada (Remix)\", 0.778, 0.87, 99.758, 0.775, \"https://open.spotify.com/track/4rFCA3E7dSDUuxmbg25K6l\", \"Cluster 4\"]], \"hoverlabel\": {\"namelength\": 0}, \"hovertemplate\": \"Cluster=%{customdata[7]}<br>track_id=%{customdata[0]}<br>track_name=%{customdata[1]}<br>danceability=%{customdata[2]}<br>energy=%{customdata[3]}<br>tempo=%{customdata[4]}<br>valence=%{customdata[5]}<br>url=%{customdata[6]}\", \"legendgroup\": \"Cluster=Cluster 4\", \"marker\": {\"color\": \"#FFA15A\"}, \"name\": \"Cluster=Cluster 4\", \"notched\": true, \"offsetgroup\": \"Cluster=Cluster 4\", \"showlegend\": false, \"type\": \"box\", \"x\": [\"Cluster 4\", \"Cluster 4\", \"Cluster 4\", \"Cluster 4\", \"Cluster 4\", \"Cluster 4\", \"Cluster 4\", \"Cluster 4\", \"Cluster 4\", \"Cluster 4\", \"Cluster 4\", \"Cluster 4\", \"Cluster 4\", \"Cluster 4\", \"Cluster 4\", \"Cluster 4\", \"Cluster 4\", \"Cluster 4\", \"Cluster 4\", \"Cluster 4\", \"Cluster 4\", \"Cluster 4\", \"Cluster 4\", \"Cluster 4\", \"Cluster 4\", \"Cluster 4\", \"Cluster 4\", \"Cluster 4\", \"Cluster 4\", \"Cluster 4\", \"Cluster 4\", \"Cluster 4\", \"Cluster 4\", \"Cluster 4\", \"Cluster 4\", \"Cluster 4\", \"Cluster 4\", \"Cluster 4\", \"Cluster 4\", \"Cluster 4\", \"Cluster 4\", \"Cluster 4\", \"Cluster 4\", \"Cluster 4\", \"Cluster 4\", \"Cluster 4\", \"Cluster 4\", \"Cluster 4\", \"Cluster 4\", \"Cluster 4\", \"Cluster 4\", \"Cluster 4\", \"Cluster 4\", \"Cluster 4\", \"Cluster 4\", \"Cluster 4\", \"Cluster 4\", \"Cluster 4\", \"Cluster 4\", \"Cluster 4\", \"Cluster 4\"], \"xaxis\": \"x2\", \"yaxis\": \"y2\"}, {\"alignmentgroup\": \"True\", \"bingroup\": \"x\", \"hoverlabel\": {\"namelength\": 0}, \"hovertemplate\": \"Cluster=%{x}<br>count=%{y}\", \"legendgroup\": \"Cluster=Cluster 5\", \"marker\": {\"color\": \"#19d3f3\", \"opacity\": 0.7}, \"name\": \"Cluster=Cluster 5\", \"offsetgroup\": \"Cluster=Cluster 5\", \"orientation\": \"v\", \"showlegend\": true, \"type\": \"histogram\", \"x\": [\"Cluster 5\", \"Cluster 5\", \"Cluster 5\", \"Cluster 5\", \"Cluster 5\", \"Cluster 5\", \"Cluster 5\", \"Cluster 5\", \"Cluster 5\", \"Cluster 5\", \"Cluster 5\", \"Cluster 5\", \"Cluster 5\", \"Cluster 5\", \"Cluster 5\", \"Cluster 5\", \"Cluster 5\", \"Cluster 5\", \"Cluster 5\", \"Cluster 5\", \"Cluster 5\", \"Cluster 5\", \"Cluster 5\", \"Cluster 5\", \"Cluster 5\", \"Cluster 5\", \"Cluster 5\", \"Cluster 5\", \"Cluster 5\", \"Cluster 5\", \"Cluster 5\", \"Cluster 5\", \"Cluster 5\", \"Cluster 5\", \"Cluster 5\", \"Cluster 5\", \"Cluster 5\", \"Cluster 5\", \"Cluster 5\", \"Cluster 5\", \"Cluster 5\", \"Cluster 5\", \"Cluster 5\", \"Cluster 5\", \"Cluster 5\", \"Cluster 5\", \"Cluster 5\", \"Cluster 5\", \"Cluster 5\", \"Cluster 5\", \"Cluster 5\", \"Cluster 5\", \"Cluster 5\", \"Cluster 5\", \"Cluster 5\", \"Cluster 5\", \"Cluster 5\", \"Cluster 5\", \"Cluster 5\", \"Cluster 5\"], \"xaxis\": \"x\", \"yaxis\": \"y\"}, {\"alignmentgroup\": \"True\", \"customdata\": [[\"1lkC6oC7SbwgnEBEC05r64\", \"Get the Party Started\", 0.799, 0.903, 128.92600000000002, 0.963, \"https://open.spotify.com/track/1lkC6oC7SbwgnEBEC05r64\", \"Cluster 5\"], [\"3yP0cohcr97BUNJcgvmSVg\", \"The Passenger\", 0.5, 0.846, 134.937, 0.738, \"https://open.spotify.com/track/3yP0cohcr97BUNJcgvmSVg\", \"Cluster 5\"], [\"5N4Hl2Gv1UDpEHu3nMRQFB\", \"Friction\", 0.6729999999999999, 0.7190000000000001, 150.129, 0.428, \"https://open.spotify.com/track/5N4Hl2Gv1UDpEHu3nMRQFB\", \"Cluster 5\"], [\"1A4WjuUXeFEVXjwgc7eVZ6\", \"Good People\", 0.721, 0.586, 176.105, 0.9179999999999999, \"https://open.spotify.com/track/1A4WjuUXeFEVXjwgc7eVZ6\", \"Cluster 5\"], [\"0VtiO1D14T68y8DEMMNS8d\", \"Love Today\", 0.6709999999999999, 0.9009999999999999, 124.464, 0.63, \"https://open.spotify.com/track/0VtiO1D14T68y8DEMMNS8d\", \"Cluster 5\"], [\"5MMnwYs0hIxkENRsbkWJ2G\", \"Smoke On The Water - Remastered 2012\", 0.598, 0.6759999999999999, 114.169, 0.805, \"https://open.spotify.com/track/5MMnwYs0hIxkENRsbkWJ2G\", \"Cluster 5\"], [\"3OeUlriM0EZHdWleJtjoVr\", \"Got My Mind Set On You - 2004 Mix\", 0.767, 0.8540000000000001, 149.20600000000002, 0.963, \"https://open.spotify.com/track/3OeUlriM0EZHdWleJtjoVr\", \"Cluster 5\"], [\"4d0DpU7Odiv0ztvX2GxJlk\", \"Exagerado\", 0.6779999999999999, 0.6629999999999999, 136.388, 0.8220000000000001, \"https://open.spotify.com/track/4d0DpU7Odiv0ztvX2GxJlk\", \"Cluster 5\"], [\"189ORFltyfCNtP4CCJou8L\", \"Moving On Up\", 0.851, 0.851, 125.057, 0.897, \"https://open.spotify.com/track/189ORFltyfCNtP4CCJou8L\", \"Cluster 5\"], [\"6z9ehfxE973fOlKJKNJL2x\", \"Blue Sky Mine - 2011 Remaster\", 0.631, 0.852, 132.018, 0.8340000000000001, \"https://open.spotify.com/track/6z9ehfxE973fOlKJKNJL2x\", \"Cluster 5\"], [\"2wPFy7SAFnt9Nj2TipWcqb\", \"Block Rockin' Beats\", 0.606, 0.977, 109.41, 0.809, \"https://open.spotify.com/track/2wPFy7SAFnt9Nj2TipWcqb\", \"Cluster 5\"], [\"1hlveB9M6ijHZRbzZ2teyh\", \"We're Not Gonna Take It\", 0.502, 0.924, 149.186, 0.922, \"https://open.spotify.com/track/1hlveB9M6ijHZRbzZ2teyh\", \"Cluster 5\"], [\"2gsRi0MuGDsDyvR9usz1pd\", \"Day Tripper\", 0.6609999999999999, 0.57, 145.879, 0.763, \"https://open.spotify.com/track/2gsRi0MuGDsDyvR9usz1pd\", \"Cluster 5\"], [\"5eSllZgRWCIJsDTAqFRwQw\", \"Coffee and TV\", 0.743, 0.743, 121.604, 0.7070000000000001, \"https://open.spotify.com/track/5eSllZgRWCIJsDTAqFRwQw\", \"Cluster 5\"], [\"1kV6GsEtVGmPehcGpmYtnr\", \"The Box - Part 2\", 0.603, 0.72, 140.991, 0.66, \"https://open.spotify.com/track/1kV6GsEtVGmPehcGpmYtnr\", \"Cluster 5\"], [\"7MIzAYEVULbhSwP6vK1zVH\", \"Oh Chuva\", 0.7559999999999999, 0.759, 127.963, 0.8690000000000001, \"https://open.spotify.com/track/7MIzAYEVULbhSwP6vK1zVH\", \"Cluster 5\"], [\"78gWMNi0b8lgSgVe0U0AMX\", \"House of Fun - 2000 Remastered Version\", 0.725, 0.934, 127.39, 0.985, \"https://open.spotify.com/track/78gWMNi0b8lgSgVe0U0AMX\", \"Cluster 5\"], [\"4Y7XAxTANhu3lmnLAzhWJW\", \"Fireball (feat. John Ryan)\", 0.7609999999999999, 0.9329999999999999, 122.959, 0.836, \"https://open.spotify.com/track/4Y7XAxTANhu3lmnLAzhWJW\", \"Cluster 5\"], [\"6M6UoxIPn4NOWW0x7JPRfv\", \"Young Folks\", 0.701, 0.815, 138.142, 0.67, \"https://open.spotify.com/track/6M6UoxIPn4NOWW0x7JPRfv\", \"Cluster 5\"], [\"6IvKz4Ax11LsLA0X0bPkqD\", \"Ai, Ai, Ai...\", 0.643, 0.6729999999999999, 130.108, 0.9159999999999999, \"https://open.spotify.com/track/6IvKz4Ax11LsLA0X0bPkqD\", \"Cluster 5\"], [\"1Ng1cdcIdXqt3ouDhpw477\", \"Sunshine Reggae - 2008 Remaster\", 0.7340000000000001, 0.708, 167.49900000000002, 0.893, \"https://open.spotify.com/track/1Ng1cdcIdXqt3ouDhpw477\", \"Cluster 5\"], [\"3SBypTHvrB7Dc7Jai9FmI1\", \"C\\u00e9rebro Eletr\\u00f4nico\", 0.414, 0.815, 122.805, 0.9259999999999999, \"https://open.spotify.com/track/3SBypTHvrB7Dc7Jai9FmI1\", \"Cluster 5\"], [\"0n2SEXB2qoRQg171q7XqeW\", \"Smooth (feat. Rob Thomas)\", 0.609, 0.9229999999999999, 115.99600000000001, 0.961, \"https://open.spotify.com/track/0n2SEXB2qoRQg171q7XqeW\", \"Cluster 5\"], [\"6I9VzXrHxO9rA9A5euc8Ak\", \"Toxic\", 0.774, 0.838, 143.04, 0.924, \"https://open.spotify.com/track/6I9VzXrHxO9rA9A5euc8Ak\", \"Cluster 5\"], [\"1RJeiAIwR9pZBgJA8ndZLL\", \"Paint It, Black - Mono\", 0.505, 0.836, 159.66899999999998, 0.764, \"https://open.spotify.com/track/1RJeiAIwR9pZBgJA8ndZLL\", \"Cluster 5\"], [\"5mhUPDWQH3s544WCsa0r9w\", \"Human\", 0.547, 0.8370000000000001, 135.47, 0.568, \"https://open.spotify.com/track/5mhUPDWQH3s544WCsa0r9w\", \"Cluster 5\"], [\"0aJzrpwqEdGZQsSHLvbbpz\", \"Vou Deixar\", 0.509, 0.846, 135.844, 0.753, \"https://open.spotify.com/track/0aJzrpwqEdGZQsSHLvbbpz\", \"Cluster 5\"], [\"6xGoLwsVOwcxg5LYuUwz8D\", \"Three Little Birds\", 0.6509999999999999, 0.5920000000000001, 148.131, 0.711, \"https://open.spotify.com/track/6xGoLwsVOwcxg5LYuUwz8D\", \"Cluster 5\"], [\"2DKuUrwCGwfRQBzIiSAKRi\", \"Bete balan\\u00e7o - Ao vivo\", 0.5770000000000001, 0.9329999999999999, 124.09100000000001, 0.794, \"https://open.spotify.com/track/2DKuUrwCGwfRQBzIiSAKRi\", \"Cluster 5\"], [\"4uQcu4YZSma1ZA8OUazmW9\", \"I Kissed A Girl\", 0.6990000000000001, 0.76, 129.996, 0.696, \"https://open.spotify.com/track/4uQcu4YZSma1ZA8OUazmW9\", \"Cluster 5\"], [\"5uPYEStMW3KsXnnLV7iCTw\", \"Johnny B Goode - 2002 Remaster\", 0.7490000000000001, 0.8490000000000001, 145.16899999999998, 0.9590000000000001, \"https://open.spotify.com/track/5uPYEStMW3KsXnnLV7iCTw\", \"Cluster 5\"], [\"058VOmj2vkyItyKHFLc8vF\", \"Da Ya Think I'm Sexy\", 0.759, 0.815, 112.006, 0.917, \"https://open.spotify.com/track/058VOmj2vkyItyKHFLc8vF\", \"Cluster 5\"], [\"0J6mQxEZnlRt9ymzFntA6z\", \"Livin' On A Prayer\", 0.534, 0.887, 122.494, 0.72, \"https://open.spotify.com/track/0J6mQxEZnlRt9ymzFntA6z\", \"Cluster 5\"], [\"5xC8uOesnn0udeXAYlAnoY\", \"Alright\", 0.467, 0.958, 145.92, 0.701, \"https://open.spotify.com/track/5xC8uOesnn0udeXAYlAnoY\", \"Cluster 5\"], [\"4z5vQIvJg32wmmIGFsmKMx\", \"Minha Tribo Sou Eu\", 0.654, 0.885, 138.987, 0.684, \"https://open.spotify.com/track/4z5vQIvJg32wmmIGFsmKMx\", \"Cluster 5\"], [\"6I7GpxOjlDzO1Iur14FEfy\", \"\\u00d3culos\", 0.5329999999999999, 0.701, 181.372, 0.912, \"https://open.spotify.com/track/6I7GpxOjlDzO1Iur14FEfy\", \"Cluster 5\"], [\"7KkzVlps826NezcpXPvEuV\", \"Johnny B. Goode\", 0.502, 0.9309999999999999, 166.407, 0.903, \"https://open.spotify.com/track/7KkzVlps826NezcpXPvEuV\", \"Cluster 5\"], [\"5CeL9C3bsoe4yzYS1Qz8cw\", \"Girls and Boys\", 0.693, 0.875, 120.04799999999999, 0.9009999999999999, \"https://open.spotify.com/track/5CeL9C3bsoe4yzYS1Qz8cw\", \"Cluster 5\"], [\"3z5ggGtcs4t8pizW521gW9\", \"Pretend We're Dead\", 0.569, 0.7879999999999999, 115.15100000000001, 0.9129999999999999, \"https://open.spotify.com/track/3z5ggGtcs4t8pizW521gW9\", \"Cluster 5\"], [\"3KYiA4vq6RPO1dE2XROXd8\", \"You Give Love A Bad Name\", 0.537, 0.9590000000000001, 122.806, 0.828, \"https://open.spotify.com/track/3KYiA4vq6RPO1dE2XROXd8\", \"Cluster 5\"], [\"38bDGWuyYdSdNfrFfbCiVS\", \"We Didn't Start the Fire\", 0.711, 0.9670000000000001, 145.024, 0.892, \"https://open.spotify.com/track/38bDGWuyYdSdNfrFfbCiVS\", \"Cluster 5\"], [\"77QC2Lgrj6PG7H4HI6yNzS\", \"Meu Guarda-Chuva\", 0.787, 0.612, 154.033, 0.892, \"https://open.spotify.com/track/77QC2Lgrj6PG7H4HI6yNzS\", \"Cluster 5\"], [\"3qZaenSSBPkKTi8nJ48aKf\", \"Vamos fugir\", 0.627, 0.7929999999999999, 134.197, 0.828, \"https://open.spotify.com/track/3qZaenSSBPkKTi8nJ48aKf\", \"Cluster 5\"], [\"5flYFbJweqUHlQjle7uRlI\", \"Que Beleza\", 0.507, 0.547, 160.879, 0.905, \"https://open.spotify.com/track/5flYFbJweqUHlQjle7uRlI\", \"Cluster 5\"], [\"0iwo02NoGqyooxs81iEkz3\", \"The Ballad Of John And Yoko - Remastered 2009\", 0.654, 0.862, 135.11700000000002, 0.956, \"https://open.spotify.com/track/0iwo02NoGqyooxs81iEkz3\", \"Cluster 5\"], [\"0JmNkza8Oax92TF7lJV8GZ\", \"Cara valente\", 0.738, 0.56, 157.946, 0.645, \"https://open.spotify.com/track/0JmNkza8Oax92TF7lJV8GZ\", \"Cluster 5\"], [\"6yl8Es1tCYD9WdSkeVLFw4\", \"You Shook Me All Night Long\", 0.529, 0.768, 127.316, 0.769, \"https://open.spotify.com/track/6yl8Es1tCYD9WdSkeVLFw4\", \"Cluster 5\"], [\"26eOTllWPn7oKuDUJnsJwF\", \"The Sweet Escape\", 0.7559999999999999, 0.77, 119.961, 0.73, \"https://open.spotify.com/track/26eOTllWPn7oKuDUJnsJwF\", \"Cluster 5\"], [\"3CRDbSIZ4r5MsZ0YwxuEkn\", \"Stressed Out\", 0.7340000000000001, 0.637, 169.977, 0.648, \"https://open.spotify.com/track/3CRDbSIZ4r5MsZ0YwxuEkn\", \"Cluster 5\"], [\"5Wl9fPpzcNSE72hJAOuG3R\", \"Tropicana (Morena Tropicana)\", 0.6409999999999999, 0.802, 134.11, 0.759, \"https://open.spotify.com/track/5Wl9fPpzcNSE72hJAOuG3R\", \"Cluster 5\"], [\"6g1NlCpW7fgqDnWbCCDrHl\", \"Wake Me Up - Radio Edit\", 0.532, 0.7829999999999999, 124.08, 0.643, \"https://open.spotify.com/track/6g1NlCpW7fgqDnWbCCDrHl\", \"Cluster 5\"], [\"63vL5oxWrlvaJ0ayNaQnbX\", \"Istanbul (Not Constantinople)\", 0.688, 0.748, 114.14399999999999, 0.892, \"https://open.spotify.com/track/63vL5oxWrlvaJ0ayNaQnbX\", \"Cluster 5\"], [\"3Kc1TDpaMfq6DBt4Gz3Pq1\", \"Firework\", 0.638, 0.8320000000000001, 124.071, 0.648, \"https://open.spotify.com/track/3Kc1TDpaMfq6DBt4Gz3Pq1\", \"Cluster 5\"], [\"6zBw2Qqqj2daIoST9XIJC4\", \"Ai, Ai, Ai...\", 0.64, 0.718, 130.119, 0.92, \"https://open.spotify.com/track/6zBw2Qqqj2daIoST9XIJC4\", \"Cluster 5\"], [\"3sw1PM6wj5aUq3kDrHJsk8\", \"Shiny Happy People\", 0.45299999999999996, 0.9079999999999999, 124.59200000000001, 0.74, \"https://open.spotify.com/track/3sw1PM6wj5aUq3kDrHJsk8\", \"Cluster 5\"], [\"4D3HlCklYQQgTEuPDso96G\", \"Exagerado 3.0\", 0.5660000000000001, 0.878, 136.02700000000002, 0.725, \"https://open.spotify.com/track/4D3HlCklYQQgTEuPDso96G\", \"Cluster 5\"], [\"3ydfhgIZIc2j39NLIhpJpq\", \"Fuck You\", 0.693, 0.879, 127.45700000000001, 0.753, \"https://open.spotify.com/track/3ydfhgIZIc2j39NLIhpJpq\", \"Cluster 5\"], [\"1gKmnrz6SzJlGMNRKBLx1V\", \"One Way Or Another\", 0.47, 0.7959999999999999, 161.414, 0.909, \"https://open.spotify.com/track/1gKmnrz6SzJlGMNRKBLx1V\", \"Cluster 5\"], [\"7DoBn08dqKS9MmtZiZChVD\", \"Garota Nacional\", 0.86, 0.768, 130.108, 0.81, \"https://open.spotify.com/track/7DoBn08dqKS9MmtZiZChVD\", \"Cluster 5\"], [\"7dxK6RSoCWZcb5gobxs1h9\", \"Vamos Fugir\", 0.6, 0.752, 135.98, 0.735, \"https://open.spotify.com/track/7dxK6RSoCWZcb5gobxs1h9\", \"Cluster 5\"]], \"hoverlabel\": {\"namelength\": 0}, \"hovertemplate\": \"Cluster=%{customdata[7]}<br>track_id=%{customdata[0]}<br>track_name=%{customdata[1]}<br>danceability=%{customdata[2]}<br>energy=%{customdata[3]}<br>tempo=%{customdata[4]}<br>valence=%{customdata[5]}<br>url=%{customdata[6]}\", \"legendgroup\": \"Cluster=Cluster 5\", \"marker\": {\"color\": \"#19d3f3\"}, \"name\": \"Cluster=Cluster 5\", \"notched\": true, \"offsetgroup\": \"Cluster=Cluster 5\", \"showlegend\": false, \"type\": \"box\", \"x\": [\"Cluster 5\", \"Cluster 5\", \"Cluster 5\", \"Cluster 5\", \"Cluster 5\", \"Cluster 5\", \"Cluster 5\", \"Cluster 5\", \"Cluster 5\", \"Cluster 5\", \"Cluster 5\", \"Cluster 5\", \"Cluster 5\", \"Cluster 5\", \"Cluster 5\", \"Cluster 5\", \"Cluster 5\", \"Cluster 5\", \"Cluster 5\", \"Cluster 5\", \"Cluster 5\", \"Cluster 5\", \"Cluster 5\", \"Cluster 5\", \"Cluster 5\", \"Cluster 5\", \"Cluster 5\", \"Cluster 5\", \"Cluster 5\", \"Cluster 5\", \"Cluster 5\", \"Cluster 5\", \"Cluster 5\", \"Cluster 5\", \"Cluster 5\", \"Cluster 5\", \"Cluster 5\", \"Cluster 5\", \"Cluster 5\", \"Cluster 5\", \"Cluster 5\", \"Cluster 5\", \"Cluster 5\", \"Cluster 5\", \"Cluster 5\", \"Cluster 5\", \"Cluster 5\", \"Cluster 5\", \"Cluster 5\", \"Cluster 5\", \"Cluster 5\", \"Cluster 5\", \"Cluster 5\", \"Cluster 5\", \"Cluster 5\", \"Cluster 5\", \"Cluster 5\", \"Cluster 5\", \"Cluster 5\", \"Cluster 5\"], \"xaxis\": \"x2\", \"yaxis\": \"y2\"}],\n",
       "                        {\"barmode\": \"relative\", \"legend\": {\"tracegroupgap\": 0}, \"margin\": {\"t\": 60}, \"template\": {\"data\": {\"bar\": [{\"error_x\": {\"color\": \"#2a3f5f\"}, \"error_y\": {\"color\": \"#2a3f5f\"}, \"marker\": {\"line\": {\"color\": \"#E5ECF6\", \"width\": 0.5}}, \"type\": \"bar\"}], \"barpolar\": [{\"marker\": {\"line\": {\"color\": \"#E5ECF6\", \"width\": 0.5}}, \"type\": \"barpolar\"}], \"carpet\": [{\"aaxis\": {\"endlinecolor\": \"#2a3f5f\", \"gridcolor\": \"white\", \"linecolor\": \"white\", \"minorgridcolor\": \"white\", \"startlinecolor\": \"#2a3f5f\"}, \"baxis\": {\"endlinecolor\": \"#2a3f5f\", \"gridcolor\": \"white\", \"linecolor\": \"white\", \"minorgridcolor\": \"white\", \"startlinecolor\": \"#2a3f5f\"}, \"type\": \"carpet\"}], \"choropleth\": [{\"colorbar\": {\"outlinewidth\": 0, \"ticks\": \"\"}, \"type\": \"choropleth\"}], \"contour\": [{\"colorbar\": {\"outlinewidth\": 0, \"ticks\": \"\"}, \"colorscale\": [[0.0, \"#0d0887\"], [0.1111111111111111, \"#46039f\"], [0.2222222222222222, \"#7201a8\"], [0.3333333333333333, \"#9c179e\"], [0.4444444444444444, \"#bd3786\"], [0.5555555555555556, \"#d8576b\"], [0.6666666666666666, \"#ed7953\"], [0.7777777777777778, \"#fb9f3a\"], [0.8888888888888888, \"#fdca26\"], [1.0, \"#f0f921\"]], \"type\": \"contour\"}], \"contourcarpet\": [{\"colorbar\": {\"outlinewidth\": 0, \"ticks\": \"\"}, \"type\": \"contourcarpet\"}], \"heatmap\": [{\"colorbar\": {\"outlinewidth\": 0, \"ticks\": \"\"}, \"colorscale\": [[0.0, \"#0d0887\"], [0.1111111111111111, \"#46039f\"], [0.2222222222222222, \"#7201a8\"], [0.3333333333333333, \"#9c179e\"], [0.4444444444444444, \"#bd3786\"], [0.5555555555555556, \"#d8576b\"], [0.6666666666666666, \"#ed7953\"], [0.7777777777777778, \"#fb9f3a\"], [0.8888888888888888, \"#fdca26\"], [1.0, \"#f0f921\"]], \"type\": \"heatmap\"}], \"heatmapgl\": [{\"colorbar\": {\"outlinewidth\": 0, \"ticks\": \"\"}, \"colorscale\": [[0.0, \"#0d0887\"], [0.1111111111111111, \"#46039f\"], [0.2222222222222222, \"#7201a8\"], [0.3333333333333333, \"#9c179e\"], [0.4444444444444444, \"#bd3786\"], [0.5555555555555556, \"#d8576b\"], [0.6666666666666666, \"#ed7953\"], [0.7777777777777778, \"#fb9f3a\"], [0.8888888888888888, \"#fdca26\"], [1.0, \"#f0f921\"]], \"type\": \"heatmapgl\"}], \"histogram\": [{\"marker\": {\"colorbar\": {\"outlinewidth\": 0, \"ticks\": \"\"}}, \"type\": \"histogram\"}], \"histogram2d\": [{\"colorbar\": {\"outlinewidth\": 0, \"ticks\": \"\"}, \"colorscale\": [[0.0, \"#0d0887\"], [0.1111111111111111, \"#46039f\"], [0.2222222222222222, \"#7201a8\"], [0.3333333333333333, \"#9c179e\"], [0.4444444444444444, \"#bd3786\"], [0.5555555555555556, \"#d8576b\"], [0.6666666666666666, \"#ed7953\"], [0.7777777777777778, \"#fb9f3a\"], [0.8888888888888888, \"#fdca26\"], [1.0, \"#f0f921\"]], \"type\": \"histogram2d\"}], \"histogram2dcontour\": [{\"colorbar\": {\"outlinewidth\": 0, \"ticks\": \"\"}, \"colorscale\": [[0.0, \"#0d0887\"], [0.1111111111111111, \"#46039f\"], [0.2222222222222222, \"#7201a8\"], [0.3333333333333333, \"#9c179e\"], [0.4444444444444444, \"#bd3786\"], [0.5555555555555556, \"#d8576b\"], [0.6666666666666666, \"#ed7953\"], [0.7777777777777778, \"#fb9f3a\"], [0.8888888888888888, \"#fdca26\"], [1.0, \"#f0f921\"]], \"type\": \"histogram2dcontour\"}], \"mesh3d\": [{\"colorbar\": {\"outlinewidth\": 0, \"ticks\": \"\"}, \"type\": \"mesh3d\"}], \"parcoords\": [{\"line\": {\"colorbar\": {\"outlinewidth\": 0, \"ticks\": \"\"}}, \"type\": \"parcoords\"}], \"pie\": [{\"automargin\": true, \"type\": \"pie\"}], \"scatter\": [{\"marker\": {\"colorbar\": {\"outlinewidth\": 0, \"ticks\": \"\"}}, \"type\": \"scatter\"}], \"scatter3d\": [{\"line\": {\"colorbar\": {\"outlinewidth\": 0, \"ticks\": \"\"}}, \"marker\": {\"colorbar\": {\"outlinewidth\": 0, \"ticks\": \"\"}}, \"type\": \"scatter3d\"}], \"scattercarpet\": [{\"marker\": {\"colorbar\": {\"outlinewidth\": 0, \"ticks\": \"\"}}, \"type\": \"scattercarpet\"}], \"scattergeo\": [{\"marker\": {\"colorbar\": {\"outlinewidth\": 0, \"ticks\": \"\"}}, \"type\": \"scattergeo\"}], \"scattergl\": [{\"marker\": {\"colorbar\": {\"outlinewidth\": 0, \"ticks\": \"\"}}, \"type\": \"scattergl\"}], \"scattermapbox\": [{\"marker\": {\"colorbar\": {\"outlinewidth\": 0, \"ticks\": \"\"}}, \"type\": \"scattermapbox\"}], \"scatterpolar\": [{\"marker\": {\"colorbar\": {\"outlinewidth\": 0, \"ticks\": \"\"}}, \"type\": \"scatterpolar\"}], \"scatterpolargl\": [{\"marker\": {\"colorbar\": {\"outlinewidth\": 0, \"ticks\": \"\"}}, \"type\": \"scatterpolargl\"}], \"scatterternary\": [{\"marker\": {\"colorbar\": {\"outlinewidth\": 0, \"ticks\": \"\"}}, \"type\": \"scatterternary\"}], \"surface\": [{\"colorbar\": {\"outlinewidth\": 0, \"ticks\": \"\"}, \"colorscale\": [[0.0, \"#0d0887\"], [0.1111111111111111, \"#46039f\"], [0.2222222222222222, \"#7201a8\"], [0.3333333333333333, \"#9c179e\"], [0.4444444444444444, \"#bd3786\"], [0.5555555555555556, \"#d8576b\"], [0.6666666666666666, \"#ed7953\"], [0.7777777777777778, \"#fb9f3a\"], [0.8888888888888888, \"#fdca26\"], [1.0, \"#f0f921\"]], \"type\": \"surface\"}], \"table\": [{\"cells\": {\"fill\": {\"color\": \"#EBF0F8\"}, \"line\": {\"color\": \"white\"}}, \"header\": {\"fill\": {\"color\": \"#C8D4E3\"}, \"line\": {\"color\": \"white\"}}, \"type\": \"table\"}]}, \"layout\": {\"annotationdefaults\": {\"arrowcolor\": \"#2a3f5f\", \"arrowhead\": 0, \"arrowwidth\": 1}, \"coloraxis\": {\"colorbar\": {\"outlinewidth\": 0, \"ticks\": \"\"}}, \"colorscale\": {\"diverging\": [[0, \"#8e0152\"], [0.1, \"#c51b7d\"], [0.2, \"#de77ae\"], [0.3, \"#f1b6da\"], [0.4, \"#fde0ef\"], [0.5, \"#f7f7f7\"], [0.6, \"#e6f5d0\"], [0.7, \"#b8e186\"], [0.8, \"#7fbc41\"], [0.9, \"#4d9221\"], [1, \"#276419\"]], \"sequential\": [[0.0, \"#0d0887\"], [0.1111111111111111, \"#46039f\"], [0.2222222222222222, \"#7201a8\"], [0.3333333333333333, \"#9c179e\"], [0.4444444444444444, \"#bd3786\"], [0.5555555555555556, \"#d8576b\"], [0.6666666666666666, \"#ed7953\"], [0.7777777777777778, \"#fb9f3a\"], [0.8888888888888888, \"#fdca26\"], [1.0, \"#f0f921\"]], \"sequentialminus\": [[0.0, \"#0d0887\"], [0.1111111111111111, \"#46039f\"], [0.2222222222222222, \"#7201a8\"], [0.3333333333333333, \"#9c179e\"], [0.4444444444444444, \"#bd3786\"], [0.5555555555555556, \"#d8576b\"], [0.6666666666666666, \"#ed7953\"], [0.7777777777777778, \"#fb9f3a\"], [0.8888888888888888, \"#fdca26\"], [1.0, \"#f0f921\"]]}, \"colorway\": [\"#636efa\", \"#EF553B\", \"#00cc96\", \"#ab63fa\", \"#FFA15A\", \"#19d3f3\", \"#FF6692\", \"#B6E880\", \"#FF97FF\", \"#FECB52\"], \"font\": {\"color\": \"#2a3f5f\"}, \"geo\": {\"bgcolor\": \"white\", \"lakecolor\": \"white\", \"landcolor\": \"#E5ECF6\", \"showlakes\": true, \"showland\": true, \"subunitcolor\": \"white\"}, \"hoverlabel\": {\"align\": \"left\"}, \"hovermode\": \"closest\", \"mapbox\": {\"style\": \"light\"}, \"paper_bgcolor\": \"white\", \"plot_bgcolor\": \"#E5ECF6\", \"polar\": {\"angularaxis\": {\"gridcolor\": \"white\", \"linecolor\": \"white\", \"ticks\": \"\"}, \"bgcolor\": \"#E5ECF6\", \"radialaxis\": {\"gridcolor\": \"white\", \"linecolor\": \"white\", \"ticks\": \"\"}}, \"scene\": {\"xaxis\": {\"backgroundcolor\": \"#E5ECF6\", \"gridcolor\": \"white\", \"gridwidth\": 2, \"linecolor\": \"white\", \"showbackground\": true, \"ticks\": \"\", \"zerolinecolor\": \"white\"}, \"yaxis\": {\"backgroundcolor\": \"#E5ECF6\", \"gridcolor\": \"white\", \"gridwidth\": 2, \"linecolor\": \"white\", \"showbackground\": true, \"ticks\": \"\", \"zerolinecolor\": \"white\"}, \"zaxis\": {\"backgroundcolor\": \"#E5ECF6\", \"gridcolor\": \"white\", \"gridwidth\": 2, \"linecolor\": \"white\", \"showbackground\": true, \"ticks\": \"\", \"zerolinecolor\": \"white\"}}, \"shapedefaults\": {\"line\": {\"color\": \"#2a3f5f\"}}, \"ternary\": {\"aaxis\": {\"gridcolor\": \"white\", \"linecolor\": \"white\", \"ticks\": \"\"}, \"baxis\": {\"gridcolor\": \"white\", \"linecolor\": \"white\", \"ticks\": \"\"}, \"bgcolor\": \"#E5ECF6\", \"caxis\": {\"gridcolor\": \"white\", \"linecolor\": \"white\", \"ticks\": \"\"}}, \"title\": {\"x\": 0.05}, \"xaxis\": {\"automargin\": true, \"gridcolor\": \"white\", \"linecolor\": \"white\", \"ticks\": \"\", \"title\": {\"standoff\": 15}, \"zerolinecolor\": \"white\", \"zerolinewidth\": 2}, \"yaxis\": {\"automargin\": true, \"gridcolor\": \"white\", \"linecolor\": \"white\", \"ticks\": \"\", \"title\": {\"standoff\": 15}, \"zerolinecolor\": \"white\", \"zerolinewidth\": 2}}}, \"xaxis\": {\"anchor\": \"y\", \"categoryarray\": [\"Cluster 0\", \"Cluster 1\", \"Cluster 2\", \"Cluster 3\", \"Cluster 4\", \"Cluster 5\"], \"categoryorder\": \"array\", \"domain\": [0.0, 1.0], \"title\": {\"text\": \"Cluster\"}}, \"xaxis2\": {\"anchor\": \"y2\", \"domain\": [0.0, 1.0], \"matches\": \"x\", \"showgrid\": true, \"showticklabels\": false}, \"yaxis\": {\"anchor\": \"x\", \"domain\": [0.0, 0.7326], \"title\": {\"text\": \"count\"}}, \"yaxis2\": {\"anchor\": \"x2\", \"domain\": [0.7426, 1.0], \"matches\": \"y2\", \"showgrid\": false, \"showline\": false, \"showticklabels\": false, \"ticks\": \"\"}},\n",
       "                        {\"responsive\": true}\n",
       "                    ).then(function(){\n",
       "                            \n",
       "var gd = document.getElementById('0f6933ab-197c-4322-9370-e3557f0c95b4');\n",
       "var x = new MutationObserver(function (mutations, observer) {{\n",
       "        var display = window.getComputedStyle(gd).display;\n",
       "        if (!display || display === 'none') {{\n",
       "            console.log([gd, 'removed!']);\n",
       "            Plotly.purge(gd);\n",
       "            observer.disconnect();\n",
       "        }}\n",
       "}});\n",
       "\n",
       "// Listen for the removal of the full notebook cells\n",
       "var notebookContainer = gd.closest('#notebook-container');\n",
       "if (notebookContainer) {{\n",
       "    x.observe(notebookContainer, {childList: true});\n",
       "}}\n",
       "\n",
       "// Listen for the clearing of the current output cell\n",
       "var outputEl = gd.closest('.output');\n",
       "if (outputEl) {{\n",
       "    x.observe(outputEl, {childList: true});\n",
       "}}\n",
       "\n",
       "                        })\n",
       "                };\n",
       "                });\n",
       "            </script>\n",
       "        </div>"
      ]
     },
     "metadata": {},
     "output_type": "display_data"
    }
   ],
   "source": [
    "plot_model(m, plot = 'distribution') #to see size of clusters"
   ]
  },
  {
   "cell_type": "code",
   "execution_count": 36,
   "metadata": {},
   "outputs": [
    {
     "data": {
      "text/html": [
       "<div>\n",
       "<style scoped>\n",
       "    .dataframe tbody tr th:only-of-type {\n",
       "        vertical-align: middle;\n",
       "    }\n",
       "\n",
       "    .dataframe tbody tr th {\n",
       "        vertical-align: top;\n",
       "    }\n",
       "\n",
       "    .dataframe thead th {\n",
       "        text-align: right;\n",
       "    }\n",
       "</style>\n",
       "<table border=\"1\" class=\"dataframe\">\n",
       "  <thead>\n",
       "    <tr style=\"text-align: right;\">\n",
       "      <th></th>\n",
       "      <th>Cluster</th>\n",
       "      <th>track_name</th>\n",
       "    </tr>\n",
       "  </thead>\n",
       "  <tbody>\n",
       "    <tr>\n",
       "      <th>0</th>\n",
       "      <td>Cluster 1</td>\n",
       "      <td>Have You Ever Seen The Rain</td>\n",
       "    </tr>\n",
       "    <tr>\n",
       "      <th>1</th>\n",
       "      <td>Cluster 4</td>\n",
       "      <td>Break It Down Again</td>\n",
       "    </tr>\n",
       "    <tr>\n",
       "      <th>2</th>\n",
       "      <td>Cluster 1</td>\n",
       "      <td>Stay</td>\n",
       "    </tr>\n",
       "    <tr>\n",
       "      <th>3</th>\n",
       "      <td>Cluster 1</td>\n",
       "      <td>A Visita</td>\n",
       "    </tr>\n",
       "    <tr>\n",
       "      <th>4</th>\n",
       "      <td>Cluster 1</td>\n",
       "      <td>O Que É O Que É?</td>\n",
       "    </tr>\n",
       "    <tr>\n",
       "      <th>5</th>\n",
       "      <td>Cluster 1</td>\n",
       "      <td>Loving Every Minute</td>\n",
       "    </tr>\n",
       "    <tr>\n",
       "      <th>6</th>\n",
       "      <td>Cluster 1</td>\n",
       "      <td>Nosso Pequeno Castelo</td>\n",
       "    </tr>\n",
       "    <tr>\n",
       "      <th>7</th>\n",
       "      <td>Cluster 0</td>\n",
       "      <td>Voce Abusou</td>\n",
       "    </tr>\n",
       "    <tr>\n",
       "      <th>8</th>\n",
       "      <td>Cluster 1</td>\n",
       "      <td>I Follow Rivers</td>\n",
       "    </tr>\n",
       "    <tr>\n",
       "      <th>9</th>\n",
       "      <td>Cluster 3</td>\n",
       "      <td>Relicário</td>\n",
       "    </tr>\n",
       "  </tbody>\n",
       "</table>\n",
       "</div>"
      ],
      "text/plain": [
       "     Cluster                   track_name\n",
       "0  Cluster 1  Have You Ever Seen The Rain\n",
       "1  Cluster 4          Break It Down Again\n",
       "2  Cluster 1                         Stay\n",
       "3  Cluster 1                     A Visita\n",
       "4  Cluster 1             O Que É O Que É?\n",
       "5  Cluster 1          Loving Every Minute\n",
       "6  Cluster 1        Nosso Pequeno Castelo\n",
       "7  Cluster 0                  Voce Abusou\n",
       "8  Cluster 1              I Follow Rivers\n",
       "9  Cluster 3                    Relicário"
      ]
     },
     "execution_count": 36,
     "metadata": {},
     "output_type": "execute_result"
    }
   ],
   "source": [
    "results[['Cluster', 'track_name']].head(10)"
   ]
  },
  {
   "cell_type": "code",
   "execution_count": 53,
   "metadata": {},
   "outputs": [],
   "source": [
    "def ddisplay(df):\n",
    "    def make_clickable(url):\n",
    "        return f'<a target=\"_blank\" href=\"{url}\">listen</a>'\n",
    "\n",
    "    display(df.style.format({'url': make_clickable}))\n",
    "    pass\n",
    "\n",
    "# Check results\n",
    "def select_cluster(id):\n",
    "    _df = results[results['Cluster']==f'Cluster {id}'][['track_name', 'url']]\n",
    "    return _df.sample(n=15, random_state=42)"
   ]
  },
  {
   "cell_type": "code",
   "execution_count": 54,
   "metadata": {},
   "outputs": [
    {
     "data": {
      "text/html": [
       "<style  type=\"text/css\" >\n",
       "</style><table id=\"T_48ac70fa_9ece_11ea_a047_a683e7bfb66f\" ><thead>    <tr>        <th class=\"blank level0\" ></th>        <th class=\"col_heading level0 col0\" >track_name</th>        <th class=\"col_heading level0 col1\" >url</th>    </tr></thead><tbody>\n",
       "                <tr>\n",
       "                        <th id=\"T_48ac70fa_9ece_11ea_a047_a683e7bfb66flevel0_row0\" class=\"row_heading level0 row0\" >288</th>\n",
       "                        <td id=\"T_48ac70fa_9ece_11ea_a047_a683e7bfb66frow0_col0\" class=\"data row0 col0\" >18 and Life</td>\n",
       "                        <td id=\"T_48ac70fa_9ece_11ea_a047_a683e7bfb66frow0_col1\" class=\"data row0 col1\" ><a target=\"_blank\" href=\"https://open.spotify.com/track/0qgrrDnUUhyxpxbBznUnzg\">listen</a></td>\n",
       "            </tr>\n",
       "            <tr>\n",
       "                        <th id=\"T_48ac70fa_9ece_11ea_a047_a683e7bfb66flevel0_row1\" class=\"row_heading level0 row1\" >100</th>\n",
       "                        <td id=\"T_48ac70fa_9ece_11ea_a047_a683e7bfb66frow1_col0\" class=\"data row1 col0\" >These Boots Are Made For Walkin'</td>\n",
       "                        <td id=\"T_48ac70fa_9ece_11ea_a047_a683e7bfb66frow1_col1\" class=\"data row1 col1\" ><a target=\"_blank\" href=\"https://open.spotify.com/track/2nwCO1PqpvyoFIvq3Vrj8N\">listen</a></td>\n",
       "            </tr>\n",
       "            <tr>\n",
       "                        <th id=\"T_48ac70fa_9ece_11ea_a047_a683e7bfb66flevel0_row2\" class=\"row_heading level0 row2\" >233</th>\n",
       "                        <td id=\"T_48ac70fa_9ece_11ea_a047_a683e7bfb66frow2_col0\" class=\"data row2 col0\" >Smiled At Me (Sorriu Para Mim)</td>\n",
       "                        <td id=\"T_48ac70fa_9ece_11ea_a047_a683e7bfb66frow2_col1\" class=\"data row2 col1\" ><a target=\"_blank\" href=\"https://open.spotify.com/track/6IVjnPfMGjQeUXvqpzLLdY\">listen</a></td>\n",
       "            </tr>\n",
       "            <tr>\n",
       "                        <th id=\"T_48ac70fa_9ece_11ea_a047_a683e7bfb66flevel0_row3\" class=\"row_heading level0 row3\" >118</th>\n",
       "                        <td id=\"T_48ac70fa_9ece_11ea_a047_a683e7bfb66frow3_col0\" class=\"data row3 col0\" >Dream A Little Dream Of Me</td>\n",
       "                        <td id=\"T_48ac70fa_9ece_11ea_a047_a683e7bfb66frow3_col1\" class=\"data row3 col1\" ><a target=\"_blank\" href=\"https://open.spotify.com/track/3Bbbz0IGORWZSLf9UqsAL4\">listen</a></td>\n",
       "            </tr>\n",
       "            <tr>\n",
       "                        <th id=\"T_48ac70fa_9ece_11ea_a047_a683e7bfb66flevel0_row4\" class=\"row_heading level0 row4\" >50</th>\n",
       "                        <td id=\"T_48ac70fa_9ece_11ea_a047_a683e7bfb66frow4_col0\" class=\"data row4 col0\" >Non, je ne regrette rien - Remasterisé En 2015</td>\n",
       "                        <td id=\"T_48ac70fa_9ece_11ea_a047_a683e7bfb66frow4_col1\" class=\"data row4 col1\" ><a target=\"_blank\" href=\"https://open.spotify.com/track/0qukw1Cr7FADBAgzU55MQK\">listen</a></td>\n",
       "            </tr>\n",
       "            <tr>\n",
       "                        <th id=\"T_48ac70fa_9ece_11ea_a047_a683e7bfb66flevel0_row5\" class=\"row_heading level0 row5\" >54</th>\n",
       "                        <td id=\"T_48ac70fa_9ece_11ea_a047_a683e7bfb66frow5_col0\" class=\"data row5 col0\" >The Thrill Is Gone</td>\n",
       "                        <td id=\"T_48ac70fa_9ece_11ea_a047_a683e7bfb66frow5_col1\" class=\"data row5 col1\" ><a target=\"_blank\" href=\"https://open.spotify.com/track/5gEuWtxcn5Vz4xpT7dBoBU\">listen</a></td>\n",
       "            </tr>\n",
       "            <tr>\n",
       "                        <th id=\"T_48ac70fa_9ece_11ea_a047_a683e7bfb66flevel0_row6\" class=\"row_heading level0 row6\" >157</th>\n",
       "                        <td id=\"T_48ac70fa_9ece_11ea_a047_a683e7bfb66frow6_col0\" class=\"data row6 col0\" >Dona Cila</td>\n",
       "                        <td id=\"T_48ac70fa_9ece_11ea_a047_a683e7bfb66frow6_col1\" class=\"data row6 col1\" ><a target=\"_blank\" href=\"https://open.spotify.com/track/2FYE5aTxHX5lMJZ8HKmiQn\">listen</a></td>\n",
       "            </tr>\n",
       "            <tr>\n",
       "                        <th id=\"T_48ac70fa_9ece_11ea_a047_a683e7bfb66flevel0_row7\" class=\"row_heading level0 row7\" >174</th>\n",
       "                        <td id=\"T_48ac70fa_9ece_11ea_a047_a683e7bfb66frow7_col0\" class=\"data row7 col0\" >Telegrama</td>\n",
       "                        <td id=\"T_48ac70fa_9ece_11ea_a047_a683e7bfb66frow7_col1\" class=\"data row7 col1\" ><a target=\"_blank\" href=\"https://open.spotify.com/track/7xpDGoUGbtaquk5xMvzwTh\">listen</a></td>\n",
       "            </tr>\n",
       "            <tr>\n",
       "                        <th id=\"T_48ac70fa_9ece_11ea_a047_a683e7bfb66flevel0_row8\" class=\"row_heading level0 row8\" >84</th>\n",
       "                        <td id=\"T_48ac70fa_9ece_11ea_a047_a683e7bfb66frow8_col0\" class=\"data row8 col0\" >Dream a Little Dream of Me</td>\n",
       "                        <td id=\"T_48ac70fa_9ece_11ea_a047_a683e7bfb66frow8_col1\" class=\"data row8 col1\" ><a target=\"_blank\" href=\"https://open.spotify.com/track/00hwJU6jHS9C1LW4PLWXId\">listen</a></td>\n",
       "            </tr>\n",
       "            <tr>\n",
       "                        <th id=\"T_48ac70fa_9ece_11ea_a047_a683e7bfb66flevel0_row9\" class=\"row_heading level0 row9\" >9</th>\n",
       "                        <td id=\"T_48ac70fa_9ece_11ea_a047_a683e7bfb66frow9_col0\" class=\"data row9 col0\" >Relicário</td>\n",
       "                        <td id=\"T_48ac70fa_9ece_11ea_a047_a683e7bfb66frow9_col1\" class=\"data row9 col1\" ><a target=\"_blank\" href=\"https://open.spotify.com/track/2kMvM1l45ZjpOv73qPefxA\">listen</a></td>\n",
       "            </tr>\n",
       "            <tr>\n",
       "                        <th id=\"T_48ac70fa_9ece_11ea_a047_a683e7bfb66flevel0_row10\" class=\"row_heading level0 row10\" >24</th>\n",
       "                        <td id=\"T_48ac70fa_9ece_11ea_a047_a683e7bfb66frow10_col0\" class=\"data row10 col0\" >Skyfall</td>\n",
       "                        <td id=\"T_48ac70fa_9ece_11ea_a047_a683e7bfb66frow10_col1\" class=\"data row10 col1\" ><a target=\"_blank\" href=\"https://open.spotify.com/track/3mr584ZFSkZrWja9kJAzlb\">listen</a></td>\n",
       "            </tr>\n",
       "            <tr>\n",
       "                        <th id=\"T_48ac70fa_9ece_11ea_a047_a683e7bfb66flevel0_row11\" class=\"row_heading level0 row11\" >117</th>\n",
       "                        <td id=\"T_48ac70fa_9ece_11ea_a047_a683e7bfb66frow11_col0\" class=\"data row11 col0\" >La vie en rose - Single Version</td>\n",
       "                        <td id=\"T_48ac70fa_9ece_11ea_a047_a683e7bfb66frow11_col1\" class=\"data row11 col1\" ><a target=\"_blank\" href=\"https://open.spotify.com/track/0zDVclPMSsjeyvbnqhWOmt\">listen</a></td>\n",
       "            </tr>\n",
       "            <tr>\n",
       "                        <th id=\"T_48ac70fa_9ece_11ea_a047_a683e7bfb66flevel0_row12\" class=\"row_heading level0 row12\" >35</th>\n",
       "                        <td id=\"T_48ac70fa_9ece_11ea_a047_a683e7bfb66frow12_col0\" class=\"data row12 col0\" >Aquarela</td>\n",
       "                        <td id=\"T_48ac70fa_9ece_11ea_a047_a683e7bfb66frow12_col1\" class=\"data row12 col1\" ><a target=\"_blank\" href=\"https://open.spotify.com/track/4rq3CoA3hrw3LjgtItwSu5\">listen</a></td>\n",
       "            </tr>\n",
       "            <tr>\n",
       "                        <th id=\"T_48ac70fa_9ece_11ea_a047_a683e7bfb66flevel0_row13\" class=\"row_heading level0 row13\" >85</th>\n",
       "                        <td id=\"T_48ac70fa_9ece_11ea_a047_a683e7bfb66frow13_col0\" class=\"data row13 col0\" >What a Wonderful World</td>\n",
       "                        <td id=\"T_48ac70fa_9ece_11ea_a047_a683e7bfb66frow13_col1\" class=\"data row13 col1\" ><a target=\"_blank\" href=\"https://open.spotify.com/track/6tjZNDZo24C8gGelsozCzB\">listen</a></td>\n",
       "            </tr>\n",
       "            <tr>\n",
       "                        <th id=\"T_48ac70fa_9ece_11ea_a047_a683e7bfb66flevel0_row14\" class=\"row_heading level0 row14\" >58</th>\n",
       "                        <td id=\"T_48ac70fa_9ece_11ea_a047_a683e7bfb66frow14_col0\" class=\"data row14 col0\" >O bêbado e a equilibrista</td>\n",
       "                        <td id=\"T_48ac70fa_9ece_11ea_a047_a683e7bfb66frow14_col1\" class=\"data row14 col1\" ><a target=\"_blank\" href=\"https://open.spotify.com/track/7KFUj2MunvS4cbauF04r6w\">listen</a></td>\n",
       "            </tr>\n",
       "    </tbody></table>"
      ],
      "text/plain": [
       "<pandas.io.formats.style.Styler at 0x1355eb290>"
      ]
     },
     "metadata": {},
     "output_type": "display_data"
    }
   ],
   "source": [
    "ddisplay(select_cluster(3))"
   ]
  },
  {
   "cell_type": "code",
   "execution_count": null,
   "metadata": {},
   "outputs": [],
   "source": [
    "\n"
   ]
  }
 ],
 "metadata": {
  "kernelspec": {
   "display_name": "Python 3",
   "language": "python",
   "name": "python3"
  },
  "language_info": {
   "codemirror_mode": {
    "name": "ipython",
    "version": 3
   },
   "file_extension": ".py",
   "mimetype": "text/x-python",
   "name": "python",
   "nbconvert_exporter": "python",
   "pygments_lexer": "ipython3",
   "version": "3.7.7"
  }
 },
 "nbformat": 4,
 "nbformat_minor": 4
}
