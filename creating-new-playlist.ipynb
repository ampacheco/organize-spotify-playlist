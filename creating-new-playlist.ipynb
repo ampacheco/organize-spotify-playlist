{
 "cells": [
  {
   "cell_type": "markdown",
   "metadata": {},
   "source": [
    "# Creating a new Playlist\n",
    "Based on original work from [makispl/Spotify-Data-Analysis](https://github.com/makispl/Spotify-Data-Analysis)"
   ]
  },
  {
   "cell_type": "code",
   "execution_count": 1,
   "metadata": {},
   "outputs": [],
   "source": [
    "# # Import the libraries\n",
    "import os\n",
    "import pandas as pd\n",
    "import spotipy\n",
    "import spotipy.util as util\n",
    "\n",
    "from spotipy.oauth2 import SpotifyClientCredentials"
   ]
  },
  {
   "cell_type": "markdown",
   "metadata": {},
   "source": [
    "## Authorization Flow"
   ]
  },
  {
   "cell_type": "code",
   "execution_count": 2,
   "metadata": {},
   "outputs": [],
   "source": [
    "# Declare the credentials\n",
    "cid = os.environ['SPOTIFY_CLIENT_ID']\n",
    "secret = os.environ['SPOTIFY_CLIENT_SECRET']\n",
    "redirect_uri='http://localhost:7777/callback'\n",
    "username = 'gustavoarjones'"
   ]
  },
  {
   "cell_type": "markdown",
   "metadata": {},
   "source": [
    "## Create the New Playlist\n",
    "Next, we are going to create a new playlist and add to it all the tracks we ended up selecting:"
   ]
  },
  {
   "cell_type": "code",
   "execution_count": 3,
   "metadata": {},
   "outputs": [],
   "source": [
    "# Authorization flow\n",
    "\n",
    "scope = \"playlist-modify-public\"\n",
    "token = util.prompt_for_user_token(username, scope, client_id=cid, client_secret=secret, redirect_uri=redirect_uri)\n",
    "\n",
    "if token:\n",
    "    sp = spotipy.Spotify(auth=token)\n",
    "else:\n",
    "    print(\"Can't get token for\", username)"
   ]
  },
  {
   "cell_type": "code",
   "execution_count": 4,
   "metadata": {},
   "outputs": [],
   "source": [
    "def create_playlist(sp, username, playlist_name, playlist_description):\n",
    "    playlists = sp.user_playlist_create(username, playlist_name, description = playlist_description)\n",
    "    return playlists['id']"
   ]
  },
  {
   "cell_type": "code",
   "execution_count": 5,
   "metadata": {},
   "outputs": [],
   "source": [
    "generated_playlist = create_playlist(sp, username, 'My Machine Learning Music', 'Playlist''s Organizing with ML')"
   ]
  },
  {
   "cell_type": "code",
   "execution_count": 6,
   "metadata": {},
   "outputs": [],
   "source": [
    "def enrich_playlist(sp, username, playlist_id, playlist_tracks):\n",
    "    index = 0\n",
    "    results = []\n",
    "    \n",
    "    while index < len(playlist_tracks):\n",
    "        results += sp.user_playlist_add_tracks(username, playlist_id, tracks = playlist_tracks[index:index + 100])\n",
    "        index += 100"
   ]
  },
  {
   "cell_type": "code",
   "execution_count": 16,
   "metadata": {},
   "outputs": [
    {
     "data": {
      "text/html": [
       "<div>\n",
       "<style scoped>\n",
       "    .dataframe tbody tr th:only-of-type {\n",
       "        vertical-align: middle;\n",
       "    }\n",
       "\n",
       "    .dataframe tbody tr th {\n",
       "        vertical-align: top;\n",
       "    }\n",
       "\n",
       "    .dataframe thead th {\n",
       "        text-align: right;\n",
       "    }\n",
       "</style>\n",
       "<table border=\"1\" class=\"dataframe\">\n",
       "  <thead>\n",
       "    <tr style=\"text-align: right;\">\n",
       "      <th></th>\n",
       "      <th>track_id</th>\n",
       "      <th>track_name</th>\n",
       "      <th>danceability</th>\n",
       "      <th>energy</th>\n",
       "      <th>tempo</th>\n",
       "      <th>valence</th>\n",
       "      <th>url</th>\n",
       "    </tr>\n",
       "  </thead>\n",
       "  <tbody>\n",
       "    <tr>\n",
       "      <th>0</th>\n",
       "      <td>0zDVclPMSsjeyvbnqhWOmt</td>\n",
       "      <td>La vie en rose - Single Version</td>\n",
       "      <td>0.520</td>\n",
       "      <td>0.0406</td>\n",
       "      <td>70.138</td>\n",
       "      <td>0.2850</td>\n",
       "      <td>https://open.spotify.com/track/0zDVclPMSsjeyvb...</td>\n",
       "    </tr>\n",
       "    <tr>\n",
       "      <th>1</th>\n",
       "      <td>2lHVwMuA9fnKDYlceiXDLM</td>\n",
       "      <td>Rocket Man</td>\n",
       "      <td>0.128</td>\n",
       "      <td>0.0535</td>\n",
       "      <td>75.233</td>\n",
       "      <td>0.0821</td>\n",
       "      <td>https://open.spotify.com/track/2lHVwMuA9fnKDYl...</td>\n",
       "    </tr>\n",
       "    <tr>\n",
       "      <th>2</th>\n",
       "      <td>7KsQssGg3DaovFkd9Kbnc6</td>\n",
       "      <td>Corcovado</td>\n",
       "      <td>0.517</td>\n",
       "      <td>0.0854</td>\n",
       "      <td>126.854</td>\n",
       "      <td>0.3910</td>\n",
       "      <td>https://open.spotify.com/track/7KsQssGg3DaovFk...</td>\n",
       "    </tr>\n",
       "    <tr>\n",
       "      <th>3</th>\n",
       "      <td>3Bbbz0IGORWZSLf9UqsAL4</td>\n",
       "      <td>Dream A Little Dream Of Me</td>\n",
       "      <td>0.631</td>\n",
       "      <td>0.1270</td>\n",
       "      <td>76.559</td>\n",
       "      <td>0.3220</td>\n",
       "      <td>https://open.spotify.com/track/3Bbbz0IGORWZSLf...</td>\n",
       "    </tr>\n",
       "    <tr>\n",
       "      <th>4</th>\n",
       "      <td>5TvE3pk05pyFIGdSY9j4DJ</td>\n",
       "      <td>Say Something</td>\n",
       "      <td>0.407</td>\n",
       "      <td>0.1470</td>\n",
       "      <td>141.284</td>\n",
       "      <td>0.0765</td>\n",
       "      <td>https://open.spotify.com/track/5TvE3pk05pyFIGd...</td>\n",
       "    </tr>\n",
       "    <tr>\n",
       "      <th>...</th>\n",
       "      <td>...</td>\n",
       "      <td>...</td>\n",
       "      <td>...</td>\n",
       "      <td>...</td>\n",
       "      <td>...</td>\n",
       "      <td>...</td>\n",
       "      <td>...</td>\n",
       "    </tr>\n",
       "    <tr>\n",
       "      <th>294</th>\n",
       "      <td>2PpruBYCo4H7WOBJ7Q2EwM</td>\n",
       "      <td>Hey Ya!</td>\n",
       "      <td>0.728</td>\n",
       "      <td>0.9740</td>\n",
       "      <td>79.526</td>\n",
       "      <td>0.9650</td>\n",
       "      <td>https://open.spotify.com/track/2PpruBYCo4H7WOB...</td>\n",
       "    </tr>\n",
       "    <tr>\n",
       "      <th>295</th>\n",
       "      <td>34pz8XUZRfw04lk4DPtwa7</td>\n",
       "      <td>Keep Yourself Alive - Live At The Rainbow</td>\n",
       "      <td>0.308</td>\n",
       "      <td>0.9750</td>\n",
       "      <td>138.974</td>\n",
       "      <td>0.2950</td>\n",
       "      <td>https://open.spotify.com/track/34pz8XUZRfw04lk...</td>\n",
       "    </tr>\n",
       "    <tr>\n",
       "      <th>296</th>\n",
       "      <td>7ju9l3vOySwv0OQ3WuwwSq</td>\n",
       "      <td>Shine Ibiza Anthem 2019</td>\n",
       "      <td>0.549</td>\n",
       "      <td>0.9770</td>\n",
       "      <td>137.991</td>\n",
       "      <td>0.2500</td>\n",
       "      <td>https://open.spotify.com/track/7ju9l3vOySwv0OQ...</td>\n",
       "    </tr>\n",
       "    <tr>\n",
       "      <th>297</th>\n",
       "      <td>2wPFy7SAFnt9Nj2TipWcqb</td>\n",
       "      <td>Block Rockin' Beats</td>\n",
       "      <td>0.606</td>\n",
       "      <td>0.9770</td>\n",
       "      <td>109.410</td>\n",
       "      <td>0.8090</td>\n",
       "      <td>https://open.spotify.com/track/2wPFy7SAFnt9Nj2...</td>\n",
       "    </tr>\n",
       "    <tr>\n",
       "      <th>298</th>\n",
       "      <td>2YNnsUUgc23G8Th8TKpH44</td>\n",
       "      <td>O Calibre</td>\n",
       "      <td>0.477</td>\n",
       "      <td>0.9770</td>\n",
       "      <td>90.155</td>\n",
       "      <td>0.5280</td>\n",
       "      <td>https://open.spotify.com/track/2YNnsUUgc23G8Th...</td>\n",
       "    </tr>\n",
       "  </tbody>\n",
       "</table>\n",
       "<p>299 rows × 7 columns</p>\n",
       "</div>"
      ],
      "text/plain": [
       "                   track_id                                 track_name  \\\n",
       "0    0zDVclPMSsjeyvbnqhWOmt            La vie en rose - Single Version   \n",
       "1    2lHVwMuA9fnKDYlceiXDLM                                 Rocket Man   \n",
       "2    7KsQssGg3DaovFkd9Kbnc6                                  Corcovado   \n",
       "3    3Bbbz0IGORWZSLf9UqsAL4                 Dream A Little Dream Of Me   \n",
       "4    5TvE3pk05pyFIGdSY9j4DJ                              Say Something   \n",
       "..                      ...                                        ...   \n",
       "294  2PpruBYCo4H7WOBJ7Q2EwM                                    Hey Ya!   \n",
       "295  34pz8XUZRfw04lk4DPtwa7  Keep Yourself Alive - Live At The Rainbow   \n",
       "296  7ju9l3vOySwv0OQ3WuwwSq                    Shine Ibiza Anthem 2019   \n",
       "297  2wPFy7SAFnt9Nj2TipWcqb                        Block Rockin' Beats   \n",
       "298  2YNnsUUgc23G8Th8TKpH44                                  O Calibre   \n",
       "\n",
       "     danceability  energy    tempo  valence  \\\n",
       "0           0.520  0.0406   70.138   0.2850   \n",
       "1           0.128  0.0535   75.233   0.0821   \n",
       "2           0.517  0.0854  126.854   0.3910   \n",
       "3           0.631  0.1270   76.559   0.3220   \n",
       "4           0.407  0.1470  141.284   0.0765   \n",
       "..            ...     ...      ...      ...   \n",
       "294         0.728  0.9740   79.526   0.9650   \n",
       "295         0.308  0.9750  138.974   0.2950   \n",
       "296         0.549  0.9770  137.991   0.2500   \n",
       "297         0.606  0.9770  109.410   0.8090   \n",
       "298         0.477  0.9770   90.155   0.5280   \n",
       "\n",
       "                                                   url  \n",
       "0    https://open.spotify.com/track/0zDVclPMSsjeyvb...  \n",
       "1    https://open.spotify.com/track/2lHVwMuA9fnKDYl...  \n",
       "2    https://open.spotify.com/track/7KsQssGg3DaovFk...  \n",
       "3    https://open.spotify.com/track/3Bbbz0IGORWZSLf...  \n",
       "4    https://open.spotify.com/track/5TvE3pk05pyFIGd...  \n",
       "..                                                 ...  \n",
       "294  https://open.spotify.com/track/2PpruBYCo4H7WOB...  \n",
       "295  https://open.spotify.com/track/34pz8XUZRfw04lk...  \n",
       "296  https://open.spotify.com/track/7ju9l3vOySwv0OQ...  \n",
       "297  https://open.spotify.com/track/2wPFy7SAFnt9Nj2...  \n",
       "298  https://open.spotify.com/track/2YNnsUUgc23G8Th...  \n",
       "\n",
       "[299 rows x 7 columns]"
      ]
     },
     "execution_count": 16,
     "metadata": {},
     "output_type": "execute_result"
    }
   ],
   "source": [
    "df = pd.read_csv('new-playlist.csv')\n",
    "df"
   ]
  },
  {
   "cell_type": "code",
   "execution_count": 8,
   "metadata": {},
   "outputs": [],
   "source": [
    "list_track = df.index"
   ]
  },
  {
   "cell_type": "code",
   "execution_count": 13,
   "metadata": {},
   "outputs": [
    {
     "data": {
      "text/plain": [
       "RangeIndex(start=0, stop=100, step=1)"
      ]
     },
     "execution_count": 13,
     "metadata": {},
     "output_type": "execute_result"
    }
   ],
   "source": [
    "list_track[0:100]"
   ]
  },
  {
   "cell_type": "code",
   "execution_count": 9,
   "metadata": {},
   "outputs": [
    {
     "ename": "AttributeError",
     "evalue": "'int' object has no attribute 'split'",
     "output_type": "error",
     "traceback": [
      "\u001b[0;31m---------------------------------------------------------------------------\u001b[0m",
      "\u001b[0;31mAttributeError\u001b[0m                            Traceback (most recent call last)",
      "\u001b[0;32m<ipython-input-9-43c24c2e8ae0>\u001b[0m in \u001b[0;36m<module>\u001b[0;34m\u001b[0m\n\u001b[0;32m----> 1\u001b[0;31m \u001b[0menrich_playlist\u001b[0m\u001b[0;34m(\u001b[0m\u001b[0msp\u001b[0m\u001b[0;34m,\u001b[0m \u001b[0musername\u001b[0m\u001b[0;34m,\u001b[0m \u001b[0mgenerated_playlist\u001b[0m\u001b[0;34m,\u001b[0m \u001b[0mlist_track\u001b[0m\u001b[0;34m)\u001b[0m\u001b[0;34m\u001b[0m\u001b[0;34m\u001b[0m\u001b[0m\n\u001b[0m",
      "\u001b[0;32m<ipython-input-6-719162d72ef4>\u001b[0m in \u001b[0;36menrich_playlist\u001b[0;34m(sp, username, playlist_id, playlist_tracks)\u001b[0m\n\u001b[1;32m      4\u001b[0m \u001b[0;34m\u001b[0m\u001b[0m\n\u001b[1;32m      5\u001b[0m     \u001b[0;32mwhile\u001b[0m \u001b[0mindex\u001b[0m \u001b[0;34m<\u001b[0m \u001b[0mlen\u001b[0m\u001b[0;34m(\u001b[0m\u001b[0mplaylist_tracks\u001b[0m\u001b[0;34m)\u001b[0m\u001b[0;34m:\u001b[0m\u001b[0;34m\u001b[0m\u001b[0;34m\u001b[0m\u001b[0m\n\u001b[0;32m----> 6\u001b[0;31m         \u001b[0mresults\u001b[0m \u001b[0;34m+=\u001b[0m \u001b[0msp\u001b[0m\u001b[0;34m.\u001b[0m\u001b[0muser_playlist_add_tracks\u001b[0m\u001b[0;34m(\u001b[0m\u001b[0musername\u001b[0m\u001b[0;34m,\u001b[0m \u001b[0mplaylist_id\u001b[0m\u001b[0;34m,\u001b[0m \u001b[0mtracks\u001b[0m \u001b[0;34m=\u001b[0m \u001b[0mplaylist_tracks\u001b[0m\u001b[0;34m[\u001b[0m\u001b[0mindex\u001b[0m\u001b[0;34m:\u001b[0m\u001b[0mindex\u001b[0m \u001b[0;34m+\u001b[0m \u001b[0;36m100\u001b[0m\u001b[0;34m]\u001b[0m\u001b[0;34m)\u001b[0m\u001b[0;34m\u001b[0m\u001b[0;34m\u001b[0m\u001b[0m\n\u001b[0m\u001b[1;32m      7\u001b[0m         \u001b[0mindex\u001b[0m \u001b[0;34m+=\u001b[0m \u001b[0;36m100\u001b[0m\u001b[0;34m\u001b[0m\u001b[0;34m\u001b[0m\u001b[0m\n",
      "\u001b[0;32m~/Projects/organize-spotify-playlist/.venv/lib/python3.7/site-packages/spotipy/client.py\u001b[0m in \u001b[0;36muser_playlist_add_tracks\u001b[0;34m(self, user, playlist_id, tracks, position)\u001b[0m\n\u001b[1;32m    679\u001b[0m         \"\"\"\n\u001b[1;32m    680\u001b[0m         \u001b[0mplid\u001b[0m \u001b[0;34m=\u001b[0m \u001b[0mself\u001b[0m\u001b[0;34m.\u001b[0m\u001b[0m_get_id\u001b[0m\u001b[0;34m(\u001b[0m\u001b[0;34m\"playlist\"\u001b[0m\u001b[0;34m,\u001b[0m \u001b[0mplaylist_id\u001b[0m\u001b[0;34m)\u001b[0m\u001b[0;34m\u001b[0m\u001b[0;34m\u001b[0m\u001b[0m\n\u001b[0;32m--> 681\u001b[0;31m         \u001b[0mftracks\u001b[0m \u001b[0;34m=\u001b[0m \u001b[0;34m[\u001b[0m\u001b[0mself\u001b[0m\u001b[0;34m.\u001b[0m\u001b[0m_get_uri\u001b[0m\u001b[0;34m(\u001b[0m\u001b[0;34m\"track\"\u001b[0m\u001b[0;34m,\u001b[0m \u001b[0mtid\u001b[0m\u001b[0;34m)\u001b[0m \u001b[0;32mfor\u001b[0m \u001b[0mtid\u001b[0m \u001b[0;32min\u001b[0m \u001b[0mtracks\u001b[0m\u001b[0;34m]\u001b[0m\u001b[0;34m\u001b[0m\u001b[0;34m\u001b[0m\u001b[0m\n\u001b[0m\u001b[1;32m    682\u001b[0m         return self._post(\n\u001b[1;32m    683\u001b[0m             \u001b[0;34m\"users/%s/playlists/%s/tracks\"\u001b[0m \u001b[0;34m%\u001b[0m \u001b[0;34m(\u001b[0m\u001b[0muser\u001b[0m\u001b[0;34m,\u001b[0m \u001b[0mplid\u001b[0m\u001b[0;34m)\u001b[0m\u001b[0;34m,\u001b[0m\u001b[0;34m\u001b[0m\u001b[0;34m\u001b[0m\u001b[0m\n",
      "\u001b[0;32m~/Projects/organize-spotify-playlist/.venv/lib/python3.7/site-packages/spotipy/client.py\u001b[0m in \u001b[0;36m<listcomp>\u001b[0;34m(.0)\u001b[0m\n\u001b[1;32m    679\u001b[0m         \"\"\"\n\u001b[1;32m    680\u001b[0m         \u001b[0mplid\u001b[0m \u001b[0;34m=\u001b[0m \u001b[0mself\u001b[0m\u001b[0;34m.\u001b[0m\u001b[0m_get_id\u001b[0m\u001b[0;34m(\u001b[0m\u001b[0;34m\"playlist\"\u001b[0m\u001b[0;34m,\u001b[0m \u001b[0mplaylist_id\u001b[0m\u001b[0;34m)\u001b[0m\u001b[0;34m\u001b[0m\u001b[0;34m\u001b[0m\u001b[0m\n\u001b[0;32m--> 681\u001b[0;31m         \u001b[0mftracks\u001b[0m \u001b[0;34m=\u001b[0m \u001b[0;34m[\u001b[0m\u001b[0mself\u001b[0m\u001b[0;34m.\u001b[0m\u001b[0m_get_uri\u001b[0m\u001b[0;34m(\u001b[0m\u001b[0;34m\"track\"\u001b[0m\u001b[0;34m,\u001b[0m \u001b[0mtid\u001b[0m\u001b[0;34m)\u001b[0m \u001b[0;32mfor\u001b[0m \u001b[0mtid\u001b[0m \u001b[0;32min\u001b[0m \u001b[0mtracks\u001b[0m\u001b[0;34m]\u001b[0m\u001b[0;34m\u001b[0m\u001b[0;34m\u001b[0m\u001b[0m\n\u001b[0m\u001b[1;32m    682\u001b[0m         return self._post(\n\u001b[1;32m    683\u001b[0m             \u001b[0;34m\"users/%s/playlists/%s/tracks\"\u001b[0m \u001b[0;34m%\u001b[0m \u001b[0;34m(\u001b[0m\u001b[0muser\u001b[0m\u001b[0;34m,\u001b[0m \u001b[0mplid\u001b[0m\u001b[0;34m)\u001b[0m\u001b[0;34m,\u001b[0m\u001b[0;34m\u001b[0m\u001b[0;34m\u001b[0m\u001b[0m\n",
      "\u001b[0;32m~/Projects/organize-spotify-playlist/.venv/lib/python3.7/site-packages/spotipy/client.py\u001b[0m in \u001b[0;36m_get_uri\u001b[0;34m(self, type, id)\u001b[0m\n\u001b[1;32m   1476\u001b[0m \u001b[0;34m\u001b[0m\u001b[0m\n\u001b[1;32m   1477\u001b[0m     \u001b[0;32mdef\u001b[0m \u001b[0m_get_uri\u001b[0m\u001b[0;34m(\u001b[0m\u001b[0mself\u001b[0m\u001b[0;34m,\u001b[0m \u001b[0mtype\u001b[0m\u001b[0;34m,\u001b[0m \u001b[0mid\u001b[0m\u001b[0;34m)\u001b[0m\u001b[0;34m:\u001b[0m\u001b[0;34m\u001b[0m\u001b[0;34m\u001b[0m\u001b[0m\n\u001b[0;32m-> 1478\u001b[0;31m         \u001b[0;32mreturn\u001b[0m \u001b[0;34m\"spotify:\"\u001b[0m \u001b[0;34m+\u001b[0m \u001b[0mtype\u001b[0m \u001b[0;34m+\u001b[0m \u001b[0;34m\":\"\u001b[0m \u001b[0;34m+\u001b[0m \u001b[0mself\u001b[0m\u001b[0;34m.\u001b[0m\u001b[0m_get_id\u001b[0m\u001b[0;34m(\u001b[0m\u001b[0mtype\u001b[0m\u001b[0;34m,\u001b[0m \u001b[0mid\u001b[0m\u001b[0;34m)\u001b[0m\u001b[0;34m\u001b[0m\u001b[0;34m\u001b[0m\u001b[0m\n\u001b[0m",
      "\u001b[0;32m~/Projects/organize-spotify-playlist/.venv/lib/python3.7/site-packages/spotipy/client.py\u001b[0m in \u001b[0;36m_get_id\u001b[0;34m(self, type, id)\u001b[0m\n\u001b[1;32m   1460\u001b[0m \u001b[0;34m\u001b[0m\u001b[0m\n\u001b[1;32m   1461\u001b[0m     \u001b[0;32mdef\u001b[0m \u001b[0m_get_id\u001b[0m\u001b[0;34m(\u001b[0m\u001b[0mself\u001b[0m\u001b[0;34m,\u001b[0m \u001b[0mtype\u001b[0m\u001b[0;34m,\u001b[0m \u001b[0mid\u001b[0m\u001b[0;34m)\u001b[0m\u001b[0;34m:\u001b[0m\u001b[0;34m\u001b[0m\u001b[0;34m\u001b[0m\u001b[0m\n\u001b[0;32m-> 1462\u001b[0;31m         \u001b[0mfields\u001b[0m \u001b[0;34m=\u001b[0m \u001b[0mid\u001b[0m\u001b[0;34m.\u001b[0m\u001b[0msplit\u001b[0m\u001b[0;34m(\u001b[0m\u001b[0;34m\":\"\u001b[0m\u001b[0;34m)\u001b[0m\u001b[0;34m\u001b[0m\u001b[0;34m\u001b[0m\u001b[0m\n\u001b[0m\u001b[1;32m   1463\u001b[0m         \u001b[0;32mif\u001b[0m \u001b[0mlen\u001b[0m\u001b[0;34m(\u001b[0m\u001b[0mfields\u001b[0m\u001b[0;34m)\u001b[0m \u001b[0;34m>=\u001b[0m \u001b[0;36m3\u001b[0m\u001b[0;34m:\u001b[0m\u001b[0;34m\u001b[0m\u001b[0;34m\u001b[0m\u001b[0m\n\u001b[1;32m   1464\u001b[0m             \u001b[0;32mif\u001b[0m \u001b[0mtype\u001b[0m \u001b[0;34m!=\u001b[0m \u001b[0mfields\u001b[0m\u001b[0;34m[\u001b[0m\u001b[0;34m-\u001b[0m\u001b[0;36m2\u001b[0m\u001b[0;34m]\u001b[0m\u001b[0;34m:\u001b[0m\u001b[0;34m\u001b[0m\u001b[0;34m\u001b[0m\u001b[0m\n",
      "\u001b[0;31mAttributeError\u001b[0m: 'int' object has no attribute 'split'"
     ]
    }
   ],
   "source": [
    "enrich_playlist(sp, username, generated_playlist, list_track)"
   ]
  },
  {
   "cell_type": "code",
   "execution_count": null,
   "metadata": {},
   "outputs": [],
   "source": []
  }
 ],
 "metadata": {
  "kernelspec": {
   "display_name": "Python 3",
   "language": "python",
   "name": "python3"
  },
  "language_info": {
   "codemirror_mode": {
    "name": "ipython",
    "version": 3
   },
   "file_extension": ".py",
   "mimetype": "text/x-python",
   "name": "python",
   "nbconvert_exporter": "python",
   "pygments_lexer": "ipython3",
   "version": "3.7.7"
  }
 },
 "nbformat": 4,
 "nbformat_minor": 2
}
